{
 "cells": [
  {
   "cell_type": "markdown",
   "id": "7c193e23-45b6-4afc-b211-61aa823e6c78",
   "metadata": {},
   "source": [
    "# Distributed Text Services (DTS) in DraCor\n",
    "\n",
    "by Ingo Börner (University of Potsdam, Germany)\n",
    "\n",
    "This notebook is an adapted executable version of the chapter *Implementing the Standard API Specification DTS in DraCor for Enhanced Data Access* of the [CLS INFRA](https://clsinfra.io) Deliverable D7.4. [Report on the implementation of Programmable Corpora](https://doi.org/10.5281/zenodo.15301341). For the more comprehensive version see the report, pp. 56–94."
   ]
  },
  {
   "cell_type": "markdown",
   "id": "89814405-2ca0-4288-8c4e-74a234b3f09c",
   "metadata": {},
   "source": [
    "## Introduction\n",
    "\n",
    "The implementation of the “Distributed Text Services” (DTS) Specification ([Cayless et al. 2024](https://doi.org/10.4000/jtei.4352)) within the DraCor platform represents an important development in enhancing the generic capabilities of DraCor and the concept of “Programmable Corpora”, making it more suitable for a broader range of applications in Computational Literary Studies. \n",
    "\n",
    "While on the one side the DraCor API serves as the backbone of the platform, enabling researchers to interact with dramatic texts in programmatic ways, it is on the other side crucial to recognize that the DraCor API is a custom solution tailored specifically to the needs and structure of DraCor. In the end, it is not a standardized API that can be universally applied across different projects or initiatives. This custom API, while beneficial for DraCor's specific use cases, limits its reusability for other purposes without significant adaptation.\n",
    "\n",
    "As the ecosystem of “Programmable Corpora” continues to expand, both in general and within the specific context of DraCor, there is a growing need for more generic and widely applicable APIs. These APIs should ideally cover the document-driven functions that are currently handled by the DraCor API, but in a manner that allows for broader adoption and integration across diverse projects, and possibly, in generic client software. For a discussion of other standard APIs see the report D7.4, pp. 56-57."
   ]
  },
  {
   "cell_type": "markdown",
   "id": "4f2b78a4-2886-499a-94af-ebd3eef58a92",
   "metadata": {},
   "source": [
    "## Setting up the notebook\n",
    "\n",
    "The following code cells import some necessary Python packages, especially `requests` which is used throughout the notebook to fetch data from the DraCor API. Uncomment the cells if the packages and install them using `pip install {package}` if you encounter problems executing code cells."
   ]
  },
  {
   "cell_type": "code",
   "execution_count": 1,
   "id": "1826af71-6125-49a4-a2d3-044e66a6485d",
   "metadata": {},
   "outputs": [],
   "source": [
    "# Uncomment to install requests\n",
    "#!pip install requests"
   ]
  },
  {
   "cell_type": "code",
   "execution_count": 2,
   "id": "4fd645dc-c39b-42b4-86c7-e463cbac81bc",
   "metadata": {},
   "outputs": [],
   "source": [
    "import requests, json, logging"
   ]
  },
  {
   "cell_type": "code",
   "execution_count": 3,
   "id": "94d4e69c-bc52-4e34-abb1-c8a21ee3828c",
   "metadata": {},
   "outputs": [],
   "source": [
    "#!pip install treelib"
   ]
  },
  {
   "cell_type": "code",
   "execution_count": 4,
   "id": "ccde35c7-d845-45a8-bd6e-d45252054195",
   "metadata": {},
   "outputs": [],
   "source": [
    "# Quick drawing of trees used in an example\n",
    "from treelib import Tree"
   ]
  },
  {
   "cell_type": "code",
   "execution_count": 5,
   "id": "f0048dda-08d5-4162-9aa8-bd7700b5d331",
   "metadata": {},
   "outputs": [],
   "source": [
    "# Need to install the package lxml to have etree class available\n",
    "#!pip install lxml"
   ]
  },
  {
   "cell_type": "code",
   "execution_count": 6,
   "id": "1560b26a-7c4a-49f2-9571-a6ed5a11b6d7",
   "metadata": {},
   "outputs": [],
   "source": [
    "# Needed for parsing XML\n",
    "from lxml import etree"
   ]
  },
  {
   "cell_type": "code",
   "execution_count": 7,
   "id": "0422eda8-28ff-4f32-8890-7752bb5958bd",
   "metadata": {},
   "outputs": [],
   "source": [
    "# Log info to notebook\n",
    "logging.basicConfig(level=logging.INFO)\n",
    "#logging.basicConfig(level=logging.DEBUG)"
   ]
  },
  {
   "cell_type": "markdown",
   "id": "3435400e-2baa-47e1-ae41-9ca700f5a3b9",
   "metadata": {},
   "source": [
    "At the time of writing the version of the DraCor API ([version 1.1](https://github.com/dracor-org/dracor-api/releases/tag/untagged-ef9a152d71f78ea9043a)) that includes the DTS endpoints has not been deployed on the production server, but is available on the staging server.\n",
    "\n",
    "You can set the server to use by changing the value of the variable `api_base` in the cell below:"
   ]
  },
  {
   "cell_type": "code",
   "execution_count": 8,
   "id": "30063994-ed64-41c7-b873-a3f8d01203cd",
   "metadata": {},
   "outputs": [],
   "source": [
    "# Base URL of the API used in this notebook\n",
    "# For production change to https://dracor.org/api/v1/\n",
    "\n",
    "api_base = \"https://staging.dracor.org/api/v1/\""
   ]
  },
  {
   "cell_type": "code",
   "execution_count": 9,
   "id": "dbfc63f2-8814-4cad-9e12-02b8eb08b004",
   "metadata": {},
   "outputs": [],
   "source": [
    "# We can not use PyDraCor at the moment because the methods to retrieve data via th DTS endpoint\n",
    "# have not been implemented in PyDraCor yet and it is up do discussion, if integrating them makes much sense. \n",
    "# We use a generic function with the Python package 'requests' to connect to the API\n",
    "\n",
    "def get(corpusname:str = None, \n",
    "        playname:str = None, \n",
    "        apibase:str = \"https://staging.dracor.org/api/v1\",\n",
    "        method:str = None,\n",
    "        parse_json:bool = True):\n",
    "    \"\"\"\n",
    "    Generic Method to retrieve data from the DraCor API\n",
    "    \"\"\"\n",
    "    \n",
    "    # Remove tailing slash in apibase if not set, otherwhise concatinating url parameters would not work as expected\n",
    "    \n",
    "    if apibase is not None:\n",
    "        if apibase.endswith(\"/\"):\n",
    "            apibase = apibase[:-1]\n",
    "            \n",
    "\n",
    "    # Both parameters corpusname an playname are supplied\n",
    "    if corpusname is not None and playname is not None :\n",
    "        # used for /api/corpora/{corpusname}/plays/{playname}/\n",
    "        if method is not None:\n",
    "            request_url = f\"{apibase}/corpora/{corpusname}/plays/{playname}/{method}\"\n",
    "        else:\n",
    "            request_url = f\"{apibase}/corpora/{corpusname}/plays/{playname}\"\n",
    "\n",
    "    # no playname set, use the .../corpora/{method} routes \n",
    "    elif corpusname is not None and playname is None:\n",
    "        if method is not None:\n",
    "            request_url = f\"{apibase}/corpora/{corpusname}/{method}\"\n",
    "        else:\n",
    "            request_url = f\"{apibase}/corpora/{corpusname}\"\n",
    "    \n",
    "    # only a method is set\n",
    "    elif method is not None and corpusname is None and playname is None:\n",
    "            request_url = f\"{apibase}/{method}\"\n",
    "    else: \n",
    "        #nothing is set, return information on the API\n",
    "        request_url = f\"{apibase}/info\"\n",
    "\n",
    "    logging.info(f\"Sending request to: {request_url}\")\n",
    "    \n",
    "    #send the response\n",
    "    r = requests.get(request_url)\n",
    "    if r.status_code == 200:\n",
    "        # successful request, decide if response need to be parsed\n",
    "        if parse_json is True:\n",
    "            json_data = json.loads(r.text)\n",
    "            return json_data\n",
    "        else:\n",
    "            return r.text\n",
    "    else:\n",
    "        raise Exception(f\"Request was not successful. Server returned status code: {str(r.status_code)}\")"
   ]
  },
  {
   "cell_type": "code",
   "execution_count": 10,
   "id": "36941c32-5f20-409d-b669-994de432575e",
   "metadata": {},
   "outputs": [
    {
     "name": "stderr",
     "output_type": "stream",
     "text": [
      "INFO:root:Sending request to: https://staging.dracor.org/api/v1/info\n"
     ]
    },
    {
     "data": {
      "text/plain": [
       "{'openapi': 'https://staging.dracor.org/api/v1/openapi.yaml',\n",
       " 'existdb': '6.4.0',\n",
       " 'version': '1.1.0-rc.1',\n",
       " 'name': 'DraCor API v1',\n",
       " 'base': 'https://staging.dracor.org/api/v1',\n",
       " 'status': 'beta'}"
      ]
     },
     "execution_count": 10,
     "metadata": {},
     "output_type": "execute_result"
    }
   ],
   "source": [
    "# We only need the generic function later when comparing DTS to the default DraCor API\n",
    "# Get Information on the API (and test if everything works as expected)\n",
    "get()"
   ]
  },
  {
   "cell_type": "markdown",
   "id": "f9b87e09-b0ed-4967-a52c-6d8e8f20ec50",
   "metadata": {},
   "source": [
    "## The DraCor DTS Implementation\n",
    "\n",
    "We implemented the API endpoints defined in the DTS Specification to the codebase of the DraCor API eXist-DB application in the module [`dts.xqm`](https://github.com/dracor-org/dracor-api/blob/f2a9c451b2080f9d2bcbd54a221a38da9c086c3d/modules/dts.xqm). At the time of writing the final stable version 1 of DTS has not been released. We implemented the Specification in a version that was tagged “unstable”, the version that followed “1-alpha” (see [Snapshot of the DTS Spec in the Internet Archive](https://web.archive.org/web/20250317100350/https://distributed-text-services.github.io/specifications/versions/unstable/)).\n",
    "\n",
    "The DraCor API now provides the four additional endpoints specified by DTS (see also schema below, adapted from Almas et al. 2023).\n",
    "\n",
    "* `api/v1/dts`: DTS Entrypoint\n",
    "* `api/v1/dts/collection`: Collection endpoint\n",
    "* `api/v1/dts/navigation`: Navigation endpoint\n",
    "* `api/v1/dts/document`: Document endpoint\n",
    "\n",
    "![Schema representing the resource model underlying each DTS model, the type of data it exposes, as well as the required format of expression (Almas et al. 2023, adapted)](DTS-Endpoint-Overview.png)\n",
    "\n",
    "In the following we discuss these endpoints in more detail. Based on the explanation of the quite simple to understand “Entrypoint” endpoint we offer some information on the general principles and technical solutions used in DTS (e.g. *URI Templates* and *JSON-LD* as return format to support Linked Data). The other, more complex endpoints “Collection”, “Navigation”, and “Document” are explained further below by providing practical examples of how they can be used. \n",
    "\n",
    "A note on naming conventions: In the DTS Specification properties start with a lower case letter, objects (classes) with a capital letter. Unfortunately, there are properties and classes that differ only in the first letter, e.g. `citeStructure` – a property - and `CiteStructure` – an object; `citationTrees` – the property, – `citationTree` – the object. Additionally, the use of plural and singular forms for properties is not always strictly consistent."
   ]
  },
  {
   "cell_type": "markdown",
   "id": "b77d2ce4-f461-497b-b78b-2151d5d1a383",
   "metadata": {},
   "source": [
    "## The “Entrypoint” endpoint and some general DTS design principles"
   ]
  },
  {
   "cell_type": "markdown",
   "id": "1b712cb6-1c0a-4712-acd0-ef1be398174c",
   "metadata": {},
   "source": [
    "### DraCor DTS Entrypoint: `api/v1/dts`\n",
    "\n",
    "This is the main entry point for accessing the DTS API within DraCor. It provides an overview of the other available DTS endpoints  and can serve as a starting point for navigating the API's capabilities. Users can retrieve metadata about the DTS implementation, such as the version, and, in theory, this endpoint should allow a DTS client to self configure by evaluating the provided links to the other endpoints."
   ]
  },
  {
   "cell_type": "markdown",
   "id": "3b82f7b3-b58f-4955-b9ad-d149f9b316ad",
   "metadata": {},
   "source": [
    "A basic call to the DTS Entrypoint using Python works as is shown in the followin cell:"
   ]
  },
  {
   "cell_type": "code",
   "execution_count": 11,
   "id": "26b53ebb-2384-423e-bb21-3c9918557774",
   "metadata": {},
   "outputs": [
    {
     "data": {
      "text/plain": [
       "{'@context': 'https://distributed-text-services.github.io/specifications/context/1-alpha1.json',\n",
       " '@type': 'EntryPoint',\n",
       " 'document': 'https://staging.dracor.org/api/v1/dts/document{?resource,ref,start,end,mediaType}',\n",
       " 'navigation': 'https://staging.dracor.org/api/v1/dts/navigation{?resource,ref,start,end,down,tree}',\n",
       " '@id': 'https://staging.dracor.org/api/v1/dts',\n",
       " 'collection': 'https://staging.dracor.org/api/v1/dts/collection{?id,nav}',\n",
       " 'dtsVersion': 'unstable'}"
      ]
     },
     "execution_count": 11,
     "metadata": {},
     "output_type": "execute_result"
    }
   ],
   "source": [
    "# Retrieve information on the DTS implementation of DraCor by calling \n",
    "# the DTS Entrypoint, e.g https://dracor.org/api/v1/dts\n",
    "# The variable request_url attaches the path of the dts entrypoint \n",
    "# to the base url of the API\n",
    "\n",
    "request_url = api_base + \"dts\"\n",
    "\n",
    "# Use the Python library 'requests' to send a HTTP request\n",
    "r = requests.get(request_url)\n",
    "if r.status_code == 200:\n",
    "    # the request to the endpoint was successful, parse the returned JSON object\n",
    "    response_data = json.loads(r.text)\n",
    "\n",
    "# Output the response data in the notebook\n",
    "response_data"
   ]
  },
  {
   "cell_type": "markdown",
   "id": "f6ee66b5-5b55-43b4-9e79-86f86b35dd04",
   "metadata": {},
   "source": [
    "The property `dtsVersion` specifies the version of the specification hat is implemented, the values of the properties `collection`, `navigation` and `document`contain so-called *URI Templates* of the Collection, the Navigation and the Document endpoints. "
   ]
  },
  {
   "cell_type": "markdown",
   "id": "e47c6cf6-7562-438b-9e9d-61fc7c6ab076",
   "metadata": {},
   "source": [
    "### URI Templates\n",
    "\n",
    "The DTS Specification uses URI Templates as defined in [RFC 6570](https://www.rfc-editor.org/rfc/rfc6570): \"A URI Template is a compact sequence of characters for describing a range of Uniform Resource Identifiers through variable expansion.\" These patterns allow a client to construct URIs dynamically by expanding variables marked in curly brackets `{}` (see also https://distributed-text-services.github.io/specifications/versions/unstable/#about-uri-templates). \n",
    "\n",
    "For example, the response of the DraCor DTS Entrypoint contains the URI Template of the Collection endpoint\n",
    "\n",
    "`https://staging.dracor.org/api/v1/dts/collection{?id,nav}`. \n",
    "\n",
    "From this we can deduce that there a two supported query parameters `id` and `nav`. When values for these two variables are provided, a client should expand the URI Template containing a question mark `?` followed by a sequence of parameter names separated by comma `,` into a valid URI by substituting the first parameter with the sequence `?` followed by the variable name, equals sign `=` and the the value of the first variable. For every other variable name in the comma separated list contained in the curly brackets, a client should substitute the variable name with an ampersant `&` followed by the variable name, an equals sign `=` and the value of the given variable.\n",
    "\n",
    "In the case of above included URI Template and the supplied values `ger000001` as the first variable, the identifier the identifier `id` of a single resource, and `parents` as the value of the second parameter `nav`, a client should construct the following URI:\n",
    "\n",
    "[`https://staging.dracor.org/api/v1/dts/collection?id=ger000001&nav=parents`](https://staging.dracor.org/api/v1/dts/collection?id=ger000001&nav=parents)\n"
   ]
  },
  {
   "cell_type": "markdown",
   "id": "68edd21e-a782-4125-a89e-0b607ca08ff1",
   "metadata": {},
   "source": [
    "### JSON-LD\n",
    "\n",
    "As with the other endpoints that return metadata, the response of the Entrypoint is in the [“JSON-LD”](https://www.w3.org/TR/json-ld) format. Using JSON-LD as a return format in DTS offers several significant benefits, particularly in terms of data interoperability and usability. One of the primary advantages is the embedded documentation it provides. The context within a JSON-LD document allows for the definition of terms, enabling users and systems to easily look up and understand the meaning of each term. This self-describing nature enhances the clarity and usability of the data, making it more accessible to developers and researchers alike.\n",
    "\n",
    "In the “JavaScript Object Notation for Linked Data”, the key-value pairs within the returned JSON object are called properties. Each key represents a property name, and the corresponding value is the property value. The first three properties included in the response (see above) are defined by the JSON-LD specification:\n",
    "\n",
    "* `context`: defines the context for interpreting the JSON-LD data. The value is a URI pointing to a document that maps the terms used in the data to their respective URIs (Uniform Resource Identifiers). For most of the properties the developers of the DTS specification provide these mappings under the URL `https://distributed-text-services.github.io/specifications/context/1-alpha1.json`, but in the case of the “Entrypoint” the properties `dtsVersion`, `collection`, `document` and `navigation` have not been defined. Currently, the process of releasing a new version of the specification is ongoing which will include an overhauled version of the JSON-LD context file including references to classes and properties in an *DTS Ontology* (see [issue on GitHub](https://github.com/distributed-text-services/specifications/issues/271) and the corresponding merge [commit](https://github.com/distributed-text-services/specifications/commit/460ccfd4c35002676f60b893f505513d73badb1a))\n",
    "* `@id`: This default JSON-LD property provides a unique identifier for the resource being described.\n",
    "* `@type`: This standard property specifies the type of the resource returned. In the case of the response of the Entrypoint endpoint the described resource is of the class `EntryPoint` as defined by the URI `https://w3id.org/dts/api#EntryPoint`. Because JSON-LD is a serialization of RDF the function of this property is the same as in Turtle stating that a thing is an instance of a class: `ex:Thing rdf:type ex:Class.`\n",
    "\n",
    "The following code cells demonstrate how dereferencing concepts of the DTS Specification currently does not work as one would expect:"
   ]
  },
  {
   "cell_type": "code",
   "execution_count": 12,
   "id": "a5b8cc5c-2ed3-4631-aebe-6223f88abcb4",
   "metadata": {},
   "outputs": [],
   "source": [
    "# test how the dereferencing of DTS on GitHub works, look at the HTTP headers\n",
    "# do not allow a redirect by setting allow_redirects=False \n",
    "\n",
    "request_url = \"https://w3id.org/dts/api#EntryPoint\"\n",
    "r = requests.get(request_url, allow_redirects=False)\n",
    "status_code = r.status_code\n",
    "headers = r.headers"
   ]
  },
  {
   "cell_type": "code",
   "execution_count": 13,
   "id": "3ab2a548-f88f-42ee-867f-387fb24f6366",
   "metadata": {},
   "outputs": [
    {
     "data": {
      "text/plain": [
       "302"
      ]
     },
     "execution_count": 13,
     "metadata": {},
     "output_type": "execute_result"
    }
   ],
   "source": [
    "# Output the HTTP Status Code\n",
    "status_code"
   ]
  },
  {
   "cell_type": "code",
   "execution_count": 14,
   "id": "5bc7c3b3-2ef4-45ea-92f8-698e33fa9884",
   "metadata": {},
   "outputs": [
    {
     "data": {
      "text/plain": [
       "{'Date': 'Tue, 01 Jul 2025 12:26:39 GMT', 'Server': 'Apache/2.4.29 (Ubuntu)', 'Access-Control-Allow-Origin': '*', 'Location': 'https://github.com/distributed-text-services/specifications/', 'Content-Length': '319', 'Keep-Alive': 'timeout=2, max=100', 'Connection': 'Keep-Alive', 'Content-Type': 'text/html; charset=iso-8859-1'}"
      ]
     },
     "execution_count": 14,
     "metadata": {},
     "output_type": "execute_result"
    }
   ],
   "source": [
    "# Look at the HTTP Headers\n",
    "\n",
    "headers"
   ]
  },
  {
   "cell_type": "code",
   "execution_count": 15,
   "id": "aa7d6761-93ff-4b5c-8cfd-3449212274d8",
   "metadata": {},
   "outputs": [
    {
     "data": {
      "text/plain": [
       "'https://github.com/distributed-text-services/specifications/'"
      ]
     },
     "execution_count": 15,
     "metadata": {},
     "output_type": "execute_result"
    }
   ],
   "source": [
    "# Output the Location as the target of the redirect\n",
    "\n",
    "headers[\"Location\"]"
   ]
  },
  {
   "cell_type": "code",
   "execution_count": 16,
   "id": "7f656c57-2059-402d-9d77-7e443e7ab8ac",
   "metadata": {},
   "outputs": [],
   "source": [
    "# explicitly ask for RDF in any serialization (XML, Turtle, Notation 3)\n",
    "# Probably GitHub (Pages) do not handle such requests\n",
    "\n",
    "request_headers = {\"Accept\" : \"application/rdf+xml, application/x-turtle, text/turtle, text/n3, text/rdf+n3\"}\n",
    "r = requests.get(request_url, headers=request_headers)"
   ]
  },
  {
   "cell_type": "code",
   "execution_count": 17,
   "id": "f3650368-a2cd-40be-b105-e4c2402424f9",
   "metadata": {},
   "outputs": [
    {
     "data": {
      "text/plain": [
       "'text/html; charset=utf-8'"
      ]
     },
     "execution_count": 17,
     "metadata": {},
     "output_type": "execute_result"
    }
   ],
   "source": [
    "# The returned format is still text/html\n",
    "\n",
    "r.headers['Content-Type']"
   ]
  },
  {
   "cell_type": "markdown",
   "id": "699f33e3-b41d-42e7-9b14-f4d82cc2552e",
   "metadata": {},
   "source": [
    "When dreferencing the URI of the `EntryPoint` class a HTTP Status Code 302 \"Found\" is returned. This instructs the browser to follow the link supplied in the `Location` field of the header and thus redirects the client to another URL. In the case of `https://w3id.org/dts/api#EntryPoint` the client is redirected to https://github.com/distributed-text-services/specifications/ and always returns a HTML document, even if explicitly requesting RDF (in any serialization) via the HTTP Accept header in the request. This shows that the current implementation of how the DTS Context is served does not support \"real\" linked data applications that would ask for Linked data in a RDF format and would digest the returned RDF accordingly."
   ]
  },
  {
   "cell_type": "code",
   "execution_count": 18,
   "id": "7ace896f-0efc-4db2-8617-3ab6ee6d6927",
   "metadata": {},
   "outputs": [],
   "source": [
    "# Just test with DraCor's /id endpoint if this code would work at all\n",
    "\n",
    "request_url = \"https://staging.dracor.org/id/ger000001\"\n",
    "r = requests.get(request_url, allow_redirects=False, headers=request_headers)\n",
    "status_code = r.status_code\n",
    "headers = r.headers"
   ]
  },
  {
   "cell_type": "code",
   "execution_count": 19,
   "id": "e81a7e10-6ba5-46e4-bbee-df0fbafc2be6",
   "metadata": {},
   "outputs": [
    {
     "data": {
      "text/plain": [
       "303"
      ]
     },
     "execution_count": 19,
     "metadata": {},
     "output_type": "execute_result"
    }
   ],
   "source": [
    "# Output the HTTP Status Code\n",
    "\n",
    "status_code"
   ]
  },
  {
   "cell_type": "code",
   "execution_count": 20,
   "id": "ecb1889e-264a-4624-a811-595810b9c0c1",
   "metadata": {},
   "outputs": [
    {
     "data": {
      "text/plain": [
       "'https://staging.dracor.org/api/v1/corpora/ger/plays/goethe-iphigenie-auf-tauris/rdf'"
      ]
     },
     "execution_count": 20,
     "metadata": {},
     "output_type": "execute_result"
    }
   ],
   "source": [
    "r.headers[\"Location\"]"
   ]
  },
  {
   "cell_type": "code",
   "execution_count": 21,
   "id": "e9e349d7-f989-4245-82c1-47bf81fe2e13",
   "metadata": {},
   "outputs": [
    {
     "data": {
      "text/plain": [
       "'https://staging.dracor.org/ger/goethe-iphigenie-auf-tauris'"
      ]
     },
     "execution_count": 21,
     "metadata": {},
     "output_type": "execute_result"
    }
   ],
   "source": [
    "request_headers = {\"Accept\" : \"text/html\"}\n",
    "r = requests.get(request_url, allow_redirects=False, headers=request_headers)\n",
    "status_code = r.status_code\n",
    "r.headers[\"Location\"]"
   ]
  },
  {
   "cell_type": "markdown",
   "id": "11f632bc-d3ad-4b63-976e-d28fe37c4336",
   "metadata": {},
   "source": [
    "In contrast, DraCor, which implements [Cool URIs for the semantic web](https://www.w3.org/2001/sw/sweo/public/2007/cooluris/doc-20071008.html#r303uri), issues a HTTP Status Code or 303 \"See other\" and provides the URL of the RDF if this format is specified in the accept header of the request."
   ]
  },
  {
   "cell_type": "markdown",
   "id": "40d3b7f5-eab5-4c73-b8ab-f7354ab23249",
   "metadata": {},
   "source": [
    "Still, using JSON-LD as a return format in DTS offers several significant benefits, particularly in terms of data interoperability and usability. One of the primary advantages is the embedded documentation it provides. The context within a JSON-LD document allows for the definition of terms, enabling users and systems to easily look up and understand the meaning of each term. This self-describing nature enhances the clarity and usability of the data, making it more accessible to developers and researchers alike.\n",
    "\n",
    "See Chapter \"DTS and Linked Data\" in *D7.4 Report on the Implementation of Programmable Corpora* ([Börner and Trilcke (eds.) 2025](https://doi.org/10.5281/zenodo.15301341)) for a detailed analysis of the current state of the DTS Specification (version \"unstable\") and Linked Data."
   ]
  },
  {
   "cell_type": "markdown",
   "id": "25b8ac86-f154-4f06-95bb-6379232d35f7",
   "metadata": {},
   "source": [
    "## The DTS endpoints “Collection”, “Navigation”, and “Document”\n",
    "\n",
    "Having discussed more general considerations and theoretical foundations of the DTS Specification, particularly in relation to Linked Data and its implications, we now shift our focus to a more practical perspective: In this part, we will delve into the other DTS endpoints (Collection, Navigation and Document), providing practical examples and demonstrations of how these endpoints can be utilized within DraCor. By exploring real-world use cases and specific functionalities, we aim to illustrate the tangible benefits and capabilities that the DTS implementation brings to the DraCor platform."
   ]
  },
  {
   "cell_type": "markdown",
   "id": "317b83cb-2808-4a79-abb4-de0f1675250c",
   "metadata": {},
   "source": [
    "### DraCor DTS Collection Endpoint `api/v1/dts/collection`"
   ]
  },
  {
   "cell_type": "markdown",
   "id": "eea0982b-c7c5-46b0-b4a4-e25e0fd4d100",
   "metadata": {},
   "source": [
    "This endpoint allows users to access information about the “collections” available. Users can retrieve a list of available corpora, including metadata such as title, corpus maintainer, and corpus language, similar to the regular DraCor API endpoints `api/v1/corpora` and `api/v1/corpora/{corpusname}`. This is useful for discovering and selecting specific collections for further exploration or analysis. \n",
    "\n",
    "For example, to list all available corpora, the following request URL can be used:\n",
    "\n",
    "[`https://staging.dracor.org/api/v1/dts/collection`](https://staging.dracor.org/api/v1/dts/collection)\n",
    "\n",
    "However, through the Collection endpoint, users can not only access lists of available drama corpora but also retrieve detailed metadata for individual resources, i.e. plays. This functionality is similar to the regular DraCor endpoint `api/v1/corpora/{corpusname}/plays/{playname}`.\n",
    "\n",
    "To control this behaviour of the endpoint, the specification defines three query parameters for the Collection endpoint `id`, `nav` and `page`, whereas the DraCor implementation does not provide the paging functionality and therefore the parameter `page` is not available.\n",
    "\n",
    "* **Parameter `id`**: The query parameter `id` is used to identify a collection or a single resource, i.e. in the case of DraCor either a corpus or a single play. The value of the parameter should be a URI, which, in the case of DraCor can either be the corpus name (Feature C1: [`corpus_name`](https://dracor.org/doc/odd#corpus_name)), e.g. `ger` of the *German Drama Corpus*, or a http(s) URI, e.g. `https://dracor.org/id/ger`.\n",
    "We encourage using full HTTP-URIs when possible, because in most Linked Data applications this type of unique identifiers are commonly used. In the case of DraCor http(s) URIs will properly dereference in accordance with the concept of [Cool URIs for the Semantic Web](https://www.w3.org/TR/cooluris). For a user this means, that navigating to the given URI with a web browser will show the HTML page with information on the play, e.g. [https://dracor.org/id/ger000088](https://dracor.org/id/ger000088) will be redirected to [https://dracor.org/ger/lessing-emilia-galotti](https://dracor.org/ger/lessing-emilia-galotti).\n",
    "If a Linked Data aware client requests RDF of the server for the URI using the HTTP Accept Header including the XML serialization of RDF `application/rdf+xml` the server will send a 303 “See other” HTTP Status code and provide the URL of the RDF serialization in the `Location` field of the response header. In the case of the play Emilia Galotti this is [https://dracor.org/api/v1/corpora/ger/plays/lessing-emilia-galotti/rdf](https://dracor.org/api/v1/corpora/ger/plays/lessing-emilia-galotti/rdf).\n",
    "\n",
    "* **Parameter `nav`**: This query parameter can be used to navigate the collection hierarchy. It can take on a single value only – `parents`. When supplied the Collection endpoint returns not the included sub-collections or resources in the `member` array, but the parent collection. For example, when requesting information on the *German Shakespeare Drama Corpus* (GershDraCor) and providing the `nav`parameter, the cAPI includes the metadata on the root collection “DraCor Corpora”: [https://staging.dracor.org/api/v1/dts/collection?id=https://staging.dracor.org/id/gersh&nav=parents](https://staging.dracor.org/api/v1/dts/collection?id=https://staging.dracor.org/id/gersh&nav=parents)\n",
    "\n",
    "The following code cell demonstrates how the data can be requested:"
   ]
  },
  {
   "cell_type": "code",
   "execution_count": 22,
   "id": "e7e5225e-ae0a-4426-8e93-ea6bb563d1fc",
   "metadata": {},
   "outputs": [
    {
     "data": {
      "text/plain": [
       "{'@context': 'https://distributed-text-services.github.io/specifications/context/1-alpha1.json',\n",
       " '@type': 'Collection',\n",
       " 'description': \"Edited by [Frank Fischer](https://lehkost.github.io/). This corpus contains all 37 of Shakespeare's plays in their German translations published by Schlegel and Tieck, in the edition of Aufbau-Verlag Berlin/Weimar (3rd edition 1975), which is based on the last edition published during Schlegel's lifetime (3rd edition 1843/44). The digitised print edition was procured from [Zeno.org](http://www.zeno.org/nid/20005683920) (via TextGrid Repository), which also provided an additional play (»Die beiden edlen Vettern«) that Shakespeare is now considered to have co-authored. For a full description please see the [README on GitHub](https://github.com/dracor-org/gershdracor).\",\n",
       " 'title': 'German Shakespeare Drama Corpus',\n",
       " 'dtsVersion': 'unstable',\n",
       " 'totalParents': 1,\n",
       " 'totalChildren': 38,\n",
       " '@id': 'https://staging.dracor.org/id/gersh',\n",
       " 'member': [{'@type': 'Collection',\n",
       "   'title': 'DraCor Corpora',\n",
       "   'dtsVersion': 'unstable',\n",
       "   'totalParents': 0,\n",
       "   'totalChildren': 26,\n",
       "   '@id': 'https://staging.dracor.org'}]}"
      ]
     },
     "execution_count": 22,
     "metadata": {},
     "output_type": "execute_result"
    }
   ],
   "source": [
    "# If you change the api base to production, make sure to change the URI of the \n",
    "# corpus provided as the value of the id parameter as well\n",
    "\n",
    "request_url = \"https://staging.dracor.org/api/v1/dts/collection?id=https://staging.dracor.org/id/gersh&nav=parents\"\n",
    "r = requests.get(request_url)\n",
    "r.json()"
   ]
  },
  {
   "cell_type": "markdown",
   "id": "0895374e-a5ba-499c-a465-2d87a44688b1",
   "metadata": {},
   "source": [
    "The JSON-LD response of the API is – in this case a `Collection` object (see value of property `@type`). \n",
    "\n",
    "Without the parameter `nav` supplied, and the parameter `id` having as its value the identifier of a existing corpus, e.g. `https://staging.dracor.org/id/tat` for the *Tatar Drama Corpus*, the API returns a `Collection` object with information on this corpus. \n",
    "\n",
    "Metadata on the plays of this corpus are included as `Resource` objects in the `member` array. The following request URL can be used to fetch information on the *Tatar Drama Corpus*: [https://staging.dracor.org/api/v1/dts/collection?id=https://staging.dracor.org/id/tat](https://staging.dracor.org/api/v1/dts/collection?id=https://staging.dracor.org/id/tat)\n",
    "\n",
    "The following code cell requests the data on the *Tatar Drama Corpus* (TatDraCor) from the DTS Collection endpoint of the DraCor Staging server:"
   ]
  },
  {
   "cell_type": "code",
   "execution_count": 23,
   "id": "c469f31f-fe29-4428-8d12-972b46be213d",
   "metadata": {},
   "outputs": [
    {
     "data": {
      "text/plain": [
       "{'@context': 'https://distributed-text-services.github.io/specifications/context/1-alpha1.json',\n",
       " '@type': 'Collection',\n",
       " 'description': 'Edited by Daniil Skorinkin and Frank Fischer. Features a handful of plays in Tatar language, provided through Tatar Electronic Library.',\n",
       " 'title': 'Tatar Drama Corpus',\n",
       " 'dtsVersion': 'unstable',\n",
       " 'totalParents': 1,\n",
       " 'totalChildren': 3,\n",
       " '@id': 'https://staging.dracor.org/id/tat',\n",
       " 'member': [{'@type': 'Resource',\n",
       "   'download': 'https://staging.dracor.org/api/v1/corpora/tat/plays/qamal-berenche-teatr/tei',\n",
       "   'dublinCore': {'language': 'tat', 'creator': 'Камал, Галиәсгар'},\n",
       "   'collection': 'https://staging.dracor.org/api/v1/dts/collection?id=https://staging.dracor.org/id/tat000001{&nav}',\n",
       "   'navigation': 'https://staging.dracor.org/api/v1/dts/navigation?resource=https://staging.dracor.org/id/tat000001{&ref,start,end,down}',\n",
       "   'totalParents': 1,\n",
       "   'totalChildren': 0,\n",
       "   '@id': 'https://staging.dracor.org/id/tat000001',\n",
       "   'extensions': {'@context': 'https://raw.githubusercontent.com/dracor-org/dracor-ontology/refs/heads/main/json-ld-contexts/dts-extension-context.json',\n",
       "    'numOfSegments': 13,\n",
       "    'yearNormalized': 1908,\n",
       "    'wordCountText': 4505,\n",
       "    'numOfSpeakers': 7,\n",
       "    'wikidataUri': 'http://www.wikidata.org/entity/Q25556355'},\n",
       "   'document': 'https://staging.dracor.org/api/v1/dts/document?resource=https://staging.dracor.org/id/tat000001{&ref,start,end,mediaType}',\n",
       "   'title': 'Беренче театр'},\n",
       "  {'@type': 'Resource',\n",
       "   'download': 'https://staging.dracor.org/api/v1/corpora/tat/plays/qamal-beznen-shehernen-serlere/tei',\n",
       "   'dublinCore': {'language': 'tat', 'creator': 'Камал, Галиәсгар'},\n",
       "   'collection': 'https://staging.dracor.org/api/v1/dts/collection?id=https://staging.dracor.org/id/tat000003{&nav}',\n",
       "   'navigation': 'https://staging.dracor.org/api/v1/dts/navigation?resource=https://staging.dracor.org/id/tat000003{&ref,start,end,down}',\n",
       "   'totalParents': 1,\n",
       "   'totalChildren': 0,\n",
       "   '@id': 'https://staging.dracor.org/id/tat000003',\n",
       "   'extensions': {'@context': 'https://raw.githubusercontent.com/dracor-org/dracor-ontology/refs/heads/main/json-ld-contexts/dts-extension-context.json',\n",
       "    'numOfSegments': 12,\n",
       "    'yearNormalized': 1911,\n",
       "    'wordCountText': 4891,\n",
       "    'numOfSpeakers': 16,\n",
       "    'wikidataUri': 'http://www.wikidata.org/entity/Q78598039'},\n",
       "   'document': 'https://staging.dracor.org/api/v1/dts/document?resource=https://staging.dracor.org/id/tat000003{&ref,start,end,mediaType}',\n",
       "   'title': 'Безнең шәһәрнең серләре'},\n",
       "  {'@type': 'Resource',\n",
       "   'download': 'https://staging.dracor.org/api/v1/corpora/tat/plays/qamal-kaynish/tei',\n",
       "   'dublinCore': {'language': 'tat', 'creator': 'Камал, Галиәсгар'},\n",
       "   'collection': 'https://staging.dracor.org/api/v1/dts/collection?id=https://staging.dracor.org/id/tat000002{&nav}',\n",
       "   'navigation': 'https://staging.dracor.org/api/v1/dts/navigation?resource=https://staging.dracor.org/id/tat000002{&ref,start,end,down}',\n",
       "   'totalParents': 1,\n",
       "   'totalChildren': 0,\n",
       "   '@id': 'https://staging.dracor.org/id/tat000002',\n",
       "   'extensions': {'@context': 'https://raw.githubusercontent.com/dracor-org/dracor-ontology/refs/heads/main/json-ld-contexts/dts-extension-context.json',\n",
       "    'numOfSegments': 11,\n",
       "    'yearNormalized': 1912,\n",
       "    'wordCountText': 3641,\n",
       "    'numOfSpeakers': 7,\n",
       "    'wikidataUri': 'http://www.wikidata.org/entity/Q78063407'},\n",
       "   'document': 'https://staging.dracor.org/api/v1/dts/document?resource=https://staging.dracor.org/id/tat000002{&ref,start,end,mediaType}',\n",
       "   'title': 'Кайниш'}]}"
      ]
     },
     "execution_count": 23,
     "metadata": {},
     "output_type": "execute_result"
    }
   ],
   "source": [
    "request_url = \"https://staging.dracor.org/api/v1/dts/collection?id=https://staging.dracor.org/id/tat\"\n",
    "r = requests.get(request_url)\n",
    "r.json()"
   ]
  },
  {
   "cell_type": "markdown",
   "id": "b205deba-86b0-403e-b816-e2aaf100a12a",
   "metadata": {},
   "source": [
    "The properties `@context`, `@id` and `@type` are key components of the JSON-LD standard. \n",
    "\n",
    "The JSON-LD context linked in `@context` can be used (by a JSON-LD aware client) to expand the other property names included in the response object to full URIs. This mapping allows applications to understand the semantics of the terms by referencing their definitions in an ontology. How this works can be explained with the property `title` that is included in the response of the Collection endpoint.\n",
    "\n",
    "With the help of the JSON-LD context that includes the mapping\n",
    "\n",
    "```\n",
    "\"title\": \"hydra:title\" \n",
    "```\n",
    "\n",
    "and the definition of the prefix `hydra:` as \n",
    "\n",
    "```\n",
    "\"hydra\": \"https://www.w3.org/ns/hydra/core#\" \n",
    "```\n",
    "\n",
    "allows a client to expand the property name `title` to `https://www.w3.org/ns/hydra/core#title`.\n",
    "\n",
    "This full URI refers to the term `title` as defined in the [Hydra Core Vocabulary](https://www.hydra-cg.com/spec/latest/core). Hydra is available as an OWL Ontology and defines its terms accordingly. A client can use the URI of the term title to retrieve the definition of the term, which is included in the Hydra Core Vocabulary as a Data Property. \n",
    "\n",
    "The other two property that re-used from the *Hydra Core Vocabulary* contained in the `Collection` object returned by the DTS Collection endpoint are [`hydra:description`](https://www.hydra-cg.com/spec/latest/core/#hydra:description), a specialized sub-property of the more general `rdfs:comment` and the object property `hydra:member` that in DTS, in case of the Collection endpoint, is used to include either sub-collections or resources as parts of a collection.\n",
    "\n",
    "**Note:** The version of the DTS specification implemented to DraCor and described in the [Report On the Implementation of Programmable Corpora](10.5281/zenodo.15301341) reused several properties from the Hydra Core Vocabulary. With the upcoming stable version of the specification all properties and classes used in DTS will be defined by a DTS Ontology.\n",
    "\n",
    "Specific to DTS are the properties `dtsVersion`, `totalParents`, `totalChildren` and `extensions` that are returned as part of the `Collection` object in the DraCor DTS implementation. There are additional properties that are defined by the DTS Specification, but are not used (see [https://distributed-text-services.github.io/specifications/versions/unstable/#scheme-for-collection-api-responses](https://distributed-text-services.github.io/specifications/versions/unstable/#scheme-for-collection-api-responses)). The used properties contain the following information:\n",
    "\n",
    "* **`totalParents`**: This property contains the number of parent collections the current collection (or Resource) is part of. In the example from the Tatar Drama Corpus the number is `1` (as for all other corpora in DraCor), because the collection hierarchy of DraCor is flat: all corpora are part of a single parent collection that is “DraCor corpora”. Plays are always members of a single corpus only. Therefore the value of this always equals `1` when requesting a play via the Collection endpoint.\n",
    "\n",
    "* **`totalChildren`**: This property contains the number of resources that are children of the given collection. In the case of the *Tatar Drama Corpus* the number is `3`, which means that there are three plays contained in this corpus. In case of a single play the value of the property is always `0`.\n",
    "\n",
    "* **`member`**: This property links the collection with the data on the resources contained therein. In the case of the JSON-LD response of *Tatar Drama Corpus* the “members” are included as instances of the class `Resource` (`dts:Resource`) as items of an JSON array.\n",
    "\n",
    "The following example shows the first item contained in the \"member\" array:"
   ]
  },
  {
   "cell_type": "code",
   "execution_count": 24,
   "id": "a1d9d0b1-d4b7-468f-a589-1fa9b6003fd7",
   "metadata": {},
   "outputs": [
    {
     "data": {
      "text/plain": [
       "{'@type': 'Resource',\n",
       " 'download': 'https://staging.dracor.org/api/v1/corpora/tat/plays/qamal-berenche-teatr/tei',\n",
       " 'dublinCore': {'language': 'tat', 'creator': 'Камал, Галиәсгар'},\n",
       " 'collection': 'https://staging.dracor.org/api/v1/dts/collection?id=https://staging.dracor.org/id/tat000001{&nav}',\n",
       " 'navigation': 'https://staging.dracor.org/api/v1/dts/navigation?resource=https://staging.dracor.org/id/tat000001{&ref,start,end,down}',\n",
       " 'totalParents': 1,\n",
       " 'totalChildren': 0,\n",
       " '@id': 'https://staging.dracor.org/id/tat000001',\n",
       " 'extensions': {'@context': 'https://raw.githubusercontent.com/dracor-org/dracor-ontology/refs/heads/main/json-ld-contexts/dts-extension-context.json',\n",
       "  'numOfSegments': 13,\n",
       "  'yearNormalized': 1908,\n",
       "  'wordCountText': 4505,\n",
       "  'numOfSpeakers': 7,\n",
       "  'wikidataUri': 'http://www.wikidata.org/entity/Q25556355'},\n",
       " 'document': 'https://staging.dracor.org/api/v1/dts/document?resource=https://staging.dracor.org/id/tat000001{&ref,start,end,mediaType}',\n",
       " 'title': 'Беренче театр'}"
      ]
     },
     "execution_count": 24,
     "metadata": {},
     "output_type": "execute_result"
    }
   ],
   "source": [
    "# The data of the Tatar Drama Corpus was requested in the previous code cell \n",
    "# and is available as a requests response object assigned to the variable r\n",
    "\n",
    "r.json()[\"member\"][0]"
   ]
  },
  {
   "cell_type": "markdown",
   "id": "b4153364-7c47-4c54-8bd1-2ba22d94bf74",
   "metadata": {},
   "source": [
    "The items which represent the plays in a given DraCor corpus are included as `Resource` objects. This is marked by the value of the property `@type`, which is `\"Resource\"`. "
   ]
  },
  {
   "cell_type": "code",
   "execution_count": 25,
   "id": "4816da28-2494-4947-970e-e2bdd31dbdac",
   "metadata": {},
   "outputs": [
    {
     "data": {
      "text/plain": [
       "'Resource'"
      ]
     },
     "execution_count": 25,
     "metadata": {},
     "output_type": "execute_result"
    }
   ],
   "source": [
    "# Get the value of the @type field of the first play\n",
    "\n",
    "r.json()[\"member\"][0][\"@type\"]"
   ]
  },
  {
   "cell_type": "markdown",
   "id": "ab2a44ee-0b34-4742-baad-05ee4f903342",
   "metadata": {},
   "source": [
    "Some of the other properties that appear on the `Resource` object have already been discussed above.\n",
    "\n",
    "The properties `collection`, `navigation` and `document` contain URI Templates based on which a client can construct URLs to access the resource via the Collection, the Navigation and the Document endpoints."
   ]
  },
  {
   "cell_type": "code",
   "execution_count": 26,
   "id": "aebf3d1b-307c-4d1c-93d2-467c1125f1a5",
   "metadata": {},
   "outputs": [
    {
     "name": "stdout",
     "output_type": "stream",
     "text": [
      "Collection: https://staging.dracor.org/api/v1/dts/collection?id=https://staging.dracor.org/id/tat000001{&nav}\n",
      "\n",
      "Navigation: https://staging.dracor.org/api/v1/dts/navigation?resource=https://staging.dracor.org/id/tat000001{&ref,start,end,down}\n",
      "\n",
      "Document: https://staging.dracor.org/api/v1/dts/document?resource=https://staging.dracor.org/id/tat000001{&ref,start,end,mediaType}\n",
      "\n"
     ]
    }
   ],
   "source": [
    "# Print the URI Templates of the resource\n",
    "\n",
    "for prop in [\"collection\", \"navigation\", \"document\"]:\n",
    "    print(f\"{prop.title()}: {r.json()[\"member\"][0][prop]}\\n\")"
   ]
  },
  {
   "cell_type": "markdown",
   "id": "9725bbc3-3676-4fe8-967b-44c38d056530",
   "metadata": {},
   "source": [
    "The pattern listing the parameters is slightly different than the ones described when discussing the Entrypoint above: The URI Templates already include a fixed query parameter resource which holds the identifier of the given resource, e.g. `?resource=https://staging.dracor.org/id/tat000001`, the other available query parameters are put in curly brackets `{}` with an ampersand `&` before the first parameter name, e.g. in the URI Template of the document endpoint: {&ref,start,end,mediaType}. When expanding the pattern to a full URL a client should for each parameter name create a sequence of ampersand symbol `&`, parameter name, equals sign `=` and supplied value of the given parameter.\n",
    "\n",
    "For example, when a client wants to use the Document endpoint to request the text proper of the first scene of the first act. This segment is identified by the fragment identifier `body/div[1]/div[1]` which must be provided as the value of the `ref` parameter. If a client wants to retrieve the content of this fragment as plaintext, this can be controlled in the request by setting the value of the parameter `mediaType`  to `text/plain`. Accordingly, the variables in URI Template \n",
    "\n",
    "```\n",
    "{&ref,start,end,mediaType}` \n",
    "```\n",
    "\n",
    "can be expanded into \n",
    "\n",
    "```\n",
    "&ref=body/div[1]/div[1]&mediaType=text/plain\n",
    "```\n",
    "\n",
    "and thus resulting in  the following request URL: \n",
    "\n",
    "[`https://staging.dracor.org/api/v1/dts/document?resource=https://staging.dracor.org/id/tat000001&ref=body/div[1]/div[1]&mediaType=text/plain`](https://staging.dracor.org/api/v1/dts/document?resource=https://staging.dracor.org/id/tat000001&ref=body/div[1]/div[1]&mediaType=text/plain)"
   ]
  },
  {
   "cell_type": "markdown",
   "id": "e1a05395-af04-4b1a-a210-e6d9f6742cb3",
   "metadata": {},
   "source": [
    "Another property included in the Resource object is `download`. It holds a link to download the resource – in the case of DraCor it is the URL of the API endpoint that serves the TEI file `api/v1/copora/{corpusname}/plays/{playname}/tei`."
   ]
  },
  {
   "cell_type": "code",
   "execution_count": 27,
   "id": "b32f8f1a-25e1-47ac-9fea-97ef410c9509",
   "metadata": {},
   "outputs": [
    {
     "name": "stdout",
     "output_type": "stream",
     "text": [
      "https://staging.dracor.org/api/v1/corpora/tat/plays/qamal-berenche-teatr/tei\n"
     ]
    }
   ],
   "source": [
    "# Get the download link from the previously fetched play\n",
    "\n",
    "print(r.json()[\"member\"][0][\"download\"])"
   ]
  },
  {
   "cell_type": "markdown",
   "id": "54b490d6-a7f9-449a-aadf-26b35e44c8cc",
   "metadata": {},
   "source": [
    "Additional metadata can be added to a resource in two sections or “metadata zones” ([Almas et al. 2023](https://doi.org/10.4000/jtei.4352)). The Metadata objects are connected to the resource with the properties `dublinCore` and `extensions`. While in the first Metadata object terms of the [*Dublin Core Vocabulary*](https://www.dublincore.org/specifications/dublin-core/dcmi-terms ) (DC Terms) can be used, the latter `Metadata` object connected via `extensions` that can hold additional metadata using terms of arbitrary schemas. The terms must be defined in a separate JSON-LD context.\n",
    "\n",
    "The DraCor implementation adds additional metadata in `extensions`. The respective terms are included in a JSON-LD context that is currently available from a DraCor GitHub repository at [https://raw.githubusercontent.com/dracor-org/dracor-ontology/refs/heads/main/json-ld-contexts/dts-extension-context.json](https://raw.githubusercontent.com/dracor-org/dracor-ontology/refs/heads/main/json-ld-contexts/dts-extension-context.json), but will be later provided directly via the DraCor infrastructure to be properly dereferencable. In the JSON-LD context properties already defined in the  [*DraCor API Ontology*](https://github.com/dracor-org/dracor-ontology/blob/main/v1/dracor_api_ontology.ttl) are used. However, In the current version of the DraCor DTS implementation only a couple of specialized data properties are present, as is shown in the following example:"
   ]
  },
  {
   "cell_type": "code",
   "execution_count": 28,
   "id": "b45931ad-c717-4c6d-9aa1-96dfb8a86cf2",
   "metadata": {},
   "outputs": [
    {
     "data": {
      "text/plain": [
       "{'@context': 'https://raw.githubusercontent.com/dracor-org/dracor-ontology/refs/heads/main/json-ld-contexts/dts-extension-context.json',\n",
       " 'numOfSegments': 13,\n",
       " 'yearNormalized': 1908,\n",
       " 'wordCountText': 4505,\n",
       " 'numOfSpeakers': 7,\n",
       " 'wikidataUri': 'http://www.wikidata.org/entity/Q25556355'}"
      ]
     },
     "execution_count": 28,
     "metadata": {},
     "output_type": "execute_result"
    }
   ],
   "source": [
    "# Get the extensions metadata object from the previously fetched play\n",
    "\n",
    "r.json()[\"member\"][0][\"extensions\"]"
   ]
  },
  {
   "cell_type": "markdown",
   "id": "33db2ef7-6cf0-4e97-9154-aa6c5e06ab97",
   "metadata": {},
   "source": [
    "The following list includes the links to the descriptions of the respective API features referenced in the context:\n",
    "\n",
    "* `numberOfSegments`: Feature P37 [play_num_of_segments](https://staging.dracor.org/doc/odd#play_num_of_segments)\n",
    "* `yearNormalized`: Feature P27 [play_year_normalized](https://staging.dracor.org/doc/odd#play_year_normalized)\n",
    "* `wordCountText`: Feature P41 [play_num_of_word_tokens_in_text_elements](https://staging.dracor.org/doc/odd#play_num_of_word_tokens_in_text_elements)\n",
    "* `numOfSpeakers`: Feature P45 [play_num_of_speakers](https://staging.dracor.org/doc/odd#play_num_of_speakers)\n",
    "* `wikidataUri`: Here no Feature defined in the *DraCor API Ontology* could be re-used. The full URI included here is based on Feature P4 [play_wikidata_id](https://staging.dracor.org/doc/odd#play_wikidata_id) prepended by the Wikidata Base URI `http://www.wikidata.org/entity/`\n",
    "\n",
    "Because it is possible to attach custom metadata as well to a collection as to a resource via the `extensions` property, it is possible to cover the functionality provided by the DraCor APIs endpoints `api/v1/corpora`, `api/v1/corpora/{corpusname}`, `api/v1/corpora/{corpusname}/metadata` and, to some extent also endpoints, that provide metadata on a single play, e.g. `api/v1/corpora/{corpusname}/plays/{playname}`."
   ]
  },
  {
   "cell_type": "markdown",
   "id": "bb039f77-4033-475f-8617-2a5f5e2ca141",
   "metadata": {},
   "source": [
    "#### Metadata on a single play via the Collection endpoint\n",
    "\n",
    "When requesting metadata on a corpus via the Collection endpoint, the plays included in a corpus are listed in the member array, but, as has been said, it is also possible to retrieve metadata on a single play via the Collection endpoint. \n",
    "\n",
    "The following request URL can be used to fetch the data on the play “Lessing: Emilia Galotti” from the German Drama Corpus:\n",
    "\n",
    "[https://staging.dracor.org/api/v1/dts/collection?id=https://staging.dracor.org/id/ger000088](https://staging.dracor.org/api/v1/dts/collection?id=https://staging.dracor.org/id/ger000088)\n",
    "\n",
    "In the following code cell the data about this play is retrieved via the DTS Collection endpoint of the DraCor Staging Server:"
   ]
  },
  {
   "cell_type": "code",
   "execution_count": 29,
   "id": "6aa80961-ed5b-4bfb-8129-0b11020b4028",
   "metadata": {},
   "outputs": [
    {
     "data": {
      "text/plain": [
       "{'@context': 'https://distributed-text-services.github.io/specifications/context/1-alpha1.json',\n",
       " 'citationTrees': [{'@type': 'CitationTree',\n",
       "   'maxCiteDepth': 4,\n",
       "   'citeStructure': [{'@type': 'CiteStructure',\n",
       "     'citeType': 'front',\n",
       "     'citeStructure': [{'@type': 'CiteStructure', 'citeType': 'title_page'}]},\n",
       "    {'@type': 'CiteStructure',\n",
       "     'citeType': 'body',\n",
       "     'citeStructure': [{'@type': 'CiteStructure',\n",
       "       'citeType': 'act',\n",
       "       'citeStructure': [{'@type': 'CiteStructure',\n",
       "         'citeType': 'scene',\n",
       "         'citeStructure': [{'@type': 'CiteStructure', 'citeType': 'speech'},\n",
       "          {'@type': 'CiteStructure', 'citeType': 'stage_direction'}]}]}]}]}],\n",
       " '@type': 'Resource',\n",
       " 'download': 'https://staging.dracor.org/api/v1/corpora/ger/plays/lessing-emilia-galotti/tei',\n",
       " 'dublinCore': {'language': 'ger', 'creator': 'Lessing, Gotthold Ephraim'},\n",
       " 'navigation': 'https://staging.dracor.org/api/v1/dts/navigation?resource=https://staging.dracor.org/id/ger000088{&ref,start,end,down}',\n",
       " 'totalParents': 1,\n",
       " 'totalChildren': 0,\n",
       " '@id': 'https://staging.dracor.org/id/ger000088',\n",
       " 'extensions': {'@context': 'https://raw.githubusercontent.com/dracor-org/dracor-ontology/refs/heads/main/json-ld-contexts/dts-extension-context.json',\n",
       "  'numOfSegments': 43,\n",
       "  'yearNormalized': 1772,\n",
       "  'wordCountText': 21136,\n",
       "  'numOfSpeakers': 13,\n",
       "  'wikidataUri': 'http://www.wikidata.org/entity/Q782653'},\n",
       " 'document': 'https://staging.dracor.org/api/v1/dts/document?resource=https://staging.dracor.org/id/ger000088{&ref,start,end,mediaType}',\n",
       " 'title': 'Emilia Galotti',\n",
       " 'collection': 'https://staging.dracor.org/api/v1/dts/collection?id=https://staging.dracor.org/id/ger000088{&nav}',\n",
       " 'dtsVersion': 'unstable'}"
      ]
     },
     "execution_count": 29,
     "metadata": {},
     "output_type": "execute_result"
    }
   ],
   "source": [
    "# Get information on the play and output a JSON serialization\n",
    "\n",
    "request_url = \"https://staging.dracor.org/api/v1/dts/collection?id=https://staging.dracor.org/id/ger000088\"\n",
    "r = requests.get(request_url)\n",
    "r.json()"
   ]
  },
  {
   "cell_type": "markdown",
   "id": "115f18a1-9574-48a3-868f-8f85e57bcb2d",
   "metadata": {},
   "source": [
    "A single `Resource` object – not `Collection` as in the case of a corpus – is returned by the API that represents the play. It still resembles the objects included as members of the collection that was shown in the previous example from the *Tatar Drama Corpus*, but includes an additional nested object: the “Citation Tree”."
   ]
  },
  {
   "cell_type": "markdown",
   "id": "3dc43cf8-34a3-453a-b5e0-1a330ad75ca3",
   "metadata": {},
   "source": [
    "#### Citation Tree\n",
    "\n",
    "A “Citation Tree” in the context of DTS refers to the hierarchical structure used to identify and reference specific parts of a text. This structure allows for the organization of textual content into so-called “Citable Units”, which can be cited and navigated.\n",
    "\n",
    "The “Citation Tree” serves as an abstraction or generalization of the structure of a play, providing a standardized way to represent and navigate its hierarchical components, such as acts, scenes, speech acts and stage directions. Citation trees are essential for scholarly referencing, allowing researchers to accurately point to specific parts of a text. In the Collection endpoint (but also the Navigation endpoint) `CitationTree` objects are included for Resources. The property `citeStructure` is used for nesting child `CiteStructure` objects in the parent object. \n",
    "\n",
    "In the case of the DraCor implementation of DTS a single “Citation Tree” is included as a `CitationTree` object in the JSON array with the key `citationTrees`. \n",
    "\n",
    "It organizes a text into nested sections, such as the top level divisions front matter (identifier: `front`), text proper (`body`) and back matter (`back`) on the upper most level. A Citation Tree of a text that has only these divisions is one level deep and allows only for the retrieval of the before mentioned sections. It has a so-called maximum cite depth (deprecated property `maxCiteDepth`) of `1`.\n",
    "\n",
    "The text proper of texts on DraCor are commonly structured into nested segments, most prominently, but not always referred to as “acts” and “scenes”. There are common different labels depending on language and dramatic traditions, e.g. “configuration”. \n",
    "\n",
    "A play that is structured into scenes only – and these scenes could be addressed and retrieved via the DTS implementation – would have a maximum cite depth of `2`. \n",
    "\n",
    "If a play is divided into acts and therein into scenes the cite depth would be `3`. In the current DraCor implementation it is possible to address segments of the play down to the level of the individual speech act and the stage direction, thus we support a maximum cite depth of `4` in the text proper.\n",
    "\n",
    "The following code cell shows the CitationTree object with the `@type` property value `CitationTree` is included in the play “Emilia Galotti” requested with the URL above:"
   ]
  },
  {
   "cell_type": "code",
   "execution_count": 30,
   "id": "9d09ca29-9cb4-4b12-aede-56ecefdfcd87",
   "metadata": {},
   "outputs": [
    {
     "data": {
      "text/plain": [
       "[{'@type': 'CitationTree',\n",
       "  'maxCiteDepth': 4,\n",
       "  'citeStructure': [{'@type': 'CiteStructure',\n",
       "    'citeType': 'front',\n",
       "    'citeStructure': [{'@type': 'CiteStructure', 'citeType': 'title_page'}]},\n",
       "   {'@type': 'CiteStructure',\n",
       "    'citeType': 'body',\n",
       "    'citeStructure': [{'@type': 'CiteStructure',\n",
       "      'citeType': 'act',\n",
       "      'citeStructure': [{'@type': 'CiteStructure',\n",
       "        'citeType': 'scene',\n",
       "        'citeStructure': [{'@type': 'CiteStructure', 'citeType': 'speech'},\n",
       "         {'@type': 'CiteStructure', 'citeType': 'stage_direction'}]}]}]}]}]"
      ]
     },
     "execution_count": 30,
     "metadata": {},
     "output_type": "execute_result"
    }
   ],
   "source": [
    "# Get the CitationTree object of the play Emilia Galotti \n",
    "# that was requested in the previous code cell \n",
    "# and is available in the variable r\n",
    "\n",
    "r.json()[\"citationTrees\"]"
   ]
  },
  {
   "cell_type": "code",
   "execution_count": 31,
   "id": "c2f14a88-9a01-4503-91b7-46088df8fc34",
   "metadata": {},
   "outputs": [
    {
     "data": {
      "text/plain": [
       "{'@type': 'CiteStructure',\n",
       " 'citeType': 'front',\n",
       " 'citeStructure': [{'@type': 'CiteStructure', 'citeType': 'title_page'}]}"
      ]
     },
     "execution_count": 31,
     "metadata": {},
     "output_type": "execute_result"
    }
   ],
   "source": [
    "# Get the part of the tree representing the front matter\n",
    "\n",
    "r.json()[\"citationTrees\"][0][\"citeStructure\"][0]"
   ]
  },
  {
   "cell_type": "code",
   "execution_count": 32,
   "id": "a87dbc27-9101-42c1-adff-fab287c3ec20",
   "metadata": {},
   "outputs": [
    {
     "data": {
      "text/plain": [
       "{'@type': 'CiteStructure',\n",
       " 'citeType': 'body',\n",
       " 'citeStructure': [{'@type': 'CiteStructure',\n",
       "   'citeType': 'act',\n",
       "   'citeStructure': [{'@type': 'CiteStructure',\n",
       "     'citeType': 'scene',\n",
       "     'citeStructure': [{'@type': 'CiteStructure', 'citeType': 'speech'},\n",
       "      {'@type': 'CiteStructure', 'citeType': 'stage_direction'}]}]}]}"
      ]
     },
     "execution_count": 32,
     "metadata": {},
     "output_type": "execute_result"
    }
   ],
   "source": [
    "# output the citation tree part representing the text proper\n",
    "# output the contents of the field with the key `citeStructure`:\n",
    "\n",
    "r.json()[\"citationTrees\"][0][\"citeStructure\"][1]"
   ]
  },
  {
   "cell_type": "code",
   "execution_count": 33,
   "id": "49431ebf-5ff9-420a-ae03-517e4f09c30f",
   "metadata": {},
   "outputs": [
    {
     "data": {
      "text/plain": [
       "[{'@type': 'CiteStructure', 'citeType': 'speech'},\n",
       " {'@type': 'CiteStructure', 'citeType': 'stage_direction'}]"
      ]
     },
     "execution_count": 33,
     "metadata": {},
     "output_type": "execute_result"
    }
   ],
   "source": [
    "# here we are at level 4 of the CitationTree object\n",
    "\n",
    "r.json()[\"citationTrees\"][0][\"citeStructure\"][1][\"citeStructure\"][0][\"citeStructure\"][0][\"citeStructure\"]"
   ]
  },
  {
   "cell_type": "markdown",
   "id": "9e53a130-ebd1-4eda-8780-fa77c86e40e6",
   "metadata": {},
   "source": [
    "From this `CitationTree` we can understand that the play “Emilia Galotti”:\n",
    "\n",
    "* can be navigated, referenced, cited on four levels, the maximum cite depth is `4`,\n",
    "* on the top level the play is structured into two main parts: front matter and text proper (there is no back matter),\n",
    "* the text proper is structured into acts and scenes,\n",
    "* it is possible to address (reference, cite) individual speech acts or stage directions inside the scenes."
   ]
  },
  {
   "cell_type": "markdown",
   "id": "63bff2ed-ccef-4039-8bd1-d122f71450f1",
   "metadata": {},
   "source": [
    "### Practical Examples using the data returned by the DraCor DTS Collection endpoint\n",
    "\n",
    "The following section demonstrates how the DraCor DTS Collection endpoint can be used in practice."
   ]
  },
  {
   "cell_type": "markdown",
   "id": "3af4725a-effa-4d37-bb26-b4e776ff3aa8",
   "metadata": {},
   "source": [
    "#### Order the corpora by number of plays\n",
    "\n",
    "The following code cell retrieves all corpora via the DraCor DTS Collection endpoint and sorts them by the number of plays included. It then outputs the name of the largest corpus together with the number of plays:"
   ]
  },
  {
   "cell_type": "code",
   "execution_count": 34,
   "id": "f1d13dc0-7084-4b94-9f63-eea25cc00c33",
   "metadata": {},
   "outputs": [
    {
     "name": "stdout",
     "output_type": "stream",
     "text": [
      "There are currently 26 corpora published on the DraCor Staging Server.\n",
      "The biggest corpus by number of plays is the French Drama Corpus with 1940 plays.\n"
     ]
    }
   ],
   "source": [
    "# We currently use the Staging Sever\n",
    "request_url = \"https://staging.dracor.org/api/v1/dts/collection\"\n",
    "\n",
    "r = requests.get(request_url)\n",
    "if r.status_code == 200:\n",
    "    # the request to the endpoint was successful, parse the returned JSON object\n",
    "    collection_response_data = r.json()\n",
    "\n",
    "# Print the number of corpora (= 'totalChildren' of the root collection)\n",
    "num_corpora = collection_response_data[\"totalChildren\"] \n",
    "print(f\"There are currently {num_corpora} corpora published on the DraCor Staging Server.\")\n",
    "\n",
    "# A test if the number of items in member equals the number of corpora (as 'totalChildren' )\n",
    "# This should not raise an Assertion Error\n",
    "assert len(collection_response_data[\"member\"]) == num_corpora, \"The number of items in 'member' and the value of 'totalChildren' does not match!\"\n",
    "\n",
    "# Sort the corpora by the value of 'totalChildren'; \n",
    "# the list should be in descending order therefore the flag reverse need to be set\n",
    "# The filtering is done with a lambda function\n",
    "sorted_corpora = sorted(collection_response_data[\"member\"], key=lambda corpus: corpus['totalChildren'], reverse=True)\n",
    "\n",
    "# Print the title (key  'title') and the number of plays (key 'totalChildren') of the biggest corpus \n",
    "# which is the first item in the list 'sorted_corpora'\n",
    "print(f\"The biggest corpus by number of plays is the {sorted_corpora[0][\"title\"]} with {sorted_corpora[0][\"totalChildren\"]} plays.\")"
   ]
  },
  {
   "cell_type": "markdown",
   "id": "5e7efd4b-6296-4995-94ee-4bdeb0f1163c",
   "metadata": {},
   "source": [
    "#### Filter the plays of a corpus"
   ]
  },
  {
   "cell_type": "markdown",
   "id": "535b7e6d-a800-4f1d-b37c-d66475bca305",
   "metadata": {},
   "source": [
    "The properties currently included in the `extensions` metadata of the \"Resources\" (i.e. plays) in a \"Collection\" (i.e. corpus) can be used for filtering. \n",
    "\n",
    "The following cell retrieves the data of a corpus from the DraCor DTS Collection endpoint of a single corpus identified by the value in the query parameter `id`."
   ]
  },
  {
   "cell_type": "code",
   "execution_count": 35,
   "id": "d8baa3bd-e7ee-4ddc-98a6-722d79b0a09f",
   "metadata": {},
   "outputs": [
    {
     "name": "stdout",
     "output_type": "stream",
     "text": [
      "Retrieved data of the German Drama Corpus including 735 plays.\n"
     ]
    }
   ],
   "source": [
    "# Set the corpus name.\n",
    "# This will be used as identifier as the value of the query parameter 'id'\n",
    "# We use the German Drama Corpus here\n",
    "corpus_name = \"ger\"\n",
    "request_url = f\"https://staging.dracor.org/api/v1/dts/collection?id={corpus_name}\"\n",
    "\n",
    "r = requests.get(request_url)\n",
    "if r.status_code == 200:\n",
    "    # the request to the endpoint was successful, parse the returned JSON object\n",
    "    corpus_response_data = json.loads(r.text)\n",
    "\n",
    "print(f\"Retrieved data of the {corpus_response_data[\"title\"]} including {corpus_response_data[\"totalChildren\"]} plays.\")"
   ]
  },
  {
   "cell_type": "markdown",
   "id": "c7713316-19df-4f48-8e5a-69d52443e5eb",
   "metadata": {},
   "source": [
    "In the following sections we filter the retrieved corpus data based on the metadata available in the `extensions` metadata zone."
   ]
  },
  {
   "cell_type": "markdown",
   "id": "100a7ac6-2f18-403d-9640-0eb3a0043394",
   "metadata": {},
   "source": [
    "##### Filter for plays in a given corpus within a certain date range"
   ]
  },
  {
   "cell_type": "markdown",
   "id": "70681017-95e7-43da-be06-b5b0882c9ff4",
   "metadata": {},
   "source": [
    "The code in the following cell filters the plays included in the *German Drama Corpus* by a date range. We will get only the plays with a `yearNormalized` value between 1730 and 1930. The actual filtering is done with a lambda function that checks if the value of the property falls within the range."
   ]
  },
  {
   "cell_type": "code",
   "execution_count": 36,
   "id": "aebe0f2d-2ec0-48b8-8d32-a8de7ca07819",
   "metadata": {},
   "outputs": [
    {
     "name": "stdout",
     "output_type": "stream",
     "text": [
      "There are 566 plays of which the value of 'yearNormalized' is between 1730 and 1930.\n",
      "The play with the lowest yearNormalized value whithin this set is 'Der sterbende Cato' (1731).\n"
     ]
    }
   ],
   "source": [
    "# Filter the list to include only plays with a normalized date between 1730 and 1930 \n",
    "# (approx. the time span covered by the original GerDraCor based on the DLINA Corpus)\n",
    "plays_filtered_by_year_normalized = list(filter(lambda item: 1730 <= item[\"extensions\"][\"yearNormalized\"] <= 1900, corpus_response_data[\"member\"]))\n",
    "\n",
    "print(f\"There are {len(plays_filtered_by_year_normalized)} plays of which the value of 'yearNormalized' is between 1730 and 1930.\")\n",
    "\n",
    "# Sort the plays by the value of 'yearNormalized'\n",
    "plays_filtered_by_year_normalized = sorted(plays_filtered_by_year_normalized, key=lambda play: play[\"extensions\"][\"yearNormalized\"])\n",
    "\n",
    "print(f\"The play with the lowest yearNormalized value whithin this set is '{plays_filtered_by_year_normalized[0][\"title\"]}' ({plays_filtered_by_year_normalized[0][\"extensions\"][\"yearNormalized\"]}).\")"
   ]
  },
  {
   "cell_type": "markdown",
   "id": "c1550058-2d1e-42cc-bbdf-7273d4212efa",
   "metadata": {},
   "source": [
    "##### Filter by the number of top level segments"
   ]
  },
  {
   "cell_type": "markdown",
   "id": "01712c82-75dc-4031-87e8-1179b06ef8e3",
   "metadata": {},
   "source": [
    "The `extensions` metadata object of the DraCor DTS implementation also includes information on the number of top level segments a play is structured. We will retrieve plays that have 5 top level segments:"
   ]
  },
  {
   "cell_type": "code",
   "execution_count": 37,
   "id": "85ddee96-803c-462d-8d24-67f67b694b26",
   "metadata": {},
   "outputs": [
    {
     "name": "stdout",
     "output_type": "stream",
     "text": [
      "There are 61 plays that have 5 top level segments (acts?).\n"
     ]
    }
   ],
   "source": [
    "# Filter for 5 act plays: the property 'numOfSegments' in 'extensions' should equal 5\n",
    "\n",
    "# Caveat: Actually, these are plays that have 5 segments (see https://staging.dracor.org/doc/odd#play_num_of_segments) \n",
    "# Theoretically, these can also be plays that have 5 scenes or other other 5 top level <div>s inside <body>\n",
    "# It would be better to rely on Feature P38 play_num_of_acts (see https://staging.dracor.org/doc/odd#play_num_of_acts) \n",
    "# but this is not included in the 'extensions' Metadata object in the DTS implementation\n",
    "\n",
    "# Filter the list to include only items where 'numOfSegments' is equal to 5\n",
    "plays_filtered_by_num_of_segments = list(filter(lambda item: item[\"extensions\"][\"numOfSegments\"] == 5, corpus_response_data[\"member\"]))\n",
    "\n",
    "print(f\"There are {len(plays_filtered_by_num_of_segments)} plays that have 5 top level segments (acts?).\")\n",
    "\n",
    "# uncomment and change the following line to get the first play from the filtered list:\n",
    "# plays_filtered_by_num_of_segments[0]"
   ]
  },
  {
   "cell_type": "markdown",
   "id": "da50624b-5b63-44fe-ac01-975ced9587d5",
   "metadata": {},
   "source": [
    "We will later demonstrate how to use a DTS specific feature – the *CitationTree* – to check if the segments are really of the type act. "
   ]
  },
  {
   "cell_type": "markdown",
   "id": "6d3d157a-053d-43b9-8610-2b242536179c",
   "metadata": {},
   "source": [
    "##### Evaluating a play's structure based on the `CitationTree`"
   ]
  },
  {
   "cell_type": "markdown",
   "id": "62278012-524e-4a5c-85b3-c1d90450b220",
   "metadata": {},
   "source": [
    "In Example above we used the Collection endpoint to retrieve plays that consist of 5 segments. The code in the following cell retrieves the distinct types of citation trees of these plays:"
   ]
  },
  {
   "cell_type": "code",
   "execution_count": 38,
   "id": "5d4ec5bd-227a-439b-b6bb-e45f2a3eb699",
   "metadata": {},
   "outputs": [
    {
     "name": "stdout",
     "output_type": "stream",
     "text": [
      "CPU times: user 635 ms, sys: 148 ms, total: 783 ms\n",
      "Wall time: 1min 1s\n"
     ]
    }
   ],
   "source": [
    "%%time\n",
    "#Create a list of distinct CiteStructures in in the list of 5 segment thingis\n",
    "# This takes some time, it fetches data from the API in turns for each of the 61 plays\n",
    "\n",
    "distinct_body_cite_structures = []\n",
    "\n",
    "# The previous example assigned the filtered data to a variable plays_filtered_by_num_of_segments\n",
    "\n",
    "for play in plays_filtered_by_num_of_segments:\n",
    "    request_url = f\"https://staging.dracor.org/api/v1/dts/collection?id={play[\"@id\"]}\"\n",
    "    r = requests.get(request_url)\n",
    "    if r.status_code == 200:\n",
    "        data = json.loads(r.text)\n",
    "\n",
    "        citation_tree_top_level_structures = data[\"citationTrees\"][0][\"citeStructure\"]\n",
    "        # get the body structure\n",
    "        body_structure = list(filter(lambda item: item[\"citeType\"] == \"body\", citation_tree_top_level_structures))\n",
    "        \n",
    "        \n",
    "        if body_structure in distinct_body_cite_structures:\n",
    "            pass\n",
    "        else:\n",
    "            distinct_body_cite_structures.append(body_structure)"
   ]
  },
  {
   "cell_type": "code",
   "execution_count": 39,
   "id": "264318a2-3f8a-4259-b691-1e82407cfa43",
   "metadata": {},
   "outputs": [
    {
     "name": "stdout",
     "output_type": "stream",
     "text": [
      "There are 5 distinct structures.\n"
     ]
    }
   ],
   "source": [
    "print(f\"There are {len(distinct_body_cite_structures)} distinct structures.\")"
   ]
  },
  {
   "cell_type": "code",
   "execution_count": 40,
   "id": "e8f1a333-a547-4513-8495-9f126bbec4a0",
   "metadata": {},
   "outputs": [
    {
     "data": {
      "text/plain": [
       "[[{'@type': 'CiteStructure',\n",
       "   'citeType': 'body',\n",
       "   'citeStructure': [{'@type': 'CiteStructure', 'citeType': 'act'}]}],\n",
       " [{'@type': 'CiteStructure',\n",
       "   'citeType': 'body',\n",
       "   'citeStructure': [{'@type': 'CiteStructure',\n",
       "     'citeType': 'scene',\n",
       "     'citeStructure': [{'@type': 'CiteStructure', 'citeType': 'speech'},\n",
       "      {'@type': 'CiteStructure', 'citeType': 'stage_direction'}]}]}],\n",
       " [{'@type': 'CiteStructure',\n",
       "   'citeType': 'body',\n",
       "   'citeStructure': [{'@type': 'CiteStructure',\n",
       "     'citeType': 'act',\n",
       "     'citeStructure': [{'@type': 'CiteStructure', 'citeType': 'location'}]}]}],\n",
       " [{'citeType': 'body'}],\n",
       " [{'@type': 'CiteStructure',\n",
       "   'citeType': 'body',\n",
       "   'citeStructure': [{'@type': 'CiteStructure',\n",
       "     'citeType': 'act',\n",
       "     'citeStructure': [{'@type': 'CiteStructure',\n",
       "       'citeType': 'scene',\n",
       "       'citeStructure': [{'@type': 'CiteStructure', 'citeType': 'speech'},\n",
       "        {'@type': 'CiteStructure', 'citeType': 'stage_direction'}]}]}]}]]"
      ]
     },
     "execution_count": 40,
     "metadata": {},
     "output_type": "execute_result"
    }
   ],
   "source": [
    "# Output the distinct types of CiteStructures\n",
    "\n",
    "distinct_body_cite_structures"
   ]
  },
  {
   "cell_type": "code",
   "execution_count": 41,
   "id": "a5f4a42c-6b37-460c-9278-ccd6b04a7a7c",
   "metadata": {},
   "outputs": [],
   "source": [
    "# If it does not work, the package treelib needs to be installed\n",
    "# uncomment the following line and run it\n",
    "# The installation should have happend at the beginning of the notebook already\n",
    "\n",
    "#!pip install treelib"
   ]
  },
  {
   "cell_type": "markdown",
   "id": "4a369e4e-e44d-415c-bc16-1f8a697dc298",
   "metadata": {},
   "source": [
    "The following function uses the package [treelib](https://treelib.readthedocs.io/) to transform the `CitationTree` object returned by the API into an instance of the class `Tree` which can then be displayed:"
   ]
  },
  {
   "cell_type": "code",
   "execution_count": 42,
   "id": "763c5809-659c-415e-b90a-89b9f141b5dc",
   "metadata": {},
   "outputs": [],
   "source": [
    "def cite_structure_to_tree(cite_structure, parent_id:str = None, tree:Tree = None):\n",
    "    \"\"\"Transform a DTS CiteStructure to a tree that can be visualized\"\"\" \n",
    "    logging.debug(cite_structure)\n",
    "\n",
    "    if tree is None:\n",
    "        tree = Tree()\n",
    "        logging.debug(\"Created tree\")\n",
    "    else: \n",
    "        logging.debug(\"There is a tree already\")\n",
    "        tree = tree\n",
    "\n",
    "    logging.debug(type(cite_structure))\n",
    "    if type(cite_structure) == list:\n",
    "        logging.debug(\"Is a list, process each item.\")\n",
    "        for item in cite_structure:\n",
    "            cite_structure_to_tree(item, parent_id, tree)\n",
    "            \n",
    "        \n",
    "    elif type(cite_structure) == dict:\n",
    "        logging.debug(\"Is a dictionary, process this item.\")\n",
    "        logging.debug(f\"the cite type is: {cite_structure[\"citeType\"]}\")\n",
    "        logging.debug(f\"the parent is: {parent_id}\")\n",
    "\n",
    "        if parent_id is None:\n",
    "            tree.create_node(cite_structure[\"citeType\"].capitalize().replace(\"_\",\" \"), cite_structure[\"citeType\"])\n",
    "        else: \n",
    "            tree.create_node(cite_structure[\"citeType\"].capitalize().replace(\"_\",\" \"), cite_structure[\"citeType\"], parent=parent_id)\n",
    "\n",
    "        if \"citeStructure\" in cite_structure:\n",
    "            logging.debug(\"There is a nested structure!\")\n",
    "            logging.debug(\"parent_id should be self!\")\n",
    "            parent_id = cite_structure[\"citeType\"]\n",
    "            logging.debug(f\"parent_id is now: {parent_id}\")\n",
    "            for item in cite_structure[\"citeStructure\"]:\n",
    "                tree = cite_structure_to_tree(item, parent_id, tree)\n",
    "                \n",
    "\n",
    "    # return the tree\n",
    "    return tree\n",
    "            \n",
    "    "
   ]
  },
  {
   "cell_type": "markdown",
   "id": "104aa376-5c0a-451a-ab5e-d4ebc590f204",
   "metadata": {},
   "source": [
    "The code in the next cell iterates about the collected structures and visualizes them as trees:"
   ]
  },
  {
   "cell_type": "code",
   "execution_count": 43,
   "id": "23844a8b-e433-4578-80fc-a2cbf4351239",
   "metadata": {},
   "outputs": [
    {
     "name": "stdout",
     "output_type": "stream",
     "text": [
      "Structure type 1:\n",
      "\n",
      "Body\n",
      "└── Act\n",
      "\n",
      "----------------------\n",
      "\n",
      "Structure type 2:\n",
      "\n",
      "Body\n",
      "└── Scene\n",
      "    ├── Speech\n",
      "    └── Stage direction\n",
      "\n",
      "----------------------\n",
      "\n",
      "Structure type 3:\n",
      "\n",
      "Body\n",
      "└── Act\n",
      "    └── Location\n",
      "\n",
      "----------------------\n",
      "\n",
      "Structure type 4:\n",
      "\n",
      "Body\n",
      "\n",
      "----------------------\n",
      "\n",
      "Structure type 5:\n",
      "\n",
      "Body\n",
      "└── Act\n",
      "    └── Scene\n",
      "        ├── Speech\n",
      "        └── Stage direction\n",
      "\n",
      "----------------------\n",
      "\n"
     ]
    }
   ],
   "source": [
    "n = 1\n",
    "for item in distinct_body_cite_structures:\n",
    "    print(f\"Structure type {n}:\\n\")\n",
    "    tree = cite_structure_to_tree(item)\n",
    "    tree.show()\n",
    "    print(\"----------------------\\n\")\n",
    "    n=n+1"
   ]
  },
  {
   "cell_type": "markdown",
   "id": "26a78ec2-211b-4488-a31a-2492bf72428f",
   "metadata": {},
   "source": [
    "The Collection endpoint in the DTS API is primarily designed to facilitate the browsing of text collections, providing users with a catalog-like entry point to explore available resources.\n",
    "\n",
    "However, in the context of the DraCor implementation, this endpoint goes beyond mere discovery functionality by including additional, DraCor-specific metadata in the extensions object which not only allow for filtering a corpus by certain criteria as is already possible with other DraCor API endpoints, e.g. `api/v1/corpora/{corpusname}`, but can also be used to answer research questions specific to the study of drama.\n",
    "\n",
    "Moreover, DTS specific metadata, like the information in the `CitationTree` object can become particularly relevant for scholars studying dramatic texts, as it provides a clear view of how plays are organized and segmented. Thus, the DraCor DTS Collection endpoint could enable comparative studies across multiple plays, allowing for the examination of structural patterns and their variations. This capability is invaluable for exploring how different playwrights approach the organization of their works and how these choices might influence the dramatic impact and audience engagement."
   ]
  },
  {
   "cell_type": "markdown",
   "id": "7c3a6577-2cbb-4225-a434-8f156ab7552e",
   "metadata": {},
   "source": [
    "### DraCor DTS Navigation Endpoint `api/v1/dts/navigation`"
   ]
  },
  {
   "cell_type": "markdown",
   "id": "3d5de268-a500-4d5a-8bb3-fa0db35b6e53",
   "metadata": {},
   "source": [
    "While the Collections endpoint helps users locate individual resources within a collection – in the case of DraCor – a corpus, the DTS Navigation endpoint `/dts/navigation` returns data on the hierarchical relationships between different structural divisions of a text. It provides references that can be used to retrieve specific parts of the text from the DTS Document endpoint, enabling precise navigation and retrieval of text segments. It also lists available identifiers of these segments that can be used to unambiquously reference it."
   ]
  },
  {
   "cell_type": "markdown",
   "id": "c62b02ed-93d1-4e94-8253-b0772642dad4",
   "metadata": {},
   "source": [
    "#### Parameters of the Navigation Endpoint\n",
    "\n",
    "DTS Specification defines the query paramerters `resource`, `ref`, `start`, `end`, `down`, `tree` and `page`. Because the pageing functionality has not been implemented in DraCor and there is only a single reference system in place (see `CitationTree`), the latter two parameters are not or not fully implemented in the DraCor endpoint.\n",
    "\n",
    "* `resource`: This parameter is used to provide the unique identifier (URI) of the Resource being navigated. In the case of DraCor it is the HTTP URI of a corpus or a document that is also used as the value of the parameter `id` in the Collection endpoint. E.g. the identifier `https://staging.dracor.org/id/ger000088` is used in the request to the Collection endpoint\n",
    "\n",
    "```\n",
    "https://staging.dracor.org/api/v1/dts/collection?id=https://staging.dracor.org/id/ger000088\n",
    "```\n",
    "\n",
    "This same identifier should be used as the value of the parameter `resource` of the Navigation endpoint as well to navigate the structural segments of this play. For a request to the server to be valid it is not sufficient to use the parameter `resource` alone, but in combination with the following parameters.\n",
    "\n",
    "* `ref`: This parameter is used to supply an identifier of a certain segment of a text (a *Citeable Unit*). The specification does not restrict what this identifier should be or how it should be minted. In the case of the DraCor implementation of DTS we use designated Fragment Identifiers (see section below)\n",
    "\n",
    "By using the Navigation endpoint it is possible to *either* address a single Citeable Unit *or* a segment of the text, consisting of all Citeable Unites between two nodes. The parameter `ref` must not be combined in a request with any of the following two parameters that have alway to be used together:\n",
    "\n",
    "* `start` and `end`:  When requesting a range of text, the parameters `start` and `end` include the identifiers of the Citeable Units that define the boundaries of a sequence. This sequence encompasses all Citeable Units between these two points, including the starting and ending points themselves.\n",
    "\n",
    "Requesting ranges is still an experimental feature in the DraCor implementation. A limitation is that the starting and ending points of a requested range must share the same parent. For example, a user can request the first three acts of a five-act play, or the second to seventh speeches within the second scene of the third act. However, he or she cannot request a range that spans from the last scene of the first act to the second scene of the third act, as these do not share a common parent.\n",
    "\n",
    "* `down`: This query parameter controls to which maximum depth the citation subtree should be returned. The depth is relative to the specified reference (identified with `ref` or `start` and `end`), e.g. if a Resource is 4 levels deep (body, act, scene, speech act/stage direction) then a value of `2` of the parameter `down` and starting from the body (`ref=body`), the Navigation endpointreturn all acts and all scenes therein. When starting from the first act (`ref=body/div[1]`) it would return all scenes from the first act only including also speech acts and stage directions. A value of -1 indicates that the entire citation tree, down to its deepest level, should be returned. If the parameter is not set, the Navigation endpoint will not return any Citeable Units of the Citation tree, but only the references identfied by `ref` or `start` and `end`."
   ]
  },
  {
   "cell_type": "markdown",
   "id": "1831e4b2-07e4-4ad6-9388-4129b5933274",
   "metadata": {},
   "source": [
    "#### DraCor Fragment Identifiers\n",
    "\n",
    "In the DraCor implementation these text fragment identifiers resemble [xPath](https://www.w3.org/TR/xpath20/) expressions. XPath is a W3C recommended language used to navigate and select nodes within XML documents. Using XPath expressions, users can address resources or nodes within an XML tree by specifying paths that traverse the hierarchical structure of the document. The slash character `/` is used to separate the different levels or steps in a path expression, allowing to navigate down the hierarchical structure of XML. For example in the following XML snippet the element with the text value `B` can be \"reached\" starting from the element `<root>` and going down into the first nested element and then into the second nested element, which results in the path: `/root/element[1]/element[2]`\n",
    "\n",
    "```xml\n",
    "<root>\n",
    "  <element>\n",
    "    <element>A</element>\n",
    "  </element>\n",
    "  <element>B</element>\n",
    "</root>\n",
    "```\n",
    "\n",
    "In the DraCor DTS implementation a similar notation is used to address segments of the text, that are – in the source TEI-XML File more deeply nested than in the simple example above:\n",
    "\n",
    "```xml\n",
    "<TEI>\n",
    "  <teiHeader>\n",
    "    <!-- ... -->\n",
    "  </teiHeader>\n",
    "  <text>\n",
    "    <front>\n",
    "      <div>\n",
    "        <!-- ... -->\n",
    "      </div>\n",
    "    <front>\n",
    "    <body>\n",
    "      <div type=\"act\">\n",
    "        <head>First act</head>\n",
    "        <div type=\"scene\">\n",
    "          <head>First scene</head>\n",
    "          <stage>\n",
    "            <!-- ... -->\n",
    "          </stage>\n",
    "          <sp>\n",
    "            <!-- ... -->\n",
    "          <sp>\n",
    "        </div>\n",
    "        <div>\n",
    "         <head>Second scene</head>\n",
    "         <!-- ... -->\n",
    "        </div>\n",
    "      </div>\n",
    "      <div>\n",
    "       <head>Second act</head>\n",
    "       <!-- ... -->\n",
    "      </div> \n",
    "    <body>\n",
    "  </text>\n",
    "</TEI>\n",
    "```\n",
    "\n",
    "A valid xPath expression to select the single first speech act in the first scene of the first act would be:\n",
    "\n",
    "```\n",
    "/TEI[1]/text[1]/body[1]/div[1]/div[1]/sp[1]\n",
    "```\n",
    "\n",
    "However, if we assume, that some of the elements (`<TEI>`, `<text>` and `<body>`) are included only once in a (DraCor) TEI file, the number in brackets – `[1]` – meaning the position in a sequence of sibling elements does not necessarily needs to be included. Thus, the xPath results in \n",
    "\n",
    "```\n",
    "/TEI/text/body/div[1]/div[1]/sp[1]\n",
    "```\n",
    "\n",
    "In the DrCor DTS implementation not this whole xPath would be used as identifier, but only the part starting from the element `<text>` and thus would result in an identifier that could be used as the value of the parameter `ref` of \n",
    "\n",
    "```\n",
    "body/div[1]/div[1]/sp[1]\n",
    "```\n",
    "\n",
    " Likewise, the whole second act in the example above would be identified with `body/div[2]` and so on."
   ]
  },
  {
   "cell_type": "markdown",
   "id": "ea541930-0289-48d4-ae01-fa61c1802877",
   "metadata": {},
   "source": [
    "#### Response of the Navigation Endpoint"
   ]
  },
  {
   "cell_type": "markdown",
   "id": "27ed455c-0d54-443c-a6df-61be37f6d5d4",
   "metadata": {},
   "source": [
    "The following code can be used to retrieve a single play via the Navigation endpoint. \n",
    "\n",
    "Apart from the mandatory parameter `resource` which holds the ID of the play, as a bare minimum it is necessary to provide either a reference to a citeable unit as the value of the `ref` parameter or the parameter `down` specifying up until to which level citeable units should be returned. \n",
    "\n",
    " In the following example information about the first act (`ref=body/div[1]`) of *Goethe: Iphigenie auf Tauris* (URI: [https://staging.dracor.org/id/ger000001](https://staging.dracor.org/id/ger000001)) are requested with the following URL:\n",
    "\n",
    "[https://staging.dracor.org/api/v1/dts/navigation?resource=https://staging.dracor.org/id/ger000001&ref=body/div[1]](https://staging.dracor.org/api/v1/dts/navigation?resource=https://staging.dracor.org/id/ger000001&ref=body/div[1])"
   ]
  },
  {
   "cell_type": "code",
   "execution_count": 44,
   "id": "da437350-e74d-4fa6-b482-a30ae66087db",
   "metadata": {},
   "outputs": [
    {
     "data": {
      "text/plain": [
       "{'@context': 'https://distributed-text-services.github.io/specifications/context/1-alpha1.json',\n",
       " '@type': 'Navigation',\n",
       " 'ref': {'identifier': 'body/div[1]',\n",
       "  '@type': 'CitableUnit',\n",
       "  'dublinCore': {'title': 'Erster Aufzug'},\n",
       "  'level': 2,\n",
       "  'parent': 'body',\n",
       "  'citeType': 'act'},\n",
       " 'dtsVersion': 'unstable',\n",
       " 'resource': {'citationTrees': [{'@type': 'CitationTree',\n",
       "    'maxCiteDepth': 4,\n",
       "    'citeStructure': [{'@type': 'CiteStructure',\n",
       "      'citeType': 'front',\n",
       "      'citeStructure': [{'@type': 'CiteStructure', 'citeType': 'front'},\n",
       "       {'@type': 'CiteStructure', 'citeType': 'dramatis_personae'},\n",
       "       {'@type': 'CiteStructure', 'citeType': 'setting'}]},\n",
       "     {'@type': 'CiteStructure',\n",
       "      'citeType': 'body',\n",
       "      'citeStructure': [{'@type': 'CiteStructure',\n",
       "        'citeType': 'act',\n",
       "        'citeStructure': [{'@type': 'CiteStructure',\n",
       "          'citeType': 'scene',\n",
       "          'citeStructure': [{'@type': 'CiteStructure', 'citeType': 'speech'},\n",
       "           {'@type': 'CiteStructure', 'citeType': 'stage_direction'}]}]}]}]}],\n",
       "  '@type': 'Resource',\n",
       "  'mediaTypes': ['application/tei+xml', 'text/plain'],\n",
       "  'document': 'https://staging.dracor.org/api/v1/dts/document?resource=https://staging.dracor.org/id/ger000001{&ref,start,end,mediaType}',\n",
       "  'collection': 'https://staging.dracor.org/api/v1/dts/collection?id=https://staging.dracor.org/id/ger000001{&nav}',\n",
       "  'navigation': 'https://staging.dracor.org/api/v1/dts/navigation?resource=https://staging.dracor.org/id/ger000001{&ref,start,end,down}',\n",
       "  '@id': 'https://staging.dracor.org/id/ger000001'},\n",
       " '@id': 'https://staging.dracor.org/api/v1/dts/navigation?resource=https://staging.dracor.org/id/ger000001&ref=body/div[1]'}"
      ]
     },
     "execution_count": 44,
     "metadata": {},
     "output_type": "execute_result"
    }
   ],
   "source": [
    "resource = \"https://staging.dracor.org/id/ger000001\"\n",
    "ref = \"body/div[1]\" # Identifier of the first act\n",
    "\n",
    "request_url = f\"{api_base}dts/navigation?resource={resource}&ref={ref}\"\n",
    "r = requests.get(request_url)\n",
    "if r.status_code == 200:\n",
    "    navigation_response_data = r.json()\n",
    "\n",
    "# Output the retrieved data\n",
    "navigation_response_data"
   ]
  },
  {
   "cell_type": "markdown",
   "id": "03e4177a-90f3-4fe0-ab41-e49721dcf3c2",
   "metadata": {},
   "source": [
    "The DTS Navigation endpoint returnes a `Navigation` object (see `@type` property), identified with the request URL as the value of the `@id` property. The property `dtsVersion` holds the version of the DTS Specification, that is the basis for the navigation response object. Additionally, it includes a `Resource` object (linked via property `resource`) as well as a reference to a Citable Unit (property `ref`) (in the following example replaced with placeholder `{ ... }`): "
   ]
  },
  {
   "cell_type": "markdown",
   "id": "165cd963-72eb-4108-be1d-d01d2530b189",
   "metadata": {},
   "source": [
    "```json\n",
    "{\n",
    "  \"@context\" : \"https://distributed-text-services.github.io/specifications/context/1-alpha1.json\",\n",
    "  \"@id\" : \"https://staging.dracor.org/api/v1/dts/navigation?resource=https://staging.dracor.org/id/ger000001&ref=body/div[1]\",\n",
    "  \"@type\" : \"Navigation\",\n",
    "  \"dtsVersion\" : \"unstable\",\n",
    "  \"resource\" : { … } ,\n",
    "  \"ref\" : { … }\n",
    "}\n",
    "```"
   ]
  },
  {
   "cell_type": "code",
   "execution_count": 45,
   "id": "25deb0f4-20b8-4271-ae77-bd2363513da6",
   "metadata": {},
   "outputs": [
    {
     "data": {
      "text/plain": [
       "'Navigation'"
      ]
     },
     "execution_count": 45,
     "metadata": {},
     "output_type": "execute_result"
    }
   ],
   "source": [
    "# Output the value of the @type property\n",
    "\n",
    "navigation_response_data[\"@type\"]"
   ]
  },
  {
   "cell_type": "markdown",
   "id": "0f938056-3851-4c02-833a-23d811f5358b",
   "metadata": {},
   "source": [
    "The included `Resource` object lists the URI Templates for the Document, the Collection and the Navigation endpoints (properties `document`, `collection`, `navigation`), the Citation Tree(s) (property `citationTrees`) and – as in optional property (`mediaType`) carries the information in which formats the resource is available. Below is an example showing only the resource part:\n",
    "\n",
    "```json\n",
    "\"resource\" : {\n",
    "    \"@id\" : \"https://staging.dracor.org/id/ger000001\",\n",
    "    \"@type\" : \"Resource\",\n",
    "    \"document\" : \"https://staging.dracor.org/api/v1/dts/document?resource=https://staging.dracor.org/id/ger000001{&ref,start,end,mediaType}\",\n",
    "    \"collection\" : \"https://staging.dracor.org/api/v1/dts/collection?id=https://staging.dracor.org/id/ger000001{&nav}\",\n",
    "    \"navigation\" : \"https://staging.dracor.org/api/v1/dts/navigation?resource=https://staging.dracor.org/id/ger000001{&ref,start,end,down}\",\n",
    "    \"citationTrees\" : [ … ],\n",
    "    \"mediaTypes\" : [ \"application/tei+xml\", \"text/plain\" ]\n",
    "  }\n",
    "```"
   ]
  },
  {
   "cell_type": "code",
   "execution_count": 46,
   "id": "a1aa6d56-0c18-42db-9c40-8a15da832095",
   "metadata": {},
   "outputs": [
    {
     "name": "stdout",
     "output_type": "stream",
     "text": [
      "The returned object is of type: Resource\n",
      "\n",
      "\n"
     ]
    },
    {
     "data": {
      "text/plain": [
       "{'citationTrees': [{'@type': 'CitationTree',\n",
       "   'maxCiteDepth': 4,\n",
       "   'citeStructure': [{'@type': 'CiteStructure',\n",
       "     'citeType': 'front',\n",
       "     'citeStructure': [{'@type': 'CiteStructure', 'citeType': 'front'},\n",
       "      {'@type': 'CiteStructure', 'citeType': 'dramatis_personae'},\n",
       "      {'@type': 'CiteStructure', 'citeType': 'setting'}]},\n",
       "    {'@type': 'CiteStructure',\n",
       "     'citeType': 'body',\n",
       "     'citeStructure': [{'@type': 'CiteStructure',\n",
       "       'citeType': 'act',\n",
       "       'citeStructure': [{'@type': 'CiteStructure',\n",
       "         'citeType': 'scene',\n",
       "         'citeStructure': [{'@type': 'CiteStructure', 'citeType': 'speech'},\n",
       "          {'@type': 'CiteStructure', 'citeType': 'stage_direction'}]}]}]}]}],\n",
       " '@type': 'Resource',\n",
       " 'mediaTypes': ['application/tei+xml', 'text/plain'],\n",
       " 'document': 'https://staging.dracor.org/api/v1/dts/document?resource=https://staging.dracor.org/id/ger000001{&ref,start,end,mediaType}',\n",
       " 'collection': 'https://staging.dracor.org/api/v1/dts/collection?id=https://staging.dracor.org/id/ger000001{&nav}',\n",
       " 'navigation': 'https://staging.dracor.org/api/v1/dts/navigation?resource=https://staging.dracor.org/id/ger000001{&ref,start,end,down}',\n",
       " '@id': 'https://staging.dracor.org/id/ger000001'}"
      ]
     },
     "execution_count": 46,
     "metadata": {},
     "output_type": "execute_result"
    }
   ],
   "source": [
    "# Print the @type value\n",
    "\n",
    "print(f\"The returned object is of type: {navigation_response_data[\"resource\"][\"@type\"]}\\n\\n\")\n",
    "\n",
    "# Output the included Resource object\n",
    "\n",
    "navigation_response_data[\"resource\"]"
   ]
  },
  {
   "cell_type": "markdown",
   "id": "6a40ed00-229f-41d5-b18a-6d2f3e2e2ff0",
   "metadata": {},
   "source": [
    "A resource can be available in various serializations. The property `mediaTypes` links to an JSON array includes the identifiers that can be used as the value of the query parameter `mediaType` of the Document endpoint to retrieve the given representation. In the case of DraCor either TEI-XML as the default, or Plaintext."
   ]
  },
  {
   "cell_type": "code",
   "execution_count": 47,
   "id": "136bf0a3-58f7-4119-bc38-f9efc0fea4f0",
   "metadata": {},
   "outputs": [
    {
     "data": {
      "text/plain": [
       "['application/tei+xml', 'text/plain']"
      ]
     },
     "execution_count": 47,
     "metadata": {},
     "output_type": "execute_result"
    }
   ],
   "source": [
    "# display the contents of 'mediaTypes'\n",
    "navigation_response_data[\"resource\"][\"mediaTypes\"]"
   ]
  },
  {
   "cell_type": "markdown",
   "id": "3bccb64a-bfb9-4045-8a02-8d09c597e976",
   "metadata": {},
   "source": [
    "When requesting information on a single citable unit providing its identifier in the query parameter `ref` the returned data includes this referenced citable unit. It is linked with the property `ref`. An example is included below:\n",
    "\n",
    "```json\n",
    "\"ref\" : {\n",
    "    \"@type\" : \"CitableUnit\",\n",
    "    \"identifier\" : \"body/div[1]\",\n",
    "    \"level\" : 2,\n",
    "    \"parent\" : \"body\",\n",
    "    \"citeType\" : \"act\",\n",
    "    \"dublinCore\" : {\n",
    "      \"title\" : \"Erster Aufzug\"\n",
    "    }\n",
    "  }\n",
    "\n",
    "```\n",
    "\n",
    "The `CiteableUnit` object has the following properties:\n",
    "\n",
    "* **`@type`**: This JSON-LD specific property indicates the class of the object. The only allowed value is `CiteableUnit`.\n",
    "* **`identifier`**: The identifier of the citable unit. It is used as the value of the query parameter `ref` to identify it across the Navigation and Document endpoints. In the DraCor implementation xPath-like path expressions are used as identifiers (see section *DraCor Fragment Identifiers* above).\n",
    "* **`level`**: This property indicates the depth at which the citable unit is found within the citation tree of the Resource.\n",
    "* **`parent`**: This property contains the identifier of the parent of the citable unit in the tree of the Resource.\n",
    "* **`citeType`**: This property contains a string identifying the type of the citable unit, e.g. \"act\", \"scene\", \"speech\", \"stage_direction\". The values correspond to the types used in the `CiteStructure` objects in the `CitationTree`.\n",
    "* **`dublinCore`**: This property is used to include a `MetadataObject` using terms from the *Dublin Core Terms Vocabulary*. In the DraCor implementation currently only the term `dct:title` is used. In acts and scenes it includes the value of the very first `<tei:head>` element found in the corresponding `<tei:div>`.\n",
    "* **`extensions`**: This property is used to include a `MetadataObject` with DraCor-specific properties.\n",
    "\n",
    "The following examples illustrate how to use the Navigation endpoint to retrieve information about a single play."
   ]
  },
  {
   "cell_type": "code",
   "execution_count": 48,
   "id": "8f652529-470c-445d-b936-3c0ce76d425e",
   "metadata": {},
   "outputs": [
    {
     "data": {
      "text/plain": [
       "{'identifier': 'body/div[1]',\n",
       " '@type': 'CitableUnit',\n",
       " 'dublinCore': {'title': 'Erster Aufzug'},\n",
       " 'level': 2,\n",
       " 'parent': 'body',\n",
       " 'citeType': 'act'}"
      ]
     },
     "execution_count": 48,
     "metadata": {},
     "output_type": "execute_result"
    }
   ],
   "source": [
    "# display the citeable unit identified by the identifier in the parameter ref\n",
    "navigation_response_data[\"ref\"]"
   ]
  },
  {
   "cell_type": "markdown",
   "id": "1208b9aa-0c6d-4252-9717-c804c95cb443",
   "metadata": {},
   "source": [
    "#### Navigating a resource"
   ]
  },
  {
   "cell_type": "markdown",
   "id": "a47dd571-d755-4f7b-9b0d-362e30153495",
   "metadata": {},
   "source": [
    "The following examples demonstrate how to use the Navigation endpoint to retrieve information about the citable units of a Resource. As an example we use the play Goethe: “Iphigenie auf Tauris” (`ger000001`) from the *German Drama Corpus*.\n",
    "\n",
    "The code in the following cell retrieves the top level structural segments of a play. Setting the query parameter `down` to the value of `1` tells the API to get the strucutral segments one level deep. Because the parameter `ref` is not used, the starting point is the top most element of the tree – the whole text. "
   ]
  },
  {
   "cell_type": "code",
   "execution_count": 49,
   "id": "5c217988-0baa-4858-92a7-62642783750c",
   "metadata": {},
   "outputs": [
    {
     "data": {
      "text/plain": [
       "{'@context': 'https://distributed-text-services.github.io/specifications/context/1-alpha1.json',\n",
       " '@type': 'Navigation',\n",
       " 'dtsVersion': 'unstable',\n",
       " 'resource': {'citationTrees': [{'@type': 'CitationTree',\n",
       "    'maxCiteDepth': 4,\n",
       "    'citeStructure': [{'@type': 'CiteStructure',\n",
       "      'citeType': 'front',\n",
       "      'citeStructure': [{'@type': 'CiteStructure', 'citeType': 'front'},\n",
       "       {'@type': 'CiteStructure', 'citeType': 'dramatis_personae'},\n",
       "       {'@type': 'CiteStructure', 'citeType': 'setting'}]},\n",
       "     {'@type': 'CiteStructure',\n",
       "      'citeType': 'body',\n",
       "      'citeStructure': [{'@type': 'CiteStructure',\n",
       "        'citeType': 'act',\n",
       "        'citeStructure': [{'@type': 'CiteStructure',\n",
       "          'citeType': 'scene',\n",
       "          'citeStructure': [{'@type': 'CiteStructure', 'citeType': 'speech'},\n",
       "           {'@type': 'CiteStructure', 'citeType': 'stage_direction'}]}]}]}]}],\n",
       "  '@type': 'Resource',\n",
       "  'mediaTypes': ['application/tei+xml', 'text/plain'],\n",
       "  'document': 'https://staging.dracor.org/api/v1/dts/document?resource=https://staging.dracor.org/id/ger000001{&ref,start,end,mediaType}',\n",
       "  'collection': 'https://staging.dracor.org/api/v1/dts/collection?id=https://staging.dracor.org/id/ger000001{&nav}',\n",
       "  'navigation': 'https://staging.dracor.org/api/v1/dts/navigation?resource=https://staging.dracor.org/id/ger000001{&ref,start,end,down}',\n",
       "  '@id': 'https://staging.dracor.org/id/ger000001'},\n",
       " '@id': 'https://staging.dracor.org/api/v1/dts/navigation?resource=https://staging.dracor.org/id/ger000001&down=1',\n",
       " 'member': [{'identifier': 'front',\n",
       "   '@type': 'CitableUnit',\n",
       "   'level': 1,\n",
       "   'parent': None,\n",
       "   'citeType': 'front'},\n",
       "  {'identifier': 'body',\n",
       "   '@type': 'CitableUnit',\n",
       "   'level': 1,\n",
       "   'parent': None,\n",
       "   'citeType': 'body'}]}"
      ]
     },
     "execution_count": 49,
     "metadata": {},
     "output_type": "execute_result"
    }
   ],
   "source": [
    "# list the top level structural segments of a play\n",
    "# by setting down to \"1\"\n",
    "# If you use the production server, change the resource to https://dracor.org/id/ger000001\n",
    "\n",
    "resource = \"https://staging.dracor.org/id/ger000001\"\n",
    "request_url = f\"{api_base}dts/navigation?resource={resource}&down=1\"\n",
    "r = requests.get(request_url)\n",
    "response_data = r.json()\n",
    "response_data"
   ]
  },
  {
   "cell_type": "markdown",
   "id": "b7108322-ff68-46de-ae5c-fa15ccfcd4fd",
   "metadata": {},
   "source": [
    "The `Navigation` object returned by the API includes a property `member` which holds an array including two citable units – the front matter (identifier: `front`) and the text proper (identifier: `body`):"
   ]
  },
  {
   "cell_type": "code",
   "execution_count": 50,
   "id": "1bca70db-99c1-4395-8226-76cd75c70295",
   "metadata": {},
   "outputs": [
    {
     "data": {
      "text/plain": [
       "[{'identifier': 'front',\n",
       "  '@type': 'CitableUnit',\n",
       "  'level': 1,\n",
       "  'parent': None,\n",
       "  'citeType': 'front'},\n",
       " {'identifier': 'body',\n",
       "  '@type': 'CitableUnit',\n",
       "  'level': 1,\n",
       "  'parent': None,\n",
       "  'citeType': 'body'}]"
      ]
     },
     "execution_count": 50,
     "metadata": {},
     "output_type": "execute_result"
    }
   ],
   "source": [
    "# display the list containing the citeable units\n",
    "response_data[\"member\"]"
   ]
  },
  {
   "cell_type": "markdown",
   "id": "3028ba85-d840-49cb-a166-9385725559e0",
   "metadata": {},
   "source": [
    "In the cell above, the citeable units are transformed into Python dictionaries, which means that in the data structure datetypes native to Python are included. Therefore in the example above the value of the property `parent` is `None`, while in in the actual JSON response the value is `null`:\n",
    "\n",
    "```json\n",
    "{\n",
    "    \"@type\" : \"CitableUnit\",\n",
    "    \"identifier\" : \"front\",\n",
    "    \"level\" : 1,\n",
    "    \"parent\" : null,\n",
    "    \"citeType\" : \"front\"\n",
    "}\n",
    "```\n",
    "This means that the citable unit is at the most upper level in the citation tree.\n",
    "\n",
    "The values of the `identifier` properties can be used to construct request urls to retrieve information about these parts of the text. For example, the request URL to retrieve the top structural divisions of the front matter can be constructed by using the value of the property identifier of the first included citable unit `front` as the value of the query parameter `ref` (`ref=front`) and setting the parameter `down` to the value `1` to tell the API to include the nested structural segments one level down in the citation tree:"
   ]
  },
  {
   "cell_type": "code",
   "execution_count": 51,
   "id": "efe68fe1-dd19-4ec1-bc49-b3b7b8c737a4",
   "metadata": {},
   "outputs": [
    {
     "data": {
      "text/plain": [
       "[{'identifier': 'front/div[1]',\n",
       "  '@type': 'CitableUnit',\n",
       "  'dublinCore': {'title': 'Johann Wolfgang Goethe'},\n",
       "  'level': 2,\n",
       "  'parent': 'front',\n",
       "  'citeType': 'front'},\n",
       " {'identifier': 'front/div[2]',\n",
       "  '@type': 'CitableUnit',\n",
       "  'level': 2,\n",
       "  'parent': 'front',\n",
       "  'citeType': 'dramatis_personae'},\n",
       " {'identifier': 'front/set[1]',\n",
       "  '@type': 'CitableUnit',\n",
       "  'level': 2,\n",
       "  'parent': 'front',\n",
       "  'citeType': 'setting'}]"
      ]
     },
     "execution_count": 51,
     "metadata": {},
     "output_type": "execute_result"
    }
   ],
   "source": [
    "# list the structural elements in the front matter\n",
    "\n",
    "resource = \"https://staging.dracor.org/id/ger000001\"\n",
    "ref = \"front\"\n",
    "down = \"1\"\n",
    "request_url = f\"{api_base}dts/navigation?resource={resource}&ref={ref}&down={down}\"\n",
    "r = requests.get(request_url)\n",
    "response_data = r.json()\n",
    "response_data[\"member\"]"
   ]
  },
  {
   "cell_type": "markdown",
   "id": "5bb29742-e503-424e-af25-512c73d4267d",
   "metadata": {},
   "source": [
    "The front matter of the play contains three structural parts that can be adressed and cited via DTS by using the identifiers included in the property `identifier`. For example using `front/div[2]` can be used to adress the dramatis personae of the play. \n",
    "\n",
    "The navigation endpoint can be used for that as is shown in the code cell below:"
   ]
  },
  {
   "cell_type": "code",
   "execution_count": 52,
   "id": "2385aa7c-3b4a-4ced-a371-68db318cd59f",
   "metadata": {},
   "outputs": [
    {
     "data": {
      "text/plain": [
       "{'@context': 'https://distributed-text-services.github.io/specifications/context/1-alpha1.json',\n",
       " '@type': 'Navigation',\n",
       " 'ref': {'identifier': 'front/div[2]',\n",
       "  '@type': 'CitableUnit',\n",
       "  'level': 2,\n",
       "  'parent': 'front',\n",
       "  'citeType': 'dramatis_personae'},\n",
       " 'dtsVersion': 'unstable',\n",
       " 'resource': {'citationTrees': [{'@type': 'CitationTree',\n",
       "    'maxCiteDepth': 4,\n",
       "    'citeStructure': [{'@type': 'CiteStructure',\n",
       "      'citeType': 'front',\n",
       "      'citeStructure': [{'@type': 'CiteStructure', 'citeType': 'front'},\n",
       "       {'@type': 'CiteStructure', 'citeType': 'dramatis_personae'},\n",
       "       {'@type': 'CiteStructure', 'citeType': 'setting'}]},\n",
       "     {'@type': 'CiteStructure',\n",
       "      'citeType': 'body',\n",
       "      'citeStructure': [{'@type': 'CiteStructure',\n",
       "        'citeType': 'act',\n",
       "        'citeStructure': [{'@type': 'CiteStructure',\n",
       "          'citeType': 'scene',\n",
       "          'citeStructure': [{'@type': 'CiteStructure', 'citeType': 'speech'},\n",
       "           {'@type': 'CiteStructure', 'citeType': 'stage_direction'}]}]}]}]}],\n",
       "  '@type': 'Resource',\n",
       "  'mediaTypes': ['application/tei+xml', 'text/plain'],\n",
       "  'document': 'https://staging.dracor.org/api/v1/dts/document?resource=https://staging.dracor.org/id/ger000001{&ref,start,end,mediaType}',\n",
       "  'collection': 'https://staging.dracor.org/api/v1/dts/collection?id=https://staging.dracor.org/id/ger000001{&nav}',\n",
       "  'navigation': 'https://staging.dracor.org/api/v1/dts/navigation?resource=https://staging.dracor.org/id/ger000001{&ref,start,end,down}',\n",
       "  '@id': 'https://staging.dracor.org/id/ger000001'},\n",
       " '@id': 'https://staging.dracor.org/api/v1/dts/navigation?resource=https://staging.dracor.org/id/ger000001&ref=front/div[2]'}"
      ]
     },
     "execution_count": 52,
     "metadata": {},
     "output_type": "execute_result"
    }
   ],
   "source": [
    "# Use the identifier of the structural division representing the \n",
    "# front matter as the value of the query parameter ref\n",
    "\n",
    "resource = \"https://staging.dracor.org/id/ger000001\"\n",
    "ref = \"front/div[2]\"\n",
    "request_url = f\"{api_base}dts/navigation?resource={resource}&ref={ref}\"\n",
    "r = requests.get(request_url)\n",
    "response_data = r.json()\n",
    "response_data"
   ]
  },
  {
   "cell_type": "markdown",
   "id": "d197d117-10c3-4e19-921a-963be0466a25",
   "metadata": {},
   "source": [
    "A link to cite the dramatis personae of the play would thus be [`https://staging.dracor.org/api/v1/dts/navigation?resource=https://staging.dracor.org/id/ger000001&ref=front/div[2]`](https://staging.dracor.org/api/v1/dts/navigation?resource=https://staging.dracor.org/id/ger000001&ref=front/div[2]). \n",
    "\n",
    "The fragment identifier `front/div[2]` can also be used to retrieve the acutal text from the Document endpoint (which will be shown later)."
   ]
  },
  {
   "cell_type": "markdown",
   "id": "a9c3047d-eb03-4ba6-85d7-06ccadacee45",
   "metadata": {},
   "source": [
    "The Navigation endpoint can also be used to fetch the citable units down from a certain element. To understand what is available we can have a look at the citation tree:"
   ]
  },
  {
   "cell_type": "code",
   "execution_count": 53,
   "id": "381dc02a-fff1-42a1-9f57-b054529cd253",
   "metadata": {},
   "outputs": [
    {
     "data": {
      "text/plain": [
       "{'@type': 'CitationTree',\n",
       " 'maxCiteDepth': 4,\n",
       " 'citeStructure': [{'@type': 'CiteStructure',\n",
       "   'citeType': 'front',\n",
       "   'citeStructure': [{'@type': 'CiteStructure', 'citeType': 'front'},\n",
       "    {'@type': 'CiteStructure', 'citeType': 'dramatis_personae'},\n",
       "    {'@type': 'CiteStructure', 'citeType': 'setting'}]},\n",
       "  {'@type': 'CiteStructure',\n",
       "   'citeType': 'body',\n",
       "   'citeStructure': [{'@type': 'CiteStructure',\n",
       "     'citeType': 'act',\n",
       "     'citeStructure': [{'@type': 'CiteStructure',\n",
       "       'citeType': 'scene',\n",
       "       'citeStructure': [{'@type': 'CiteStructure', 'citeType': 'speech'},\n",
       "        {'@type': 'CiteStructure', 'citeType': 'stage_direction'}]}]}]}]}"
      ]
     },
     "execution_count": 53,
     "metadata": {},
     "output_type": "execute_result"
    }
   ],
   "source": [
    "# Get the first citation tree from the Resource object included in the response\n",
    "\n",
    "response_data[\"resource\"][\"citationTrees\"][0]"
   ]
  },
  {
   "cell_type": "code",
   "execution_count": 54,
   "id": "54e05a86-a0a0-4721-9143-8b893b671801",
   "metadata": {},
   "outputs": [
    {
     "name": "stdout",
     "output_type": "stream",
     "text": [
      "Body\n",
      "└── Act\n",
      "    └── Scene\n",
      "        ├── Speech\n",
      "        └── Stage direction\n",
      "\n"
     ]
    }
   ],
   "source": [
    "# Visualize the cite structure \n",
    "# using the designated fuction cite_structure_to_tree developed in an example above:\n",
    "\n",
    "tree = cite_structure_to_tree(response_data[\"resource\"][\"citationTrees\"][0][\"citeStructure\"][1])\n",
    "tree.show()"
   ]
  },
  {
   "cell_type": "markdown",
   "id": "f8117a8a-9dfb-4373-b1cb-0df376a07e9f",
   "metadata": {},
   "source": [
    "We could now list the top level structural elements of the text proper – the acts by setting the parameter value of `ref` to the identifier of the text proper (`body`) and going one level down by setting `down` to `1`:"
   ]
  },
  {
   "cell_type": "code",
   "execution_count": 55,
   "id": "6377698f-733b-48e3-b57c-812d91508b73",
   "metadata": {},
   "outputs": [
    {
     "data": {
      "text/plain": [
       "[{'identifier': 'body/div[1]',\n",
       "  '@type': 'CitableUnit',\n",
       "  'dublinCore': {'title': 'Erster Aufzug'},\n",
       "  'level': 2,\n",
       "  'parent': 'body',\n",
       "  'citeType': 'act'},\n",
       " {'identifier': 'body/div[2]',\n",
       "  '@type': 'CitableUnit',\n",
       "  'dublinCore': {'title': 'Zweiter Aufzug'},\n",
       "  'level': 2,\n",
       "  'parent': 'body',\n",
       "  'citeType': 'act'},\n",
       " {'identifier': 'body/div[3]',\n",
       "  '@type': 'CitableUnit',\n",
       "  'dublinCore': {'title': 'Dritter Aufzug'},\n",
       "  'level': 2,\n",
       "  'parent': 'body',\n",
       "  'citeType': 'act'},\n",
       " {'identifier': 'body/div[4]',\n",
       "  '@type': 'CitableUnit',\n",
       "  'dublinCore': {'title': 'Vierter Aufzug'},\n",
       "  'level': 2,\n",
       "  'parent': 'body',\n",
       "  'citeType': 'act'},\n",
       " {'identifier': 'body/div[5]',\n",
       "  '@type': 'CitableUnit',\n",
       "  'dublinCore': {'title': 'Fünfter Aufzug'},\n",
       "  'level': 2,\n",
       "  'parent': 'body',\n",
       "  'citeType': 'act'}]"
      ]
     },
     "execution_count": 55,
     "metadata": {},
     "output_type": "execute_result"
    }
   ],
   "source": [
    "# list the scenes in the second act\n",
    "\n",
    "resource = \"https://staging.dracor.org/id/ger000001\"\n",
    "ref = \"body\"\n",
    "down = \"1\"\n",
    "request_url = f\"{api_base}dts/navigation?resource={resource}&ref={ref}&down={down}\"\n",
    "r = requests.get(request_url)\n",
    "response_data = r.json()\n",
    "\n",
    "# Output only the member part\n",
    "response_data[\"member\"]"
   ]
  },
  {
   "cell_type": "markdown",
   "id": "16a28e3e-d689-4fde-8b23-67ae96d6025e",
   "metadata": {},
   "source": [
    "By starting at the second act with the identifier `body/div[2]` we can list the structural elements one level down – the scenes of the second act as is shown in the next cell:"
   ]
  },
  {
   "cell_type": "code",
   "execution_count": 56,
   "id": "6087e234-eecb-40fb-9d56-db30150ec6e5",
   "metadata": {},
   "outputs": [
    {
     "data": {
      "text/plain": [
       "[{'identifier': 'body/div[2]/div[1]',\n",
       "  '@type': 'CitableUnit',\n",
       "  'dublinCore': {'title': 'Erster Auftritt'},\n",
       "  'level': 3,\n",
       "  'parent': 'body/div[2]',\n",
       "  'citeType': 'scene'},\n",
       " {'identifier': 'body/div[2]/div[2]',\n",
       "  '@type': 'CitableUnit',\n",
       "  'dublinCore': {'title': 'Zweiter Auftritt'},\n",
       "  'level': 3,\n",
       "  'parent': 'body/div[2]',\n",
       "  'citeType': 'scene'}]"
      ]
     },
     "execution_count": 56,
     "metadata": {},
     "output_type": "execute_result"
    }
   ],
   "source": [
    "# list the scenes in the second act\n",
    "\n",
    "resource = \"https://staging.dracor.org/id/ger000001\"\n",
    "ref = \"body/div[2]\"\n",
    "down = \"1\"\n",
    "request_url = f\"{api_base}dts/navigation?resource={resource}&ref={ref}&down={down}\"\n",
    "r = requests.get(request_url)\n",
    "response_data = r.json()\n",
    "response_data[\"member\"]"
   ]
  },
  {
   "cell_type": "markdown",
   "id": "99558936-b109-41b1-8d1c-f6548baa1dac",
   "metadata": {},
   "source": [
    "There are two scenes in the second act (`body/div[2]`) which are here labeled \"Auftritt\" (appearance). \n",
    "\n",
    "The DTS Navigation endpoint can be used to fetch the scenes and also include the next level, i.e. the speech acts and stage directions by providing a value of `2` in the parameter `down`. We only show the first 6 items included as memebers."
   ]
  },
  {
   "cell_type": "code",
   "execution_count": 57,
   "id": "60fb3c57-0504-4710-bb02-cca6e89b7ae4",
   "metadata": {},
   "outputs": [
    {
     "data": {
      "text/plain": [
       "[{'identifier': 'body/div[2]/div[1]',\n",
       "  '@type': 'CitableUnit',\n",
       "  'dublinCore': {'title': 'Erster Auftritt'},\n",
       "  'level': 3,\n",
       "  'parent': 'body/div[2]',\n",
       "  'citeType': 'scene'},\n",
       " {'identifier': 'body/div[2]/div[1]/stage[1]',\n",
       "  '@type': 'CitableUnit',\n",
       "  'extensions': {'@context': 'https://raw.githubusercontent.com/dracor-org/dracor-ontology/refs/heads/main/json-ld-contexts/dts-extension-context.json',\n",
       "   'snippet': 'Orest. Pylades.'},\n",
       "  'level': 4,\n",
       "  'parent': 'body/div[2]/div[1]',\n",
       "  'citeType': 'stage_direction'},\n",
       " {'identifier': 'body/div[2]/div[1]/sp[1]',\n",
       "  '@type': 'CitableUnit',\n",
       "  'extensions': {'@context': 'https://raw.githubusercontent.com/dracor-org/dracor-ontology/refs/heads/main/json-ld-contexts/dts-extension-context.json',\n",
       "   'speakers': ['orest'],\n",
       "   'snippet': 'Es ist der Weg des [...] Furcht.'},\n",
       "  'level': 4,\n",
       "  'parent': 'body/div[2]/div[1]',\n",
       "  'citeType': 'speech'},\n",
       " {'identifier': 'body/div[2]/div[1]/sp[2]',\n",
       "  '@type': 'CitableUnit',\n",
       "  'extensions': {'@context': 'https://raw.githubusercontent.com/dracor-org/dracor-ontology/refs/heads/main/json-ld-contexts/dts-extension-context.json',\n",
       "   'speakers': ['pylades'],\n",
       "   'snippet': 'Ich bin noch nicht, Orest, [...] wähnt.'},\n",
       "  'level': 4,\n",
       "  'parent': 'body/div[2]/div[1]',\n",
       "  'citeType': 'speech'},\n",
       " {'identifier': 'body/div[2]/div[1]/sp[3]',\n",
       "  '@type': 'CitableUnit',\n",
       "  'extensions': {'@context': 'https://raw.githubusercontent.com/dracor-org/dracor-ontology/refs/heads/main/json-ld-contexts/dts-extension-context.json',\n",
       "   'speakers': ['orest'],\n",
       "   'snippet': 'Des Lebens dunkle Decke breitete [...] –'},\n",
       "  'level': 4,\n",
       "  'parent': 'body/div[2]/div[1]',\n",
       "  'citeType': 'speech'}]"
      ]
     },
     "execution_count": 57,
     "metadata": {},
     "output_type": "execute_result"
    }
   ],
   "source": [
    "# list the scenes in the second act and include speeches and stage directions\n",
    "# We include only the first 6 items [0:5]\n",
    "\n",
    "resource = \"https://staging.dracor.org/id/ger000001\"\n",
    "ref = \"body/div[2]\"\n",
    "down = \"2\"\n",
    "request_url = f\"{api_base}dts/navigation?resource={resource}&ref={ref}&down={down}\"\n",
    "r = requests.get(request_url)\n",
    "response_data = r.json()\n",
    "# We restrict the output to the first five citeable units\n",
    "response_data[\"member\"][0:5]"
   ]
  },
  {
   "cell_type": "markdown",
   "id": "b5385658-0457-4c8b-bc01-5247bc7a360a",
   "metadata": {},
   "source": [
    "The citable units representing the individual speech acts include addtional DraCor-specific metadata in the `extensions` field:"
   ]
  },
  {
   "cell_type": "code",
   "execution_count": 58,
   "id": "f85cb049-0b2c-4dc4-ab7e-92affe4d9fdd",
   "metadata": {},
   "outputs": [
    {
     "data": {
      "text/plain": [
       "{'@context': 'https://raw.githubusercontent.com/dracor-org/dracor-ontology/refs/heads/main/json-ld-contexts/dts-extension-context.json',\n",
       " 'speakers': ['pylades'],\n",
       " 'snippet': 'Ich bin noch nicht, Orest, [...] wähnt.'}"
      ]
     },
     "execution_count": 58,
     "metadata": {},
     "output_type": "execute_result"
    }
   ],
   "source": [
    "response_data[\"member\"][3][\"extensions\"]"
   ]
  },
  {
   "cell_type": "markdown",
   "id": "40ecf12a-700e-4777-a3bd-a9b2a19d7e2c",
   "metadata": {},
   "source": [
    "The citable unit with the identifier (property `identifier`) of `body/div[2]/div[1]/sp[2]` as is shown in the example above, contains additional information on which character is speaking (property `speakers`) and includes a small portion of the text (property `snippet`). This text snippet consists of the first 5 word tokens of a speech, three dots to mark an elipsis and the last word token. The snippet can help to identify a certain speech that should be further referenced; the information on the speaking characters can allow for filtering for certain speeches by a character. "
   ]
  },
  {
   "cell_type": "markdown",
   "id": "758fbf68-046e-46d5-b450-843a984d4f93",
   "metadata": {},
   "source": [
    "Using the parameter `down` with a value of `-1` allows for retrieving all citable units in a certain segment of the text down to the lowest level of the citation tree. We can use to select a certain structural segment as the starting point (parameter `ref`) or don't include this parameter in the request to get all citable units of the whole play by providing the parameter `down` only.\n",
    "\n",
    "The following request will fetch all citable units of the play; we don't output them, but count them:"
   ]
  },
  {
   "cell_type": "code",
   "execution_count": 59,
   "id": "3db37dee-2b9c-4fbc-98f7-c00e6275d3ce",
   "metadata": {},
   "outputs": [
    {
     "name": "stdout",
     "output_type": "stream",
     "text": [
      "The API returned information on 354 citeable units.\n"
     ]
    }
   ],
   "source": [
    "# Get all citeable units of a play and count\n",
    "\n",
    "resource = \"https://staging.dracor.org/id/ger000001\"\n",
    "down = \"-1\"\n",
    "request_url = f\"{api_base}dts/navigation?resource={resource}&down={down}\"\n",
    "r = requests.get(request_url)\n",
    "response_data = r.json()\n",
    "\n",
    "# We only print the number of citeable units included in the play and don't output them\n",
    "num_citeable_units = len(response_data[\"member\"])\n",
    "print(f\"The API returned information on {num_citeable_units} citeable units.\")"
   ]
  },
  {
   "cell_type": "markdown",
   "id": "8978c13e-449b-4a19-9dc9-7831e0ea7cee",
   "metadata": {},
   "source": [
    "#### Using the Navigation endpoint for analysis\n",
    "\n",
    "We already argued that the `CitationTree` object can be repurposed to get information about the general structuring of a play, e.g. if a play is structured into acts only, or acts and scenes, if a play contains a dramatis personae in the front matter, and so on. The reliability of these information depends on the implementation of the functionality that computes the `CitationTree` based on the combination of TEI-XML elements like `<div>` and certain attributes (for details see the code of the implementation, esp. the xQuery function [`local:generate-citeStructure`](https://github.com/dracor-org/dracor-api/blob/a8ec727c13b3a8d43da298b77ac989572c5c20a4/modules/dts.xqm#L719-L870) which includes a lot hof hard-coded logic).\n",
    "\n",
    "The endpoints of the regular DraCor API already provide some information about the segmentation of a play. Foremost it is the count based metrics that provide insight into the number of acts and segments a play is divided into (API Feature P37 [play_num_of_segments](https://staging.dracor.org/doc/odd#play_num_of_segments), API Feature P38 [play_num_of_acts](https://staging.dracor.org/doc/odd#play_num_of_acts)). These information is not provided by endpoints that return information on an individual play like `api/v1/corpora/{corpusname}/play/{playname}` or `api/v1/corpora/{corpusname}/play/{playname}/metrics` but needs to be extracted from the “metadata table” of a corpus or from the list of plays included in the response of the endpoint `api/v1/corpora/{corpusname}/metadata`. For the *German Drama Corpus* the data can be retrieved via \n",
    "\n",
    "[https://staging.dracor.org/api/v1/corpora/ger/metadata/csv](https://staging.dracor.org/api/v1/corpora/ger/metadata/csv)\n",
    "\n",
    "The data returned by `api/v1/corpora/{corpusname}/plays/{playname}` includes a JSON array in the field with the key `segments` that lists the individual structural segments that are the basis for generating the co-presence networks. To get this data for the play “Iphigenie auf Tauris” the following request URL can be used:\n",
    "\n",
    "[https://staging.dracor.org/api/v1/corpora/ger/plays/goethe-iphigenie-auf-tauris](https://staging.dracor.org/api/v1/corpora/ger/plays/goethe-iphigenie-auf-tauris)\n",
    "\n",
    "By combining the information gathered from requests to both endpoints mentioned above for the given play, a user can find out the following:\n",
    "\n",
    "* there are \"acts\" in the play, because the value of the feature `play_num_of_acts` is greater than `0` or not `null`,\n",
    "* the play is divided into 5 acts,\n",
    "* there are 20 segments in the play,\n",
    "* these segments are of the type \"scene\", and,\n",
    "* which character(s) are speaking in which of these segments.\n",
    "\n",
    "With some string analyzing it would be possible to retrieve the information which segment is included in which act because the values of title are constructed following the pattern `{title of act} | {title of scene}` relying on the text content of the element `<tei:head>` in the TEI-XML source.\n",
    "\n",
    "The same information can be retrieved by the DTS API using the Navigation endpoint. If some client side filtering logic is applied later on it is sufficient to make a single request to the API at\n",
    "\n",
    "[https://staging.dracor.org/api/v1/dts/navigation?resource=https://staging.dracor.org/id/ger000001&ref=body&down=-1](https://staging.dracor.org/api/v1/dts/navigation?resource=https://staging.dracor.org/id/ger000001&ref=body&down=-1)\n",
    "\n",
    "The code cells below demonstrate how this information can be retrieved via the regular API endpoints and compare the performance to retrieving it via the DTS Navigation endpoint. \n",
    "\n",
    "First, the regular API approach. The operation time can be determined using the cell magic `%%time`. "
   ]
  },
  {
   "cell_type": "code",
   "execution_count": 60,
   "id": "e5c7ab17-76c9-4b9d-b539-37f1f7e19b87",
   "metadata": {},
   "outputs": [
    {
     "name": "stdout",
     "output_type": "stream",
     "text": [
      "CPU times: user 33.2 ms, sys: 7.13 ms, total: 40.4 ms\n",
      "Wall time: 40.1 s\n"
     ]
    }
   ],
   "source": [
    "%%time\n",
    "\n",
    "# Regular API approach\n",
    "\n",
    "# Get the metadata on all plays in the German Drama Corpus. \n",
    "# This is a JSON serialization of the Metadata table (https://staging.dracor.org/api/v1/corpora/ger/metadata/csv)\n",
    "\n",
    "request_url = \"https://staging.dracor.org/api/v1/corpora/ger/metadata\"\n",
    "r = requests.get(request_url)\n",
    "gerdracor_data = r.json()\n",
    "\n",
    "# we need to filter all plays for a play with the playname \"goethe-iphigenie-auf-tauris\". \n",
    "# The filtering returns a list. We know there is only one play, so we take the first (and only) item.\n",
    "iphigenie_metadata = list(filter(lambda play: play[\"name\"] == \"goethe-iphigenie-auf-tauris\", gerdracor_data))[0]"
   ]
  },
  {
   "cell_type": "code",
   "execution_count": 61,
   "id": "c233b1a0-5ba2-4536-85d1-ecd2aca8770a",
   "metadata": {},
   "outputs": [
    {
     "name": "stdout",
     "output_type": "stream",
     "text": [
      "Number of acts: 5\n",
      "Number of segments: 20\n"
     ]
    }
   ],
   "source": [
    "#iphigenie_metadata\n",
    "print(f\"Number of acts: {iphigenie_metadata[\"numOfActs\"]}\")\n",
    "print(f\"Number of segments: {iphigenie_metadata[\"numOfSegments\"]}\")"
   ]
  },
  {
   "cell_type": "markdown",
   "id": "bc971483-bb74-4430-91a4-b466d76dc3d5",
   "metadata": {},
   "source": [
    "There is already some overhead of retrieving the information. For a reasonably big corpus as the *German Drama Corpus*, we need to fetch the data of all included plays (which takes some time, in this case almost 40 seconds) and then use some sort of filtering mechanism to just get the data on the single play."
   ]
  },
  {
   "cell_type": "markdown",
   "id": "1b642b39-bde4-49a5-8dbc-cd935640f54c",
   "metadata": {},
   "source": [
    "As has been said, the endpoint `corpora/{corpusname}/plays/{playname}` (see [API Documentation](https://staging.dracor.org/doc/api#/public/play-info)) includes a JSON array in the field `segments` that lists the individual structural segments that are the basis for generating the co-presence networks.\n",
    "\n",
    "The following code cell retrieves this information for the play \"Goethe: Iphigenie auf Tauris\" via the regular API:"
   ]
  },
  {
   "cell_type": "code",
   "execution_count": 62,
   "id": "6cf2001d-22fe-4e35-acb5-4d343fecb560",
   "metadata": {},
   "outputs": [
    {
     "name": "stdout",
     "output_type": "stream",
     "text": [
      "CPU times: user 11 ms, sys: 3.37 ms, total: 14.3 ms\n",
      "Wall time: 208 ms\n"
     ]
    }
   ],
   "source": [
    "%%time\n",
    "\n",
    "request_url = \"https://staging.dracor.org/api/v1/corpora/ger/plays/goethe-iphigenie-auf-tauris\"\n",
    "r = requests.get(request_url)\n",
    "api_response_data = r.json()\n",
    "api_segments = api_response_data[\"segments\"]"
   ]
  },
  {
   "cell_type": "code",
   "execution_count": 63,
   "id": "92fdca2b-e609-439a-ad6e-78e205f64dde",
   "metadata": {},
   "outputs": [
    {
     "data": {
      "text/plain": [
       "[{'type': 'scene',\n",
       "  'title': 'Erster Aufzug | Erster Auftritt',\n",
       "  'speakers': ['iphigenie'],\n",
       "  'number': 1},\n",
       " {'type': 'scene',\n",
       "  'title': 'Erster Aufzug | Zweiter Auftritt',\n",
       "  'speakers': ['arkas', 'iphigenie'],\n",
       "  'number': 2},\n",
       " {'type': 'scene',\n",
       "  'title': 'Erster Aufzug | Dritter Auftritt',\n",
       "  'speakers': ['iphigenie', 'thoas'],\n",
       "  'number': 3},\n",
       " {'type': 'scene',\n",
       "  'title': 'Erster Aufzug | Vierter Auftritt',\n",
       "  'speakers': ['iphigenie'],\n",
       "  'number': 4}]"
      ]
     },
     "execution_count": 63,
     "metadata": {},
     "output_type": "execute_result"
    }
   ],
   "source": [
    "# Output the first five segments included\n",
    "api_segments[0:4]"
   ]
  },
  {
   "cell_type": "code",
   "execution_count": 64,
   "id": "70422c12-18dc-4a42-bfd1-78959f4ff288",
   "metadata": {},
   "outputs": [
    {
     "name": "stdout",
     "output_type": "stream",
     "text": [
      "There are 20 segments in the play.\n"
     ]
    }
   ],
   "source": [
    "# Test if the number of segments as returned by the metadata endpoint is the same as the count of the segments included in the response above\n",
    "assert len(api_segments) == iphigenie_metadata[\"numOfSegments\"], \"The numbers of segments returned by the API do not match.\"\n",
    "\n",
    "print(f\"There are {len(api_segments)} segments in the play.\")"
   ]
  },
  {
   "cell_type": "markdown",
   "id": "adf7a45a-7ba8-4ac1-8f10-3399be3e6c5f",
   "metadata": {},
   "source": [
    "The same information can be retrieved by the DTS API using the Navigation endpoint, as is demonstrated in the following cells. If some client side filtering logic is applied later on it is sufficient to make a single request to the API:"
   ]
  },
  {
   "cell_type": "code",
   "execution_count": 65,
   "id": "8a7625a8-f945-4e2c-9614-58375bb406ba",
   "metadata": {},
   "outputs": [
    {
     "name": "stdout",
     "output_type": "stream",
     "text": [
      "CPU times: user 14.5 ms, sys: 4.13 ms, total: 18.6 ms\n",
      "Wall time: 1.15 s\n"
     ]
    }
   ],
   "source": [
    "%%time\n",
    "# Get all citeable units in the body of a play \n",
    "resource = \"https://staging.dracor.org/id/ger000001\"\n",
    "ref = \"body\"\n",
    "down = \"-1\"\n",
    "request_url = f\"{api_base}dts/navigation?resource={resource}&ref={ref}&down={down}\"\n",
    "r = requests.get(request_url)\n",
    "response_data = r.json()\n",
    "# We only print the number of citeable units included in the play and don't output them\n",
    "citeable_units = response_data[\"member\"]"
   ]
  },
  {
   "cell_type": "code",
   "execution_count": 66,
   "id": "1554e099-19bb-41ea-9cab-f20db8391af3",
   "metadata": {},
   "outputs": [
    {
     "data": {
      "text/plain": [
       "[{'identifier': 'body/div[1]',\n",
       "  '@type': 'CitableUnit',\n",
       "  'dublinCore': {'title': 'Erster Aufzug'},\n",
       "  'level': 2,\n",
       "  'parent': 'body',\n",
       "  'citeType': 'act'},\n",
       " {'identifier': 'body/div[1]/div[1]',\n",
       "  '@type': 'CitableUnit',\n",
       "  'dublinCore': {'title': 'Erster Auftritt'},\n",
       "  'level': 3,\n",
       "  'parent': 'body/div[1]',\n",
       "  'citeType': 'scene'},\n",
       " {'identifier': 'body/div[1]/div[1]/sp[1]',\n",
       "  '@type': 'CitableUnit',\n",
       "  'extensions': {'@context': 'https://raw.githubusercontent.com/dracor-org/dracor-ontology/refs/heads/main/json-ld-contexts/dts-extension-context.json',\n",
       "   'speakers': ['iphigenie'],\n",
       "   'snippet': 'Heraus in eure Schatten, rege [...] Tode!'},\n",
       "  'level': 4,\n",
       "  'parent': 'body/div[1]/div[1]',\n",
       "  'citeType': 'speech'},\n",
       " {'identifier': 'body/div[1]/div[2]',\n",
       "  '@type': 'CitableUnit',\n",
       "  'dublinCore': {'title': 'Zweiter Auftritt'},\n",
       "  'level': 3,\n",
       "  'parent': 'body/div[1]',\n",
       "  'citeType': 'scene'}]"
      ]
     },
     "execution_count": 66,
     "metadata": {},
     "output_type": "execute_result"
    }
   ],
   "source": [
    "# display the first 5 citeable units\n",
    "citeable_units[0:4]"
   ]
  },
  {
   "cell_type": "markdown",
   "id": "32f42702-a704-45d1-9282-da1fd1ed64dc",
   "metadata": {},
   "source": [
    "To get the acts and segments (in this case \"scenes\") we need two lambda functions that could be used in filtering:"
   ]
  },
  {
   "cell_type": "code",
   "execution_count": 67,
   "id": "160903ca-015a-416c-919d-ecfdc031d53f",
   "metadata": {},
   "outputs": [
    {
     "name": "stdout",
     "output_type": "stream",
     "text": [
      "There are 5 acts and 20 scenes (segments).\n"
     ]
    }
   ],
   "source": [
    "act_filter = lambda citeable_unit: citeable_unit[\"citeType\"] == \"act\"\n",
    "scene_filter = lambda citeable_unit: citeable_unit[\"citeType\"] == \"scene\"\n",
    "\n",
    "dts_acts = list(filter(act_filter, citeable_units))\n",
    "dts_scenes = list(filter(scene_filter, citeable_units))\n",
    "\n",
    "print(f\"There are {len(dts_acts)} acts and {len(dts_scenes)} scenes (segments).\")"
   ]
  },
  {
   "cell_type": "markdown",
   "id": "5e1de525-a51d-4f52-9b6e-a3d19f857e82",
   "metadata": {},
   "source": [
    "We can check if the data returned from the regular API endpoints and the DTS API matches:"
   ]
  },
  {
   "cell_type": "code",
   "execution_count": 68,
   "id": "88dd74a7-6c96-4179-a154-af4600ab42d6",
   "metadata": {},
   "outputs": [],
   "source": [
    "# check if these are the same values\n",
    "# This should not throw an assertion error\n",
    "assert len(dts_acts) == iphigenie_metadata[\"numOfActs\"], \"The number of acts does not match.\"\n",
    "assert len(dts_scenes) == iphigenie_metadata[\"numOfSegments\"], \"The number of segments does not match.\""
   ]
  },
  {
   "cell_type": "markdown",
   "id": "74c3ff87-bc70-41c6-a25b-f7f3673d5da5",
   "metadata": {},
   "source": [
    "The following code cells display the first scene retrieved from the regular API endpoint and the citeable unit retrieved from the DTS Navigation endpoint:"
   ]
  },
  {
   "cell_type": "code",
   "execution_count": 69,
   "id": "8740f19f-d6e9-46c0-8d4c-6944316f6450",
   "metadata": {},
   "outputs": [
    {
     "data": {
      "text/plain": [
       "{'type': 'scene',\n",
       " 'title': 'Erster Aufzug | Erster Auftritt',\n",
       " 'speakers': ['iphigenie'],\n",
       " 'number': 1}"
      ]
     },
     "execution_count": 69,
     "metadata": {},
     "output_type": "execute_result"
    }
   ],
   "source": [
    "# First Segment via regular API\n",
    "api_segments[0]"
   ]
  },
  {
   "cell_type": "code",
   "execution_count": 70,
   "id": "2a1b895a-0688-4910-8837-f2f4c29ef82c",
   "metadata": {},
   "outputs": [
    {
     "data": {
      "text/plain": [
       "{'identifier': 'body/div[1]/div[1]',\n",
       " '@type': 'CitableUnit',\n",
       " 'dublinCore': {'title': 'Erster Auftritt'},\n",
       " 'level': 3,\n",
       " 'parent': 'body/div[1]',\n",
       " 'citeType': 'scene'}"
      ]
     },
     "execution_count": 70,
     "metadata": {},
     "output_type": "execute_result"
    }
   ],
   "source": [
    "# Same segment as citeable unit\n",
    "dts_scenes[0]"
   ]
  },
  {
   "cell_type": "markdown",
   "id": "9f574651-d0d4-422f-a69c-2fb7c64d0be5",
   "metadata": {},
   "source": [
    "The data included in the segment returned by regular the API can also be retrieved via the DTS endpoint: The value of the property `number` (see API Feature [segment_number](https://staging.dracor.org/doc/odd#segment_number)) can is the position of the element in the list `dts_scenes` that was extracted from the Navigation response. We can write that information into the dictionary (as a property of the extensions object), if necessary (see `segment_number`):"
   ]
  },
  {
   "cell_type": "code",
   "execution_count": 71,
   "id": "b3d83d6a-b364-4491-87fc-bcd2429b9f27",
   "metadata": {},
   "outputs": [],
   "source": [
    "for index, item in enumerate(dts_scenes):\n",
    "    # we need to create the extensions object in each scene\n",
    "    item[\"extensions\"] = {}\n",
    "    item[\"extensions\"][\"segment_number\"] = index + 1"
   ]
  },
  {
   "cell_type": "code",
   "execution_count": 72,
   "id": "90cc5253-2214-4ef7-acdd-43d2ffc4ff38",
   "metadata": {},
   "outputs": [
    {
     "data": {
      "text/plain": [
       "{'identifier': 'body/div[1]/div[1]',\n",
       " '@type': 'CitableUnit',\n",
       " 'dublinCore': {'title': 'Erster Auftritt'},\n",
       " 'level': 3,\n",
       " 'parent': 'body/div[1]',\n",
       " 'citeType': 'scene',\n",
       " 'extensions': {'segment_number': 1}}"
      ]
     },
     "execution_count": 72,
     "metadata": {},
     "output_type": "execute_result"
    }
   ],
   "source": [
    "dts_scenes[0]"
   ]
  },
  {
   "cell_type": "markdown",
   "id": "18659341-1bef-4509-aed9-a88166f5a2b2",
   "metadata": {},
   "source": [
    "In the following code cells the speaker information is retrieved and added. We use a scene with multiple speakers as the example:"
   ]
  },
  {
   "cell_type": "code",
   "execution_count": 73,
   "id": "41b90f8f-ccd4-45ce-905e-f072a4f88723",
   "metadata": {},
   "outputs": [
    {
     "data": {
      "text/plain": [
       "{'type': 'scene',\n",
       " 'title': 'Fünfter Aufzug | Fünfter Auftritt',\n",
       " 'speakers': ['pylades', 'arkas', 'thoas', 'orest'],\n",
       " 'number': 19}"
      ]
     },
     "execution_count": 73,
     "metadata": {},
     "output_type": "execute_result"
    }
   ],
   "source": [
    "# Use a scene with several characters as the next example:\n",
    "api_segments[18]"
   ]
  },
  {
   "cell_type": "code",
   "execution_count": 74,
   "id": "cc10f525-199b-46b9-b98d-c7ff31d454ae",
   "metadata": {},
   "outputs": [
    {
     "data": {
      "text/plain": [
       "{'identifier': 'body/div[5]/div[5]',\n",
       " '@type': 'CitableUnit',\n",
       " 'dublinCore': {'title': 'Fünfter Auftritt'},\n",
       " 'level': 3,\n",
       " 'parent': 'body/div[5]',\n",
       " 'citeType': 'scene',\n",
       " 'extensions': {'segment_number': 19}}"
      ]
     },
     "execution_count": 74,
     "metadata": {},
     "output_type": "execute_result"
    }
   ],
   "source": [
    "# the same data in the DTS example:\n",
    "dts_scenes[18]"
   ]
  },
  {
   "cell_type": "markdown",
   "id": "9e0a3eda-cd0c-4b67-9c2c-bfad121c9ceb",
   "metadata": {},
   "source": [
    "The speakers must be aggregated from the individual character identifiers listed in the `speakers` property of each citable unit representing a speech act. We can either use all citable units already downloaded, or, as is demonstrated in the next cell, use the DTS API to get this information in separate API calls (which, obviously, is slower). The following cell demonstrates this for the 19th segment (\"Fünfter Aufzug | Fünfter Auftritt\" [Fifth act | Fifth scene]) with the identifier `body/div[5]/div[5]` (used as value of the parameter `ref`):"
   ]
  },
  {
   "cell_type": "code",
   "execution_count": 75,
   "id": "85ca1577-82fb-41ac-8148-5b13fe3522f6",
   "metadata": {},
   "outputs": [],
   "source": [
    "# Get all citeable units in scene 5 of act 5\n",
    "resource = \"https://staging.dracor.org/id/ger000001\"\n",
    "ref = \"body/div[5]/div[5]\"\n",
    "down = \"1\" # one level down are the speech acts and stage directions\n",
    "request_url = f\"{api_base}dts/navigation?resource={resource}&ref={ref}&down={down}\"\n",
    "r = requests.get(request_url)\n",
    "response_data = r.json()\n",
    "\n",
    "dts_distinct_speakers = []\n",
    "for item in response_data[\"member\"]:\n",
    "    if item[\"citeType\"] == \"speech\":\n",
    "       for speaker in item[\"extensions\"][\"speakers\"]:\n",
    "           if speaker not in dts_distinct_speakers:\n",
    "               dts_distinct_speakers.append(speaker)"
   ]
  },
  {
   "cell_type": "code",
   "execution_count": 76,
   "id": "ce118645-d1da-40ca-ac8e-8bafb4321cf4",
   "metadata": {},
   "outputs": [
    {
     "data": {
      "text/plain": [
       "['pylades', 'arkas', 'thoas', 'orest']"
      ]
     },
     "execution_count": 76,
     "metadata": {},
     "output_type": "execute_result"
    }
   ],
   "source": [
    "dts_distinct_speakers"
   ]
  },
  {
   "cell_type": "code",
   "execution_count": 77,
   "id": "edc7535e-f5e8-4a76-aec3-223516f150cb",
   "metadata": {},
   "outputs": [],
   "source": [
    "# This should not throw an assertion error:\n",
    "assert dts_distinct_speakers == api_segments[18][\"speakers\"], \"The speakers don't match.\""
   ]
  },
  {
   "cell_type": "markdown",
   "id": "61b8a168-cce1-4762-bdad-d17d8a53b041",
   "metadata": {},
   "source": [
    "The data on the speakers that can be retrieved via the DTS Navigation endpoint matches the information that is returned by the regular DraCor API endpoint. The last information that is included in the response of the `corpora/{corpusname}/plays/{playname}` endpoint is the constructed title. In case of the segment used as an example above it is `'Fünfter Aufzug | Fünfter Auftritt'`. \n",
    "This value can be constructed when evaluating the title information included in the Dublin Core `MetadataObject` of the current citable unit and combined with the title of the parent citable unit. Because we have the information on the parent present, it is not difficult to retrieve this data via the DTS API. \n",
    "\n",
    "This is done in the following code cells:"
   ]
  },
  {
   "cell_type": "code",
   "execution_count": 78,
   "id": "2c74ebd5-4b26-4800-9550-2ed8ed63b3f0",
   "metadata": {},
   "outputs": [
    {
     "name": "stdout",
     "output_type": "stream",
     "text": [
      "The title of the citable unit is: Fünfter Auftritt\n",
      "The ID of the parent citable unit is: body/div[5]\n",
      "The title of the parent is: Fünfter Aufzug\n",
      "The constructed title is: Fünfter Aufzug | Fünfter Auftritt\n"
     ]
    }
   ],
   "source": [
    "scene_title = dts_scenes[18][\"dublinCore\"][\"title\"]\n",
    "\n",
    "print(f\"The title of the citable unit is: {scene_title}\")\n",
    "print(f\"The ID of the parent citable unit is: {dts_scenes[18][\"parent\"]}\")\n",
    "\n",
    "# Get the parent:\n",
    "resource = \"https://staging.dracor.org/id/ger000001\"\n",
    "# Use the identifier of the parent in the field `parent`\n",
    "ref = dts_scenes[18][\"parent\"]\n",
    "# parameter down is not needed, because we intend to retrieve the object linked to by ref from the Navigation object\n",
    "request_url = f\"{api_base}dts/navigation?resource={resource}&ref={ref}\"\n",
    "r = requests.get(request_url)\n",
    "response_data = r.json()\n",
    "\n",
    "parent = response_data[\"ref\"]\n",
    "parent_title = parent[\"dublinCore\"][\"title\"]\n",
    "print(f\"The title of the parent is: {parent_title}\")\n",
    "\n",
    "# Construct the title as is returned in the response of the DraCor API corpora/{corpusname}/plays/{playname} endpoint\n",
    "constructed_segment_title = f\"{parent_title} | {scene_title}\"\n",
    "\n",
    "# Test if the titles match\n",
    "# This should not trow an assertion error!\n",
    "assert constructed_segment_title == api_segments[18][\"title\"], \"Titles do not match.\"\n",
    "\n",
    "print(f\"The constructed title is: {constructed_segment_title}\")"
   ]
  },
  {
   "cell_type": "markdown",
   "id": "e05acbd2-8f8e-48b9-8fa0-738a93cb9832",
   "metadata": {},
   "source": [
    "The examples above demonstrated that it is possible to retrieve the information on the structuring of a play returned by various endpoints of the DraCor API using the DTS Navigation endpoint. The functionalities of the endpoints complement each other, and, while the results are the same, the means of getting them differ greatly in performance and amount of necessary client-side post-processing. \n",
    "\n",
    "Depending on the endpoint and the strategy choosen different perfomances are possible. In general, fetching data from the API is more resource intensive and, in some cases, takes a long time. For example, when a user wants to get the infomation on the number of acts and scenes of a single play only, getting this information from the `corpora/{corpusname}` endpoint took almost 40 seconds. This is because the endpoint returns data on the whole corpus. In contrast, fetching the data from the DTS Navigation endpoint took only 1.5 seconds, but produces an overhead client side because the values need to be computed afterwards.\n",
    "\n",
    "In other cases, retrieving the same information from the DTS Navigation endpoint was realized by issuing multiple calls to the API, e.g. when retrieving and producing the same information on the segments of a play that is aleady returned ready to use from the `corpora/{corpusname}/plays/{playname}` endpoint. The same segment information can also be generated client-side based on a single API call, i.e. [https://staging.dracor.org/api/v1/dts/navigation?resource=https://staging.dracor.org/id/ger000001&down=-1](https://staging.dracor.org/api/v1/dts/navigation?resource=https://staging.dracor.org/id/ger000001&down=-1), but makes some data wrangling necessary:"
   ]
  },
  {
   "cell_type": "code",
   "execution_count": 79,
   "id": "ba949649-75c8-4ef1-9b3f-6a6339a40cd2",
   "metadata": {},
   "outputs": [
    {
     "name": "stdout",
     "output_type": "stream",
     "text": [
      "https://staging.dracor.org/api/v1/dts/navigation?resource=https://staging.dracor.org/id/ger000001&down=-1\n",
      "There are 5 acts and 20 scenes (segments).\n",
      "CPU times: user 10.2 ms, sys: 3.34 ms, total: 13.5 ms\n",
      "Wall time: 1.14 s\n"
     ]
    }
   ],
   "source": [
    "%%time\n",
    "\n",
    "# Get all citable units:\n",
    "resource = \"https://staging.dracor.org/id/ger000001\"\n",
    "down = \"-1\" \n",
    "request_url = f\"{api_base}dts/navigation?resource={resource}&down={down}\"\n",
    "print(request_url)\n",
    "r = requests.get(request_url)\n",
    "response_data = r.json()\n",
    "citable_units = response_data[\"member\"]\n",
    "\n",
    "# Set up a list that will hold the constructed dictionaries\n",
    "# that resemble the data returned by the regular API\n",
    "api_like_segments = []\n",
    "\n",
    "citable_unit_counter = 0\n",
    "\n",
    "for citable_unit in citable_units:\n",
    "    # Do this for scenes!\n",
    "    if citable_unit[\"citeType\"] == \"scene\":\n",
    "        citable_unit_counter += 1\n",
    "        # initialize empty dictionary = segment\n",
    "        segment = {}\n",
    "        # set the property type\n",
    "        segment[\"type\"] = \"scene\"\n",
    "        # add the property number\n",
    "        segment[\"number\"] = citable_unit_counter\n",
    "\n",
    "        # There is a bug in the DTS API, which I still have to fix, see\n",
    "        # https://github.com/dracor-org/dracor-api/issues/298\n",
    "        # When there is only one element in member, it is acutally not a list\n",
    "        # construct the title by getting the parent\n",
    "        parent_citable_unit = list(filter(lambda item: item[\"identifier\"] == citable_unit[\"parent\"] , citable_units))[0]\n",
    "        parent_title = parent_citable_unit[\"dublinCore\"][\"title\"]\n",
    "        #print(parent_title)\n",
    "        self_title = citable_unit[\"dublinCore\"][\"title\"]\n",
    "        segment_title = f\"{parent_title} | {self_title}\"\n",
    "\n",
    "        segment[\"title\"] = segment_title\n",
    "\n",
    "        # get the speakers\n",
    "        # first compile a list of all children speeches:\n",
    "        children_speeches = list(filter(lambda item: (item[\"parent\"] == citable_unit[\"identifier\"] and item[\"citeType\"] == \"speech\") , citable_units))\n",
    "        distinct_speakers = []\n",
    "\n",
    "        for child in children_speeches:\n",
    "            for speaker in child[\"extensions\"][\"speakers\"]:\n",
    "                if speaker not in distinct_speakers:\n",
    "                    distinct_speakers.append(speaker)\n",
    "\n",
    "        segment[\"speakers\"] = distinct_speakers\n",
    "\n",
    "        api_like_segments.append(segment)\n",
    "\n",
    "act_filter = lambda citable_unit: citable_unit[\"citeType\"] == \"act\"\n",
    "scene_filter = lambda citable_unit: citable_unit[\"citeType\"] == \"scene\"\n",
    "\n",
    "dts_acts = list(filter(act_filter, citable_units))\n",
    "dts_scenes = list(filter(scene_filter, citable_units))\n",
    "\n",
    "print(f\"There are {len(dts_acts)} acts and {len(dts_scenes)} scenes (segments).\")"
   ]
  },
  {
   "cell_type": "code",
   "execution_count": 80,
   "id": "30a7dfdf-890e-4393-8b23-7a54bebc8550",
   "metadata": {},
   "outputs": [
    {
     "data": {
      "text/plain": [
       "[{'type': 'scene',\n",
       "  'number': 1,\n",
       "  'title': 'Erster Aufzug | Erster Auftritt',\n",
       "  'speakers': ['iphigenie']},\n",
       " {'type': 'scene',\n",
       "  'number': 2,\n",
       "  'title': 'Erster Aufzug | Zweiter Auftritt',\n",
       "  'speakers': ['arkas', 'iphigenie']},\n",
       " {'type': 'scene',\n",
       "  'number': 3,\n",
       "  'title': 'Erster Aufzug | Dritter Auftritt',\n",
       "  'speakers': ['iphigenie', 'thoas']}]"
      ]
     },
     "execution_count": 80,
     "metadata": {},
     "output_type": "execute_result"
    }
   ],
   "source": [
    "# Output some of the constructed regular API-like segments\n",
    "api_like_segments[0:3]"
   ]
  },
  {
   "cell_type": "markdown",
   "id": "c53b9a16-4270-46b4-9936-f58bfec68324",
   "metadata": {},
   "source": [
    "Using DTS generating the segment and the count-based measures takes 1.35 seconds altogether and includes only a single API call to the Navigation endpoint. Relying on the regular API endpoints, retrieving information on the number of acts as well as the individual segment information involves two API calls, of which one alone takes approx. 40 seconds."
   ]
  },
  {
   "cell_type": "markdown",
   "id": "6075d3c9-9c27-491c-968a-58c33cf9eaa3",
   "metadata": {},
   "source": [
    "Because the data returned Navigation endpoint include rich information on a play's structure, it can be used to produce information on the internal structure of individual parts of a play. The following code snippets demonstrate this:"
   ]
  },
  {
   "cell_type": "code",
   "execution_count": 81,
   "id": "1ef2048d-cbb5-46c6-a1e6-447943a9abe9",
   "metadata": {},
   "outputs": [
    {
     "name": "stdout",
     "output_type": "stream",
     "text": [
      "How many scenes are there in the third act?\n",
      "There are 3 scenes.\n"
     ]
    }
   ],
   "source": [
    "print(\"How many scenes are there in the third act?\")\n",
    "\n",
    "# How many scenes are there in the third act (ref=body/div[3])\n",
    "# Get all citeable units:\n",
    "resource = \"https://staging.dracor.org/id/ger000001\"\n",
    "ref = \"body/div[3]\"\n",
    "down = \"1\" \n",
    "request_url = f\"{api_base}dts/navigation?resource={resource}&ref={ref}&down={down}\"\n",
    "r = requests.get(request_url)\n",
    "response_data = r.json()\n",
    "# these are probably the scenes already, but in theory, there could be a stage direction as well\n",
    "citable_units = response_data[\"member\"]\n",
    "\n",
    "scene_filter = lambda citable_unit: citable_unit[\"citeType\"] == \"scene\"\n",
    "scenes = list(filter(scene_filter, citable_units))\n",
    "\n",
    "print(f\"There are {len(scenes)} scenes.\")"
   ]
  },
  {
   "cell_type": "code",
   "execution_count": 82,
   "id": "ab7370ff-43fc-4f52-a4f0-ba093de64a2f",
   "metadata": {},
   "outputs": [
    {
     "name": "stdout",
     "output_type": "stream",
     "text": [
      "How many stage directions are there in the third act?\n",
      "There are 8 stage directions.\n"
     ]
    }
   ],
   "source": [
    "print(\"How many stage directions are there in the third act?\")\n",
    "\n",
    "# How many scenes are there in the third act (ref=body/div[3])\n",
    "# Get all citable units:\n",
    "resource = \"https://staging.dracor.org/id/ger000001\"\n",
    "ref = \"body/div[3]\"\n",
    "down = \"-1\" \n",
    "request_url = f\"{api_base}dts/navigation?resource={resource}&ref={ref}&down={down}\"\n",
    "r = requests.get(request_url)\n",
    "response_data = r.json()\n",
    "# these are probably the scenes already, but in theory, there could be a stage direction as well\n",
    "citable_units = response_data[\"member\"]\n",
    "\n",
    "stage_direction_filter = lambda citable_unit: citable_unit[\"citeType\"] == \"stage_direction\"\n",
    "stage_directions = list(filter(stage_direction_filter, citable_units))\n",
    "\n",
    "print(f\"There are {len(stage_directions)} stage directions.\")"
   ]
  },
  {
   "cell_type": "code",
   "execution_count": 83,
   "id": "3502c1aa-ff71-45be-81b2-f188d981d76a",
   "metadata": {},
   "outputs": [
    {
     "data": {
      "text/plain": [
       "{'identifier': 'body/div[3]/div[1]/stage[1]',\n",
       " '@type': 'CitableUnit',\n",
       " 'extensions': {'@context': 'https://raw.githubusercontent.com/dracor-org/dracor-ontology/refs/heads/main/json-ld-contexts/dts-extension-context.json',\n",
       "  'snippet': 'Iphigenie. Orest.'},\n",
       " 'level': 4,\n",
       " 'parent': 'body/div[3]/div[1]',\n",
       " 'citeType': 'stage_direction'}"
      ]
     },
     "execution_count": 83,
     "metadata": {},
     "output_type": "execute_result"
    }
   ],
   "source": [
    "# an example of a stage direction\n",
    "stage_directions[0]"
   ]
  },
  {
   "cell_type": "markdown",
   "id": "650ea348-9b0f-4ee8-b1a3-c3905ce045bb",
   "metadata": {},
   "source": [
    "The stage directions that are included inside the spoken text (xPath: `//sp[.//stage]`) are not adressable via the DraCor DTS implementation. \n",
    "\n",
    "See the TEI example below including two types of stage directions: a separate stage direction including the names of the characters (`<stage>Iphigenie. Pylades.</stage>`), followed by a speech act with an \"inline\" stage direction, that can't be addressed (`<stage>Sie nimmt ihm die Ketten ab.</stage>`):\n",
    "\n",
    "```xml\n",
    "<stage>Iphigenie. Pylades.</stage>\n",
    "<sp who=\"#iphigenie\">\n",
    "  <speaker>IPHIGENIE.</speaker>\n",
    "  <lg>\n",
    "    <l>Woher du seist und kommst, o Fremdling, sprich!</l>\n",
    "    <l>Mir scheint es, daß ich eher einem Griechen</l>\n",
    "    <l>Als einem Skythen dich vergleichen soll.</l>\n",
    "  </lg>\n",
    "  <stage>Sie nimmt ihm die Ketten ab.</stage>\n",
    "  <lg>\n",
    "    <l>Gefährlich ist die Freiheit, die ich gebe;</l>\n",
    "    <l>Die Götter wenden ab, was euch bedroht!</l>\n",
    "  </lg>\n",
    "</sp>\n",
    "```\n",
    "\n",
    "Unsing the DTS Navigation endpoint at https://staging.dracor.org/api/v1/dts/navigation?resource=https://staging.dracor.org/id/ger000001&down=-1 and searching (Strg+F) for the string `Woher du seist und kommst` allows to find the `snippet` of citeable unit with the identifier `body/div[2]/div[2]/sp[1]` (https://staging.dracor.org/api/v1/dts/navigation?resource=https://staging.dracor.org/id/ger000001&ref=body/div[2]/div[2]/sp[1]). "
   ]
  },
  {
   "cell_type": "code",
   "execution_count": 84,
   "id": "1d8ecd30-0067-463c-975a-c0ae441b1509",
   "metadata": {},
   "outputs": [
    {
     "data": {
      "text/plain": [
       "[{'identifier': 'body/div[2]/div[2]/sp[1]',\n",
       "  '@type': 'CitableUnit',\n",
       "  'extensions': {'@context': 'https://raw.githubusercontent.com/dracor-org/dracor-ontology/refs/heads/main/json-ld-contexts/dts-extension-context.json',\n",
       "   'speakers': ['iphigenie'],\n",
       "   'snippet': 'Woher du seist und kommst, [...] bedroht!'},\n",
       "  'level': 4,\n",
       "  'parent': 'body/div[2]/div[2]',\n",
       "  'citeType': 'speech'}]"
      ]
     },
     "execution_count": 84,
     "metadata": {},
     "output_type": "execute_result"
    }
   ],
   "source": [
    "# We can also code that \"searches\" by filtering on the snippet; we re-use the citable units (citable_units)\n",
    "snippet_search_string = \"Woher du seist und kommst\"\n",
    "\n",
    "# Get all citable units of a play via the Navigation endpoint\n",
    "resource = \"https://staging.dracor.org/id/ger000001\"\n",
    "ref = \"body\"\n",
    "down = \"-1\" \n",
    "request_url = f\"{api_base}dts/navigation?resource={resource}&ref={ref}&down={down}\"\n",
    "r = requests.get(request_url)\n",
    "response_data = r.json()\n",
    "# these are probably the scenes already, but in theory, there could be a stage direction as well\n",
    "citable_units = response_data[\"member\"]\n",
    "\n",
    "# only speech acts have a snippet, so we need to filter here, otherwise we would have to handle key errors\n",
    "speech_filter = lambda citable_unit: citable_unit['citeType'] == 'speech'\n",
    "speech_acts = list(filter(speech_filter, citable_units))\n",
    "\n",
    "# filter for the search string\n",
    "snippet_filter = lambda citable_unit: snippet_search_string in citable_unit[\"extensions\"][\"snippet\"]\n",
    "results = list(filter(snippet_filter, speech_acts))\n",
    "\n",
    "#display the results\n",
    "results"
   ]
  },
  {
   "cell_type": "markdown",
   "id": "c42e0655-c252-48f7-885a-2e779a769538",
   "metadata": {},
   "source": [
    "In contrast to the DraCor DTS API implementation, the regular endpoint `corpora/{corpusname}/plays/{playname}/stage-directions-with-speakers` (see [API Documentation](https://staging.dracor.org/doc/api#/public/play-stage-directions-with-speakers)) includes the nested stage directions as well."
   ]
  },
  {
   "cell_type": "code",
   "execution_count": 85,
   "id": "e9c0d218-f2ef-4b84-a341-d79b21dc9d80",
   "metadata": {},
   "outputs": [
    {
     "name": "stdout",
     "output_type": "stream",
     "text": [
      "Found: Iphigenie. Pylades.\n",
      "Found: IPHIGENIE.  Sie nimmt ihm die Ketten ab.\n",
      "Found: Iphigenie. Pylades.\n"
     ]
    }
   ],
   "source": [
    "# Get the text data from the endpoint corpora/{corpusname}/plays/{playname}/stage-directions-with-speakers\n",
    "request_url = \"https://staging.dracor.org/api/v1/corpora/ger/plays/goethe-iphigenie-auf-tauris/stage-directions-with-speakers\"\n",
    "r = requests.get(request_url)\n",
    "data = r.text\n",
    "# split the text into individual stage directions\n",
    "with_speakers_stage_directions = data.split(\"\\n\")\n",
    "\n",
    "# iterate over the stage directions and return a result: either the first string is contained in the stage direction, or\n",
    "# the text of the stage direction ist the second string\n",
    "# in a more general function, this would not be hardcoded, but this is for demonstration purposes only:\n",
    "\n",
    "for stage_direction in with_speakers_stage_directions:\n",
    "    if \"Sie nimmt ihm die Ketten ab\" in stage_direction or \"Iphigenie. Pylades.\" == stage_direction:\n",
    "        print(f\"Found: {stage_direction}\")"
   ]
  },
  {
   "cell_type": "markdown",
   "id": "650a2ccd-e502-43a1-94b0-f9018d7ef2a9",
   "metadata": {},
   "source": [
    "In the examples discussed, we demonstrated that the DTS Navigation endpoint is capable of providing detailed information about the structure of a play, allowing for fine-grained insights into its organization. However, in its current implementation, this functionality is limited, as it can only address citable units down to a certain hierarchical level. This limitation means that more granular structural units, such as nested stage directions or individual verse lines within spoken text, are not yet addressable through the Navigation endpoint.\n",
    "\n",
    "To fully leverage the potential of the DTS Navigation endpoint for the analysis of Drama, there is a need to extend its capabilities to include also deeper nested structural units. By making elements like individual verse lines and nested stage directions addressable, researchers would gain the ability to analyze and navigate plays at an even more detailed level. \n",
    "\n",
    "We have also seen that there is a need for client-side processing, such as assembling the speakers of a structural unit (like a scene or act) by fetching or extracting the speakers from individual speech acts. This process would likely require adding information about speaking characters to structural units that currently do not include a `speaker` property in the `extensions` metadata object. By enhancing the DraCor-specific metadata to include this information, researchers would be better equipped to analyze and navigate plays at a more detailed level, without the need of much post-processing."
   ]
  },
  {
   "cell_type": "markdown",
   "id": "97111930-e1be-4577-9507-628a0f5d56e3",
   "metadata": {},
   "source": [
    "#### Citing plays with DTS\n",
    "\n",
    "In the preceeding sections, we explored how the DTS Navigation endpoint can be effectively used for the structural analysis of a play, providing detailed insights into its organization and hierarchical components. However, beyond its analytical utility, the DTS Navigation endpoint offers an additional functionality that is central to the study of drama: the possibility to cite a specific part of a play.\n",
    "\n",
    "One of core ideas behind DTS is to enhance the citability of digital texts, a feature particularly valuable in the realm of Digital Drama research. Unlike prose, where citations in the literature often rely on page numbers, drama research benefits from referencing the text's structural divisions. This allows for more precise citations, normally referencing a specific act, a scene within, and, if available the lines within a play. The fine-grained citation capability of the DraCor DTS implementation aligns with the traditional methods of referencing dramatic texts and thus, could support more nuanced scholarly analysis in Computational Literary Studies.\n",
    "\n",
    "DraCor has already significantly advanced the citation of drama by enabling references to entire plays using unique identifiers (URIs). For example, the play \"Iphigenie auf Tauris\" can be cited using the URI `https://dracor.org/id/ger000001` because the DraCor identifier, the Play ID (Feature P2 [play_id](https://staging.dracor.org/doc/odd#play_id)) is universally unique across all DraCor corpora. Additionally, DraCor has introduced unique identifiers for characters within a single play, which, when combined with the play's identifier, create potentially universally unique identifiers as well. Although these character identifiers are not yet resolvable via the `/id/{id}` endpoint (see API [Documentation](https://staging.dracor.org/doc/api#/public/resolve-id)), they represent a step toward more precise and standardized citation practices in drama research.\n",
    "\n",
    "The following examples illustrate how the DTS Navigation endpoint facilitates the citation of dramatic texts, showcasing its application in various research contexts. By leveraging the structural divisions inherent in dramatic works, researchers can cite specific elements with greater accuracy, enhancing the depth and clarity of their analyses."
   ]
  },
  {
   "cell_type": "markdown",
   "id": "9b666f05-9844-43b2-9ddd-ab953321d98d",
   "metadata": {},
   "source": [
    "The following examples are taken from the english translation of Manfred Pfister's important work \"Das Drama\" (\"The Theory and Analysis of Drama\", engl. translation by John Halliday), which has been foundational for the structuralist approach to drama studies and has inspired research in the Computational Literary Studies."
   ]
  },
  {
   "cell_type": "markdown",
   "id": "55e378e4-bb83-42f1-8ec7-5ddf48bf0463",
   "metadata": {},
   "source": [
    "In the chapter on \"dramatic irony\" Pfister refers to a scene from the play *Shakespeare: Julius Caesar*:"
   ]
  },
  {
   "cell_type": "markdown",
   "id": "0f06972d-a3e2-4cec-83b7-c4c6f6be45bf",
   "metadata": {},
   "source": [
    "> Thus, one of the most famous examples of irony in all drama - Antony's spoken refrain 'Brutus is an honourable man' in his funeral oration for the central figure in **Shakespeare's Julius Caesar (III, ii)** - has nothing to do with dramatic irony in the strict sense since it is a verbal utterance that the speaker intended to be ironic, and whose irony is intended to be, and indeed does become, obvious to the fictional receivers."
   ]
  },
  {
   "cell_type": "markdown",
   "id": "05a96be7-afb1-4f15-9ea8-0420ebca075b",
   "metadata": {},
   "source": [
    "The reference \"Shakespeare's Julius Caesar (III, ii)\" in the text refers to the play [Julius Caesar](https://staging.dracor.org/shake/julius-caesar), which is contained in DraCor as the play with the identifier `shake000030`, although in a different edition stemming from the Folger Digital Library (for the integration of this corpus into DraCor and possible use cases in combining APIs see also also [CLS INFRA Deliverable D7.1](https://zenodo.org/records/7664964), chapter 6.1 “Relating APIs using OpenAPI: The Example of the Folger Shakespeare API”). \n",
    "\n",
    "In the reference the roman capital letters \"III\" stand for the third act, the small roman letters \"ii\" mean the second scene of the play. This scene of the play can be adressed via the DTS Navigation endpoint setting the value of the parameter `ref` to `body/div[3]/div[2]`, which results in the URL:\n",
    "\n",
    "[https://staging.dracor.org/api/v1/dts/navigation?resource=https://staging.dracor.org/id/shake000030&ref=body/div[3]/div[2]](https://staging.dracor.org/api/v1/dts/navigation?resource=https://staging.dracor.org/id/shake000030&ref=body/div[3]/div[2])\n",
    "\n",
    "The larger part of the speech of Anthony is starting with the Citable Unit with the identifier `body/div[3]/div[2]/sp[31]`, in which the phrase \"Brutus is an honourable man\" is frequently repeated. This citable unit can be addressed as such:\n",
    "\n",
    "[https://staging.dracor.org/api/v1/dts/navigation?resource=https://staging.dracor.org/id/shake000030&ref=body/div[3]/div[2]/sp[31]](https://staging.dracor.org/api/v1/dts/navigation?resource=https://staging.dracor.org/id/shake000030&ref=body/div[3]/div[2]/sp[31])"
   ]
  },
  {
   "cell_type": "code",
   "execution_count": 86,
   "id": "2a28b49f-4b4d-4be8-8490-a5cff79bdd06",
   "metadata": {},
   "outputs": [],
   "source": [
    "# to get the text, we need to use the Document endpoint, to display the TEI snippet\n",
    "request_url = \"https://staging.dracor.org/api/v1/dts/document?resource=https://staging.dracor.org/id/shake000030&ref=body/div[3]/div[2]/sp[31]\"\n",
    "r = requests.get(request_url)\n",
    "antony_speech = r.text"
   ]
  },
  {
   "cell_type": "code",
   "execution_count": 87,
   "id": "0a1ca640-58ac-4e6d-94ca-80c5c08ab501",
   "metadata": {},
   "outputs": [
    {
     "name": "stdout",
     "output_type": "stream",
     "text": [
      "<TEI xmlns=\"http://www.tei-c.org/ns/1.0\">\n",
      "    <dts:wrapper xmlns:dts=\"https://w3id.org/dts/api#\">\n",
      "        <sp xml:id=\"sp-1559\" who=\"#Antony_JC\">\n",
      "            <speaker xml:id=\"spk-1559\">ANTONY </speaker>\n",
      "            <l xml:id=\"ftln-1559\" n=\"3.2.82\">Friends, Romans, countrymen, lend me your ears. </l>\n",
      "            <l xml:id=\"ftln-1560\" n=\"3.2.83\">I come to bury Caesar, not to praise him. </l>\n",
      "            <l xml:id=\"ftln-1561\" n=\"3.2.84\">The evil that men do lives after them; </l>\n",
      "            <l xml:id=\"ftln-1562\" n=\"3.2.85\">The good is oft interrèd with their bones. </l>\n",
      "            <l xml:id=\"ftln-1563\" n=\"3.2.86\">So let it be with Caesar. The noble Brutus </l>\n",
      "            <l xml:id=\"ftln-1564\" n=\"3.2.87\">Hath told you Caesar was ambitious. </l>\n",
      "            <l xml:id=\"ftln-1565\" n=\"3.2.88\">If it were so, it was a grievous fault, </l>\n",
      "            <l xml:id=\"ftln-1566\" n=\"3.2.89\">And grievously hath Caesar answered it. </l>\n",
      "            <l xml:id=\"ftln-1567\" n=\"3.2.90\">Here, under leave of Brutus and the rest </l>\n",
      "            <l xml:id=\"ftln-1568\" n=\"3.2.91\">( For Brutus is an honorable man; </l>\n",
      "            <l xml:id=\"ftln-1569\" n=\"3.2.92\">So are they all, all honorable men), </l>\n",
      "            <l xml:id=\"ftln-1570\" n=\"3.2.93\">Come I to speak in Caesar’s funeral. </l>\n",
      "            <l xml:id=\"ftln-1571\" n=\"3.2.94\">He was my friend, faithful and just to me, </l>\n",
      "            <l xml:id=\"ftln-1572\" n=\"3.2.95\">But Brutus says he was ambitious, </l>\n",
      "            <l xml:id=\"ftln-1573\" n=\"3.2.96\">And Brutus is an honorable man. </l>\n",
      "            <l xml:id=\"ftln-1574\" n=\"3.2.97\">He hath brought many captives home to Rome, </l>\n",
      "            <l xml:id=\"ftln-1575\" n=\"3.2.98\">Whose ransoms did the general coffers fill. </l>\n",
      "            <l xml:id=\"ftln-1576\" n=\"3.2.99\">Did this in Caesar seem ambitious? </l>\n",
      "            <l xml:id=\"ftln-1577\" n=\"3.2.100\">When that the poor have cried, Caesar hath wept; </l>\n",
      "            <l xml:id=\"ftln-1578\" n=\"3.2.101\">Ambition should be made of sterner stuff. </l>\n",
      "            <l xml:id=\"ftln-1579\" n=\"3.2.102\">Yet Brutus says he was ambitious, </l>\n",
      "            <l xml:id=\"ftln-1580\" n=\"3.2.103\">And Brutus is an honorable man. </l>\n",
      "            <l xml:id=\"ftln-1581\" n=\"3.2.104\">You all did see that on the Lupercal </l>\n",
      "            <l xml:id=\"ftln-1582\" n=\"3.2.105\">I thrice presented him a kingly crown, </l>\n",
      "            <l xml:id=\"ftln-1583\" n=\"3.2.106\">Which he did thrice refuse. Was this ambition? </l>\n",
      "            <l xml:id=\"ftln-1584\" n=\"3.2.107\">Yet Brutus says he was ambitious, </l>\n",
      "            <l xml:id=\"ftln-1585\" n=\"3.2.108\">And sure he is an honorable man. </l>\n",
      "            <l xml:id=\"ftln-1586\" n=\"3.2.109\">I speak not to disprove what Brutus spoke, </l>\n",
      "            <l xml:id=\"ftln-1587\" n=\"3.2.110\">But here I am to speak what I do know. </l>\n",
      "            <l xml:id=\"ftln-1588\" n=\"3.2.111\">You all did love him once, not without cause. </l>\n",
      "            <l xml:id=\"ftln-1589\" n=\"3.2.112\">What cause withholds you, then, to mourn for him?— </l>\n",
      "            <l xml:id=\"ftln-1591\" n=\"3.2.114\">O judgment, thou art fled to brutish beasts, </l>\n",
      "            <l xml:id=\"ftln-1592\" n=\"3.2.115\">And men have lost their reason!— Bear with me; </l>\n",
      "            <l xml:id=\"ftln-1593\" n=\"3.2.116\">My heart is in the coffin there with Caesar, </l>\n",
      "            <l xml:id=\"ftln-1594\" n=\"3.2.117\">And I must pause till it come back to me. </l>\n",
      "          </sp>\n",
      "    </dts:wrapper>\n",
      "</TEI>\n"
     ]
    }
   ],
   "source": [
    "print(antony_speech)"
   ]
  },
  {
   "cell_type": "markdown",
   "id": "08f917bd-9a21-4a46-b083-c73f9349f125",
   "metadata": {},
   "source": [
    "In the example above, Pfister referred to a single scene without pointing to a certain speech act in particular, but there are also cases, in which there is a reference to a certain portion text below the scene level in another Shakespearean play:\n",
    "\n",
    ">  [I]n the sphere of verbal communication there are speeches that have scarcely any novelty value for the fictional listener on stage, but which serve to clarify certain relationships for the audience [...] An example of this is Prospero's report on Ariel's past in **The Tempest (I,ii,250—93)**; this contains no information that could possibly be unfamiliar to Ariel, but it is new, and thus important, to the audience. (Pfister 2000: 40)"
   ]
  },
  {
   "cell_type": "markdown",
   "id": "1643813c-8567-4dc5-9738-6bc7c18e781f",
   "metadata": {},
   "source": [
    "Obviously, the reference in the text refers to *Shakespeare: The Tempest* which is [contained in DraCor](https://staging.dracor.org/shake/the-tempest) as the play with the identifier `shake000001`. As in the example from Julius Ceasar, the reference `I,ii` refers to act and scene. In a request to the DTS Navigation endpoint setting the value of the parameter `ref` to have to be set to `body/div[1]/div[2]` for retrieving information on the given citable unit:\n",
    "\n",
    "[https://staging.dracor.org/api/v1/dts/navigation?resource=https://staging.dracor.org/id/shake000001&ref=body/div[1]/div[2]](https://staging.dracor.org/api/v1/dts/navigation?resource=https://staging.dracor.org/id/shake000001&ref=body/div[1]/div[2])\n",
    "\n",
    "To list all speeches in this section, we can use the parameter `down` with a value of `1` to get the speeches included in the member property:\n",
    "\n",
    "[https://staging.dracor.org/api/v1/dts/navigation?resource=https://staging.dracor.org/id/shake000001&ref=body/div[1]/div[2]&down=1](https://staging.dracor.org/api/v1/dts/navigation?resource=https://staging.dracor.org/id/shake000001&ref=body/div[1]/div[2]&down=1)\n",
    "\n",
    "Beyond that, really identifying the the actual part of the scene, Pfister has in mind, is tricky, because the lines referenced with the numbers`250—93` are not addressable with the DraCor DTS implementation."
   ]
  },
  {
   "cell_type": "markdown",
   "id": "6646083a-c84a-4f86-b280-cf6164c21f17",
   "metadata": {},
   "source": [
    "Below is another example that does not include a bibliographic reference, but includes a literal citation of a parts of the play \"The Cherry Orchard\" by Anto Chekhov (cf. Pfister 2000: 15–16):"
   ]
  },
  {
   "cell_type": "markdown",
   "id": "d95a1040-0fe9-4422-aefc-d966119d572b",
   "metadata": {},
   "source": [
    "> Stage-directions are not restricted to the secondary text, however; they may also be found, implicitly, in the primary text - as the following extract from Chekhov's Cherry Orchard demonstrates:\n",
    "\n",
    "> LOPAKHIN: What's the matter, Dooniasha?\n",
    ">\n",
    "> DOONIASHA: My hands are trembling. I feel as if I'm going to faint.\n",
    ">\n",
    "> LOPAKHIN: You're too refined and sensitive, Dooniasha. You dressyourself up like a lady, and you do your hair like one too."
   ]
  },
  {
   "cell_type": "markdown",
   "id": "370e478f-8d04-4800-8f8e-35244ba3adec",
   "metadata": {},
   "source": [
    "The source of this citation is included in endnote 7 \"A. Chekhov (1954) 334. [...]\" which is according to the bibliography \"Chekhov, A. The Cherry Orchard, in: Plays, transl. and with introd. by E. Feu (Harmondsworth, 1954).\"\n",
    "\n",
    "While there is no translation of the play Cherry Orchard by Anton Chekhov in DraCor, let alone the cited edition, we can still locate the [original Russian play](https://staging.dracor.org/rus/chekhov-vishnevyi-sad). It has the unique DraCor identifier `rus000059` and the URI `https://dracor.org/id/rus000059` (to resolve it on staging.dracor.org use `https://staging.dracor.org/id/rus000059`). \n",
    "\n",
    "All citeable units of the play can be accessed via the Navigation endpoint at: \n",
    "\n",
    "[https://staging.dracor.org/api/v1/dts/navigation?resource=https://staging.dracor.org/id/rus000059&ref=body&down=-1](https://staging.dracor.org/api/v1/dts/navigation?resource=https://staging.dracor.org/id/rus000059&ref=body&down=-1)\n",
    "\n",
    "Based on the snippets and some guessing the cited passage can be found: The first speech in the Russian original has the fragment identifier `body/div[1]/div[1]/sp[7]` and thus can be retrieved from the URL: \n",
    "\n",
    "[https://staging.dracor.org/api/v1/dts/navigation?resource=https://staging.dracor.org/id/rus000059&ref=body/div[1]/div[1]/sp[7]](https://staging.dracor.org/api/v1/dts/navigation?resource=https://staging.dracor.org/id/rus000059&ref=body/div[1]/div[1]/sp[7]) \n",
    "\n",
    "Using the parameters `start` (value: `body/div[1]/div[1]/sp[7]`) and `end` (value `body/div[1]/div[1]/sp[9]`) all three speeches can be cited as a range with the following URL:\n",
    "\n",
    "[https://staging.dracor.org/api/v1/dts/navigation?resource=https://staging.dracor.org/id/rus000059&start=body/div[1]/div[1]/sp[7]&end=body/div[1]/div[1]/sp[9]](https://staging.dracor.org/api/v1/dts/navigation?resource=https://staging.dracor.org/id/rus000059&start=body/div[1]/div[1]/sp[7]&end=body/div[1]/div[1]/sp[9])"
   ]
  },
  {
   "cell_type": "code",
   "execution_count": 88,
   "id": "d9843aa2-d8d3-49d3-88ca-f00fbc48ae67",
   "metadata": {},
   "outputs": [
    {
     "name": "stdout",
     "output_type": "stream",
     "text": [
      "<TEI xmlns=\"http://www.tei-c.org/ns/1.0\">\n",
      "    <dts:wrapper xmlns:dts=\"https://w3id.org/dts/api#\">\n",
      "        <sp who=\"#Lopahin\">\n",
      "            <speaker>Лопахин.</speaker>\n",
      "            <p>Что ты, Дуняша, такая...</p>\n",
      "          </sp>\n",
      "          <sp who=\"#Dunjasha\">\n",
      "            <speaker>Дуняша.</speaker>\n",
      "            <p>Руки трясутся. Я в обморок упаду.</p>\n",
      "          </sp>\n",
      "          <sp who=\"#Lopahin\">\n",
      "            <speaker>Лопахин.</speaker>\n",
      "            <p>Очень уж ты нежная, Дуняша. И одеваешься, как барышня, и прическа тоже. Так нельзя.\n",
      "              Надо себя помнить.</p>\n",
      "          </sp>\n",
      "    </dts:wrapper>\n",
      "</TEI>\n"
     ]
    }
   ],
   "source": [
    "# print the TEI-XML text\n",
    "request_url = \"https://staging.dracor.org/api/v1/dts/document?resource=https://staging.dracor.org/id/rus000059&start=body/div[1]/div[1]/sp[7]&end=body/div[1]/div[1]/sp[9]\"\n",
    "r = requests.get(request_url)\n",
    "print(r.text)"
   ]
  },
  {
   "cell_type": "markdown",
   "id": "82ddd65c-22cc-43c9-8774-cedc5fea64e3",
   "metadata": {},
   "source": [
    "The three examples above already show that there are several possibilities of how traditional scholarship cites and quotes the text of plays and that some of the functionality implemented allows to construct de-referencable URIs for the cited segments. \n",
    "\n",
    "Still, the resulting URIs are relatively long and not very \"nice\" to include in actualy studies, an option would be to device a shorter notation that could be then expanded into the full URI, e.g. `dracor:shake000030#body/div[3]/div[2]`– still quite long, but this would contain enough information to convert it into a full URI – \n",
    "[https://staging.dracor.org/api/v1/dts/navigation?resource=https://staging.dracor.org/id/shake000030&ref=body/div[3]/div[2]](https://staging.dracor.org/api/v1/dts/navigation?resource=https://staging.dracor.org/id/shake000030&ref=body/div[3]/div[2]). \n",
    "\n",
    "Locating a specific passage to cite can be quite cumbersome. Users must first examine the full text, such as in DraCor's front end in the \"Full Text\" tab, and guess which part of the text will appear in the snippet (5 first word tokens of a speech followed by an ellipsis and the last one). They then need to list all citable units with their snippets using the parameter `down=-1` and perform a full-text search (Ctrl+F) in the browser to locate the desired citable unit. After identifying the citable unit, they must copy the value of the `identifier` field and manually construct the link for the Navigation endpoint. Implementing a graphical user interface (GUI) would significantly enhance this process, making it more intuitive and user-friendly."
   ]
  },
  {
   "cell_type": "markdown",
   "id": "61071efd-f3ff-4c4c-972d-3d1bea2abb2b",
   "metadata": {},
   "source": [
    "### DraCor DTS Document Endpoint `api/v1/dts/document`"
   ]
  },
  {
   "cell_type": "markdown",
   "id": "ea7de673-f161-48ba-9cd6-699a9230341b",
   "metadata": {},
   "source": [
    "The DTS Document endpoint is used to get a textual representation of a single Resource or parts thereof. The endpoint accepts the following query parameters:\n",
    "\n",
    "* **`resource`**: This parameter is used to provide the unique identifier (URI) of the Resource of which a textual representation is requested. In the case of DraCor it is the HTTP URI of a document, e.g.  It is the same value that would be used in a request to the Navigation endpoint and also as the value of the parameter `id` in case of the Collection endpoint. In requests to the Document endpoint providing this parameter is mandatory. \n",
    "* **`ref`**: This parameter is used to supply an identifier of a certain segment of a text (a Citeable Unit). The Document endpoint uses the same identifiers as the Navigation endpoint (see detailed description of the DraCor Fragment Identifiers there)\n",
    "* **`start`** and **`end`**: To request a textual representation of a section containing spanning across several structural units of the text, e.g. the first 5 scenes of the second act, the parameters `start` and `end` include the identifiers of the Citeable Units that define the boundaries of a sequence.\n",
    "* **`tree`**: The DTS Specification forsees an optional parameter to provide the identifier of a Citation Tree that is not the default. This parameter is not implemented for DraCor because there is only one Citation Tree available.\n",
    "* **`mediaType`**: This parameter controls in which format the textual representation of a Resource is returned. Per default the endpoint returns TEI-XML. "
   ]
  },
  {
   "cell_type": "markdown",
   "id": "cc929343-b103-4ca2-bffa-d6d60213b916",
   "metadata": {},
   "source": [
    "The DraCor DTS implementation provides TEI-XML in all cases, but also a plaintext representation requested with `text/plain` as the value of the `mediaType` parameter. Available formats are listed when requesting a Resource via the Collection or Navigation endpoints in the field `mediaTypes`."
   ]
  },
  {
   "cell_type": "markdown",
   "id": "3f2693d4-61c6-4a53-8e62-159507dca8d7",
   "metadata": {},
   "source": [
    "The plaintext representation is currently not available for a range of citeable units requested with the parameters `start` and `end`.\n",
    "\n",
    "If a fragment is requested using the parameters `ref` or `start` and `end` the segment of the TEI-XML file is wrapped into a DTS custom element `<dts:wrapper>` (in the DTS namespace `https://w3id.org/dts/api#`) as shown in the following example:\n",
    "\n",
    "[https://staging.dracor.org/api/v1/dts/document?resource=https://staging.dracor.org/id/ger000243&ref=body/div[19]/sp[3]](https://staging.dracor.org/api/v1/dts/document?resource=https://staging.dracor.org/id/ger000243&ref=body/div[19]/sp[3])"
   ]
  },
  {
   "cell_type": "code",
   "execution_count": 89,
   "id": "23d566c7-5f59-43db-83e3-bf0e165a4dd2",
   "metadata": {},
   "outputs": [
    {
     "name": "stdout",
     "output_type": "stream",
     "text": [
      "<TEI xmlns=\"http://www.tei-c.org/ns/1.0\">\n",
      "    <dts:wrapper xmlns:dts=\"https://w3id.org/dts/api#\">\n",
      "        <sp who=\"#gretchen\">\n",
      "          <speaker>MARGARETE.</speaker>\n",
      "          <lg>\n",
      "            <l>Nun sag, wie hast du's mit der Religion?</l>\n",
      "            <l>Du bist ein herzlich guter Mann,</l>\n",
      "            <l>Allein ich glaub', du hältst nicht viel davon.</l>\n",
      "          </lg>\n",
      "        </sp>\n",
      "    </dts:wrapper>\n",
      "</TEI>\n"
     ]
    }
   ],
   "source": [
    "resource = \"https://staging.dracor.org/id/ger000243\" # Goethe: Faust (goethe-faust-eine-tragoedie)\n",
    "ref = \"body/div[19]/sp[3]\"\n",
    "request_url = f\"https://staging.dracor.org/api/v1/dts/document?resource={resource}&ref={ref}\"\n",
    "r = requests.get(request_url)\n",
    "tei_response = r.text\n",
    "print(tei_response)"
   ]
  },
  {
   "cell_type": "markdown",
   "id": "97f42398-10d4-47b1-a84b-c582b3feb552",
   "metadata": {},
   "source": [
    "The same textual fragment can be retrieved as plaintext when setting the parameter `mediaType` to the value `text/plain`:\n",
    "\n",
    "[https://staging.dracor.org/api/v1/dts/document?resource=https://staging.dracor.org/id/ger000243&ref=body/div[19]/sp[3]&mediaType=text/plain](https://staging.dracor.org/api/v1/dts/document?resource=https://staging.dracor.org/id/ger000243&ref=body/div[19]/sp[3]&mediaType=text/plain)"
   ]
  },
  {
   "cell_type": "code",
   "execution_count": 90,
   "id": "b4707b2d-e061-4bd3-bd3f-40226a6551f6",
   "metadata": {},
   "outputs": [
    {
     "name": "stdout",
     "output_type": "stream",
     "text": [
      "MARGARETE. Nun sag, wie hast du's mit der Religion? Du bist ein herzlich guter Mann, Allein ich glaub', du hältst nicht viel davon.\n"
     ]
    }
   ],
   "source": [
    "resource = \"https://staging.dracor.org/id/ger000243\" # Goethe: Faust (goethe-faust-eine-tragoedie)\n",
    "ref = \"body/div[19]/sp[3]\"\n",
    "media_type = \"text/plain\"\n",
    "request_url = f\"https://staging.dracor.org/api/v1/dts/document?resource={resource}&ref={ref}&mediaType={media_type}\"\n",
    "r = requests.get(request_url)\n",
    "text_response = r.text\n",
    "print(text_response)"
   ]
  },
  {
   "cell_type": "markdown",
   "id": "c77470a6-3f6d-4b40-9451-10921003206a",
   "metadata": {},
   "source": [
    "The parameters `start` and `end` can be used to request the text of a range of citable units:\n",
    "\n",
    "[https://staging.dracor.org/api/v1/dts/document?resource=https://staging.dracor.org/id/ger000001&start=body/div[4]/div[2]/sp[7]&end=body/div[4]/div[2]/sp[14]](https://staging.dracor.org/api/v1/dts/document?resource=https://staging.dracor.org/id/ger000001&start=body/div[4]/div[2]/sp[7]&end=body/div[4]/div[2]/sp[14])"
   ]
  },
  {
   "cell_type": "code",
   "execution_count": 91,
   "id": "62e59087-b425-4a2d-9ac3-57c340c1972f",
   "metadata": {},
   "outputs": [
    {
     "name": "stdout",
     "output_type": "stream",
     "text": [
      "<TEI xmlns=\"http://www.tei-c.org/ns/1.0\">\n",
      "    <dts:wrapper xmlns:dts=\"https://w3id.org/dts/api#\">\n",
      "        <sp who=\"#arkas\">\n",
      "            <speaker>ARKAS.</speaker>\n",
      "            <lg>\n",
      "              <l>Ich melde dieses neue Hindernis</l>\n",
      "              <l>Dem Könige geschwind; beginne du</l>\n",
      "              <l>Das heil'ge Werk nicht eh', bis er's erlaubt.</l>\n",
      "            </lg>\n",
      "          </sp>\n",
      "          <sp who=\"#iphigenie\">\n",
      "            <speaker>IPHIGENIE.</speaker>\n",
      "            <l>Dies ist allein der Priestrin überlassen.</l>\n",
      "          </sp>\n",
      "          <sp who=\"#arkas\">\n",
      "            <speaker>ARKAS.</speaker>\n",
      "            <l>Solch seltnen Fall soll auch der König wissen.</l>\n",
      "          </sp>\n",
      "          <sp who=\"#iphigenie\">\n",
      "            <speaker>IPHIGENIE.</speaker>\n",
      "            <l>Sein Rat wie sein Befehl verändert nichts.</l>\n",
      "          </sp>\n",
      "          <sp who=\"#arkas\">\n",
      "            <speaker>ARKAS.</speaker>\n",
      "            <l>Oft wird der Mächtige zum Schein gefragt.</l>\n",
      "          </sp>\n",
      "          <sp who=\"#iphigenie\">\n",
      "            <speaker>IPHIGENIE.</speaker>\n",
      "            <l>Erdringe nicht, was ich versagen sollte.</l>\n",
      "          </sp>\n",
      "          <sp who=\"#arkas\">\n",
      "            <speaker>ARKAS.</speaker>\n",
      "            <l>Versage nicht, was gut und nützlich ist.</l>\n",
      "          </sp>\n",
      "          <sp who=\"#iphigenie\">\n",
      "            <speaker>IPHIGENIE.</speaker>\n",
      "            <l>Ich gebe nach, wenn du nicht säumen willst.</l>\n",
      "            <pb n=\"46\"/>\n",
      "          </sp>\n",
      "    </dts:wrapper>\n",
      "</TEI>\n"
     ]
    }
   ],
   "source": [
    "resource = \"https://staging.dracor.org/id/ger000001\"\n",
    "start = \"body/div[4]/div[2]/sp[7]\"\n",
    "end = \"body/div[4]/div[2]/sp[14]\"\n",
    "request_url = f\"https://staging.dracor.org/api/v1/dts/document?resource={resource}&start={start}&end={end}\"\n",
    "r = requests.get(request_url)\n",
    "tei_response = r.text\n",
    "print(tei_response)"
   ]
  },
  {
   "cell_type": "markdown",
   "id": "b6664311-5462-4b6c-a128-d460578f68d4",
   "metadata": {},
   "source": [
    "The DTS Document endpoint provides a link (key `Link`) back to the Resource via the Collection endpoint in the HTTP header:"
   ]
  },
  {
   "cell_type": "code",
   "execution_count": 92,
   "id": "d49bf34b-8326-4e19-8cb2-6ecaf1aad25c",
   "metadata": {},
   "outputs": [
    {
     "data": {
      "text/plain": [
       "{'Server': 'nginx/1.18.0 (Ubuntu)', 'Date': 'Tue, 01 Jul 2025 12:29:03 GMT', 'Content-Type': 'application/xml; charset=UTF-8', 'Transfer-Encoding': 'chunked', 'Connection': 'keep-alive', 'Link': '<https://staging.dracor.org/api/v1/dts/collection?id=https://staging.dracor.org/id/ger000001>; rel=\"collection\"', 'Vary': 'Accept-Encoding, User-Agent', 'Content-Encoding': 'gzip', 'Access-Control-Allow-Origin': '*', 'Access-Control-Allow-Methods': 'GET, POST, OPTIONS, HEAD', 'Access-Control-Allow-Credentials': 'true', 'Access-Control-Allow-Headers': 'Authorization, Origin, X-Requested-With, Content-Type, Accept, DNT'}"
      ]
     },
     "execution_count": 92,
     "metadata": {},
     "output_type": "execute_result"
    }
   ],
   "source": [
    "# Get the HTTP headers of the response object when using requests\n",
    "\n",
    "r.headers"
   ]
  },
  {
   "cell_type": "code",
   "execution_count": 93,
   "id": "4dbebabe-9dbe-4d1e-99b0-26f8e320a686",
   "metadata": {},
   "outputs": [
    {
     "name": "stdout",
     "output_type": "stream",
     "text": [
      "<https://staging.dracor.org/api/v1/dts/collection?id=https://staging.dracor.org/id/ger000001>; rel=\"collection\"\n"
     ]
    }
   ],
   "source": [
    "# Print the value of the Link header\n",
    "print(r.headers[\"Link\"])"
   ]
  },
  {
   "cell_type": "markdown",
   "id": "a30a59f7-f25f-48ac-9b75-3ac59c0de562",
   "metadata": {},
   "source": [
    "## Evaluating Data Retrieval Capabilities: DraCor API vs. DraCor DTS API "
   ]
  },
  {
   "cell_type": "markdown",
   "id": "f86d6878-5e8c-49be-a06f-6ec42e0ac0f5",
   "metadata": {},
   "source": [
    "In practical use cases the endpoints Collection, Navigation and Document are used together. \n",
    "\n",
    "The experiments conducted in this section of the notebook aim to compare the functionality and capabilities of the regular DraCor API with the newly implemented DTS API. The focus is on determining whether the DTS API can replicate the data retrieval capabilities of the DraCor API, particularly in terms of accessing and manipulating textual data. The experiments involve practical use cases that demonstrate how the Navigation and Document endpoints of the DTS API can be utilized to achieve similar outcomes to those provided by the DraCor API.\n",
    "\n",
    "The \"regular\" DraCor API provides several endpoints that allow to get a subset of the text:\n",
    "\n",
    "* `corpora/{corpusname}/plays/{playname}/spoken-text`: Spoken text of a play excluding stage directions (and Speaker labels), see [API Documentation](https://staging.dracor.org/doc/api#/public/play-spoken-text)\n",
    "* `corpora/{corpusname}/plays/{playname}/spoken-text-by-character`: Spoken text for each character of a play, see [API Documentation](https://staging.dracor.org/doc/api#/public/play-spoken-text-by-character)\n",
    "* `corpora/{corpusname}/plays/{playname}/stage-directions`: Stage directions of a play, see [API Doucmentation](https://staging.dracor.org/doc/api#/public/play-stage-directions)\n",
    "* `copora/{corpusname}/plays/{playname}/stage-directions-with-speakers`, see [API Documentation](https://staging.dracor.org/doc/api#/public/play-stage-directions-with-speakers) In the result of this endpoint the stage directions that are nested into a `<sp>` element an can thus be attributed to a character are prepended with the speaker label\n",
    "\n",
    "The functionality of these endpoints can to some extend also realized with the DTS API, but there are some caveats as will be shown in the examples. In almost all cases additional post-processing of the results is necessary, but overall it can be shown, that based on the DTS API it is possible to retrieve the same results as can be retrieved via the regular API endpoints. \n",
    "\n",
    "In general it is necessary to query the Navigation endpoint to get the structural information and then use the identifiers included in the citable units to query the Document endpoint to retrieve a text representation (TEI-XML or plaintext). \n",
    "\n",
    "It can be necessary to retrieve the TEI-XML and further parse it, e.g. to extract lines of spoken text, which are not available as citable units at the moment (but will be added with further releases of the DTS API). \n",
    "\n",
    "For a quick overview it might be sufficient to just use the regular DraCor API endpoints, but if there is a certain interest in the textual contents of sub-structures of a play, this can only be done with the DraCor DTS API.\n"
   ]
  },
  {
   "cell_type": "markdown",
   "id": "3e14857e-f8b4-4d2f-91ab-696f922c18f2",
   "metadata": {},
   "source": [
    "### Getting the Spoken Text\n",
    "\n",
    "As an example, again, the play Goethe: Iphigenie auf Tauris (`ger000001`) from the *German Drama Corpus* is used. The following cell retrieves all citable units in this play via the DTS Navigation endpoint:"
   ]
  },
  {
   "cell_type": "code",
   "execution_count": 94,
   "id": "2ab81424-4326-4123-8859-1683a61aefd3",
   "metadata": {},
   "outputs": [],
   "source": [
    "# We use only all the citable units contained in the body \n",
    "# (use params ref and down)\n",
    "resource = \"https://staging.dracor.org/id/ger000001\"\n",
    "ref = \"body\"\n",
    "down = \"-1\"\n",
    "request_url = f\"{api_base}dts/navigation?resource={resource}&ref={ref}&down={down}\"\n",
    "r = requests.get(request_url)\n",
    "response_data = r.json()\n",
    "citeable_units = response_data[\"member\"]"
   ]
  },
  {
   "cell_type": "markdown",
   "id": "fa88d18f-450a-4a0b-948f-1c6e73303e56",
   "metadata": {},
   "source": [
    "Citable units that represent speech acts have `speech` as the value of the property `citeType`. We can write a lambda function that is used to filter for speech acts:"
   ]
  },
  {
   "cell_type": "code",
   "execution_count": 95,
   "id": "eeb77277-8596-42ce-b9c4-16f869cfb70e",
   "metadata": {},
   "outputs": [],
   "source": [
    "# Speech filter as a lambda function\n",
    "\n",
    "speech_filter = lambda citeable_unit: citeable_unit['citeType'] == 'speech'"
   ]
  },
  {
   "cell_type": "code",
   "execution_count": 96,
   "id": "2cc8c8db-37a5-421a-8787-6ac12f73bc8a",
   "metadata": {},
   "outputs": [],
   "source": [
    "# Filter for speeches using the lambda function  above\n",
    "\n",
    "speech_acts = list(filter(speech_filter, citeable_units))"
   ]
  },
  {
   "cell_type": "code",
   "execution_count": 97,
   "id": "c8c61b44-81c2-40e9-a319-e2efc55bb8e7",
   "metadata": {},
   "outputs": [
    {
     "data": {
      "text/plain": [
       "{'identifier': 'body/div[1]/div[1]/sp[1]',\n",
       " '@type': 'CitableUnit',\n",
       " 'extensions': {'@context': 'https://raw.githubusercontent.com/dracor-org/dracor-ontology/refs/heads/main/json-ld-contexts/dts-extension-context.json',\n",
       "  'speakers': ['iphigenie'],\n",
       "  'snippet': 'Heraus in eure Schatten, rege [...] Tode!'},\n",
       " 'level': 4,\n",
       " 'parent': 'body/div[1]/div[1]',\n",
       " 'citeType': 'speech'}"
      ]
     },
     "execution_count": 97,
     "metadata": {},
     "output_type": "execute_result"
    }
   ],
   "source": [
    "# Output the first element in the list, i.e. the first speech of the play\n",
    "\n",
    "speech_acts[0]"
   ]
  },
  {
   "cell_type": "markdown",
   "id": "5256dadb-b9c8-4d41-aeba-3fd0245326f8",
   "metadata": {},
   "source": [
    "The filtered list can be used to count the speeches in the play."
   ]
  },
  {
   "cell_type": "code",
   "execution_count": 98,
   "id": "69564875-de28-4b5e-9baf-d74ac1514504",
   "metadata": {},
   "outputs": [
    {
     "name": "stdout",
     "output_type": "stream",
     "text": [
      "There are 311 speeches in the play.\n"
     ]
    }
   ],
   "source": [
    "print(f\"There are {len(speech_acts)} speeches in the play.\")"
   ]
  },
  {
   "cell_type": "markdown",
   "id": "90ed809e-fc68-40b8-a2de-dd334bc01595",
   "metadata": {},
   "source": [
    "There seems to be no option to get the number of speech acts in a play from the DraCor API; there is no such feature. See also: https://staging.dracor.org/doc/odd#section-play-features"
   ]
  },
  {
   "cell_type": "markdown",
   "id": "f42e6bad-dc91-4fc3-b6cf-1b0de31f14ab",
   "metadata": {},
   "source": [
    "While the DTS API provides structural data on the speeches and does not include the full text in the Navigation endpoint response, the DraCor API only provides the spoken text using the endpoint `corpora/{corpusname}/plays/{playname}/spoken-text`. The following cell retrieves the spoken text of the play:"
   ]
  },
  {
   "cell_type": "code",
   "execution_count": 99,
   "id": "bd59582f-c373-4b1f-b8f6-0aca5ede4643",
   "metadata": {},
   "outputs": [
    {
     "name": "stdout",
     "output_type": "stream",
     "text": [
      "The text of the play retrieved by the DraCor API spoken text endpoint includes 2203 lines of text.\n"
     ]
    }
   ],
   "source": [
    "r = requests.get(\"https://staging.dracor.org/api/v1/corpora/ger/plays/goethe-iphigenie-auf-tauris/spoken-text\")\n",
    "text_via_api = r.text\n",
    "# split on newline character\n",
    "text_via_api_lines = text_via_api.split(\"\\n\")\n",
    "#text_via_api_lines[0]\n",
    "print(f\"The text of the play retrieved by the DraCor API spoken text endpoint includes {len(text_via_api_lines)} lines of text.\")"
   ]
  },
  {
   "cell_type": "markdown",
   "id": "6faa0668-5c8c-46e8-8c18-49078b7e9227",
   "metadata": {},
   "source": [
    "These are obviously not the verse lines, but also don't match the number of speeches returned by the DTS API. We need to further investigate at this point.\n",
    "\n",
    "Another approach is to retrieve the XML file representing the play from the endpoint `corpora/{corpusname}/plays/{playname}/tei`. The following cells retrieve and parse the XML using the package `etree`. Based on the parsed XML tree the `<tei:sp>` elements can be identified with an xPath-expression and can be counted. "
   ]
  },
  {
   "cell_type": "code",
   "execution_count": 100,
   "id": "a287b854-cd30-4a04-b495-aac5f55cdc46",
   "metadata": {},
   "outputs": [
    {
     "name": "stdout",
     "output_type": "stream",
     "text": [
      "In the TEI-XML file retrieved from the DraCor API there are 311 <sp> elements.\n"
     ]
    }
   ],
   "source": [
    "# define the namespaces, otherwise xPath expressions won't work\n",
    "namespaces = {\n",
    "    'tei': 'http://www.tei-c.org/ns/1.0',\n",
    "    'dts': 'https://w3id.org/dts/api#'\n",
    "}\n",
    "\n",
    "r = requests.get(\"https://staging.dracor.org/api/v1/corpora/ger/plays/goethe-iphigenie-auf-tauris/tei\")\n",
    "# use etree to parse the XML\n",
    "xml = etree.fromstring(r.text)\n",
    "# Get all tei:sp elements with an xPath \n",
    "sp_elements = xml.xpath(\"//tei:sp\", namespaces=namespaces)\n",
    "# Count the <sp> elements\n",
    "num_sp_elements = len(sp_elements)\n",
    "print(f\"In the TEI-XML file retrieved from the DraCor API there are {num_sp_elements} <sp> elements.\")"
   ]
  },
  {
   "cell_type": "markdown",
   "id": "4a6de729-5f4d-4e4d-9efd-5376e76368b4",
   "metadata": {},
   "source": [
    "The number of `<sp>` elements and the number of citable units that are of the `citeType` `speech` should be the same. This is tested in the next code cell."
   ]
  },
  {
   "cell_type": "code",
   "execution_count": 101,
   "id": "a20a377a-9409-450f-b336-db1f7ca3039f",
   "metadata": {},
   "outputs": [],
   "source": [
    "# check if the number is the same\n",
    "# There should be no assertion error when running this cell\n",
    "\n",
    "assert len(speech_acts) == num_sp_elements, \"The number of citable units of type 'speech' does not match the number of <sp> in the xml.\"   "
   ]
  },
  {
   "cell_type": "markdown",
   "id": "bf76ac38-08fe-41d6-9973-25f9b007fc5f",
   "metadata": {},
   "source": [
    "### Comparing the Spoken text (DTS, DraCor API)"
   ]
  },
  {
   "cell_type": "markdown",
   "id": "89ca21a6-c4d0-45f0-aca8-1c21e1f9cf0d",
   "metadata": {},
   "source": [
    "To compare if the spoken text returned by the regular DraCor API and the text available via the DTS Document endpoint we need to generate a \"text\" that combines the textual contents of all citable units that are representing speeches. The textual content for each speech is fetched from the Document endpoint in the following code cell. There are several API calls necessary therefore running the cell takes some time (we are talking about minutes here...)."
   ]
  },
  {
   "cell_type": "code",
   "execution_count": 102,
   "id": "f08c684a-a984-4e9b-89de-20a3dffb6b64",
   "metadata": {},
   "outputs": [
    {
     "name": "stdout",
     "output_type": "stream",
     "text": [
      "CPU times: user 3.26 s, sys: 771 ms, total: 4.03 s\n",
      "Wall time: 5min 13s\n"
     ]
    }
   ],
   "source": [
    "%%time\n",
    "\n",
    "# Generate the text that can be retrieved via DTS \n",
    "# similar to the one returned by the API /corpora/{corpusname}/plays/{playname}/spoken-text\n",
    "\n",
    "resource = \"https://staging.dracor.org/id/ger000001\"\n",
    "dts_text = []\n",
    "\n",
    "# Use the already downloaded citable units that have been identified as speech acts\n",
    "for citable_unit in speech_acts:\n",
    "    # we have to query the document endpoint here to get the actual text\n",
    "    request_url = f\"{api_base}dts/document?resource={resource}&ref={citable_unit[\"identifier\"]}\"\n",
    "    r = requests.get(request_url)\n",
    "    tei = etree.fromstring(r.text)\n",
    "    text_nodes = tei.xpath(\"//tei:l/text()|tei:p/text()\", namespaces=namespaces)\n",
    "    for text_node in text_nodes:\n",
    "        dts_text.append(text_node)"
   ]
  },
  {
   "cell_type": "markdown",
   "id": "4f7e71c4-86e0-417d-844a-c7f289e90ffb",
   "metadata": {},
   "source": [
    "In this case the program had to send 311 requests to the API to fetch each individual citable unit and get the TEI representation via the DTS Document endpoint. Getting the text this way makes only sense for evaluation purposes and must not be integrated in a front end or any other application.\n",
    "\n",
    "After the text has been assembled, it can be output as demonstrated in the following cell:"
   ]
  },
  {
   "cell_type": "code",
   "execution_count": 103,
   "id": "62e48ea7-4b84-49e2-8bf3-58635e836052",
   "metadata": {},
   "outputs": [
    {
     "data": {
      "text/plain": [
       "['Heraus in eure Schatten, rege Wipfel',\n",
       " \"Des alten, heil'gen, dichtbelaubten Haines,\",\n",
       " 'Wie in der Göttin stilles Heiligtum',\n",
       " \"Tret' ich noch jetzt mit schauderndem Gefühl,\",\n",
       " 'Als wenn ich sie zum erstenmal beträte,',\n",
       " 'Und es gewöhnt sich nicht mein Geist hierher.',\n",
       " 'So manches Jahr bewahrt mich hier verborgen',\n",
       " 'Ein hoher Wille, dem ich mich ergebe;',\n",
       " 'Doch immer bin ich, wie im ersten, fremd.']"
      ]
     },
     "execution_count": 103,
     "metadata": {},
     "output_type": "execute_result"
    }
   ],
   "source": [
    "# First 10 lines of the text\n",
    "dts_text[0:9]"
   ]
  },
  {
   "cell_type": "markdown",
   "id": "124aabbe-afa3-4500-9f55-b667c99088be",
   "metadata": {},
   "source": [
    "Now the texts retrieved via the regular DraCor API endpoint and the text assembled based on the citable units via the DTS endpoints Navigation and Document can be compared:"
   ]
  },
  {
   "cell_type": "code",
   "execution_count": 104,
   "id": "3d9158c3-f0f4-45ba-849a-567ce7e90116",
   "metadata": {},
   "outputs": [
    {
     "data": {
      "text/plain": [
       "['Heraus in eure Schatten, rege Wipfel',\n",
       " \"Des alten, heil'gen, dichtbelaubten Haines,\",\n",
       " 'Wie in der Göttin stilles Heiligtum',\n",
       " \"Tret' ich noch jetzt mit schauderndem Gefühl,\",\n",
       " 'Als wenn ich sie zum erstenmal beträte,',\n",
       " 'Und es gewöhnt sich nicht mein Geist hierher.',\n",
       " 'So manches Jahr bewahrt mich hier verborgen',\n",
       " 'Ein hoher Wille, dem ich mich ergebe;',\n",
       " 'Doch immer bin ich, wie im ersten, fremd.']"
      ]
     },
     "execution_count": 104,
     "metadata": {},
     "output_type": "execute_result"
    }
   ],
   "source": [
    "# Compare to the first 10 lines of the text retrieved via the DraCor API (corpora/.../tei) that was spit by newline character\n",
    "text_via_api_lines[0:9]"
   ]
  },
  {
   "cell_type": "markdown",
   "id": "119dda59-3b04-4a9f-86a0-fdb6a9eab061",
   "metadata": {},
   "source": [
    "Although the first 10 lines as shown in the two code cells above are similar, when comparing the whole texts, they are not identical, as is revealed by the test in the following cell:"
   ]
  },
  {
   "cell_type": "code",
   "execution_count": 105,
   "id": "76486b00-7a8b-44d5-963d-c8bbe031b1c3",
   "metadata": {},
   "outputs": [
    {
     "name": "stdout",
     "output_type": "stream",
     "text": [
      "Number of lines in the text retrived via the regular DraCor API: 2203\n",
      "Number of lines in the text retrieved via the DTS API based on citeable units: 2254\n"
     ]
    }
   ],
   "source": [
    "# The lists don't have the same length, why?\n",
    "# assert len(dts_text) == len(text_via_api_lines), \"Not the same length\"\n",
    "\n",
    "print(f\"Number of lines in the text retrived via the regular DraCor API: {len(text_via_api_lines)}\")\n",
    "print(f\"Number of lines in the text retrieved via the DTS API based on citeable units: {len(dts_text)}\")"
   ]
  },
  {
   "cell_type": "markdown",
   "id": "0bb36aa5-e331-4a73-bb52-33545ecf43f3",
   "metadata": {},
   "source": [
    "The numbers don't add up because there is some cleaning necessary which can be demonstrated by a typical problem that involves additional whitespace characters:"
   ]
  },
  {
   "cell_type": "code",
   "execution_count": 106,
   "id": "16430d87-aaad-4c13-a4c1-07ccd2ec5427",
   "metadata": {},
   "outputs": [
    {
     "data": {
      "text/plain": [
       "['Nach seines Vaters Hallen, wo die Sonne',\n",
       " '\\n                    ',\n",
       " ' Zuerst den Himmel vor ihm aufschloß, wo']"
      ]
     },
     "execution_count": 106,
     "metadata": {},
     "output_type": "execute_result"
    }
   ],
   "source": [
    "# There is some cleaning necessary for sure\n",
    "# Inspected the first 100 lines\n",
    "# dts_text[0:99]\n",
    "# The problem might be this whitespace as can be seen here:\n",
    "\n",
    "dts_text[18:21]"
   ]
  },
  {
   "cell_type": "markdown",
   "id": "39762995-9dbd-4838-b5a6-691bed9bbc94",
   "metadata": {},
   "source": [
    "There is a blank line included in comparison to the output of the API, where there is no blank line:"
   ]
  },
  {
   "cell_type": "code",
   "execution_count": 107,
   "id": "85a05c8b-7a58-470a-a8ab-e146c89cbd53",
   "metadata": {},
   "outputs": [
    {
     "data": {
      "text/plain": [
       "['Nach seines Vaters Hallen, wo die Sonne',\n",
       " 'Zuerst den Himmel vor ihm aufschloß, wo',\n",
       " 'Sich Mitgeborne spielend fest und fester']"
      ]
     },
     "execution_count": 107,
     "metadata": {},
     "output_type": "execute_result"
    }
   ],
   "source": [
    "# Get the same portion of the text as returned by the regular DraCor API\n",
    "\n",
    "text_via_api_lines[18:21]"
   ]
  },
  {
   "cell_type": "markdown",
   "id": "037e59bc-bfda-4129-9d1b-9f01fc611776",
   "metadata": {},
   "source": [
    "The code in the following cell cleans up the text lines bases on the DTS responses and removes the unnecessary blank lines:"
   ]
  },
  {
   "cell_type": "code",
   "execution_count": 108,
   "id": "db52dee8-85fc-4758-a052-dbd815821bef",
   "metadata": {},
   "outputs": [
    {
     "data": {
      "text/plain": [
       "52"
      ]
     },
     "execution_count": 108,
     "metadata": {},
     "output_type": "execute_result"
    }
   ],
   "source": [
    "import re\n",
    "\n",
    "# Regular expression to match strings with only whitespace and newline characters\n",
    "regex_pattern = re.compile(r\"^\\s*$\")\n",
    "\n",
    "# Counter for items that match the pattern\n",
    "counter = 0\n",
    "\n",
    "# Loop over the items\n",
    "for index, value in enumerate(dts_text):\n",
    "    if regex_pattern.match(value):\n",
    "        #print(line)\n",
    "        counter += 1\n",
    "        dts_text.pop(index)\n",
    "\n",
    "# Output the counter: how many lines have been removed\n",
    "counter"
   ]
  },
  {
   "cell_type": "markdown",
   "id": "125ab269-0034-4baa-b060-84f9efe94aa6",
   "metadata": {},
   "source": [
    "There are only 52 of these lines containing only whitespace. Still, the numbers don't match up, as can be seen in the next cell:"
   ]
  },
  {
   "cell_type": "code",
   "execution_count": 109,
   "id": "234e33ac-6543-4448-85bd-c4ddacdd77f0",
   "metadata": {},
   "outputs": [],
   "source": [
    "#assert len(text_via_api_lines) == ( len(dts_text) - counter ), \"Still some discrepancies\""
   ]
  },
  {
   "cell_type": "code",
   "execution_count": 110,
   "id": "b307c780-469d-456b-a66e-f03b21215b8f",
   "metadata": {},
   "outputs": [
    {
     "name": "stdout",
     "output_type": "stream",
     "text": [
      "Number of lines in the text retrived via the regular DraCor API: 2203\n",
      "Number of lines in the text retrieved via the DTS API based on citeable units: 2202\n"
     ]
    }
   ],
   "source": [
    "#dts_text[18:21]\n",
    "# The lists don't have the same length, why?\n",
    "# assert len(dts_text) == len(text_via_api_lines), \"Not the same length\"\n",
    "print(f\"Number of lines in the text retrived via the regular DraCor API: {len(text_via_api_lines)}\")\n",
    "print(f\"Number of lines in the text retrieved via the DTS API based on citeable units: {len(dts_text)}\")"
   ]
  },
  {
   "cell_type": "markdown",
   "id": "fcadf5fd-fee0-43d8-aa04-27583d491862",
   "metadata": {},
   "source": [
    "The following code identifies differences in the individual text lines:"
   ]
  },
  {
   "cell_type": "code",
   "execution_count": 111,
   "id": "b4778216-17dd-4ceb-b863-304a7cd3c8ad",
   "metadata": {},
   "outputs": [
    {
     "name": "stdout",
     "output_type": "stream",
     "text": [
      "There are 53 text lines that are different.\n"
     ]
    }
   ],
   "source": [
    "#Determine the maximum length the two lists of lines\n",
    "max_length = max(len(dts_text), len(text_via_api_lines))\n",
    "\n",
    "# Compare the lists and identify differences\n",
    "differences = []\n",
    "for i in range(max_length):\n",
    "    # Get the elements from both lists, or None if the index is out of range\n",
    "    elem1 = dts_text[i] if i < len(dts_text) else None\n",
    "    elem2 = text_via_api_lines[i] if i < len(text_via_api_lines) else None\n",
    "\n",
    "    # Compare the elements\n",
    "    if elem1 != elem2:\n",
    "        differences.append((i, elem1, elem2))\n",
    "\n",
    "# Output the differences\n",
    "#differences\n",
    "print(f\"There are {len(differences)} text lines that are different.\")"
   ]
  },
  {
   "cell_type": "markdown",
   "id": "ccbdece9-ee3c-40c4-87fb-fe2e6afcb94c",
   "metadata": {},
   "source": [
    "The next cell outputs a typical case in which the text of the lines is different because of whitespace:"
   ]
  },
  {
   "cell_type": "code",
   "execution_count": 112,
   "id": "ed1fc69e-b67d-4f36-b847-e561547f7d0d",
   "metadata": {},
   "outputs": [
    {
     "data": {
      "text/plain": [
       "(19,\n",
       " ' Zuerst den Himmel vor ihm aufschloß, wo',\n",
       " 'Zuerst den Himmel vor ihm aufschloß, wo')"
      ]
     },
     "execution_count": 112,
     "metadata": {},
     "output_type": "execute_result"
    }
   ],
   "source": [
    "# Output the first item of the list containing the differing lines\n",
    "\n",
    "differences[0]"
   ]
  },
  {
   "cell_type": "markdown",
   "id": "ea3a7328-c3fc-4a3f-bae5-8d23a8b71b54",
   "metadata": {},
   "source": [
    "The last item in the list also shows a problem:"
   ]
  },
  {
   "cell_type": "code",
   "execution_count": 113,
   "id": "399f9cc5-4b83-4769-a478-cc6e39116023",
   "metadata": {},
   "outputs": [
    {
     "data": {
      "text/plain": [
       "[(2202, None, '')]"
      ]
     },
     "execution_count": 113,
     "metadata": {},
     "output_type": "execute_result"
    }
   ],
   "source": [
    "# in the last one there is also a problem; in the text returned via the api there is an empty line, \n",
    "# thus the 1 difference in count\n",
    "differences[-1:]"
   ]
  },
  {
   "cell_type": "markdown",
   "id": "08dd99c3-3c30-4816-a284-99f8c558511c",
   "metadata": {},
   "source": [
    "Most of the differnces in the texts is due to whitespace. A quick way to check if the text is otherwise identical is to strip the whitespace characters altogether and just compare the other character data:"
   ]
  },
  {
   "cell_type": "code",
   "execution_count": 114,
   "id": "027411ed-27dc-4648-a7c9-66ee7d980eb7",
   "metadata": {},
   "outputs": [
    {
     "name": "stdout",
     "output_type": "stream",
     "text": [
      "Length of joined DTS text in characters: 85952\n",
      "Length of API text in characters: 85900\n"
     ]
    }
   ],
   "source": [
    "# We see that the differences are probably due to whitespace\n",
    "# if we reduce all whitespace the texts should be the same\n",
    "# in the first step all lines are joined to a single string\n",
    "joined_dts_text = \"\".join(dts_text)\n",
    "joined_api_text_lines = \"\".join(text_via_api_lines)\n",
    "print(f\"Length of joined DTS text in characters: {len(joined_dts_text)}\")\n",
    "print(f\"Length of API text in characters: {len(joined_api_text_lines)}\")\n",
    "# There is still whitespace in it"
   ]
  },
  {
   "cell_type": "code",
   "execution_count": 115,
   "id": "398db2d8-fecc-46ec-a31a-e1cf5dd151dc",
   "metadata": {},
   "outputs": [
    {
     "name": "stdout",
     "output_type": "stream",
     "text": [
      "Length of DTS text (whitespace removed) in characters: 73551\n",
      "Length of API text (whitespace removed) in characters: 73551\n"
     ]
    }
   ],
   "source": [
    "# Then a regular expression is used to remove all whitespace\n",
    "cleaned_joined_dts_text = re.sub(r\"\\s+\", \"\", joined_dts_text)\n",
    "cleaned_joined_api_text = re.sub(r\"\\s+\", \"\", joined_api_text_lines)\n",
    "\n",
    "print(f\"Length of DTS text (whitespace removed) in characters: {len(cleaned_joined_dts_text)}\")\n",
    "print(f\"Length of API text (whitespace removed) in characters: {len(cleaned_joined_api_text)}\")"
   ]
  },
  {
   "cell_type": "code",
   "execution_count": 116,
   "id": "2d69a80f-3ac8-4515-a773-028f3647005a",
   "metadata": {},
   "outputs": [],
   "source": [
    "# This assertion should not fail\n",
    "assert len(cleaned_joined_dts_text) == len(cleaned_joined_api_text), \"The texts are not the same length\""
   ]
  },
  {
   "cell_type": "markdown",
   "id": "e26b7658-3c11-4cf6-a442-1cf387b7a149",
   "metadata": {},
   "source": [
    "We demonstrated that after some programming intervention and treating whitespace it is possible to retrieve the same text from the DTS API as could be retrieved from the `/corpora/{corpusname}/plays/{playname}/spoken-text` endpoint of the DraCor API. \n",
    "\n",
    "The API implements filtering options via the paramerts `gender`, `reation` and `role` e.g. it is possible to filter for spoken text by female characters only."
   ]
  },
  {
   "cell_type": "markdown",
   "id": "c8856329-abad-4efe-a7c3-2fd3219e6b89",
   "metadata": {},
   "source": [
    "### Getting the Spoken Text by Character\n",
    "\n",
    "Using the DTS endpoint it is possible to retrieve the spoken text of individual characters. This can be achieved by filtering the citable units representing the speech acts. For example, we can filter for all speech acts by the character *Iphigenie* (identifier: `iphigenie`):"
   ]
  },
  {
   "cell_type": "code",
   "execution_count": 117,
   "id": "106382c0-1313-4df7-887b-0a9585e8b452",
   "metadata": {},
   "outputs": [],
   "source": [
    "# we use 'speech_acts' as basis; quick check if it is still the data of Iphigenie auf Tauris\n",
    "assert len(speech_acts) == 311, \"There have been changes to the variable containing the speech acts of the play Iphigenie auf Tauris. Should redownload.\""
   ]
  },
  {
   "cell_type": "code",
   "execution_count": 118,
   "id": "d86144a9-9a67-435e-a9b3-9f86604240c9",
   "metadata": {},
   "outputs": [
    {
     "data": {
      "text/plain": [
       "{'identifier': 'body/div[1]/div[1]/sp[1]',\n",
       " '@type': 'CitableUnit',\n",
       " 'extensions': {'@context': 'https://raw.githubusercontent.com/dracor-org/dracor-ontology/refs/heads/main/json-ld-contexts/dts-extension-context.json',\n",
       "  'speakers': ['iphigenie'],\n",
       "  'snippet': 'Heraus in eure Schatten, rege [...] Tode!'},\n",
       " 'level': 4,\n",
       " 'parent': 'body/div[1]/div[1]',\n",
       " 'citeType': 'speech'}"
      ]
     },
     "execution_count": 118,
     "metadata": {},
     "output_type": "execute_result"
    }
   ],
   "source": [
    "# Output a single speech act\n",
    "\n",
    "speech_acts[0]"
   ]
  },
  {
   "cell_type": "markdown",
   "id": "fc87bc81-3048-4e7d-ac98-a0505d6b173a",
   "metadata": {},
   "source": [
    "The code in the next cell filters the the citable units representing speeches by character:"
   ]
  },
  {
   "cell_type": "code",
   "execution_count": 119,
   "id": "02a0ffd9-705e-4312-862a-598a2ad6b684",
   "metadata": {},
   "outputs": [],
   "source": [
    "# Speech filter as a lambda function\n",
    "\n",
    "character_filter = lambda citeable_unit: \"iphigenie\" in citeable_unit[\"extensions\"][\"speakers\"]\n",
    "# Filter for speeches using the lamdda function\n",
    "iphigenie_speech_acts = list(filter(character_filter, speech_acts))"
   ]
  },
  {
   "cell_type": "code",
   "execution_count": 120,
   "id": "363c15ab-1dbc-4777-9360-fce653ed57f6",
   "metadata": {},
   "outputs": [
    {
     "data": {
      "text/plain": [
       "134"
      ]
     },
     "execution_count": 120,
     "metadata": {},
     "output_type": "execute_result"
    }
   ],
   "source": [
    "# Output the number of speech acts by Iphigenie\n",
    "\n",
    "len(iphigenie_speech_acts)"
   ]
  },
  {
   "cell_type": "code",
   "execution_count": 121,
   "id": "c90c472c-ea19-461e-9c48-9e41eb64d791",
   "metadata": {},
   "outputs": [
    {
     "data": {
      "text/plain": [
       "{'identifier': 'body/div[1]/div[1]/sp[1]',\n",
       " '@type': 'CitableUnit',\n",
       " 'extensions': {'@context': 'https://raw.githubusercontent.com/dracor-org/dracor-ontology/refs/heads/main/json-ld-contexts/dts-extension-context.json',\n",
       "  'speakers': ['iphigenie'],\n",
       "  'snippet': 'Heraus in eure Schatten, rege [...] Tode!'},\n",
       " 'level': 4,\n",
       " 'parent': 'body/div[1]/div[1]',\n",
       " 'citeType': 'speech'}"
      ]
     },
     "execution_count": 121,
     "metadata": {},
     "output_type": "execute_result"
    }
   ],
   "source": [
    "# Output a single speech act by the character Iphigenie\n",
    "\n",
    "iphigenie_speech_acts[0]"
   ]
  },
  {
   "cell_type": "markdown",
   "id": "0a409928-7ee8-4bcd-ba3c-749db36860d4",
   "metadata": {},
   "source": [
    "The DraCor API endpoint `corpora/{corpusname}/plays/{playname}/spoken-text-by-character` returns a JSON array of all characters represented by character objects that include the spoken text in the field `text`, e.g. we can get the spoken text of the character *Iphigenie* via this endpoint of the regular DraCor API as well:\n",
    "\n",
    "[https://staging.dracor.org/api/v1/corpora/ger/plays/goethe-iphigenie-auf-tauris/spoken-text-by-character](https://staging.dracor.org/api/v1/corpora/ger/plays/goethe-iphigenie-auf-tauris/spoken-text-by-character)"
   ]
  },
  {
   "cell_type": "code",
   "execution_count": 122,
   "id": "9ed17bbb-63a6-4245-8728-70ba1123855c",
   "metadata": {},
   "outputs": [],
   "source": [
    "r = requests.get(\"https://staging.dracor.org/api/v1/corpora/ger/plays/goethe-iphigenie-auf-tauris/spoken-text-by-character\")\n",
    "character_texts = r.json()"
   ]
  },
  {
   "cell_type": "markdown",
   "id": "ce7d89bd-4c4d-4e37-aeb1-1b353361c7e2",
   "metadata": {},
   "source": [
    "The JSON array that is returned by the API contains the spoken text of the play grouped by character as objects. If we want to get the text by a single character only, we need to identify the object that represents the text lines spoken by a single character, i.e. the list needs to be filtered:"
   ]
  },
  {
   "cell_type": "code",
   "execution_count": 123,
   "id": "05b08988-4361-4921-80b1-3d2aa1c4ce72",
   "metadata": {},
   "outputs": [],
   "source": [
    "# Filter for the object with the id value of iphigenie\n",
    "\n",
    "iphigenie_text_object_via_api = list(filter(lambda character: character[\"id\"] == \"iphigenie\", character_texts))[0]"
   ]
  },
  {
   "cell_type": "code",
   "execution_count": 124,
   "id": "cc37b158-dee1-4ab7-8f49-c7fda089f215",
   "metadata": {},
   "outputs": [],
   "source": [
    "#Just assign the text from the dictionary iphigenie_text_object_via_api\n",
    "# to a new variable \n",
    "\n",
    "iphigenie_text_via_api = iphigenie_text_object_via_api[\"text\"]"
   ]
  },
  {
   "cell_type": "code",
   "execution_count": 125,
   "id": "1debdb79-8bb7-4ab3-ad0e-c9fe96f5df42",
   "metadata": {},
   "outputs": [
    {
     "name": "stdout",
     "output_type": "stream",
     "text": [
      "When retrieved via the corpora/.../spoken-text-by-character endpoint the character Iphigenie has 992 lines of text.\n"
     ]
    }
   ],
   "source": [
    "print(f\"When retrieved via the corpora/.../spoken-text-by-character endpoint the character Iphigenie has {len(iphigenie_text_via_api)} lines of text.\")"
   ]
  },
  {
   "cell_type": "markdown",
   "id": "bfc11ee5-4454-4e10-93f1-0a0c8b67adae",
   "metadata": {},
   "source": [
    "Again, from the DTS endpoint we can retrieve the individual speeches a citable units. The DraCor API endpoint returns the text in spoken text lines and does not include any additional structuring. To compare both text representations, we again get the text for the citable units from the DTS Document endpoint and strip the whitespace; in case of the text retrieved from the `corpora/.../spoken-text-by-character` endpoint we join the lines and then strip the whitespace. This way the two texts should be identical. The whole process takes some time (approx. 2mins) because several requests to the API are necessary."
   ]
  },
  {
   "cell_type": "code",
   "execution_count": 126,
   "id": "5f5a8198-f31d-4e93-8480-c97d7c3dff7a",
   "metadata": {},
   "outputs": [
    {
     "name": "stdout",
     "output_type": "stream",
     "text": [
      "CPU times: user 1.48 s, sys: 338 ms, total: 1.82 s\n",
      "Wall time: 2min 12s\n"
     ]
    }
   ],
   "source": [
    "%%time\n",
    "\n",
    "# Generate the text that can be retrieved via DTS similar \n",
    "# to the one returned by the API /corpora/{corpusname}/plays/{playname}/spoken-text\n",
    "\n",
    "resource = \"https://staging.dracor.org/id/ger000001\"\n",
    "dts_iphigenie_text = []\n",
    "\n",
    "# Use the already downloaded citable units that have been identified as speech acts\n",
    "# use Iphigenie's speech acts here:\n",
    "\n",
    "for citable_unit in iphigenie_speech_acts:\n",
    "    # we have to query the document endpoint here to get the actual text\n",
    "    request_url = f\"{api_base}dts/document?resource={resource}&ref={citable_unit[\"identifier\"]}\"\n",
    "    r = requests.get(request_url)\n",
    "    tei = etree.fromstring(r.text)\n",
    "    text_nodes = tei.xpath(\"//tei:l/text()|tei:p/text()\", namespaces=namespaces)\n",
    "    for text_node in text_nodes:\n",
    "        dts_iphigenie_text.append(text_node)"
   ]
  },
  {
   "cell_type": "code",
   "execution_count": 127,
   "id": "464200be-a1f4-44d9-bfc3-ae2fc5bd5e2e",
   "metadata": {},
   "outputs": [
    {
     "data": {
      "text/plain": [
       "1014"
      ]
     },
     "execution_count": 127,
     "metadata": {},
     "output_type": "execute_result"
    }
   ],
   "source": [
    "# there again will be the problem with the whitespace character lines so initially the numbers don't match\n",
    "\n",
    "len(dts_iphigenie_text)"
   ]
  },
  {
   "cell_type": "code",
   "execution_count": 128,
   "id": "2781202e-56d1-4ec0-9cf8-813cfa7c04fd",
   "metadata": {},
   "outputs": [
    {
     "data": {
      "text/plain": [
       "['Nach seines Vaters Hallen, wo die Sonne',\n",
       " '\\n                    ',\n",
       " ' Zuerst den Himmel vor ihm aufschloß, wo']"
      ]
     },
     "execution_count": 128,
     "metadata": {},
     "output_type": "execute_result"
    }
   ],
   "source": [
    "# A typical whitespace problem\n",
    "\n",
    "dts_iphigenie_text[18:21]"
   ]
  },
  {
   "cell_type": "code",
   "execution_count": 129,
   "id": "72ae6b5c-a565-4d40-a656-cc9ce395ea41",
   "metadata": {},
   "outputs": [
    {
     "name": "stdout",
     "output_type": "stream",
     "text": [
      "Length of joined DTS text in characters: 32729\n",
      "Length of API text in characters: 32729\n"
     ]
    }
   ],
   "source": [
    "# Clean the text: Join the lines, remove whitespace\n",
    "\n",
    "dts_iphigenie_text_joined = \"\".join(dts_iphigenie_text)\n",
    "dts_iphigenie_text_cleaned = re.sub(r\"\\s+\", \"\", dts_iphigenie_text_joined)\n",
    "\n",
    "iphigenie_text_via_api_joined = \"\".join(iphigenie_text_via_api)\n",
    "iphigenie_text_via_api_cleaned = re.sub(r\"\\s+\", \"\", iphigenie_text_via_api_joined)\n",
    "\n",
    "\n",
    "assert len(iphigenie_text_via_api_cleaned) == len(dts_iphigenie_text_cleaned), \"Texts are not the same length.\"\n",
    "\n",
    "print(f\"Length of joined DTS text in characters: {len(dts_iphigenie_text_cleaned)}\")\n",
    "print(f\"Length of API text in characters: {len(iphigenie_text_via_api_cleaned)}\")\n",
    "\n",
    "assert iphigenie_text_via_api_cleaned == dts_iphigenie_text_cleaned, \"Texts are not identical.\"\n"
   ]
  },
  {
   "cell_type": "markdown",
   "id": "950d2500-d8a9-4127-b63f-3a17c9c78109",
   "metadata": {},
   "source": [
    "The experiment shows that the text of a certain character that can be retrieved via the DTS API is (after some whitespace handling) identical to the text returned by the `/corpora/{corpusname}/plays/{playname}/spoken-text-by-character` endpoint. "
   ]
  },
  {
   "cell_type": "code",
   "execution_count": 130,
   "id": "299e7d36-4b48-485f-b2bf-e788a15650ab",
   "metadata": {},
   "outputs": [
    {
     "data": {
      "text/plain": [
       "['label', 'id', 'sex', 'text', 'isGroup', 'roles']"
      ]
     },
     "execution_count": 130,
     "metadata": {},
     "output_type": "execute_result"
    }
   ],
   "source": [
    "# list the keys of the object providing information on the spoken text of\n",
    "list(iphigenie_text_object_via_api.keys())"
   ]
  },
  {
   "cell_type": "markdown",
   "id": "e064928b-eb44-441b-bf96-af130013b62f",
   "metadata": {},
   "source": [
    "In the case of the DraCor API spoken-text-by-character endpoint, apart from the spoken text of a character (`text`) there is formation on the identifier of a character (`id`, API Feature Ch1 [character_id](https://staging.dracor.org/doc/odd#character_id)), the character label (`name`, API Feature Ch2 [character_name](https://staging.dracor.org/doc/odd#character_name)), if the character is a group character (`isGroup`, API Feature Ch3 [character_is_group](https://staging.dracor.org/doc/odd#character_is_group)), the assigned gender of the character (`gender`, API Feature Ch4 [character_gender](https://staging.dracor.org/doc/odd#character_gender)) (**Attention**: \"sex/gender\" is changed in the version 1.1 release of the API and version 1 of the DraCor schema) and it roles (`roles`, API Feature Ch14 [character_role](https://staging.dracor.org/doc/odd#character_role)). Similar information on the character is not included in any response of the DTS endpoint.\n",
    "\n",
    "While the endpoint of the regular API provides richer information on the character speaking (see list of field keys the previous code cell), the DTS API allows to retrieve citeable units for a given segment of the text. "
   ]
  },
  {
   "cell_type": "markdown",
   "id": "3d6a9077-27d8-4800-9d93-416e6cb139a5",
   "metadata": {},
   "source": [
    "### Granular access to the spoken text by character\n",
    "\n",
    "The following code cells show an example of how the spoken text by the character *Iphigenie* in a certain act and scene can be retrieved:"
   ]
  },
  {
   "cell_type": "code",
   "execution_count": 131,
   "id": "b6d68931-ae67-4362-b090-75aaa0da3605",
   "metadata": {},
   "outputs": [],
   "source": [
    "# Get the citable units of the fifth act\n",
    "\n",
    "resource = \"https://staging.dracor.org/id/ger000001\"\n",
    "ref = \"body/div[5]\"\n",
    "down = \"-1\"\n",
    "request_url = f\"{api_base}dts/navigation?resource={resource}&ref={ref}&down={down}\"\n",
    "r = requests.get(request_url)\n",
    "response_data = r.json()\n",
    "fifth_act_citable_units = response_data[\"member\"]"
   ]
  },
  {
   "cell_type": "markdown",
   "id": "dcf6159c-63d8-4efb-ac5c-11e0b395d90e",
   "metadata": {},
   "source": [
    "We can check if it is the fifth acts (we guessed the value of the identifier `ref`) by looking a the object liked via the property `ref`, in this case the `dc:title` in the Dublin Core `Metadata` object which is `\"Fünfter Aufzug\"` (equivalent to \"Fifth Act\")."
   ]
  },
  {
   "cell_type": "code",
   "execution_count": 132,
   "id": "7d06d15c-81d6-46ca-9b77-c7cdbe84a4a2",
   "metadata": {},
   "outputs": [
    {
     "data": {
      "text/plain": [
       "{'identifier': 'body/div[5]',\n",
       " '@type': 'CitableUnit',\n",
       " 'dublinCore': {'title': 'Fünfter Aufzug'},\n",
       " 'level': 2,\n",
       " 'parent': 'body',\n",
       " 'citeType': 'act'}"
      ]
     },
     "execution_count": 132,
     "metadata": {},
     "output_type": "execute_result"
    }
   ],
   "source": [
    "# check on the ref if it is really the fifth act\n",
    "response_data[\"ref\"]"
   ]
  },
  {
   "cell_type": "code",
   "execution_count": 133,
   "id": "1f6f4a2a-f7e6-453e-8936-d1aee1d68bdd",
   "metadata": {},
   "outputs": [
    {
     "name": "stdout",
     "output_type": "stream",
     "text": [
      "How many citable units are in the fifth act?\n"
     ]
    },
    {
     "data": {
      "text/plain": [
       "85"
      ]
     },
     "execution_count": 133,
     "metadata": {},
     "output_type": "execute_result"
    }
   ],
   "source": [
    "# How many citable units are there in the fifth act\n",
    "\n",
    "print(\"How many citable units are in the fifth act?\")\n",
    "len(fifth_act_citable_units)"
   ]
  },
  {
   "cell_type": "markdown",
   "id": "d5fbf94a-dc2e-443e-9ebd-6a717d3a12bb",
   "metadata": {},
   "source": [
    "Based on this citable units we can identify scenes by evaluating the propety `citeType`. This is also something that can't be done with the regular DraCor API."
   ]
  },
  {
   "cell_type": "code",
   "execution_count": 134,
   "id": "0076f419-2a92-4bdd-87d4-9abb794fb521",
   "metadata": {},
   "outputs": [
    {
     "name": "stdout",
     "output_type": "stream",
     "text": [
      "There are 6 scenes in the fifth act.\n"
     ]
    }
   ],
   "source": [
    "# How many scenes\n",
    "# This is also something that can't be done with the regular DraCor API\n",
    "\n",
    "scene_filter = lambda citeable_unit: citeable_unit[\"citeType\"] == \"scene\"\n",
    "scenes_fifth_act = list(filter(scene_filter, fifth_act_citable_units))\n",
    "len(scenes_fifth_act)\n",
    "print(f\"There are {len(scenes_fifth_act)} scenes in the fifth act.\")"
   ]
  },
  {
   "cell_type": "markdown",
   "id": "4c811288-7267-42f1-8f26-e1191f4187da",
   "metadata": {},
   "source": [
    "Likewise, we can count the speech acts in a given act:"
   ]
  },
  {
   "cell_type": "code",
   "execution_count": 135,
   "id": "36667003-5d4a-4f00-ae2e-7b9164978b77",
   "metadata": {},
   "outputs": [
    {
     "name": "stdout",
     "output_type": "stream",
     "text": [
      "There are 65 speech acts in the fifth act.\n"
     ]
    }
   ],
   "source": [
    "# How many of these are speech acts\n",
    "# we need to filter here for citeType = \"speech\"\n",
    "# Speech filter as a lambda function\n",
    "speech_filter = lambda citable_unit: citable_unit[\"citeType\"] == \"speech\"\n",
    "speeches_fifth_act =  list(filter(speech_filter, fifth_act_citable_units))\n",
    "print(f\"There are {len(speeches_fifth_act)} speech acts in the fifth act.\")"
   ]
  },
  {
   "cell_type": "markdown",
   "id": "4f0807cd-7a91-447c-8b24-c26276a96b71",
   "metadata": {},
   "source": [
    "We can find out, how many speech acts are attributed to a single character in a given segment of the play:"
   ]
  },
  {
   "cell_type": "code",
   "execution_count": 136,
   "id": "921a258d-fc4f-4111-a142-76fc37360e54",
   "metadata": {},
   "outputs": [
    {
     "name": "stdout",
     "output_type": "stream",
     "text": [
      "Iphigenie has 26 speech acts in the fifth act.\n"
     ]
    }
   ],
   "source": [
    "# filter for the speech acts (speeches_fifth_act) of the character iphigenie in the fifth act \n",
    "# Speech filter as a lambda function\n",
    "\n",
    "iphigenie_filter = lambda citeable_unit: \"iphigenie\" in citeable_unit[\"extensions\"][\"speakers\"]\n",
    "iphigenie_speech_acts = list(filter(iphigenie_filter, speeches_fifth_act))\n",
    "print(f\"Iphigenie has {len(iphigenie_speech_acts)} speech acts in the fifth act.\")"
   ]
  },
  {
   "cell_type": "markdown",
   "id": "99a00925-7b42-4369-97b8-ae2224a57b42",
   "metadata": {},
   "source": [
    "With the help of DTS we can also answer questions like \"What is the last speech act of a character?\""
   ]
  },
  {
   "cell_type": "code",
   "execution_count": 137,
   "id": "7397f079-2efe-40c3-b7da-bea164568125",
   "metadata": {},
   "outputs": [
    {
     "data": {
      "text/plain": [
       "{'identifier': 'body/div[5]/div[6]/sp[12]',\n",
       " '@type': 'CitableUnit',\n",
       " 'extensions': {'@context': 'https://raw.githubusercontent.com/dracor-org/dracor-ontology/refs/heads/main/json-ld-contexts/dts-extension-context.json',\n",
       "  'speakers': ['iphigenie'],\n",
       "  'snippet': 'Nicht so, mein König! Ohne [...] Rechte.'},\n",
       " 'level': 4,\n",
       " 'parent': 'body/div[5]/div[6]',\n",
       " 'citeType': 'speech'}"
      ]
     },
     "execution_count": 137,
     "metadata": {},
     "output_type": "execute_result"
    }
   ],
   "source": [
    "# We can get the last speech act of the character Iphigenie\n",
    "\n",
    "iphigenie_speech_acts[-1]"
   ]
  },
  {
   "cell_type": "markdown",
   "id": "b45e647e-cb07-477e-ac1d-02b7e2361384",
   "metadata": {},
   "source": [
    "To compile the actual text spoken by the character *Iphigenie* in the fifth act we need to use the Document endpoint:"
   ]
  },
  {
   "cell_type": "code",
   "execution_count": 138,
   "id": "102492bf-781a-42cc-bbdb-2f5b08aa97d8",
   "metadata": {},
   "outputs": [
    {
     "name": "stdout",
     "output_type": "stream",
     "text": [
      "CPU times: user 210 ms, sys: 51.3 ms, total: 261 ms\n",
      "Wall time: 25.9 s\n"
     ]
    }
   ],
   "source": [
    "%%time\n",
    "\n",
    "# Generate the text that can be retrieved via DTS Document endpoint\n",
    "\n",
    "resource = \"https://staging.dracor.org/id/ger000001\"\n",
    "iphigenie_text = []\n",
    "# Use the already downloaded citable units that have been identified as speech acts by iphigenie of the fifth act (iphigenie_speech_acts)\n",
    "for citeable_unit in iphigenie_speech_acts:\n",
    "    # we have to query the document endpoint here to get the actual text\n",
    "    request_url = f\"{api_base}dts/document?resource={resource}&ref={citeable_unit[\"identifier\"]}\"\n",
    "    r = requests.get(request_url)\n",
    "    tei = etree.fromstring(r.text)\n",
    "    text_nodes = tei.xpath(\"//tei:l/text()|tei:p/text()\", namespaces=namespaces)\n",
    "    for text_node in text_nodes:\n",
    "        iphigenie_text.append(text_node)"
   ]
  },
  {
   "cell_type": "markdown",
   "id": "2fb2fd93-ed72-4b1e-bae2-776b3c24328b",
   "metadata": {},
   "source": [
    "Again, some cleaning of whitespace is necessary. The following code cell removes the whitespace only lines and outputs how many lines have been removed:"
   ]
  },
  {
   "cell_type": "code",
   "execution_count": 139,
   "id": "55c92e59-c2a3-4a03-88d3-d60748ff36ea",
   "metadata": {},
   "outputs": [
    {
     "name": "stdout",
     "output_type": "stream",
     "text": [
      "6 lines were removed.\n"
     ]
    }
   ],
   "source": [
    "# Iphigenie speaks approx. 240 lines of text, probably there are lines that contain only whitespace characters which have to be stripped\n",
    "#len(iphigenie_text)\n",
    "# Remove the newline characters only lines (again, using regex to identify these lines)\n",
    "\n",
    "regex_pattern = re.compile(r\"^\\s*$\")\n",
    "\n",
    "# Counter for items that match the pattern\n",
    "counter = 0\n",
    "\n",
    "# Loop over the items\n",
    "for index, value in enumerate(iphigenie_text):\n",
    "    if regex_pattern.match(value):\n",
    "        #print(line)\n",
    "        counter += 1\n",
    "        iphigenie_text.pop(index)\n",
    "\n",
    "# Output the counter\n",
    "print(f\"{counter} lines were removed.\")"
   ]
  },
  {
   "cell_type": "code",
   "execution_count": 140,
   "id": "a2b9e1fc-dc44-4992-9631-1a1c12299c47",
   "metadata": {},
   "outputs": [
    {
     "name": "stdout",
     "output_type": "stream",
     "text": [
      "The character Iphigenie speaks 234 lines of text in the fifth act.\n"
     ]
    }
   ],
   "source": [
    "# There were 6 lines with only whitespace\n",
    "print(f\"The character Iphigenie speaks {len(iphigenie_text)} lines of text in the fifth act.\")"
   ]
  },
  {
   "cell_type": "code",
   "execution_count": 141,
   "id": "b22c5d99-a5e0-49fa-8119-465d3ce4d80f",
   "metadata": {},
   "outputs": [],
   "source": [
    "# Return the text similar to the spoken-text-by-character endpoint\n",
    "# To do this, we need to join the lines into a single text. The lines should be separated by newline\n",
    "iphigenie_plain_text = \"\\n\".join(iphigenie_text)"
   ]
  },
  {
   "cell_type": "markdown",
   "id": "c7fbd8a3-646a-430c-86bc-a9f2b9af965b",
   "metadata": {},
   "source": [
    "We can output the spoken text by the character Iphigenie in the fifth act:"
   ]
  },
  {
   "cell_type": "code",
   "execution_count": 142,
   "id": "52179f3c-0e37-4953-9bc9-07a3b0511d5d",
   "metadata": {},
   "outputs": [
    {
     "name": "stdout",
     "output_type": "stream",
     "text": [
      "Du forderst mich! Was bringt dich zu uns her?\n",
      "Ich hab' an Arkas alles klar erzählt.\n",
      "Die Göttin gibt dir Frist zur Überlegung.\n",
      "Wenn dir das Herz zum grausamen Entschluß\n",
      "Verhärtet ist, so solltest du nicht kommen!\n",
      "Ein König, der Unmenschliches verlangt,\n",
      "Findt Diener gnug, die gegen Gnad' und Lohn\n",
      "Den halben Fluch der Tat begierig fassen;\n",
      "Doch seine Gegenwart bleibt unbefleckt.\n",
      "Er sinnt den Tod in einer schweren Wolke\n",
      "Und seine Boten bringen flammendes\n",
      "Verderben auf des Armen Haupt hinab;\n",
      "Er aber schwebt durch seine Höhen ruhig,\n",
      "Ein unerreichter Gott, im Sturme fort.\n",
      "Nicht Priesterin! nur Agamemnons Tochter.\n",
      "Der Unbekannten Wort verehrtest du,\n",
      "Der Fürstin willst du rasch gebieten? Nein!\n",
      "Von Jugend auf hab' ich gelernt gehorchen,\n",
      "Erst meinen Eltern und dann einer Gottheit,\n",
      "Und folgsam fühlt' ich immer meine Seele\n",
      "Am schönsten frei; allein dem harten Worte,\n",
      "Dem rauhen Ausspruch eines Mannes mich\n",
      "Zu fügen, lernt' ich weder dort noch hier.\n",
      "Wir fassen ein Gesetz begierig an,\n",
      "Das unsrer Leiden [...]\n"
     ]
    }
   ],
   "source": [
    "# We just print the first 1000 characters of the text\n",
    "print(f\"{iphigenie_plain_text[:999]} [...]\")"
   ]
  },
  {
   "cell_type": "markdown",
   "id": "5b978ec0-b75e-4a53-9b13-7733e05e5cea",
   "metadata": {},
   "source": [
    "In a similar flexible way DTS can be used to retrieve information about the speeches of individual character in certain structural segments of the text and allow for retrieving this text. \n",
    "\n",
    "This can not be done with the regular DraCor API endpoints because the endpoints that return a certain subtext of the play are not aware of the play's overall structural division. This structural information can not be retrieved by any other endpoints of the regular DraCor API in such a way that it can be re-connected to the text. The only option with the regular API would be to ultimatively rely on the \"bare\" TEI-XML."
   ]
  },
  {
   "cell_type": "markdown",
   "id": "6456de10-5ea8-4a3e-b581-7e74ec5f48f0",
   "metadata": {},
   "source": [
    "### Granular access to stage directions"
   ]
  },
  {
   "cell_type": "markdown",
   "id": "96a967cf-3cff-453b-a7c3-e6f5095bfce1",
   "metadata": {},
   "source": [
    "What is possible for speech acts, can also be done for stage directions. The following code briefly demonstrates how to retrieve stage directions of the fifth act:"
   ]
  },
  {
   "cell_type": "code",
   "execution_count": 143,
   "id": "e516603d-ad1a-4915-8515-4a788aa48d23",
   "metadata": {},
   "outputs": [
    {
     "name": "stdout",
     "output_type": "stream",
     "text": [
      "There are 14 stage directions in the fifth act.\n"
     ]
    }
   ],
   "source": [
    "# Lambda function that can be used to filter the already downloaded citable units \n",
    "# in the fifth act (fifth_act_citable_units)\n",
    "stage_direction_filter = lambda citable_unit: citable_unit[\"citeType\"] == \"stage_direction\"\n",
    "fifth_act_stage_directions = list(filter(stage_direction_filter, fifth_act_citable_units))\n",
    "\n",
    "print(f\"There are {len(fifth_act_stage_directions)} stage directions in the fifth act.\")"
   ]
  },
  {
   "cell_type": "code",
   "execution_count": 144,
   "id": "29014a78-5f24-4f1e-a838-1e006e1d9cf5",
   "metadata": {},
   "outputs": [
    {
     "data": {
      "text/plain": [
       "{'identifier': 'body/div[5]/div[4]/stage[1]',\n",
       " '@type': 'CitableUnit',\n",
       " 'extensions': {'@context': 'https://raw.githubusercontent.com/dracor-org/dracor-ontology/refs/heads/main/json-ld-contexts/dts-extension-context.json',\n",
       "  'snippet': 'Orest gewaffnet. Die Vorigen.'},\n",
       " 'level': 4,\n",
       " 'parent': 'body/div[5]/div[4]',\n",
       " 'citeType': 'stage_direction'}"
      ]
     },
     "execution_count": 144,
     "metadata": {},
     "output_type": "execute_result"
    }
   ],
   "source": [
    "# an example of a citable unit representing a stage direction\n",
    "fifth_act_stage_directions[4]"
   ]
  },
  {
   "cell_type": "markdown",
   "id": "ce0991bc-8e78-4f03-b30f-30092a301462",
   "metadata": {},
   "source": [
    "### Conclusion\n",
    "\n",
    "Despite the additional complexity, the experiments demonstrated that the DTS API can be used to retrieve the same text as the DraCor API, albeit with the need for post-processing to handle whitespace and newline characters. The major advantage of the DTS API is that it supports a more granular access to the text that takes the structuring of the play into account. \n",
    "\n",
    "For example, the experiments demonstrated how to retrieve the spoken text of the character *Iphigenie* of Goethe's play *Iphigenie auf Tauris* using the DTS API resulting in the same text as returned by the regular API. The DTS-based approach involved filtering the citable units for speech acts (value of  the property `citeType` is `speech`) attributed to *Iphigenie* (`iphigenie` included in the array of the field `speakers`) and then querying the Document endpoint to retrieve the actual text. On the level of the whole play the regular API endpoint shows a better performance, because using the DTS API normally involves multiple calls to the Document endpoint to retrieve the text of a single citable unit. The DTS API also does not provide the additional character information that the DraCor API offers, such as gender and roles. \n",
    "\n",
    "The experiments also explored the retrieval of stage directions using both APIs. The DraCor API provides endpoints that return stage directions, including those nested within `<sp>` elements. The DTS API, on the other hand, allows for the retrieval of stage directions by filtering citable units representing stage directions (value of the property `citeType` is `stage_direction`).\n",
    "\n",
    "The experiments demonstrated that the DTS API can retrieve the same stage directions as the DraCor API, with the added flexibility of filtering by specific structural segments of the text.\n",
    "\n",
    "One of the significant advantages of the DTS API is its ability to provide structural information about the text. This information can be used to retrieve text representations for specific segments of the text, such as acts and scenes. The experiments demonstrated how to retrieve the spoken text of the character *Iphigenie* in a specific act and scene using the DTS API.\n",
    "This level of flexibility is not possible with the DraCor API, which does not provide endpoints that return structural information in a way that can be reconnected to the text. The only option with the DraCor API is to rely on the returned TEI-XML, which requires additional parsing and processing.\n",
    "\n",
    "The experiments conducted in this notebook highlight the strengths and limitations of both the DraCor API and the DTS API. While the DraCor API provides straightforward endpoints for retrieving specific subsets of textual data, the DTS API offers a more flexible and granular approach to accessing and manipulating textual data. This flexibility comes at the cost of additional complexity, decreased performance, and the need for post-processing, but it enables more precise and customized data retrieval.\n",
    "\n",
    "The DTS API's ability to provide structural information and retrieve text representations for specific segments of the text makes it an additional powerful tool for researchers and developers working with dramatic corpora. However, the lack of additional character information and the need for multiple API requests are limitations that need to be addressed in future developments."
   ]
  },
  {
   "cell_type": "markdown",
   "id": "19bd653c-8640-41c7-bb26-46880be11c2d",
   "metadata": {},
   "source": [
    "## References\n",
    "\n",
    "Almas, Bridget, Hugh Cayless, Thibault Clérice, Vincent Jolivet, Pietro Maria Liuzzo, Jonathan\n",
    "Robie, Matteo Romanello, and Ian Scott. “Distributed Text Services (DTS): A Community-\n",
    "Built API to Publish and Consume Text Collections as Linked Data.” Journal of the Text\n",
    "Encoding Initiative (2023). [https://doi.org/10.4000/jtei.4352](https://doi.org/10.4000/jtei.4352). \n",
    "\n",
    "Börner, Ingo, and Peer Trilcke. „CLS INFRA D7.1 On Programmable Corpora“. Zenodo, 2023.\n",
    "[https://doi.org/10.5281/ZENODO.7664964](https://doi.org/10.5281/ZENODO.7664964).\n",
    "\n",
    "Börner, Ingo, and Peer Trilcke. „CLS INFRA D7.4 Report on the Implementation of Programmable Corpora“. CLS INFRA, 2025.\n",
    "[https://doi.org/10.5281/zenodo.15301341](https://doi.org/10.5281/zenodo.15301341). \n",
    "\n",
    "Cayless, Hugh, Thibault Clérice, Robie Jonathan, Ian Scott, and Bridget Almas: “Distributed Text Services Specifications” (Version 1-alpha) [Computer software], 2024. https://github.com/distributed-text-services/specifications.\n",
    "\n",
    "Pfister, Manfred. “The Theory and Analysis of Drama” (translated by John Halliday). Cambridge: Cambridge University Press, 2000."
   ]
  }
 ],
 "metadata": {
  "kernelspec": {
   "display_name": "dracor-notebooks-dts",
   "language": "python",
   "name": "dracor-notebooks-dts"
  },
  "language_info": {
   "codemirror_mode": {
    "name": "ipython",
    "version": 3
   },
   "file_extension": ".py",
   "mimetype": "text/x-python",
   "name": "python",
   "nbconvert_exporter": "python",
   "pygments_lexer": "ipython3",
   "version": "3.13.1"
  }
 },
 "nbformat": 4,
 "nbformat_minor": 5
}

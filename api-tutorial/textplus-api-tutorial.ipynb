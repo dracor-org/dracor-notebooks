{
 "cells": [
  {
   "cell_type": "markdown",
   "metadata": {},
   "source": [
    "# DraCor API mit Python verwenden"
   ]
  },
  {
   "attachments": {},
   "cell_type": "markdown",
   "metadata": {},
   "source": [
    "## Dokumentation der API\n",
    "\n",
    "Zum Kennenlernen und Testen von API Funktionen kann unter https://dracor.org/doc/api eine interaktive Dokumentation im [OpenAPI Format](https://spec.openapis.org/oas/v3.1.0.html) aufgerufen werden. Diese listet alle verfügbaren Endpunkte auf. Öffnet man durch Anklicken einen dieser Einträge, erhält man neben einer kurzen Beschreibung der Funktion auch Informationen zu verpflichtend oder optionalen zu verwendenden Parametern. Beispielsweise sind bei einer Abfrage des Endpunktes `/corpora/{corpusname}/play/{playname}` verpflichtend die Parameter `corpusname` und `playname` anzugeben:\n",
    "\n",
    "![Bsp. eines Eintrags zu einer API-Funktion](images/openapi_corpus_endpoint_params_ex.png \"Bsp. eines Eintrags zu einer API-Funktion\")\n",
    "\n",
    "Neben den Beispieleinträgen aus den Auswahlfeldern können hier natürlich auch die Daten zu weiteren Stücken abgefragt werden – vorausgesetzt, es werden gültige Werte für die beiden Parameter angegeben. Diese müssen unter Zuhilfenahme anderer API-Funktionen recherchiert werden.\n",
    "\n",
    "Eine Liste von möglichen Werten für den Parameter `corpusname` liefert die [API-Funktion `/corpora`](https://dracor.org/doc/api#/public/list-corpora). Ruft man die URL https://dracor.org/api/corpora auf, erhält man eine Liste von verfügbaren Korpora, wobei ein Einzeleintrag zu einem Korpus folgenden Aufbau hat:\n",
    "\n",
    "```\n",
    "{\n",
    "  \"licence\" : \"CC0\",\n",
    "  \"licenceUrl\" : \"https://creativecommons.org/share-your-work/public-domain/cc0/\",\n",
    "  \"description\" : \"Edited by [Frank Fischer](https://lehkost.github.io/). This corpus contains all 37 of Shakespeare's plays in their German translations published by Schlegel and Tieck, in the edition of Aufbau-Verlag Berlin/Weimar (3rd edition 1975), which is based on the last edition published during Schlegel's lifetime (3rd edition 1843/44). The digitised print edition was procured from [Zeno.org](http://www.zeno.org/nid/20005683920) (via TextGrid Repository), which also provided an additional play (»Die beiden edlen Vettern«) that Shakespeare is now considered to have co-authored. This is a first beta version of the corpus. For a full description please see the [README on GitHub](https://github.com/dracor-org/gershdracor).\",\n",
    "  \"uri\" : \"https://dracor.org/api/corpora/gersh\",\n",
    "  \"title\" : \"German Shakespeare Drama Corpus\",\n",
    "  \"repository\" : \"https://github.com/dracor-org/gershdracor\",\n",
    "  \"name\" : \"gersh\",\n",
    "  \"acronym\" : \"GerShDraCor\"\n",
    "}\n",
    "```\n",
    "\n",
    "Möchte man nun Informationen zu diesem Korpus aufrufen, benötigt man den Wert des Feldes `\"name\"`, nämlich `\"gersh\"`. Der Korpusname ist übrigens auch Teil der URL zum anzeigen des Korpus im Frontend und ließe sich hier ebenfalls recht einfach in Erfahrung bringen:\n",
    "\n",
    "![corpusname in der URL](images/corpusname_in_url.png \"corpusname in der URL\")\n",
    "\n",
    "Informationen zu den in einem Korpus enthaltenen Stücken liefert eine weitere API-Funktion: https://dracor.org/api/corpora/gersh\n",
    "\n",
    "Hier sind unter dem *key* `\"dramas\"` des zurückgelieferten JSON Objekts Informationen zu allen Stücken aufgelistet, beispielsweise der Eintrag zum Stück \"Wie es euch gefällt\" in der Übersetzung von August Wilhelm Schlegel:\n",
    "\n",
    "```\n",
    "{\n",
    "    \"writtenYear\" : null,\n",
    "    \"wikidataId\" : \"Q237572\",\n",
    "    \"source\" : \"TextGrid Repository\",\n",
    "    \"id\" : \"gersh000038\",\n",
    "    \"title\" : \"Wie es euch gefällt\",\n",
    "    \"sourceUrl\" : \"http://www.textgridrep.org/textgrid:vn1b.0\",\n",
    "    \"networkSize\" : \"29\",\n",
    "    \"name\" : \"wie-es-euch-gefaellt\",\n",
    "    \"yearNormalized\" : 1799,\n",
    "    \"printYear\" : \"1799\",\n",
    "    \"premiereYear\" : null,\n",
    "    \"authors\" : [ {\n",
    "      \"name\" : \"Shakespeare, William\",\n",
    "      \"fullname\" : \"William Shakespeare\",\n",
    "      \"shortname\" : \"Shakespeare\",\n",
    "      \"refs\" : [ {\n",
    "        \"ref\" : \"Q692\",\n",
    "        \"type\" : \"wikidata\"\n",
    "      }, {\n",
    "        \"ref\" : \"118613723\",\n",
    "        \"type\" : \"pnd\"\n",
    "      } ]\n",
    "    }, {\n",
    "      \"name\" : \"Schlegel, August Wilhelm\",\n",
    "      \"fullname\" : \"August Wilhelm Schlegel\",\n",
    "      \"shortname\" : \"Schlegel\",\n",
    "      \"refs\" : [ {\n",
    "        \"ref\" : \"Q57281\",\n",
    "        \"type\" : \"wikidata\"\n",
    "      }, {\n",
    "        \"ref\" : \"118607960\",\n",
    "        \"type\" : \"pnd\"\n",
    "      } ]\n",
    "    } ],\n",
    "    \"networkdataCsvUrl\" : \"https://dracor.org/api/corpora/gersh/play/wie-es-euch-gefaellt/networkdata/csv\",\n",
    "    \"author\" : {\n",
    "      \"name\" : \"Shakespeare, William\"\n",
    "    }\n",
    "  }\n",
    "```\n",
    "\n",
    "Um dieses Stück nun in weiteren API-Abfragen zu berücksichtigen, benötigt man den Wert des Feldes \"name\", der als Parameter `playname` den entsprechenden API-Abfragen mitzugeben ist. Im Falle des Beispielstückes mit dem Titel \"Wie es euch gefällt\" ist dies `wie-es-euch-gefaellt`. In anderen Korpora sind diese so genannten \"slugs\" in der Regel anders aufgebaut und enthalten zusätzlich zu einer Kurzform des Titels vorangestellt noch den Nachnamen des Autors, wie das folgende Beispiel eines Eintrags aus GerDraCor zeigt (hier ein Screenshot des Frontends):\n",
    "\n",
    "![\"Emilia Galotti\" im Frontend](images/header_frontend_emilia-galotti.png \"Stück Emilia Galotti im Frontend\")\n",
    "\n",
    "Der Identifikator des Stücks \"Emilia Galotti\" von Gotthold Ephraim Lessing, der als Parameter `playname` in API Abfragen verwendet werden muss, ist also `lessing-emilia-galotti`.\n",
    "\n",
    "In der API-Dokumentation zur eingangs vorgestellten Funktion, mit deren Hilfe sich sich Informationen zu einem einzelnen Stück abrufen lassen – `/corpora/{corpusname}/play/{playname}` – kann nun eine Abfrage zu dem Stück aus dem Deutschen Shakespeare-Korpus gestellt werden.\n",
    "\n",
    "Durch Klicken auf die Schaltfläche \"Try it out\" werden die Schaltflächen zum Absenden einer Abfrage angezeigt. Die Parameter zur Abfrage eines Stücks können in die entsprechenden Felder eingesetzt werden. Im vorliegenden Beispiel `gersh` als Parameter `corpusname` und `wie-es-euch-gefaellt` im Eingabefeld zum Parameter `playname`:\n",
    "\n",
    "![Informationen zu \"Wie es euch gefällt\"](images/openapi_playinfo_gersh_wie-es-euch-gefaellt.png \"Informationen zum Stück aus dem Deutschen Shakespeare-Korpus\")\n",
    "\n",
    "Durch Anklicken der Schaltfläche \"Execute\" wird nun die API Abfrage gesendet und die von der API zuurückgelieferten Informationen im Bereich \"Responses\" dargestellt:\n",
    "\n",
    "![Abfrageergebnis zu \"Wie es euch gefällt\"](images/openapi_response_gersh_wie-es-euch-gefaellt.png \"Ergebnis der Abfrage zum Stück aus dem Deutschen Shakespeare-Korpus\")\n",
    "\n",
    "Zusätzlich erhält man die \"Request URL\", unter der die Daten direkt von der API abgerufen werden können: https://dracor.org/api/corpora/gersh/play/wie-es-euch-gefaellt\n",
    "\n",
    "Ein Wissen über den Aufbau dieser URLs ist unabdingbar, wenn man nun aus eigenen Programmen auf die API zurückgreifen möchte. Im Folgenden Teil wird auf die Abfrage der API mittels der Programmiersprache Python näher eingegangen."
   ]
  },
  {
   "cell_type": "markdown",
   "metadata": {},
   "source": [
    "## HTTP-Abfragen mit Python senden"
   ]
  },
  {
   "cell_type": "markdown",
   "metadata": {},
   "source": [
    "Um auf die [DraCor-API](https://dracor.org/doc/api) aus Python zugreifen zu können, müssen Anfragen an die API, sogenannte *http requests*, gesendet werden. In Python ist dies beispielsweise mit der Bibliothek [requests](https://2.python-requests.org) möglich. Wir importieren hierzu die Bibliothek:"
   ]
  },
  {
   "cell_type": "code",
   "execution_count": null,
   "metadata": {},
   "outputs": [],
   "source": [
    "import requests"
   ]
  },
  {
   "cell_type": "markdown",
   "metadata": {},
   "source": [
    "Sollte der Code oben nicht fehlerfrei druchlaufen, muss die Bibliothek zunächst installiert werden. Dies erfolgt mit dem Befehl `pip install`. Aus dem Notebook können mit vorangestelltem `!` Befehle direkt im Terminal ausgeführt werden:"
   ]
  },
  {
   "cell_type": "code",
   "execution_count": null,
   "metadata": {},
   "outputs": [],
   "source": [
    "!pip install requests"
   ]
  },
  {
   "attachments": {},
   "cell_type": "markdown",
   "metadata": {},
   "source": [
    "## `/info`: Information über die API abfragen\n",
    "\n",
    "Informationen über die API können über den Endpunkt `info` abgefragt werden. Die Dokumentation der API-Funktion findet sich hier: https://dracor.org/doc/api#/public/api-info \n",
    "\n",
    "![Open API Dokumentation zur Info-Funktion](images/openapi_info_endpoint_executed.png \"Open API Dokumentation zur Info-Funktion\")\n",
    "\n",
    "Der Dokumention lässt sich entnehmen, dass die Info-Funktion unter der Request URL https://dracor.org/api/info aufgerufen werden kann. Der entsprechende *http request* kann mittels Python wie folgt gesendet werden:"
   ]
  },
  {
   "cell_type": "code",
   "execution_count": null,
   "metadata": {},
   "outputs": [],
   "source": [
    "r = requests.get(\"https://dracor.org/api/info\")\n",
    "r.text"
   ]
  },
  {
   "cell_type": "markdown",
   "metadata": {},
   "source": [
    "Auf diese Anfrage liefert die API die Information im JSON Format zurück, welches in Python in eine verarbeitbare Datenstruktur überführt werden muss. Hierfür lässt sich die Bibliothek `json` einsetzen, mit der sich JSON \"parsen\" lässt:"
   ]
  },
  {
   "cell_type": "code",
   "execution_count": null,
   "metadata": {},
   "outputs": [],
   "source": [
    "import json\n",
    "parsedResponse = json.loads(r.text)\n",
    "parsedResponse"
   ]
  },
  {
   "cell_type": "markdown",
   "metadata": {},
   "source": [
    "Um lediglich die aktuelle Version der API auszugeben, kann der Wert mit dem *key* `'version'` der Datenstruktur *dictionary* ausgelesen werden:"
   ]
  },
  {
   "cell_type": "code",
   "execution_count": null,
   "metadata": {},
   "outputs": [],
   "source": [
    "print(\"Die aktuell verwendete Version der DraCor-API ist \" + parsedResponse['version'] + \".\")"
   ]
  },
  {
   "attachments": {},
   "cell_type": "markdown",
   "metadata": {},
   "source": [
    "## `/corpora`: Verfügbare Korpora auflisten \n",
    "\n",
    "Die API-Funktion `/corpora` listet verfügbare Korpora auf. \n",
    "\n",
    "Im folgenden Beispiel werden zunächst die Daten unter https://dracor.org/api/corpora abgerufen (die request url zur Funktion, siehe [Dokumentation](https://dracor.org/doc/api#/public/list-corpora)). Neben den Informationen zum jeweiligen Korpus werden durch Hinzufügen des Parameters `include` mit dem Wert `metrics` – in der request URL `?include=metrics` – zusätzlich weitere Metriken angefordert, um später die Anzahl der enthaltenen Stücke ausgeben zu können. Die entsprechende Request URL lässt sich der Dokumentation entnehmen, wenn der Parameter \"include\" ausgewählt wird:\n",
    "\n",
    "![Dokumentation des include Parameter der corpora Funktion](images/openapi_include_parameter_of_corpora_function.png \"Dokumentation des include Parameter der corpora Funktion\")\n",
    "\n",
    "Nach Abruf der Daten werden dieses in einer Schleife nacheinaner abgearbeitet. Zu jedem Korpus werden die Werte der Felder Korpusname `name`, der Titel des Korpus `title` und die Anzahl der enthaltenen Stücke, die zuvor aus den Korpus-Metriken `metrics` extrahiert und in der Variable `numofplays` abgelegt wird, ausgegeben."
   ]
  },
  {
   "cell_type": "code",
   "execution_count": null,
   "metadata": {},
   "outputs": [],
   "source": [
    "r = requests.get(\"https://dracor.org/api/corpora?include=metrics\")\n",
    "corpora = json.loads(r.text)\n",
    "corpora\n",
    "for corpus in corpora:\n",
    "    numofplays = corpus['metrics']['plays']\n",
    "    print(corpus['name'] + \": \" + corpus['title'] + ' (' + str(numofplays) + ' Stücke)')"
   ]
  },
  {
   "cell_type": "markdown",
   "metadata": {},
   "source": [
    "## Generische Funktion zum Absenden und Parsen von API-Anfragen\n",
    "\n",
    "Das Abfragen von Informationen über die API erfolgt in den meisten Fällen diesen Schritten:\n",
    " * Konstruktion der request-url: In der Regel wird `https://dracor.org/api/` als Basis-URL genommen und einzelne Methoden und (Pfad-)Parameter nach einem bestimmten Muster angehängt. Das generelle Muster zur Abfrage eines Stücks folgt beispielsweise dem Muster, dass auf die Methode `/corpora` ein Pfad-Parameter  `corpusname` folgt und hieran wiederum die Methode `/play` mit `playname` als Parameter angehängt wird. In vielen Fällen wird dann an dieses Konstrukt eine Methode angehängt, wie beispielsweise `cast`, mit der das Figureninventar des zuvor mit `corpora/{corpusname}/play/{playname}` identifizierten Stückes abzufragen. In seltenen Fällen wird zusätzlich das Rückgabe-Format in der URL angegeben, wie bespielsweise bei den Endpunkten zur Abfrage von Relationen zwischen Figuren (Netzwerkknoten) `.../relations/{csv|gexf|graphml}`;\n",
    " * die konstruierte URL wird dann in einer Anfrage verwendet\n",
    " * und die abgerufenen Daten im Anschluss daran in eine Python-Datenstruktur überführt (geparsed).\n",
    " \n",
    "Um die Abfrage zu vereinfachen und nicht ständig den mehr oder weniger gleichen Code zu wiederholen, kann eine Funktion definiert werden, die das Senden von Abfragen und der Verarbeitung der Resultate übernimmt. Diese generische Funktion soll als Argumente `corpusname`, `playname` und `method` übergeben bekommen, die Daten laden und auf Wunsch das JSON-Format umwandeln. Das Parsen von JSON erfolgt mit der Bibliothek `json`, die bereits zuvor importiert wurde."
   ]
  },
  {
   "cell_type": "code",
   "execution_count": null,
   "metadata": {},
   "outputs": [],
   "source": [
    "# Für denn Fall, dass dies nicht geschehen ist, kann die folgende \"auskommen\" Code-Zeile \n",
    "# durch entfernen der Raute von einem Kommentar in ausführbaren Code umgewandelt werden und dieser dann ausgeführt werden.\n",
    "\n",
    "#import json"
   ]
  },
  {
   "cell_type": "markdown",
   "metadata": {},
   "source": [
    "Die Funktion akzeptiert die folgenden Argumente nach dem Muster `corpusname=\"ger\"`:\n",
    "\n",
    "* `apibase` (Basis-URL; der Standard-Wert `https://dracor.org/api/` kann überschrieben werden, wenn bspw. eine lokale Docker-Instanz der DraCor-API oder der Staging Server verwendet werden soll)\n",
    "* `corpusname`\n",
    "* `playname`\n",
    "* `method`\n",
    "* `parse_json`: `True`, `False` (Standard-Wert) – Wenn `True` gesetzt wird, wird das JSON umgewandelt\n"
   ]
  },
  {
   "cell_type": "code",
   "execution_count": null,
   "metadata": {},
   "outputs": [],
   "source": [
    "#corpusname:str -> []\n",
    "def get(**kwargs):\n",
    "    #corpusname=corpusname\n",
    "    #playname=playname\n",
    "    #apibase=\"https://dracor.org/api/\"\n",
    "    #method=method\n",
    "    #parse_json: True\n",
    "    \n",
    "    #could set different apibase, e.g. https://staging.dracor.org/api/ [not recommended, pls use the production server]\n",
    "    if \"apibase\" in kwargs:\n",
    "        if kwargs[\"apibase\"].endswith(\"/\"):\n",
    "            apibase = kwargs[\"apibase\"]\n",
    "        else:\n",
    "            apibase = kwargs[\"apibase\"] + \"/\"\n",
    "    else:\n",
    "        #use default\n",
    "        apibase = \"https://dracor.org/api/\"\n",
    "    if \"corpusname\" in kwargs and \"playname\" in kwargs:\n",
    "        # used for /api/corpora/{corpusname}/play/{playname}/\n",
    "        if \"method\" in kwargs[\"method\"]:\n",
    "            request_url = apibase + \"corpora/\" + kwargs[\"corpusname\"] + \"/play/\" + kwargs[\"playname\"] + \"/\" + kwargs[\"method\"]\n",
    "        else:\n",
    "            request_url = apibase + \"corpora/\" + kwargs[\"corpusname\"] + \"/play/\" + kwargs[\"playname\"]\n",
    "    elif \"corpusname\" in kwargs and not \"playname\" in kwargs:\n",
    "        if \"method\" in kwargs:\n",
    "            request_url = apibase + \"corpora/\" + kwargs[\"corpusname\"] + \"/\" + kwargs[\"method\"]\n",
    "        else:\n",
    "            request_url = apibase + \"corpora/\" + kwargs[\"corpusname\"] \n",
    "    elif \"method\" in kwargs and not \"corpusname\" in kwargs and not \"playname\" in kwargs:\n",
    "            request_url = apibase + kwargs[\"method\"]\n",
    "    else: \n",
    "        #nothing set\n",
    "        request = request_url = apibase + \"info\"\n",
    "    \n",
    "    #send the response\n",
    "    r = requests.get(request_url)\n",
    "    if r.status_code == 200:\n",
    "        #success!\n",
    "        if \"parse_json\" in kwargs:\n",
    "            if kwargs[\"parse_json\"] == True:\n",
    "                json_data = json.loads(r.text)\n",
    "                return json_data\n",
    "            else:\n",
    "                return r.text\n",
    "        else:\n",
    "            return r.text\n",
    "    else:\n",
    "        raise Exception(\"Request was not successful. Server returned status code: \"  + str(r.status_code))\n",
    "       "
   ]
  },
  {
   "cell_type": "markdown",
   "metadata": {},
   "source": [
    "Nachdem die Funktion oben definiert wurde, kann sie nun beispielsweise verwendet werden, um die Informationen über die API vom `/api/info` Endpunkt abzurufen:"
   ]
  },
  {
   "cell_type": "code",
   "execution_count": null,
   "metadata": {},
   "outputs": [],
   "source": [
    "get(method=\"info\", parse_json=True)"
   ]
  },
  {
   "cell_type": "markdown",
   "metadata": {},
   "source": [
    "Die Metriken zu einem einzelnen Stück (`/api/corpora/{corpusname}/play/{playname}/metrics`) können mit diesem Funktionsaufruf bezogen werden:"
   ]
  },
  {
   "cell_type": "code",
   "execution_count": null,
   "metadata": {},
   "outputs": [],
   "source": [
    "get(corpusname=\"ger\",playname=\"lessing-emilia-galotti\",method=\"metrics\",parse_json=True)"
   ]
  },
  {
   "cell_type": "markdown",
   "metadata": {},
   "source": [
    "Analog hierzu können alle anderen API-Funktionen aufgerufen werden. Zu den Funktionaliäten der API sei an dieser Stelle nochmals eindrücklich auf die Dokumentation verwiesen."
   ]
  },
  {
   "cell_type": "markdown",
   "metadata": {},
   "source": [
    "## Weitere Anwendungsbeispiele"
   ]
  },
  {
   "cell_type": "markdown",
   "metadata": {},
   "source": [
    "Weitere Anwendungsmöglichkeiten finden sich in Jupyter Notebooks im Github Repositorium [\"dracor-notebooks\"](https://github.com/dracor-org/dracor-notebooks/)."
   ]
  }
 ],
 "metadata": {
  "kernelspec": {
   "display_name": "Python 3",
   "language": "python",
   "name": "python3"
  },
  "language_info": {
   "codemirror_mode": {
    "name": "ipython",
    "version": 3
   },
   "file_extension": ".py",
   "mimetype": "text/x-python",
   "name": "python",
   "nbconvert_exporter": "python",
   "pygments_lexer": "ipython3",
   "version": "3.6.7"
  }
 },
 "nbformat": 4,
 "nbformat_minor": 2
}

{
 "cells": [
  {
   "cell_type": "markdown",
   "id": "ec0ddf8a",
   "metadata": {},
   "source": [
    "# Speech Analysis of DraCor Data"
   ]
  },
  {
   "cell_type": "code",
   "execution_count": null,
   "id": "b6123273",
   "metadata": {},
   "outputs": [],
   "source": [
    "import requests\n",
    "import pandas as pd\n",
    "import spacy\n",
    "from tqdm import tqdm\n",
    "from collections import Counter\n",
    "from wordcloud import WordCloud"
   ]
  },
  {
   "cell_type": "markdown",
   "id": "060783ce",
   "metadata": {},
   "source": [
    "# 1. Retrieve data\n",
    "* Decide for a corpus and play \n"
   ]
  },
  {
   "cell_type": "markdown",
   "id": "30131d67",
   "metadata": {},
   "source": [
    "### 1.1 Set URL to API"
   ]
  },
  {
   "cell_type": "code",
   "execution_count": null,
   "id": "fa44fe1c",
   "metadata": {},
   "outputs": [],
   "source": [
    "base_url = \"https://dracor.org/api/v1/\""
   ]
  },
  {
   "cell_type": "markdown",
   "id": "b6307183",
   "metadata": {},
   "source": [
    "### 1.2 Get corpus overview "
   ]
  },
  {
   "cell_type": "code",
   "execution_count": null,
   "id": "be978eeb",
   "metadata": {},
   "outputs": [],
   "source": [
    "corpus_overview_url = base_url + \"corpora/\"\n",
    "corpus_list = requests.get(corpus_overview_url).json()\n",
    "\n",
    "corpus_abbreviations = []\n",
    "\n",
    "for corpus_description in corpus_list:\n",
    "    name = corpus_description[\"name\"]\n",
    "    print(f'{name}: {corpus_description[\"title\"]}')\n",
    "    corpus_abbreviations.append(name)"
   ]
  },
  {
   "cell_type": "markdown",
   "id": "a907f23e",
   "metadata": {},
   "source": [
    "### 1.3 Select corpus"
   ]
  },
  {
   "cell_type": "code",
   "execution_count": null,
   "id": "0c7454eb",
   "metadata": {},
   "outputs": [],
   "source": [
    "for i in range(10):\n",
    "    # get corpusname with user input\n",
    "    # save corpusname in variable\n",
    "    corpusname = str(input(\"Please choose a corpusname from the list above. Enter the abbreviation: \"))\n",
    "    if corpusname not in corpus_abbreviations:\n",
    "        print(\"The abbreviation you selected is not in the list. Please enter the abbreviation again.\")\n",
    "    else:\n",
    "        print(\"Success!\")\n",
    "        break\n",
    "else:\n",
    "    corpusname = \"ger\""
   ]
  },
  {
   "cell_type": "markdown",
   "id": "bab3f250",
   "metadata": {},
   "source": [
    "### 1.4 Get the metadata of the corpus"
   ]
  },
  {
   "cell_type": "code",
   "execution_count": null,
   "id": "881d4f2a",
   "metadata": {},
   "outputs": [],
   "source": [
    "corpus_metadata_url = corpus_overview_url + corpusname + \"/metadata\"\n",
    "\n",
    "# perform request\n",
    "metadata_file = requests.get(corpus_metadata_url, headers={\"accept\": \"text/csv\"}, stream=True)\n",
    "metadata_file.raw.decode_content=True\n",
    "\n",
    "# read metadata to DataFrame\n",
    "metadata_df = pd.read_csv(metadata_file.raw, sep=\",\", encoding=\"utf-8\")\n",
    "\n",
    "metadata_df.head()"
   ]
  },
  {
   "cell_type": "markdown",
   "id": "bbcc0286",
   "metadata": {},
   "source": [
    "### 1.5 Select Play "
   ]
  },
  {
   "cell_type": "code",
   "execution_count": null,
   "id": "0e3d0fc5",
   "metadata": {},
   "outputs": [],
   "source": [
    "for i in range(10):\n",
    "    # get playname with user input\n",
    "    # save playname in variable\n",
    "    playname = str(input(\"Please choose a playname. Enter the abbreviation: \"))\n",
    "    if playname not in metadata_df.name.unique():\n",
    "        print(\"The abbreviation you selected is not in the list. Please enter the abbreviation again.\")\n",
    "    else:\n",
    "        print(\"Success!\")\n",
    "        break\n",
    "else:\n",
    "    playname = \"goethe-faust-in-urspruenglicher-gestalt\""
   ]
  },
  {
   "cell_type": "markdown",
   "id": "9cae6658",
   "metadata": {},
   "source": [
    "### 1.5 Get full text of all plays in the selected corpus"
   ]
  },
  {
   "cell_type": "code",
   "execution_count": null,
   "id": "846be2fe",
   "metadata": {},
   "outputs": [],
   "source": [
    "play_url = corpus_overview_url + corpusname + \"/plays/\" + playname + \"/spoken-text-by-character\"\n",
    "try:\n",
    "    play = requests.get(play_url).json()\n",
    "except:\n",
    "    print(\"No spoken text could be found for this play: \", play_url)"
   ]
  },
  {
   "cell_type": "markdown",
   "id": "290b85da",
   "metadata": {},
   "source": [
    "What does the data look like?"
   ]
  },
  {
   "cell_type": "code",
   "execution_count": null,
   "id": "d0141f98",
   "metadata": {},
   "outputs": [],
   "source": [
    "play[0]"
   ]
  },
  {
   "cell_type": "code",
   "execution_count": null,
   "id": "6e54e372",
   "metadata": {},
   "outputs": [],
   "source": [
    "play[0].keys()"
   ]
  },
  {
   "cell_type": "markdown",
   "id": "603a90dc",
   "metadata": {},
   "source": [
    "## 2. Annotation\n",
    "* Dependent on the language of the corpus, a spacy model needs to be chosen\n",
    "* No models available for alsatian and bashkir\n",
    "* Set spacy model name and download the model\n",
    "* Load spacy model\n",
    "* With spacy we can:\n",
    "  * Tokenise\n",
    "  * Lemmatise\n",
    "  * PoS-Tag\n",
    "  * Dependency Parse"
   ]
  },
  {
   "cell_type": "code",
   "execution_count": null,
   "id": "02f5f1a8",
   "metadata": {},
   "outputs": [],
   "source": [
    "spacy_model_name = \"de_core_news_sm\""
   ]
  },
  {
   "cell_type": "code",
   "execution_count": null,
   "id": "49569b73",
   "metadata": {},
   "outputs": [],
   "source": [
    "! python -m spacy download {spacy_model_name}"
   ]
  },
  {
   "cell_type": "code",
   "execution_count": null,
   "id": "3878e437",
   "metadata": {},
   "outputs": [],
   "source": [
    "nlp = spacy.load(spacy_model_name) "
   ]
  },
  {
   "cell_type": "code",
   "execution_count": null,
   "id": "51fdc46e",
   "metadata": {},
   "outputs": [],
   "source": [
    "for character in play:\n",
    "    text = \"\\n\".join(character[\"text\"])\n",
    "    character[\"text_annotated\"] = nlp(text)\n"
   ]
  },
  {
   "cell_type": "markdown",
   "id": "4101c929",
   "metadata": {},
   "source": [
    "### Navigate the annotations"
   ]
  },
  {
   "cell_type": "code",
   "execution_count": null,
   "id": "221890f8",
   "metadata": {},
   "outputs": [],
   "source": [
    "text_annotated = play[0][\"text_annotated\"]"
   ]
  },
  {
   "cell_type": "code",
   "execution_count": null,
   "id": "8ee605c3",
   "metadata": {},
   "outputs": [],
   "source": [
    "type(text_annotated)"
   ]
  },
  {
   "cell_type": "code",
   "execution_count": null,
   "id": "90e0c411",
   "metadata": {},
   "outputs": [],
   "source": [
    "for token in text_annotated[:20]:\n",
    "    print(token.text, token.lemma_, token.pos_, token.head)"
   ]
  },
  {
   "cell_type": "markdown",
   "id": "91d4e447",
   "metadata": {},
   "source": [
    "## 3. Analyse\n",
    "* Compare speech of the different gender \n",
    "\n",
    "1. Compare content words: adjectives, nouns, verbs\n",
    "  * unique words for female, male, unknown\n",
    "  * frequency comparison\n",
    "\n",
    "2. Compare noun-adjective pairs\n",
    "  * extract with dependency parses \n"
   ]
  },
  {
   "cell_type": "markdown",
   "id": "dca7b439",
   "metadata": {},
   "source": [
    "### 3.0 Comparison number of words"
   ]
  },
  {
   "cell_type": "code",
   "execution_count": null,
   "id": "f0fcbf93",
   "metadata": {},
   "outputs": [],
   "source": [
    "def calculate_num_words_by_gender(play, gender) -> pd.DataFrame:\n",
    "    num_words = {entry: 0 for entry in gender}\n",
    "    for character in play:\n",
    "        num_words[character[\"gender\"]] += len(character[\"text_annotated\"])\n",
    "    return pd.DataFrame(num_words, index=[0])"
   ]
  },
  {
   "cell_type": "code",
   "execution_count": null,
   "id": "b46972ba",
   "metadata": {},
   "outputs": [],
   "source": [
    "unique_gender_values = set([entry[\"gender\"] for entry in play])\n",
    "unique_gender_values"
   ]
  },
  {
   "cell_type": "code",
   "execution_count": null,
   "id": "592b8604",
   "metadata": {},
   "outputs": [],
   "source": [
    "num_words_by_gender = calculate_num_words_by_gender(play, unique_gender_values)"
   ]
  },
  {
   "cell_type": "code",
   "execution_count": null,
   "id": "2e3e1f7b",
   "metadata": {},
   "outputs": [],
   "source": [
    "num_words_by_gender"
   ]
  },
  {
   "cell_type": "markdown",
   "id": "0d62783a",
   "metadata": {},
   "source": [
    "### 3.1 Collect female and male content words and frequencies \n",
    "\n",
    "| Gender | Male | Female | Unknown |\n",
    "|--------|--------|--------|--------|\n",
    "| Word 1   | frq1   | frq1   | frq 1  |\n",
    "| Word 2 | frq2   | frq2   | frq 2  |\n",
    "| Word 3 | frq3   | frq3   | frq 3  |"
   ]
  },
  {
   "cell_type": "code",
   "execution_count": null,
   "id": "c705c220",
   "metadata": {},
   "outputs": [],
   "source": [
    "def get_lemmata_by_pos(annotated_text: spacy.tokens.doc.Doc, \n",
    "                       pos_tags=['NOUN', 'VERB', 'ADJ']) -> list[str]:\n",
    "    lemmata = []\n",
    "    for token in annotated_text:\n",
    "        if token.pos_ in pos_tags:\n",
    "            lemmata.append(token.lemma_)\n",
    "    return lemmata\n",
    "    "
   ]
  },
  {
   "cell_type": "code",
   "execution_count": null,
   "id": "025d92e2",
   "metadata": {},
   "outputs": [],
   "source": [
    "def calculate_lemma_frq_by_gender(play:dict, gender: set) -> pd.DataFrame:\n",
    "    frequencies = {entry:{} for entry in gender}\n",
    "    for character in play: \n",
    "        lemmata = get_lemmata_by_pos(character[\"text_annotated\"])\n",
    "        lemma_frq = Counter(lemmata)\n",
    "        for word, frq in lemma_frq.items():\n",
    "            if word not in frequencies[character[\"gender\"]]:\n",
    "                frequencies[character[\"gender\"]][word] = 0\n",
    "            frequencies[character[\"gender\"]][word] += frq\n",
    "    return pd.DataFrame(frequencies).fillna(0)\n",
    "                "
   ]
  },
  {
   "cell_type": "code",
   "execution_count": null,
   "id": "1fa4b134",
   "metadata": {},
   "outputs": [],
   "source": [
    "frq_df = calculate_lemma_frq_by_gender(play, unique_gender_values)\n",
    "len(frq_df)"
   ]
  },
  {
   "cell_type": "code",
   "execution_count": null,
   "id": "2ae195d6",
   "metadata": {},
   "outputs": [],
   "source": [
    "frq_df.head()"
   ]
  },
  {
   "cell_type": "code",
   "execution_count": null,
   "id": "93d2f675",
   "metadata": {},
   "outputs": [],
   "source": [
    "frq_df.MALE.div(num_words_by_gender.MALE.item())"
   ]
  },
  {
   "cell_type": "code",
   "execution_count": null,
   "id": "0fb1078f",
   "metadata": {},
   "outputs": [],
   "source": [
    "num_words_by_gender.MALE.item()"
   ]
  },
  {
   "cell_type": "markdown",
   "id": "289aa250",
   "metadata": {},
   "source": [
    "### Relative frequencies "
   ]
  },
  {
   "cell_type": "code",
   "execution_count": null,
   "id": "585e0aaa",
   "metadata": {},
   "outputs": [],
   "source": [
    "frq_rel_df = pd.DataFrame()\n",
    "for entry in unique_gender_values:\n",
    "    frq_rel_df[entry] = frq_df[entry].div(num_words_by_gender[entry].item())"
   ]
  },
  {
   "cell_type": "code",
   "execution_count": null,
   "id": "726ef8fa",
   "metadata": {},
   "outputs": [],
   "source": [
    "frq_rel_df"
   ]
  },
  {
   "cell_type": "markdown",
   "id": "1bfd836d",
   "metadata": {},
   "source": [
    "### 3.2 Compare Male and Female unique words\n",
    "* Which words are mentioned only by men / women? "
   ]
  },
  {
   "cell_type": "code",
   "execution_count": null,
   "id": "1a4ccfd1",
   "metadata": {},
   "outputs": [],
   "source": [
    "pip install wordcloud"
   ]
  },
  {
   "cell_type": "code",
   "execution_count": null,
   "id": "f10bea0f",
   "metadata": {},
   "outputs": [],
   "source": [
    "men_only = frq_rel_df[(frq_df.MALE > 0) & (frq_df.FEMALE == 0) & (frq_df.UNKNOWN == 0)]\n",
    "women_only = frq_rel_df[(frq_df.FEMALE > 0) & (frq_df.MALE == 0) & (frq_df.UNKNOWN == 0)]"
   ]
  },
  {
   "cell_type": "code",
   "execution_count": null,
   "id": "b426fc02",
   "metadata": {},
   "outputs": [],
   "source": [
    "women_only.FEMALE"
   ]
  },
  {
   "cell_type": "code",
   "execution_count": null,
   "id": "a13cde69",
   "metadata": {},
   "outputs": [],
   "source": [
    "wc = WordCloud().generate_from_frequencies(women_only.FEMALE)"
   ]
  },
  {
   "cell_type": "code",
   "execution_count": null,
   "id": "e81fbd06",
   "metadata": {},
   "outputs": [],
   "source": [
    "wc.to_image()"
   ]
  },
  {
   "cell_type": "code",
   "execution_count": null,
   "id": "f08d16c6",
   "metadata": {},
   "outputs": [],
   "source": [
    "men_only"
   ]
  },
  {
   "cell_type": "code",
   "execution_count": null,
   "id": "645a80fc",
   "metadata": {},
   "outputs": [],
   "source": [
    "wc = WordCloud().generate_from_frequencies(men_only.MALE)\n",
    "wc.to_image()"
   ]
  },
  {
   "cell_type": "markdown",
   "id": "ce301cc6",
   "metadata": {},
   "source": [
    "### 3.3 Greatest difference \n",
    "* What are the words with the biggest difference in frequency?"
   ]
  },
  {
   "cell_type": "code",
   "execution_count": null,
   "id": "ba2fed53",
   "metadata": {},
   "outputs": [],
   "source": [
    "frq_rel_df[\"MALE_FEMALE\"] = frq_rel_df.MALE - frq_rel_df.FEMALE"
   ]
  },
  {
   "cell_type": "code",
   "execution_count": null,
   "id": "ed2008cb",
   "metadata": {},
   "outputs": [],
   "source": [
    "frq_rel_df[\"FEMALE_MALE\"] = frq_rel_df[\"MALE_FEMALE\"] * -1"
   ]
  },
  {
   "cell_type": "code",
   "execution_count": null,
   "id": "4b94056d",
   "metadata": {},
   "outputs": [],
   "source": [
    "frq_rel_df.MALE_FEMALE.sort_values()"
   ]
  },
  {
   "cell_type": "code",
   "execution_count": null,
   "id": "e27e374e",
   "metadata": {},
   "outputs": [],
   "source": [
    "frq_df.loc[\"groß\"]"
   ]
  },
  {
   "cell_type": "code",
   "execution_count": null,
   "id": "c3d693a3",
   "metadata": {},
   "outputs": [],
   "source": [
    "frq_rel_df.MALE_FEMALE.nlargest(10)"
   ]
  },
  {
   "cell_type": "code",
   "execution_count": null,
   "id": "a511f566",
   "metadata": {},
   "outputs": [],
   "source": [
    "wc = WordCloud().generate_from_frequencies(frq_df.MALE_FEMALE)"
   ]
  },
  {
   "cell_type": "code",
   "execution_count": null,
   "id": "d805ade1",
   "metadata": {},
   "outputs": [],
   "source": [
    "wc.to_image()"
   ]
  },
  {
   "cell_type": "code",
   "execution_count": null,
   "id": "a3297fe2",
   "metadata": {},
   "outputs": [],
   "source": [
    "wc = WordCloud().generate_from_frequencies(frq_df.FEMALE_MALE)\n",
    "wc.to_image()"
   ]
  },
  {
   "cell_type": "markdown",
   "id": "030b0d41",
   "metadata": {},
   "source": [
    "### 3.4 Noun-adjective pairs \n",
    "* Extract adjective-noun pairs by dependency parses "
   ]
  },
  {
   "cell_type": "code",
   "execution_count": null,
   "id": "d6286ce8",
   "metadata": {},
   "outputs": [],
   "source": [
    "def get_adj_noun_pairs(play, unique_gender_values):\n",
    "\n",
    "    adj_noun_pairs_by_gender = {key: [] for key in unique_gender_values}\n",
    "\n",
    "    for character in play:\n",
    "        for token in character[\"text_annotated\"]:\n",
    "            if token.pos_ == \"ADJ\":\n",
    "                if token.head.pos_ == \"NOUN\":\n",
    "                    adj_noun_pairs_by_gender[character[\"gender\"]].append((token.lemma_, token.head.lemma_))\n",
    "    return adj_noun_pairs_by_gender"
   ]
  },
  {
   "cell_type": "code",
   "execution_count": null,
   "id": "7b9cdcea",
   "metadata": {},
   "outputs": [],
   "source": [
    "adj_noun_pairs_by_gender = get_adj_noun_pairs(play, unique_gender_values)"
   ]
  },
  {
   "cell_type": "code",
   "execution_count": null,
   "id": "fa2c9407",
   "metadata": {},
   "outputs": [],
   "source": [
    "Counter(adj_noun_pairs_by_gender[\"MALE\"]).most_common()"
   ]
  },
  {
   "cell_type": "code",
   "execution_count": null,
   "id": "4f3684a2",
   "metadata": {},
   "outputs": [],
   "source": [
    "Counter(adj_noun_pairs_by_gender[\"FEMALE\"]).most_common()"
   ]
  }
 ],
 "metadata": {
  "kernelspec": {
   "display_name": "Python 3 (ipykernel)",
   "language": "python",
   "name": "python3"
  },
  "language_info": {
   "codemirror_mode": {
    "name": "ipython",
    "version": 3
   },
   "file_extension": ".py",
   "mimetype": "text/x-python",
   "name": "python",
   "nbconvert_exporter": "python",
   "pygments_lexer": "ipython3",
   "version": "3.11.3"
  }
 },
 "nbformat": 4,
 "nbformat_minor": 5
}

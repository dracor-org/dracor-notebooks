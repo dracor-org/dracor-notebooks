{
 "cells": [
  {
   "cell_type": "markdown",
   "id": "9de24510",
   "metadata": {},
   "source": [
    "# Words in a Play\n"
   ]
  },
  {
   "cell_type": "markdown",
   "id": "2b4691ab",
   "metadata": {},
   "source": [
    "## installing dependencies"
   ]
  },
  {
   "cell_type": "markdown",
   "id": "07ce8e4d",
   "metadata": {},
   "source": [
    "Installing [Spacy](https://spacy.io/) (a Python module for natural language processing) and its dependencies is a bit arduous but should work as follows:"
   ]
  },
  {
   "cell_type": "code",
   "execution_count": null,
   "id": "c1c771c6",
   "metadata": {},
   "outputs": [],
   "source": [
    "!pip install spacy pydracor\n",
    "#  !pip install spacy-transformers # first check if really required → has many dependencies"
   ]
  },
  {
   "cell_type": "markdown",
   "id": "de0edb47",
   "metadata": {},
   "source": [
    "afterwards (see [hints on selection of models](https://spacy.io/models)):"
   ]
  },
  {
   "cell_type": "code",
   "execution_count": null,
   "id": "2b803469",
   "metadata": {},
   "outputs": [],
   "source": [
    "!python -m spacy download en_core_web_sm"
   ]
  },
  {
   "cell_type": "markdown",
   "id": "80fa3738",
   "metadata": {},
   "source": [
    "## load play from DraCor"
   ]
  },
  {
   "cell_type": "code",
   "execution_count": null,
   "id": "da40bd43",
   "metadata": {},
   "outputs": [],
   "source": [
    "import pydracor\n",
    "\n",
    "play = pydracor.Play(play_name = \"a-midsummer-night-s-dream\")\n",
    "play.spoken_text()"
   ]
  },
  {
   "cell_type": "markdown",
   "id": "2ee2778c",
   "metadata": {},
   "source": [
    "## tokenise text and detect parts of speech"
   ]
  },
  {
   "cell_type": "code",
   "execution_count": null,
   "id": "06c04c3b",
   "metadata": {},
   "outputs": [],
   "source": [
    "import spacy\n",
    "nlp = spacy.load(\"en_core_web_sm\")\n",
    "\n",
    "import en_core_web_sm\n",
    "nlp = en_core_web_sm.load()\n",
    "\n",
    "doc = nlp(play.spoken_text())"
   ]
  },
  {
   "cell_type": "markdown",
   "id": "e91fb6da",
   "metadata": {},
   "source": [
    "## text and parts of speech"
   ]
  },
  {
   "cell_type": "code",
   "execution_count": null,
   "id": "3f96b4f2",
   "metadata": {},
   "outputs": [],
   "source": [
    "print([(w.text, w.pos_, w.lemma_) for w in doc])"
   ]
  },
  {
   "cell_type": "markdown",
   "id": "18391fd6",
   "metadata": {},
   "source": [
    "## most frequent parts of speech"
   ]
  },
  {
   "cell_type": "code",
   "execution_count": null,
   "id": "0efc891f",
   "metadata": {},
   "outputs": [],
   "source": [
    "from collections import Counter\n",
    "\n",
    "def count_words(doc, word_type):\n",
    "    cnt = Counter()\n",
    "    for w in doc:\n",
    "        if w.pos_ == word_type:\n",
    "            cnt[w.lemma_] += 1          # better than w.text\n",
    "    return cnt\n",
    "\n",
    "def print_top(words, n):\n",
    "    for w, cnt in words.most_common(n):\n",
    "        print(cnt, w, sep='\\t')\n",
    "\n",
    "word_types = Counter()\n",
    "for w in doc:\n",
    "    word_types[w.pos_] += 1\n",
    "    \n",
    "print_top(word_types, 10)"
   ]
  },
  {
   "cell_type": "markdown",
   "id": "430e98a4",
   "metadata": {},
   "source": [
    "## most frequent words per part of speech"
   ]
  },
  {
   "cell_type": "code",
   "execution_count": null,
   "id": "e0bdce7d",
   "metadata": {},
   "outputs": [],
   "source": [
    "for word_type in [\"NOUN\", \"VERB\", \"ADJ\"]:\n",
    "    print(\"---\", word_type, \"---\")\n",
    "    print_top(count_words(doc, word_type), 10) "
   ]
  }
 ],
 "metadata": {
  "language_info": {
   "name": "python",
   "pygments_lexer": "ipython3"
  }
 },
 "nbformat": 4,
 "nbformat_minor": 5
}

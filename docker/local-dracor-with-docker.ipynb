{
 "cells": [
  {
   "cell_type": "markdown",
   "id": "22e11add",
   "metadata": {},
   "source": [
    "# Local DraCor instance with Docker\n",
    "\n",
    "This notebook explains how you can setup a local DraCor instance using [Docker](https://www.docker.com). The instructions are **only valid for Mac/Linux** at the moment."
   ]
  },
  {
   "cell_type": "markdown",
   "id": "baf4422e",
   "metadata": {},
   "source": [
    "## Installing Docker and Docker Compose\n",
    "\n",
    "(tba)\n",
    "To run a local instance of the DraCor platform you need to have Docker and Docker Compose installed on the machine you are executing this notebook. Please refer to the respective documentations and follow the instructions on how to install the tools needed."
   ]
  },
  {
   "cell_type": "markdown",
   "id": "5b47434a",
   "metadata": {},
   "source": [
    "## Running commands in the Terminal/Shell\n",
    "We will rarely use Python Code in this notebook, but instead execute various commands in the shell/terminal of your machine. By adding `!` before the command, it will be executed in your terminal in the background and you will see the results in the notebook. E.g. to test, if Docker is installed – and if you a on a Linux/Mac machine, you can use `which` to get the location of the program. "
   ]
  },
  {
   "cell_type": "code",
   "execution_count": null,
   "id": "bafa6a2a",
   "metadata": {},
   "outputs": [],
   "source": [
    "#by adding ! before the code, you will execute a command in the terminal\n",
    "#check, where docker is installed\n",
    "!which docker"
   ]
  },
  {
   "cell_type": "code",
   "execution_count": null,
   "id": "19263c7e",
   "metadata": {},
   "outputs": [],
   "source": [
    "#check for docker compose\n",
    "!which docker-compose"
   ]
  },
  {
   "cell_type": "markdown",
   "id": "9ef5ff39",
   "metadata": {},
   "source": [
    "## Getting the DraCor API\n",
    "You will now need to get the code of the DraCor API, which can be found on github: https://github.com/dracor-org/dracor-api. \n",
    "\n",
    "We will use `git` to get the code. If you are using a Mac and have the [Xcode](https://en.wikipedia.org/wiki/Xcode) Command Line Tools installed, you should be able to follow along, but you can still visit the repository, download the code and add it to the folder, where your notebook is located if it doesn't work the described way."
   ]
  },
  {
   "cell_type": "code",
   "execution_count": null,
   "id": "d72dfded",
   "metadata": {},
   "outputs": [],
   "source": [
    "!which git"
   ]
  },
  {
   "cell_type": "code",
   "execution_count": null,
   "id": "5673c83d",
   "metadata": {},
   "outputs": [],
   "source": [
    "# set the url, we will need for pulling and store it in a variable. \n",
    "# We can use the variable in our terminal command below by appending a $ to the variable name.\n",
    "dracor_api_clone_url = \"https://github.com/dracor-org/dracor-api.git\""
   ]
  },
  {
   "cell_type": "code",
   "execution_count": null,
   "id": "79fb5245",
   "metadata": {},
   "outputs": [],
   "source": [
    "!git clone $dracor_api_clone_url"
   ]
  },
  {
   "cell_type": "markdown",
   "id": "84996408",
   "metadata": {},
   "source": [
    "If this was successful, you should now have a new folder called `dracor-api`. You can list the contents of the directory with `ls`."
   ]
  },
  {
   "cell_type": "code",
   "execution_count": null,
   "id": "06a5d467",
   "metadata": {},
   "outputs": [],
   "source": [
    "# list the contents of your directory\n",
    "!ls"
   ]
  },
  {
   "cell_type": "markdown",
   "id": "bd37a0ef",
   "metadata": {},
   "source": [
    "You could put the code somewhere else as well, but then you have to change the path, we add to a variable `apifolder`:"
   ]
  },
  {
   "cell_type": "code",
   "execution_count": null,
   "id": "b1026182",
   "metadata": {},
   "outputs": [],
   "source": [
    "# set the path to the code of the dracor api:\n",
    "apifolder = \"dracor-api\""
   ]
  },
  {
   "cell_type": "markdown",
   "id": "06bcf6a3",
   "metadata": {},
   "source": [
    "## Building DraCor with Docker\n",
    "(Skip this section for now, but logically it should be described here; see also the ANT error described below.)\n",
    "\n",
    "When you run a DraCor Docker container for the first time, an image will be built an then reused on the next starts. You can actively re-build the image without relying on the cache."
   ]
  },
  {
   "cell_type": "code",
   "execution_count": null,
   "id": "6b7a428f",
   "metadata": {},
   "outputs": [],
   "source": [
    "# make a clean build without using cached images\n",
    "!docker-compose -f $apifolder/docker-compose.yml build --no-cache"
   ]
  },
  {
   "cell_type": "markdown",
   "id": "35fb3b7f",
   "metadata": {},
   "source": [
    "## Running DraCor with Docker\n",
    "The `README.md` of the DraCor API Repository explains how to run the platform using Docker. You have a look at the [instructions on Github](https://github.com/dracor-org/dracor-api#getting-started) or just look at the file in this notebook by using `cat` to display the text:"
   ]
  },
  {
   "cell_type": "code",
   "execution_count": null,
   "id": "81acb22f",
   "metadata": {},
   "outputs": [],
   "source": [
    "# display the contents of the README file\n",
    "!cat $apifolder/README.md"
   ]
  },
  {
   "cell_type": "markdown",
   "id": "2ad96aca",
   "metadata": {},
   "source": [
    "If we were now inside our termina, we would have to follow the instructions as detailed in the `README.md`:\n",
    "\n",
    "```\n",
    "git clone https://github.com/dracor-org/dracor-api.git\n",
    "cd dracor-api\n",
    "docker-compose up\n",
    "```\n",
    "\n",
    "We already completed the first step, but because we are executing the code from this notebook, we have to slightly adapt it. Although we can directly execute code in the terminal, not all commands work like expected (more information on this behaviour of Jupyter Notebooks can be found in a Tutorial of the O'Reilly [Data Science Handbook](https://colab.research.google.com/github/jakevdp/PythonDataScienceHandbook/blob/master/notebooks/01.05-IPython-And-Shell-Commands.ipynb) (VanderPlas 2016). \n",
    "\n",
    "Although it's possible to change the working directory with a \"magic command\", we won't \"go\" into the dracor-api folder with `cd`."
   ]
  },
  {
   "cell_type": "code",
   "execution_count": null,
   "id": "832f35fe",
   "metadata": {},
   "outputs": [],
   "source": [
    "# list the contents of the API folder\n",
    "!ls $apifolder"
   ]
  },
  {
   "cell_type": "markdown",
   "id": "4787b951",
   "metadata": {},
   "source": [
    "For the next step we will use the `docker-compose.yml` file that is located in the source code folder. With the command `grep` we can filter the directory listing above and see if the needed file is there as we expect:"
   ]
  },
  {
   "cell_type": "code",
   "execution_count": null,
   "id": "d15b9de2",
   "metadata": {},
   "outputs": [],
   "source": [
    "# list the contents of the folder and check, if the compose file is there\n",
    "!ls $apifolder | grep docker-compose.yml"
   ]
  },
  {
   "cell_type": "markdown",
   "id": "29e1078f",
   "metadata": {},
   "source": [
    "We can now run the docker-compose command by explicitly telling the tool where to look for the compose file by using the `-f` flag. If you run the following command, the API will be started using docker. It will take some time depending on whether you run the API this way the first time (docker will have to build the image before starting it). You will see a lot of text output in the cell. Wait, until the information stream slows down and look for lines similar to the following:\n",
    "\n",
    "```\n",
    "api_1       | 20 Jul 2022 07:45:39,137 [main] INFO  (JettyStart.java [run]:288) - Server has started, listening on: \n",
    "api_1       | 20 Jul 2022 07:45:39,138 [main] INFO  (JettyStart.java [run]:290) - http://XXX.XX.X.X:8080/  \n",
    "```\n",
    "This will tell you, that the process of starting the underlying eXist application has been completed. You should now be able to access your local DraCor instance by opening the url from the output or try http://localhost:8080 which will show you the eXist Dashboard. If you want to go to the frontend, visit http://localhost:8088. \n",
    "\n",
    "Your DraCor Platform will be empty, you have to manually load the respective corpora. We will do this in the next steps. \n",
    "\n",
    "You can stop you instance from this notebook by clicking on the cell below and using the stop button in the Jupyter notebooks menu."
   ]
  },
  {
   "cell_type": "code",
   "execution_count": null,
   "id": "0c25802d",
   "metadata": {},
   "outputs": [],
   "source": [
    "!docker-compose -f $apifolder/docker-compose.yml up"
   ]
  },
  {
   "cell_type": "markdown",
   "id": "636eaad8",
   "metadata": {},
   "source": [
    "If this process fails, you might have to change the line `ENV ANT_VERSION 1.10.11` in the `DOCKERFILE` in the source code repo, see corresponding [issue on github](https://github.com/dracor-org/dracor-api/issues/164) (that might be resolved soon). It should be changed to a version, that is available here: https://downloads.apache.org/ant/binaries/. You can also try to run `docker-compose build --no-cache` in your terminal after you changed the line."
   ]
  },
  {
   "cell_type": "markdown",
   "id": "feecd49c",
   "metadata": {},
   "source": [
    "To proceed, you have to stop you new local instance of the DraCor plattform, otherwhise the following cells won't run. Use the stop Button from the notebook menu."
   ]
  },
  {
   "cell_type": "markdown",
   "id": "a8d204b5",
   "metadata": {},
   "source": [
    "## Running Dracor in the background using `os`\n",
    "Running subprocesses in the background of a notebook doesn't seem to be trivial, for example, the following command will fail:"
   ]
  },
  {
   "cell_type": "code",
   "execution_count": null,
   "id": "822f0f3c",
   "metadata": {},
   "outputs": [],
   "source": [
    "!docker-compose -f $apifolder/docker-compose.yml up&"
   ]
  },
  {
   "cell_type": "markdown",
   "id": "3f392ad6",
   "metadata": {},
   "source": [
    "We can still accomplish that by making use of the python library `os`. We have to import the library and then send our docker-compose command to the `system` function of `os`."
   ]
  },
  {
   "cell_type": "code",
   "execution_count": null,
   "id": "e7e6ccfc",
   "metadata": {},
   "outputs": [],
   "source": [
    "# import the library\n",
    "import os "
   ]
  },
  {
   "cell_type": "code",
   "execution_count": null,
   "id": "5a7a80be",
   "metadata": {},
   "outputs": [],
   "source": [
    "#store the command in a variable \"cmd\"\n",
    "cmd = \"docker-compose -f \" + apifolder + \"/docker-compose.yml up&\"\n",
    "\n",
    "#send the command\n",
    "os.system(cmd);"
   ]
  },
  {
   "cell_type": "markdown",
   "id": "0c8e24ea",
   "metadata": {},
   "source": [
    "We now have a running local DraCor instance that we can access at (http://localhost:8088). The instance will stop working when you shutdown the kernel of this notebook."
   ]
  },
  {
   "cell_type": "markdown",
   "id": "1d70e131",
   "metadata": {},
   "source": [
    "## Using the local API\n",
    "We not only have a running (but empty) local database and a frontend, but also a working local API, e.g. `http://localhost:8088/api`, which we will use in the remainder of the tutorial. We won't cover the basics of how to use the DraCor-API in Python, so please refer to the introductory tutorial [\"DraCor API\"](https://github.com/dracor-org/dracor-notebooks/tree/main/api-tutorial) in the [dracor-notebooks](https://github.com/dracor-org/dracor-notebooks) repository. "
   ]
  },
  {
   "cell_type": "markdown",
   "id": "421e5e11",
   "metadata": {},
   "source": [
    "We define a generic function to send requests to the API. This function is basically the generic function mentioned in some notebooks, but the default `apibase` is changed to the local API `http://localhost:8088/api/` in the line `apibase = \"http://localhost:8088/api/\"`:"
   ]
  },
  {
   "cell_type": "code",
   "execution_count": null,
   "id": "98091c3d",
   "metadata": {},
   "outputs": [],
   "source": [
    "# import libraries json and requests\n",
    "import json\n",
    "import requests\n",
    "\n",
    "#corpusname:str -> []\n",
    "def get(**kwargs):\n",
    "    #corpusname=corpusname\n",
    "    #playname=playname\n",
    "    #apibase=\"https://dracor.org/api/\"\n",
    "    #method=method\n",
    "    #parse_json: True\n",
    "    \n",
    "    #could set different apibase, e.g. https://staging.dracor.org/api/ [not recommended, pls use the production server]\n",
    "    if \"apibase\" in kwargs:\n",
    "        if kwargs[\"apibase\"].endswith(\"/\"):\n",
    "            apibase = kwargs[\"apibase\"]\n",
    "        else:\n",
    "            apibase = kwargs[\"apibase\"] + \"/\"\n",
    "    else:\n",
    "        #use local API per default\n",
    "        apibase = \"http://localhost:8088/api/\"\n",
    "    if \"corpusname\" in kwargs and \"playname\" in kwargs:\n",
    "        # used for /api/corpora/{corpusname}/play/{playname}/\n",
    "        if \"method\" in kwargs:\n",
    "            request_url = apibase + \"corpora/\" + kwargs[\"corpusname\"] + \"/play/\" + kwargs[\"playname\"] + \"/\" + kwargs[\"method\"]\n",
    "        else:\n",
    "            request_url = apibase + \"corpora/\" + kwargs[\"corpusname\"] + \"/play/\" + kwargs[\"playname\"]\n",
    "    elif \"corpusname\" in kwargs and not \"playname\" in kwargs:\n",
    "        if \"method\" in kwargs:\n",
    "            request_url = apibase + \"corpora/\" + kwargs[\"corpusname\"] + \"/\" + kwargs[\"method\"]\n",
    "        else:\n",
    "            request_url = apibase + \"corpora/\" + kwargs[\"corpusname\"] \n",
    "    elif \"method\" in kwargs and not \"corpusname\" in kwargs and not \"playname\" in kwargs:\n",
    "            request_url = apibase + kwargs[\"method\"]\n",
    "            \n",
    "    else: \n",
    "        #nothing set\n",
    "        request = request_url = apibase + \"info\"\n",
    "    \n",
    "    #send the response\n",
    "    r = requests.get(request_url)\n",
    "    if r.status_code == 200:\n",
    "        #success!\n",
    "        if \"parse_json\" in kwargs:\n",
    "            if kwargs[\"parse_json\"] == True:\n",
    "                json_data = json.loads(r.text)\n",
    "                return json_data\n",
    "            else:\n",
    "                return r.text\n",
    "        else:\n",
    "            return r.text\n",
    "    else:\n",
    "        raise Exception(\"Request was not successful. Server returned status code: \"  + str(r.status_code))"
   ]
  },
  {
   "cell_type": "code",
   "execution_count": null,
   "id": "04a7e4dd",
   "metadata": {},
   "outputs": [],
   "source": [
    "#use the defined function to get API Info (default method, if nothing else is specified)\n",
    "get(parse_json=True)"
   ]
  },
  {
   "cell_type": "markdown",
   "id": "f3b15b82",
   "metadata": {},
   "source": [
    "In addition to the result of the request you will also see the log from the running process in the background, e.g. \n",
    "\n",
    "```\n",
    "frontend_1  | XXX.XXX.X.X - - [20/Jul/2022:09:58:24 +0000] \"GET /api/info HTTP/1.1\" 200 118 \"-\" \"python-requests/2.27.1\" \"-\"\n",
    "```\n",
    "\n",
    "This tells you, that there has been a `GET` request to the `/info` endpoint, which was successful (see status code `200`)."
   ]
  },
  {
   "cell_type": "markdown",
   "id": "12875149",
   "metadata": {},
   "source": [
    "You can also list the available corpora by calling the endpoint `/corpora` which should return an empty list `[]` because there are no corpora loaded yet:"
   ]
  },
  {
   "cell_type": "code",
   "execution_count": null,
   "id": "ab79b34b",
   "metadata": {},
   "outputs": [],
   "source": [
    "get(method=\"corpora\",parse_json=True)"
   ]
  },
  {
   "cell_type": "markdown",
   "id": "63cf195a",
   "metadata": {},
   "source": [
    "## Add a corpus and load the data\n",
    "The [documentation](https://github.com/dracor-org/dracor-api#load-data) in the `README.md` explains how corpora can be added and loaded by using `curl` in the command line. \n",
    "\n",
    "Adding a corpus is a two step process:\n",
    "\n",
    "* in a first step, a corpus needs to be added to the database. This step will only add few metadata, a `name`, a `title` and a link to the repository, from which the data can be retrieved;\n",
    "* secondly,In a second step the TEI files of the plays are loaded from the repository.\n",
    "\n",
    "We will add the [Test Drama Corpus](https://github.com/dracor-org/testdracor) \"testdracor\". We construct the metadata that will be sent as payload in the `POST` request to the `/corpora` endpoint (for details, please refer to the [API Documentation](https://dracor.org/doc/api#/admin/post-corpora)).\n",
    "\n",
    "The endpoints in the \"Admin\" section (see [Documentation](https://dracor.org/doc/api#/admin)) are only available for authorized users with admin rights. The default user of the eXist-DB is `admin` and the password is an empty string. This should, of course, be changed for production use, but by default, a local instance of the eXist-DB will have this credentials, which we assign to the variables `usr` and `pwd`. To be able to include these information in the request, we need to import the class `HTTPBasicAuth` from the `requests` library first:"
   ]
  },
  {
   "cell_type": "code",
   "execution_count": null,
   "id": "dff866a4",
   "metadata": {},
   "outputs": [],
   "source": [
    "#needed for authorization\n",
    "from requests.auth import HTTPBasicAuth\n",
    "\n",
    "#Username of the local instance\n",
    "usr = \"admin\"\n",
    "#Password of the admin user\n",
    "pwd = \"\""
   ]
  },
  {
   "cell_type": "markdown",
   "id": "6b14b224",
   "metadata": {},
   "source": [
    "We also have to construct the metadata of our corpus:"
   ]
  },
  {
   "cell_type": "code",
   "execution_count": null,
   "id": "509cf789",
   "metadata": {},
   "outputs": [],
   "source": [
    "#construct the payload\n",
    "testdracor_metadata = {\n",
    "  \"name\": \"test\",\n",
    "  \"title\": \"Test Drama Corpus\",\n",
    "  \"repository\": \"https://github.com/dracor-org/testdracor\"\n",
    "}"
   ]
  },
  {
   "cell_type": "markdown",
   "id": "44e822a8",
   "metadata": {},
   "source": [
    "We can then send the `POST` request to the `/corpora` endpoint, supply the metadata and also include the credential of the admin user:"
   ]
  },
  {
   "cell_type": "code",
   "execution_count": null,
   "id": "cd367172",
   "metadata": {},
   "outputs": [],
   "source": [
    "#url of the corpora endpoint\n",
    "corpora_endpoint_url = \"http://localhost:8088/api/corpora\"\n",
    "\n",
    "#send the POST request using library requests\n",
    "r = requests.post(corpora_endpoint_url, json = testdracor_metadata, auth=HTTPBasicAuth(usr, pwd))"
   ]
  },
  {
   "cell_type": "markdown",
   "id": "b0219108",
   "metadata": {},
   "source": [
    "When running for the first time, the API should return a HTTP status code of `200` (actually, `201` would be better!) For other status codes, please check the documentation. For example, if a corpus already exists, the API will return a status code od `409`. To get the status code, you can use the method `status_code` on you request object `r`."
   ]
  },
  {
   "cell_type": "code",
   "execution_count": null,
   "id": "c6ef0299",
   "metadata": {},
   "outputs": [],
   "source": [
    "print(r.status_code)"
   ]
  },
  {
   "cell_type": "markdown",
   "id": "6c782fd7",
   "metadata": {},
   "source": [
    "If everything went well, you should see your newly added corpus listed on the DraCor homepage of your [local instance](http://localhost:8088/). \n",
    "\n",
    "<div>\n",
    "<img src=\"images/empty_testdracor.png\" width=\"300\"/>\n",
    "</div>\n",
    "\n",
    "Your corpus might show up twice, because DraCor isn't build to display only one corpus, but you can check if you corpus has been successfully added by using the API. This should return only one entry in the list:"
   ]
  },
  {
   "cell_type": "code",
   "execution_count": null,
   "id": "7a537dbd",
   "metadata": {},
   "outputs": [],
   "source": [
    "#send a request to the /corpora endpoint\n",
    "get(method=\"corpora\",parse_json=True)"
   ]
  },
  {
   "cell_type": "markdown",
   "id": "1ddd522d",
   "metadata": {},
   "source": [
    "## Loading the plays\n",
    "If you go to your corpus on the local platform, e.g. http://localhost:8088/test, you will see, that there are no plays included. Likewhise, querying the `/corpora/{corpusname}` endpoint (see [Documentation](https://dracor.org/doc/api#/public/list-corpus-content)) will return an empty list:"
   ]
  },
  {
   "cell_type": "code",
   "execution_count": null,
   "id": "691bd620",
   "metadata": {},
   "outputs": [],
   "source": [
    "get(method=\"corpora\",corpus=\"test\",parse_json=True)"
   ]
  },
  {
   "cell_type": "markdown",
   "id": "bade56dc",
   "metadata": {},
   "source": [
    "To trigger the loading process, you have to send a JSON array containing `{\"load\" : true}` (in a Python dictionary, the Boolean value will be `True`) to the `/corpora/{corpusname}` endpoint."
   ]
  },
  {
   "cell_type": "code",
   "execution_count": null,
   "id": "034c3fc7",
   "metadata": {},
   "outputs": [],
   "source": [
    "#construct the url\n",
    "load_test_endpoint_url = \"http://localhost:8088/api/corpora/test\"\n",
    "\n",
    "#construct the payload to be send to the endpoint\n",
    "load_cmd_payload = {\"load\" : True}\n",
    "\n",
    "#send the POST request using library requests\n",
    "r = requests.post(load_test_endpoint_url, json = load_cmd_payload, auth=HTTPBasicAuth(usr, pwd))"
   ]
  },
  {
   "cell_type": "markdown",
   "id": "bda40793",
   "metadata": {},
   "source": [
    "If a corpus update was sheduled, you should get a `202` status code:"
   ]
  },
  {
   "cell_type": "code",
   "execution_count": null,
   "id": "14e25807",
   "metadata": {},
   "outputs": [],
   "source": [
    "# inspect the status code of your POST request\n",
    "print(r.status_code)"
   ]
  },
  {
   "cell_type": "markdown",
   "id": "fb166ea9",
   "metadata": {},
   "source": [
    "(Clearing FUSEKI doesn't seem to work here. This needs to be fixed, see corresponding issue [here](https://github.com/dracor-org/dracor-api/issues/165))."
   ]
  },
  {
   "cell_type": "markdown",
   "id": "4b35b484",
   "metadata": {},
   "source": [
    "## Example: Manually adding a play to a custom corpus\n",
    "Plays can also be added to a corpus manually by sending a `PUT` request to the `/corpora/{corpusname}/play/{playname}/tei` endpoint. The documentation of the endpoint can be found [here](https://dracor.org/doc/api#/admin/play-tei-put).\n",
    "\n",
    "For this example, we will create a custom corpus with single play, but instead of taking the latest version from the git Repository, we will explicitly use a version of this file."
   ]
  },
  {
   "cell_type": "markdown",
   "id": "44008934",
   "metadata": {},
   "source": [
    "### Setting up the corpus"
   ]
  },
  {
   "cell_type": "markdown",
   "id": "0ca8ab79",
   "metadata": {},
   "source": [
    "First, we have to setup a designated corpus for this play. We follow the steps outlined in the section \"Add a corpus and load the data\" above:"
   ]
  },
  {
   "cell_type": "code",
   "execution_count": null,
   "id": "5895389a",
   "metadata": {},
   "outputs": [],
   "source": [
    "stable_corpus_metadata = {\n",
    "    \"name\": \"stable\",\n",
    "    \"title\": \"A corpus containing a single play's version from the github commit \" + commit_id\n",
    "}\n",
    "\n",
    "#url of the corpora endpoint is already set and stored in the variable \"corpora_endpoint_url\", as are username and password\n",
    "\n",
    "#send the POST request using library requests\n",
    "r = requests.post(corpora_endpoint_url, json = stable_corpus_metadata, auth=HTTPBasicAuth(usr, pwd))"
   ]
  },
  {
   "cell_type": "markdown",
   "id": "45d9cc71",
   "metadata": {},
   "source": [
    "Get the metadata of your corpus:"
   ]
  },
  {
   "cell_type": "code",
   "execution_count": null,
   "id": "40b27ca8",
   "metadata": {},
   "outputs": [],
   "source": [
    "# GET information on stabledracor using `/corpora/{corpusname}`\n",
    "get(corpusname=\"stable\",parse_json=True)"
   ]
  },
  {
   "cell_type": "markdown",
   "id": "e358c615",
   "metadata": {},
   "source": [
    "### Getting a version of a single play"
   ]
  },
  {
   "cell_type": "markdown",
   "id": "ead930ab",
   "metadata": {},
   "source": [
    "After we created our corpus, we will now add the single play. We will use Lessing's \"Emilia Galotti\" `lessing-emilia-galotti` from the German Drama corpus as an example. If you look at the TEI file in Github, you can display the [version history](https://github.com/dracor-org/gerdracor/commits/main/tei/lessing-emilia-galotti.xml) of the file. We will use the version from June 30th 2022 found in the commit with the ID `bfadf6b5844d4e05ea0501898a23c21f71c10cb3`. The resulting file can be viewed on github: https://github.com/dracor-org/gerdracor/blob/bfadf6b5844d4e05ea0501898a23c21f71c10cb3/tei/lessing-emilia-galotti.xml. The raw data can be accessed from the URL https://raw.githubusercontent.com/dracor-org/gerdracor/bfadf6b5844d4e05ea0501898a23c21f71c10cb3/tei/lessing-emilia-galotti.xml.\n",
    "\n",
    "![Commit history of Emilia Galotti](images/commit_history_emilia-galotti.png \"Commit history of Emilia Galotti\")\n",
    "\n",
    "We need the following information to construct the URL of a given unique version of file:\n",
    "\n",
    "* corpus, e.g. `gerdracor`\n",
    "* commit ID, e.g. `bfadf6b5844d4e05ea0501898a23c21f71c10cb3` \n",
    "* filename `lessing-emilia-galotti.xml`\n",
    "\n",
    "We define the following variables:"
   ]
  },
  {
   "cell_type": "code",
   "execution_count": null,
   "id": "9e39777c",
   "metadata": {},
   "outputs": [],
   "source": [
    "#define the variables\n",
    "corpus_repo_part = \"gerdracor\" # this is not the same as \"corpusname\"!\n",
    "commit_id = \"bfadf6b5844d4e05ea0501898a23c21f71c10cb3\"\n",
    "filename = \"lessing-emilia-galotti.xml\""
   ]
  },
  {
   "cell_type": "code",
   "execution_count": null,
   "id": "58937a2b",
   "metadata": {},
   "outputs": [],
   "source": [
    "#concatinate to a download url\n",
    "download_url = \"https://raw.githubusercontent.com/dracor-org/\" + corpus_repo_part + \"/\" + commit_id + \"/tei/\" + filename\n",
    "print(download_url)"
   ]
  },
  {
   "cell_type": "markdown",
   "id": "03f2c8ae",
   "metadata": {},
   "source": [
    "First, we have to download the data of the play from github using the URL `download_url` and store the data in a variable `tei`. The library `requests` expects UTF-8 encoding, if the play contains special characters (it does...), so we have to encode it accordingly using the method `encode`."
   ]
  },
  {
   "cell_type": "code",
   "execution_count": null,
   "id": "a71a2b33",
   "metadata": {},
   "outputs": [],
   "source": [
    "r = requests.get(download_url)\n",
    "#get only the text from the response and encode it in UTF-8 (important!)\n",
    "tei = r.text.encode('utf-8')"
   ]
  },
  {
   "cell_type": "markdown",
   "id": "22e094e0",
   "metadata": {},
   "source": [
    "You can check, if the data was downloaded by simply printing the data contained in the variable `tei`:"
   ]
  },
  {
   "cell_type": "code",
   "execution_count": null,
   "id": "8408dc8a",
   "metadata": {},
   "outputs": [],
   "source": [
    "#print the TEI\n",
    "print(r.text)"
   ]
  },
  {
   "cell_type": "markdown",
   "id": "fe3fe696",
   "metadata": {},
   "source": [
    "### Loading a single play into a corpus"
   ]
  },
  {
   "cell_type": "markdown",
   "id": "3d5bbf06",
   "metadata": {},
   "source": [
    "We then have to send a `PUT` request to the endpoint `/corpora/{corpusname}/play/{playname}/tei`. To get the `playname` we can remove the file ending \".xml\" from the `filename`. We also need the name of our corpus, which assign to the variable `corpusname`:"
   ]
  },
  {
   "cell_type": "code",
   "execution_count": null,
   "id": "29202d15",
   "metadata": {},
   "outputs": [],
   "source": [
    "#use split, to get everything before \".xml\"\n",
    "playname = filename.split(\".xml\")[0]\n",
    "\n",
    "# use the name of the corpus we created above\n",
    "corpusname = \"stable\""
   ]
  },
  {
   "cell_type": "markdown",
   "id": "7556b99e",
   "metadata": {},
   "source": [
    "From these information we can then construct the URL we need to send the request to:"
   ]
  },
  {
   "cell_type": "code",
   "execution_count": null,
   "id": "a5aeb5ba",
   "metadata": {},
   "outputs": [],
   "source": [
    "#construct the URL to use in the PUT request:\n",
    "put_request_url = \"http://localhost:8088/api/corpora/\" + corpusname + \"/play/\" + playname + \"/tei\""
   ]
  },
  {
   "cell_type": "markdown",
   "id": "6e3101f9",
   "metadata": {},
   "source": [
    "Because the API expects data in XML format, we have to explicitly set the `Content-Type` in the HTTP headers:"
   ]
  },
  {
   "cell_type": "code",
   "execution_count": null,
   "id": "fd903dca",
   "metadata": {},
   "outputs": [],
   "source": [
    "# need the Content-Type to application/xml\n",
    "headers = {'Content-Type': 'application/xml'}"
   ]
  },
  {
   "cell_type": "markdown",
   "id": "f0dc6740",
   "metadata": {},
   "source": [
    "We then send the tei data, the headers and our credentials to the respective URL:"
   ]
  },
  {
   "cell_type": "code",
   "execution_count": null,
   "id": "824b8e68",
   "metadata": {},
   "outputs": [],
   "source": [
    "r = requests.put(put_request_url, data=tei, headers=headers, auth=HTTPBasicAuth(usr, pwd))"
   ]
  },
  {
   "cell_type": "markdown",
   "id": "1b9dac55",
   "metadata": {},
   "source": [
    "If everything went right, you should see the play in the [frontend](http://localhost:8088/stable).\n",
    "\n",
    "<div>\n",
    "<img src=\"images/local_stabledracor.png\" width=\"300\"/>\n",
    "</div>\n",
    "\n",
    "When querying the `/corpora/{corpusname}` endpoint, your play should be listed there:"
   ]
  },
  {
   "cell_type": "code",
   "execution_count": null,
   "id": "16db770a",
   "metadata": {},
   "outputs": [],
   "source": [
    "# GET information on stabledracor using `/corpora/{corpusname}`\n",
    "get(corpusname=\"stable\",parse_json=True)"
   ]
  },
  {
   "cell_type": "markdown",
   "id": "fd992553",
   "metadata": {},
   "source": [
    "## Example: Creating a custom corpus of an author's plays from DraCor\n",
    "For this example, we will combine the API of [dracor.org](https://dracor.org) and our local running instance to create a custom corpus of the plays of a single author:\n",
    "We have to\n",
    "\n",
    "* set-up a custom corpus in our local instance,\n",
    "* use the online DraCor-API to download all the plays of a single author,\n",
    "* populate our local instance with the downloaded data.\n",
    "\n",
    "We will create a corpus of Arthur Schnitzler's plays. In [GerDraCor](https://dracor.org/ger) you can view them by putting \"Schnitzler\" into the search bar: \n",
    "\n",
    "![Arthur Schnitzler's plays in GerDraCor](images/schnitzler_plays_in_gerdracor.png \"Arthur Schnitzler's plays in GerDraCor\")"
   ]
  },
  {
   "cell_type": "markdown",
   "id": "410367ca",
   "metadata": {},
   "source": [
    "We create the corpus as described above by sending a `POST` request with the metadata:"
   ]
  },
  {
   "cell_type": "code",
   "execution_count": null,
   "id": "503c4f79",
   "metadata": {},
   "outputs": [],
   "source": [
    "schnitzler_corpus_metadata = {\n",
    "    \"name\": \"schnitzler\",\n",
    "    \"title\": \"A corpus of Arthur Schnitzler's plays\"\n",
    "}\n",
    "\n",
    "#url of the corpora endpoint is already set and stored in the variable \"corpora_endpoint_url\", as are username and password\n",
    "\n",
    "#send the POST request using library requests\n",
    "r = requests.post(corpora_endpoint_url, json = schnitzler_corpus_metadata, auth=HTTPBasicAuth(usr, pwd))"
   ]
  },
  {
   "cell_type": "markdown",
   "id": "345b2dbb",
   "metadata": {},
   "source": [
    "<div>\n",
    "<img src=\"images/empty_local_schnitzler_corpus.png\" width=\"300\"/>\n",
    "</div>"
   ]
  },
  {
   "cell_type": "markdown",
   "id": "6dd186ed",
   "metadata": {},
   "source": [
    "We then need to extract the `playname`s of the plays we want to add to our new corpus. We can use the endpoint `/corpora/{corpusname}` for that and filter on one of the fields.\n",
    "\n",
    "A single entry of a play looks like that:\n",
    "\n",
    "```\n",
    "{\n",
    "      \"writtenYear\": \"1894\",\n",
    "      \"wikidataId\": \"Q1823758\",\n",
    "      \"source\": \"TextGrid Repository\",\n",
    "      \"id\": \"ger000080\",\n",
    "      \"title\": \"Liebelei\",\n",
    "      \"sourceUrl\": \"http://www.textgridrep.org/textgrid:v3vb.0\",\n",
    "      \"networkSize\": \"9\",\n",
    "      \"name\": \"schnitzler-liebelei\",\n",
    "      \"yearNormalized\": 1895,\n",
    "      \"printYear\": \"1896\",\n",
    "      \"subtitle\": \"Schauspiel in drei Akten\",\n",
    "      \"premiereYear\": \"1895\",\n",
    "      \"authors\": [\n",
    "        {\n",
    "          \"name\": \"Schnitzler, Arthur\",\n",
    "          \"fullname\": \"Arthur Schnitzler\",\n",
    "          \"shortname\": \"Schnitzler\",\n",
    "          \"refs\": [\n",
    "            {\n",
    "              \"ref\": \"Q44331\",\n",
    "              \"type\": \"wikidata\"\n",
    "            },\n",
    "            {\n",
    "              \"ref\": \"118609807\",\n",
    "              \"type\": \"pnd\"\n",
    "            }\n",
    "          ]\n",
    "        }\n",
    "      ],\n",
    "      \"networkdataCsvUrl\": \"https://dracor.org/api/corpora/ger/play/schnitzler-liebelei/networkdata/csv\",\n",
    "      \"author\": {\n",
    "        \"name\": \"Schnitzler, Arthur\"\n",
    "      }\n",
    "    }\n",
    "```\n",
    "\n",
    "Because we want to filter for plays of a single author, we have to find a way to filter on the information include in the `\"authors\"` list of the play dictionary. Filtering on `name` would probably work in this case, but there could be ambigues cases, so better use some kind of indentifier for filtering instead. We will use the identifier from the `ref` list with the `type` of `wikidata`. From the example above we can see, that Arthur Schnitzler's Wikidata identifier is `Q44331`."
   ]
  },
  {
   "cell_type": "code",
   "execution_count": null,
   "id": "d9b3abaf",
   "metadata": {},
   "outputs": [],
   "source": [
    "#set corpusname and the identifier we want to filter on\n",
    "corpusname = \"ger\"\n",
    "author_wd = \"Q44331\""
   ]
  },
  {
   "cell_type": "markdown",
   "id": "c815712c",
   "metadata": {},
   "source": [
    "We then fetch the data on all plays in the corpus from the online DraCor API. Because we are not querying our local API, we need to explicitly set the argument `apibase` to `https://dracor.org/api/`:"
   ]
  },
  {
   "cell_type": "code",
   "execution_count": null,
   "id": "85f36a45",
   "metadata": {},
   "outputs": [],
   "source": [
    "#send the request: Attention: we send to the online API and have to set this!\n",
    "plays = get(apibase=\"https://dracor.org/api/\", corpusname=corpusname, parse_json=True)[\"dramas\"]\n",
    "print(plays)"
   ]
  },
  {
   "cell_type": "markdown",
   "id": "38feba8b",
   "metadata": {},
   "source": [
    "We create an empty list `playnames` for storing the retrieved plays. Then we iterate over the downloaded data and filter for the Schnitzler plays. If a play is by Schnitzler, we add the playname to the list."
   ]
  },
  {
   "cell_type": "code",
   "execution_count": null,
   "id": "ef8be14b",
   "metadata": {},
   "outputs": [],
   "source": [
    "#create an empty list, we will store the playnames extracted\n",
    "playnames = []\n",
    "\n",
    "#iterate over the downloaded play data\n",
    "for play in plays:\n",
    "    #the variable will hold the current author's wikidata (be careful, the code would have to be adapted for plays with more than one author)\n",
    "    current_author_wd = play[\"authors\"][0][\"refs\"][\"type\"==\"wikidata\"][\"ref\"]\n",
    "    \n",
    "    #compare the current author's wikidata id with Schnitzlers wd id\n",
    "    if current_author_wd == author_wd:\n",
    "        #if true append the playname to the list\n",
    "        playnames.append(play[\"name\"])\n",
    "\n",
    "#output the found plays:\n",
    "#count the plays and print this information\n",
    "print(\"Found \" + str(len(playnames)) + \" plays:\\n\")\n",
    "\n",
    "#print each playname\n",
    "for playname in playnames:\n",
    "    print(playname)"
   ]
  },
  {
   "cell_type": "markdown",
   "id": "5981106f",
   "metadata": {},
   "source": [
    "We will now use the `/corpora/{corpusname}/play/{playname}/tei` endpoint (see [Documentation](https://dracor.org/doc/api#/public/play-tei)) to get the TEI data, which we will then load in our local database by sending a `PUT` request to the same endpoint.\n"
   ]
  },
  {
   "cell_type": "code",
   "execution_count": null,
   "id": "696f0a3d",
   "metadata": {},
   "outputs": [],
   "source": [
    "# use the name of the corpus we created above\n",
    "fetch_corpusname = \"ger\"\n",
    "put_corpusname = \"schnitzler\"\n",
    "\n",
    "# need the Content-Type to application/xml\n",
    "headers = {'Content-Type': 'application/xml'}\n",
    "\n",
    "#use a loop to interate over the data\n",
    "#print each playname\n",
    "for playname in playnames:\n",
    "    #use the boilderplate function to fetch the TEI file from the online DraCor API; explicitly set apibase\n",
    "    data = get(corpusname=fetch_corpusname, playname=playname, method=\"tei\",apibase=\"https://dracor.org/api/\").encode('utf-8')\n",
    "    \n",
    "    #construct the url to send the PUT request to our local API\n",
    "    put_url = \"http://localhost:8088/api/\" + \"corpora/\" + put_corpusname + \"/play/\" + playname + \"/tei\"\n",
    "    #send the put request to the local api\n",
    "    r = requests.put(put_url, data=data, headers=headers, auth=HTTPBasicAuth(usr, pwd))\n"
   ]
  },
  {
   "cell_type": "markdown",
   "id": "d66081be",
   "metadata": {},
   "source": [
    "In your local [frontend](http://localhost:8088) the corpus should now contain the plays:\n",
    "\n",
    "<div>\n",
    "<img src=\"images/schnitzler_corpus_with_plays_card.png\" width=\"300\"/>\n",
    "</div>\n",
    "\n",
    "![List of Schnitzler plays in the local corpus](images/schnitzler_corpus_with_plays_list.png \"List of Schnitzler plays in the local corpus\")\n",
    "\n",
    "A request to the local API should also list them:"
   ]
  },
  {
   "cell_type": "code",
   "execution_count": null,
   "id": "73f85f99",
   "metadata": {},
   "outputs": [],
   "source": [
    "#send a request to the /corpora/{corpusname} endpoint\n",
    "get(corpusname=\"schnitzler\",parse_json=True)"
   ]
  }
 ],
 "metadata": {
  "kernelspec": {
   "display_name": "Python 3 (ipykernel)",
   "language": "python",
   "name": "python3"
  },
  "language_info": {
   "codemirror_mode": {
    "name": "ipython",
    "version": 3
   },
   "file_extension": ".py",
   "mimetype": "text/x-python",
   "name": "python",
   "nbconvert_exporter": "python",
   "pygments_lexer": "ipython3",
   "version": "3.9.12"
  }
 },
 "nbformat": 4,
 "nbformat_minor": 5
}

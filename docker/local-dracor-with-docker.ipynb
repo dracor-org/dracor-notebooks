{
 "cells": [
  {
   "cell_type": "markdown",
   "id": "22e11add",
   "metadata": {},
   "source": [
    "# Local DraCor instance with Docker\n",
    "\n",
    "This notebook explains how you can setup a local DraCor instance using [Docker](https://www.docker.com). The instructions are **only valid for Mac/Linux** at the moment."
   ]
  },
  {
   "cell_type": "markdown",
   "id": "baf4422e",
   "metadata": {},
   "source": [
    "## Installing Docker and Docker Compose\n",
    "\n",
    "(tba)\n",
    "To run a local instance of the DraCor platform you need to have Docker and Docker Compose installed on the machine you are executing this notebook. Please refer to the respective documentations and follow the instructions on how to install the tools needed."
   ]
  },
  {
   "cell_type": "markdown",
   "id": "5b47434a",
   "metadata": {},
   "source": [
    "## Running commands in the Terminal/Shell\n",
    "We will rarely use Python Code in this notebook, but instead execute various commands in the shell/terminal of your machine. By adding `!` before the command, it will be executed in your terminal in the background and you will see the results in the notebook. E.g. to test, if Docker is installed – and if you a on a Linux/Mac machine, you can use `which` to get the location of the program. "
   ]
  },
  {
   "cell_type": "code",
   "execution_count": null,
   "id": "bafa6a2a",
   "metadata": {},
   "outputs": [],
   "source": [
    "#by adding ! before the code, you will execute a command in the terminal\n",
    "#check, where docker is installed\n",
    "!which docker"
   ]
  },
  {
   "cell_type": "code",
   "execution_count": null,
   "id": "19263c7e",
   "metadata": {},
   "outputs": [],
   "source": [
    "#check for docker compose\n",
    "!which docker-compose"
   ]
  },
  {
   "cell_type": "markdown",
   "id": "9ef5ff39",
   "metadata": {},
   "source": [
    "## Getting the DraCor API\n",
    "You will now need to get the code of the DraCor API, which can be found on github: https://github.com/dracor-org/dracor-api. \n",
    "\n",
    "We will use `git` to get the code. If you are using a Mac and have the [Xcode](https://en.wikipedia.org/wiki/Xcode) Command Line Tools installed, you should be able to follow along, but you can still visit the repository, download the code and add it to the folder, where your notebook is located if it doesn't work the described way."
   ]
  },
  {
   "cell_type": "code",
   "execution_count": null,
   "id": "d72dfded",
   "metadata": {},
   "outputs": [],
   "source": [
    "!which git"
   ]
  },
  {
   "cell_type": "code",
   "execution_count": null,
   "id": "5673c83d",
   "metadata": {},
   "outputs": [],
   "source": [
    "# set the url, we will need for pulling and store it in a variable. \n",
    "# We can use the variable in our terminal command below by appending a $ to the variable name.\n",
    "dracor_api_clone_url = \"https://github.com/dracor-org/dracor-api.git\""
   ]
  },
  {
   "cell_type": "code",
   "execution_count": null,
   "id": "79fb5245",
   "metadata": {},
   "outputs": [],
   "source": [
    "!git clone $dracor_api_clone_url"
   ]
  },
  {
   "cell_type": "markdown",
   "id": "84996408",
   "metadata": {},
   "source": [
    "If this was successful, you should now have a new folder called `dracor-api`. You can list the contents of the directory with `ls`."
   ]
  },
  {
   "cell_type": "code",
   "execution_count": null,
   "id": "06a5d467",
   "metadata": {},
   "outputs": [],
   "source": [
    "# list the contents of your directory\n",
    "!ls"
   ]
  },
  {
   "cell_type": "markdown",
   "id": "bd37a0ef",
   "metadata": {},
   "source": [
    "You could put the code somewhere else as well, but then you have to change the path, we add to a variable `apifolder`:"
   ]
  },
  {
   "cell_type": "code",
   "execution_count": null,
   "id": "b1026182",
   "metadata": {},
   "outputs": [],
   "source": [
    "# set the path to the code of the dracor api:\n",
    "apifolder = \"dracor-api\""
   ]
  },
  {
   "cell_type": "markdown",
   "id": "ca02ddca",
   "metadata": {},
   "source": [
    "## Building DraCor with Docker\n",
    "(Skip this section for now, but logically it should be described here; see also the ANT error described below.)\n",
    "\n",
    "When you run a DraCor Docker container for the first time, an image will be built an then reused on the next starts. You can actively re-build the image without relying on the cache."
   ]
  },
  {
   "cell_type": "code",
   "execution_count": null,
   "id": "854d8870",
   "metadata": {},
   "outputs": [],
   "source": [
    "# make a clean build without using cached images\n",
    "!docker-compose build --no-cache"
   ]
  },
  {
   "cell_type": "markdown",
   "id": "35fb3b7f",
   "metadata": {},
   "source": [
    "## Running DraCor with Docker\n",
    "The `README.md` of the DraCor API Repository explains how to run the platform using Docker. You have a look at the [instructions on Github](https://github.com/dracor-org/dracor-api#getting-started) or just look at the file in this notebook by using `cat` to display the text:"
   ]
  },
  {
   "cell_type": "code",
   "execution_count": null,
   "id": "81acb22f",
   "metadata": {},
   "outputs": [],
   "source": [
    "# display the contents of the README file\n",
    "!cat $apifolder/README.md"
   ]
  },
  {
   "cell_type": "markdown",
   "id": "2ad96aca",
   "metadata": {},
   "source": [
    "If we were now inside our termina, we would have to follow the instructions as detailed in the `README.md`:\n",
    "\n",
    "```\n",
    "git clone https://github.com/dracor-org/dracor-api.git\n",
    "cd dracor-api\n",
    "docker-compose up\n",
    "```\n",
    "\n",
    "We already completed the first step, but because we are executing the code from this notebook, we have to slightly adapt it. Although we can directly execute code in the terminal, not all commands work like expected (more information on this behaviour of Jupyter Notebooks can be found in a Tutorial of the O'Reilly [Data Science Handbook](https://colab.research.google.com/github/jakevdp/PythonDataScienceHandbook/blob/master/notebooks/01.05-IPython-And-Shell-Commands.ipynb) (VanderPlas 2016). \n",
    "\n",
    "Although it's possible to change the working directory with a \"magic command\", we won't \"go\" into the dracor-api folder with `cd`."
   ]
  },
  {
   "cell_type": "code",
   "execution_count": null,
   "id": "832f35fe",
   "metadata": {},
   "outputs": [],
   "source": [
    "# list the contents of the API folder\n",
    "!ls $apifolder"
   ]
  },
  {
   "cell_type": "markdown",
   "id": "4787b951",
   "metadata": {},
   "source": [
    "For the next step we will use the `docker-compose.yml` file that is located in the source code folder. With the command `grep` we can filter the directory listing above and see if the needed file is there as we expect:"
   ]
  },
  {
   "cell_type": "code",
   "execution_count": null,
   "id": "d15b9de2",
   "metadata": {},
   "outputs": [],
   "source": [
    "# list the contents of the folder and check, if the compose file is there\n",
    "!ls $apifolder | grep docker-compose.yml"
   ]
  },
  {
   "cell_type": "markdown",
   "id": "29e1078f",
   "metadata": {},
   "source": [
    "We can now run the docker-compose command by explicitly telling the tool where to look for the compose file by using the `-f` flag. If you run the following command, the API will be started using docker. It will take some time depending on whether you run the API this way the first time (docker will have to build the image before starting it). You will see a lot of text output in the cell. Wait, until the information stream slows down and look for lines similar to the following:\n",
    "\n",
    "```\n",
    "api_1       | 20 Jul 2022 07:45:39,137 [main] INFO  (JettyStart.java [run]:288) - Server has started, listening on: \n",
    "api_1       | 20 Jul 2022 07:45:39,138 [main] INFO  (JettyStart.java [run]:290) - http://XXX.XX.X.X:8080/  \n",
    "```\n",
    "This will tell you, that the process of starting the underlying eXist application has been completed. You should now be able to access your local DraCor instance by opening the url from the output or try http://localhost:8080 which will show you the eXist Dashboard. If you want to go to the frontend, visit http://localhost:8088. \n",
    "\n",
    "Your DraCor Platform will be empty, you have to manually load the respective corpora. We will do this in the next steps. \n",
    "\n",
    "You can stop you instance from this notebook by clicking on the cell below and using the stop button in the Jupyter notebooks menu."
   ]
  },
  {
   "cell_type": "code",
   "execution_count": null,
   "id": "0c25802d",
   "metadata": {},
   "outputs": [],
   "source": [
    "!docker-compose -f $apifolder/docker-compose.yml up"
   ]
  },
  {
   "cell_type": "markdown",
   "id": "af03a585",
   "metadata": {},
   "source": [
    "If this process fails, you might have to change the line `ENV ANT_VERSION 1.10.11` in the `DOCKERFILE` in the source code repo, see corresponding [issue on github](https://github.com/dracor-org/dracor-api/issues/164) (that might be resolved soon). It should be changed to a version, that is available here: https://downloads.apache.org/ant/binaries/. You can also try to run `docker-compose build --no-cache` in your terminal after you changed the line."
   ]
  },
  {
   "cell_type": "markdown",
   "id": "feecd49c",
   "metadata": {},
   "source": [
    "To proceed, you have to stop you new local instance of the DraCor plattform, otherwhise the following cells won't run. Use the stop Button from the notebook menu."
   ]
  },
  {
   "cell_type": "markdown",
   "id": "a8d204b5",
   "metadata": {},
   "source": [
    "## Running Dracor in the background using `os`\n",
    "Running subprocesses in the background of a notebook doesn't seem to be trivial, for example, the following command will fail:"
   ]
  },
  {
   "cell_type": "code",
   "execution_count": null,
   "id": "7a5c0590",
   "metadata": {},
   "outputs": [],
   "source": [
    "!docker-compose -f $apifolder/docker-compose.yml up&"
   ]
  },
  {
   "cell_type": "markdown",
   "id": "c25ab0f5",
   "metadata": {},
   "source": [
    "We can still accomplish that by making use of the python library `os`. We have to import the library and then send our docker-compose command to the `system` function of `os`."
   ]
  },
  {
   "cell_type": "code",
   "execution_count": null,
   "id": "e7e6ccfc",
   "metadata": {},
   "outputs": [],
   "source": [
    "# import the library\n",
    "import os "
   ]
  },
  {
   "cell_type": "code",
   "execution_count": null,
   "id": "5a7a80be",
   "metadata": {},
   "outputs": [],
   "source": [
    "#store the command in a variable \"cmd\"\n",
    "cmd = \"docker-compose -f \" + apifolder + \"/docker-compose.yml up&\"\n",
    "\n",
    "#send the command\n",
    "os.system(cmd);"
   ]
  },
  {
   "cell_type": "markdown",
   "id": "0b85e72d",
   "metadata": {},
   "source": [
    "We now have a running local DraCor instance that we can access at (http://localhost:8088). The instance will stop working when you shutdown the kernel of this notebook."
   ]
  },
  {
   "cell_type": "markdown",
   "id": "435f9f05",
   "metadata": {},
   "source": [
    "## Using the local API\n",
    "We not only have a running (but empty) local database and a frontend, but also a working local API, e.g. `http://localhost:8088/api`, which we will use in the remainder of the tutorial. We won't cover the basics of how to use the DraCor-API in Python, so please refer to the introductory tutorial [\"DraCor API\"](https://github.com/dracor-org/dracor-notebooks/tree/main/api-tutorial) in the [dracor-notebooks](https://github.com/dracor-org/dracor-notebooks) repository. "
   ]
  },
  {
   "cell_type": "markdown",
   "id": "7a87ede2",
   "metadata": {},
   "source": [
    "We define a generic function to send requests to the API. This function is basically the generic function mentioned in some notebooks, but the default `apibase` is changed to the local API `http://localhost:8088/api/` in the line `apibase = \"http://localhost:8088/api/\"`:"
   ]
  },
  {
   "cell_type": "code",
   "execution_count": null,
   "id": "eac04f8e",
   "metadata": {},
   "outputs": [],
   "source": [
    "# import libraries json and requests\n",
    "import json\n",
    "import requests\n",
    "\n",
    "#corpusname:str -> []\n",
    "def get(**kwargs):\n",
    "    #corpusname=corpusname\n",
    "    #playname=playname\n",
    "    #apibase=\"https://dracor.org/api/\"\n",
    "    #method=method\n",
    "    #parse_json: True\n",
    "    \n",
    "    #could set different apibase, e.g. https://staging.dracor.org/api/ [not recommended, pls use the production server]\n",
    "    if \"apibase\" in kwargs:\n",
    "        if kwargs[\"apibase\"].endswith(\"/\"):\n",
    "            apibase = kwargs[\"apibase\"]\n",
    "        else:\n",
    "            apibase = kwargs[\"apibase\"] + \"/\"\n",
    "    else:\n",
    "        #use local API per default\n",
    "        apibase = \"http://localhost:8088/api/\"\n",
    "    if \"corpusname\" in kwargs and \"playname\" in kwargs:\n",
    "        # used for /api/corpora/{corpusname}/play/{playname}/\n",
    "        if \"method\" in kwargs:\n",
    "            request_url = apibase + \"corpora/\" + kwargs[\"corpusname\"] + \"/play/\" + kwargs[\"playname\"] + \"/\" + kwargs[\"method\"]\n",
    "        else:\n",
    "            request_url = apibase + \"corpora/\" + kwargs[\"corpusname\"] + \"/play/\" + kwargs[\"playname\"]\n",
    "    elif \"corpusname\" in kwargs and not \"playname\" in kwargs:\n",
    "        if \"method\" in kwargs:\n",
    "            request_url = apibase + \"corpora/\" + kwargs[\"corpusname\"] + \"/\" + kwargs[\"method\"]\n",
    "        else:\n",
    "            request_url = apibase + \"corpora/\" + kwargs[\"corpusname\"] \n",
    "    elif \"method\" in kwargs and not \"corpusname\" in kwargs and not \"playname\" in kwargs:\n",
    "            request_url = apibase + kwargs[\"method\"]\n",
    "            \n",
    "    else: \n",
    "        #nothing set\n",
    "        request = request_url = apibase + \"info\"\n",
    "    \n",
    "    #send the response\n",
    "    r = requests.get(request_url)\n",
    "    if r.status_code == 200:\n",
    "        #success!\n",
    "        if \"parse_json\" in kwargs:\n",
    "            if kwargs[\"parse_json\"] == True:\n",
    "                json_data = json.loads(r.text)\n",
    "                return json_data\n",
    "            else:\n",
    "                return r.text\n",
    "        else:\n",
    "            return r.text\n",
    "    else:\n",
    "        raise Exception(\"Request was not successful. Server returned status code: \"  + str(r.status_code))"
   ]
  },
  {
   "cell_type": "code",
   "execution_count": null,
   "id": "cd4f5b7b",
   "metadata": {},
   "outputs": [],
   "source": [
    "#use the defined function to get API Info (default method, if nothing else is specified)\n",
    "get(parse_json=True)"
   ]
  },
  {
   "cell_type": "markdown",
   "id": "cb794a56",
   "metadata": {},
   "source": [
    "In addition to the result of the request you will also see the log from the running process in the background, e.g. \n",
    "\n",
    "```\n",
    "frontend_1  | XXX.XXX.X.X - - [20/Jul/2022:09:58:24 +0000] \"GET /api/info HTTP/1.1\" 200 118 \"-\" \"python-requests/2.27.1\" \"-\"\n",
    "```\n",
    "\n",
    "This tells you, that there has been a `GET` request to the `/info` endpoint, which was successful (see status code `200`)."
   ]
  },
  {
   "cell_type": "markdown",
   "id": "0c3444f4",
   "metadata": {},
   "source": [
    "You can also list the available corpora by calling the endpoint `/corpora` which should return an empty list `[]` because there are no corpora loaded yet:"
   ]
  },
  {
   "cell_type": "code",
   "execution_count": null,
   "id": "d79482a7",
   "metadata": {},
   "outputs": [],
   "source": [
    "get(method=\"corpora\",parse_json=True)"
   ]
  },
  {
   "cell_type": "markdown",
   "id": "a5f13123",
   "metadata": {},
   "source": [
    "## Add a corpus and load the data\n",
    "The [documentation](https://github.com/dracor-org/dracor-api#load-data) in the `README.md` explains how corpora can be added and loaded by using `curl` in the command line. \n",
    "\n",
    "Adding a corpus is a two step process:\n",
    "\n",
    "* in a first step, a corpus needs to be added to the database. This step will only add few metadata, a `name`, a `title` and a link to the repository, from which the data can be retrieved;\n",
    "* secondly,In a second step the TEI files of the plays are loaded from the repository.\n",
    "\n",
    "We will add the [Test Drama Corpus](https://github.com/dracor-org/testdracor) \"testdracor\". We construct the metadata that will be sent as payload in the `POST` request to the `/corpora` endpoint (for details, please refer to the [API Documentation](https://dracor.org/doc/api#/admin/post-corpora)).\n",
    "\n",
    "The endpoints in the \"Admin\" section (see [Documentation](https://dracor.org/doc/api#/admin)) are only available for authorized users with admin rights. The default user of the eXist-DB is `admin` and the password is an empty string. This should, of course, be changed for production use, but by default, a local instance of the eXist-DB will have this credentials, which we assign to the variables `usr` and `pwd`. To be able to include these information in the request, we need to import the class `HTTPBasicAuth` from the `requests` library first:"
   ]
  },
  {
   "cell_type": "code",
   "execution_count": null,
   "id": "e09d1339",
   "metadata": {},
   "outputs": [],
   "source": [
    "#needed for authorization\n",
    "from requests.auth import HTTPBasicAuth\n",
    "\n",
    "#Username of the local instance\n",
    "usr = \"admin\"\n",
    "#Password of the admin user\n",
    "pwd = \"\""
   ]
  },
  {
   "cell_type": "markdown",
   "id": "466d6827",
   "metadata": {},
   "source": [
    "We also have to construct the metadata of our corpus:"
   ]
  },
  {
   "cell_type": "code",
   "execution_count": null,
   "id": "a8ee2e13",
   "metadata": {},
   "outputs": [],
   "source": [
    "#construct the payload\n",
    "testdracor_metadata = {\n",
    "  \"name\": \"test\",\n",
    "  \"title\": \"Test Drama Corpus\",\n",
    "  \"repository\": \"https://github.com/dracor-org/testdracor\"\n",
    "}"
   ]
  },
  {
   "cell_type": "markdown",
   "id": "efdfead3",
   "metadata": {},
   "source": [
    "We can then send the `POST` request to the `/corpora` endpoint, supply the metadata and also include the credential of the admin user:"
   ]
  },
  {
   "cell_type": "code",
   "execution_count": null,
   "id": "fcf50a24",
   "metadata": {},
   "outputs": [],
   "source": [
    "#url of the corpora endpoint\n",
    "corpora_endpoint_url = \"http://localhost:8088/api/corpora\"\n",
    "\n",
    "#send the POST request using library requests\n",
    "r = requests.post(corpora_endpoint_url, json = testdracor_metadata, auth=HTTPBasicAuth(usr, pwd))"
   ]
  },
  {
   "cell_type": "markdown",
   "id": "beea3eb3",
   "metadata": {},
   "source": [
    "When running for the first time, the API should return a HTTP status code of `200` (actually, `201` would be better!) For other status codes, please check the documentation. For example, if a corpus already exists, the API will return a status code od `409`. To get the status code, you can use the method `status_code` on you request object `r`."
   ]
  },
  {
   "cell_type": "code",
   "execution_count": null,
   "id": "769ec6b8",
   "metadata": {},
   "outputs": [],
   "source": [
    "print(r.status_code)"
   ]
  },
  {
   "cell_type": "markdown",
   "id": "9c696775",
   "metadata": {},
   "source": [
    "If everything went well, you should see your newly added corpus listed on the DraCor homepage of your [local instance](http://localhost:8088/). Your corpus might show up twice, because DraCor isn't build to display only one corpus, but you can check if you corpus has been successfully added by using the API. This should return only one entry in the list:"
   ]
  },
  {
   "cell_type": "code",
   "execution_count": null,
   "id": "f488b2c2",
   "metadata": {},
   "outputs": [],
   "source": [
    "#send a request to the /corpora endpoint\n",
    "get(method=\"corpora\",parse_json=True)"
   ]
  },
  {
   "cell_type": "markdown",
   "id": "67c09162",
   "metadata": {},
   "source": [
    "## Loading the plays\n",
    "If you go to your corpus on the local platform, e.g. http://localhost:8088/test, you will see, that there are no plays included. Likewhise, querying the `/corpora/{corpusname}` endpoint (see [Documentation](https://dracor.org/doc/api#/public/list-corpus-content)) will return an empty list:"
   ]
  },
  {
   "cell_type": "code",
   "execution_count": null,
   "id": "77fbc510",
   "metadata": {},
   "outputs": [],
   "source": [
    "get(method=\"corpora\",corpus=\"test\",parse_json=True)"
   ]
  },
  {
   "cell_type": "markdown",
   "id": "8d5992da",
   "metadata": {},
   "source": [
    "To trigger the loading process, you have to send a JSON array containing `{\"load\" : true}` (in a Python dictionary, the Boolean value will be `True`) to the `/corpora/{corpusname}` endpoint."
   ]
  },
  {
   "cell_type": "code",
   "execution_count": null,
   "id": "06b7ce77",
   "metadata": {},
   "outputs": [],
   "source": [
    "#construct the url\n",
    "load_test_endpoint_url = \"http://localhost:8088/api/corpora/test\"\n",
    "\n",
    "#construct the payload to be send to the endpoint\n",
    "load_cmd_payload = {\"load\" : True}\n",
    "\n",
    "#send the POST request using library requests\n",
    "r = requests.post(load_test_endpoint_url, json = load_cmd_payload, auth=HTTPBasicAuth(usr, pwd))"
   ]
  },
  {
   "cell_type": "markdown",
   "id": "13335a0c",
   "metadata": {},
   "source": [
    "If a corpus update was sheduled, you should get a `202` status code:"
   ]
  },
  {
   "cell_type": "code",
   "execution_count": null,
   "id": "6d22ba16",
   "metadata": {},
   "outputs": [],
   "source": [
    "# inspect the status code of your POST request\n",
    "print(r.status_code)"
   ]
  },
  {
   "cell_type": "markdown",
   "id": "d5632298",
   "metadata": {},
   "source": [
    "(Clearing FUSEKI doesn't seem to work here. This needs to be fixed, see corresponding issue [here](https://github.com/dracor-org/dracor-api/issues/165))."
   ]
  },
  {
   "cell_type": "markdown",
   "id": "91901396",
   "metadata": {},
   "source": [
    "## Manually adding a play to a corpus\n",
    "Plays can also be added to a corpus manually by sending a `PUT` request to the `/corpora/{corpusname}/play/{playname}/tei` endpoint. The documentation of the endpoint can be found [here](https://dracor.org/doc/api#/admin/play-tei-put)."
   ]
  },
  {
   "cell_type": "code",
   "execution_count": null,
   "id": "9605be3e",
   "metadata": {},
   "outputs": [],
   "source": []
  }
 ],
 "metadata": {
  "kernelspec": {
   "display_name": "Python 3 (ipykernel)",
   "language": "python",
   "name": "python3"
  },
  "language_info": {
   "codemirror_mode": {
    "name": "ipython",
    "version": 3
   },
   "file_extension": ".py",
   "mimetype": "text/x-python",
   "name": "python",
   "nbconvert_exporter": "python",
   "pygments_lexer": "ipython3",
   "version": "3.9.12"
  }
 },
 "nbformat": 4,
 "nbformat_minor": 5
}

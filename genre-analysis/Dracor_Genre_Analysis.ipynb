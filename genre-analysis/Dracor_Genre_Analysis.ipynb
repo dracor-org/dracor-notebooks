{
 "cells": [
  {
   "cell_type": "markdown",
   "id": "micro-capacity",
   "metadata": {},
   "source": [
    "# DraCor: Analysis of Network Values by Genre\n",
    "__Reproduction of the analysis presented in: https://dlina.github.io/Network-Values-by-Genre/__\n",
    "\n",
    "by Henny Sluyter-Gäthje"
   ]
  },
  {
   "cell_type": "markdown",
   "id": "opposite-lodge",
   "metadata": {},
   "source": [
    "## 0. Initialisation\n",
    "### Load libraries"
   ]
  },
  {
   "cell_type": "code",
   "execution_count": null,
   "id": "integral-motel",
   "metadata": {},
   "outputs": [],
   "source": [
    "# if libraries are not installed, remove the hash from the line starting with '!'\n",
    "# if you want to reproduce an analysis you can add the version number like this:\n",
    "# requests==2.25.1 pandas==1.2.3 matplotlib==3.3.4\n",
    "#! pip install requests pandas matplotlib"
   ]
  },
  {
   "cell_type": "code",
   "execution_count": null,
   "id": "younger-industry",
   "metadata": {},
   "outputs": [],
   "source": [
    "import math\n",
    "from datetime import datetime\n",
    "\n",
    "import requests\n",
    "import pandas as pd\n",
    "import matplotlib.pyplot as plt"
   ]
  },
  {
   "cell_type": "markdown",
   "id": "great-stylus",
   "metadata": {},
   "source": [
    "#### Get version information for reproducibility"
   ]
  },
  {
   "cell_type": "code",
   "execution_count": null,
   "id": "compressed-dayton",
   "metadata": {},
   "outputs": [],
   "source": [
    "pip freeze | grep \"matplotlib\\|pandas\\|requests\""
   ]
  },
  {
   "cell_type": "markdown",
   "id": "cloudy-burke",
   "metadata": {},
   "source": [
    "#### Get current date for version information of corpus and API"
   ]
  },
  {
   "cell_type": "code",
   "execution_count": null,
   "id": "economic-employer",
   "metadata": {},
   "outputs": [],
   "source": [
    "print(datetime.now())"
   ]
  },
  {
   "cell_type": "markdown",
   "id": "comfortable-baseline",
   "metadata": {},
   "source": [
    "## 1. Preparation"
   ]
  },
  {
   "cell_type": "markdown",
   "id": "requested-wrist",
   "metadata": {},
   "source": [
    "### Get corpus list from DraCor API (https://dracor.org/doc/api)\n"
   ]
  },
  {
   "cell_type": "code",
   "execution_count": null,
   "id": "assigned-adobe",
   "metadata": {},
   "outputs": [],
   "source": [
    "PATH_TO_DRACOR_API = \"https://dracor.org/api/corpora/\""
   ]
  },
  {
   "cell_type": "code",
   "execution_count": null,
   "id": "narrative-airport",
   "metadata": {},
   "outputs": [],
   "source": [
    "corpus_list = requests.get(PATH_TO_DRACOR_API).json()"
   ]
  },
  {
   "cell_type": "markdown",
   "id": "resident-builder",
   "metadata": {},
   "source": [
    "### List available corpora "
   ]
  },
  {
   "cell_type": "code",
   "execution_count": null,
   "id": "variable-noise",
   "metadata": {},
   "outputs": [],
   "source": [
    "corpus_abbreviations = []\n",
    "print(\"abbreviation, title\")\n",
    "for corpus_description in corpus_list:\n",
    "    name = corpus_description[\"name\"]\n",
    "    print(f'{name}: {corpus_description[\"title\"]}')\n",
    "    corpus_abbreviations.append(name)"
   ]
  },
  {
   "cell_type": "markdown",
   "id": "posted-worker",
   "metadata": {},
   "source": [
    "### Select corpus to investigate \n",
    "The following analyses will focus on the comparison of different genre. At time of notebook creation (19/11/2021) genre information was available for the following corpora:\n",
    "* fre\n",
    "* ger\n",
    "* rus "
   ]
  },
  {
   "cell_type": "code",
   "execution_count": null,
   "id": "worst-salem",
   "metadata": {},
   "outputs": [],
   "source": [
    "while True:\n",
    "    selected_corpus = str(input(\"Please choose a corpus from the list above. Enter the abbreviation: \"))\n",
    "    if selected_corpus not in corpus_abbreviations:\n",
    "        print(\"The abbreviation you selected is not in the list. Please enter the abbreviation again.\")\n",
    "    else:\n",
    "        print(\"Success!\")\n",
    "        break"
   ]
  },
  {
   "cell_type": "markdown",
   "id": "sought-crisis",
   "metadata": {},
   "source": [
    "## 2. Load data\n",
    "### Retrieve and read metadata file for selected corpus "
   ]
  },
  {
   "cell_type": "code",
   "execution_count": null,
   "id": "tight-operations",
   "metadata": {},
   "outputs": [],
   "source": [
    "METADAT_EXT = \"/metadata\"\n",
    "corpus_metadata_path = PATH_TO_DRACOR_API + selected_corpus + METADAT_EXT\n",
    "metadata_file = requests.get(corpus_metadata_path, headers={\"accept\": \"text/csv\"}, stream=True)\n",
    "metadata_file.raw.decode_content=True"
   ]
  },
  {
   "cell_type": "code",
   "execution_count": null,
   "id": "legendary-wells",
   "metadata": {},
   "outputs": [],
   "source": [
    "# read metadata to DataFrame\n",
    "metadata_df = pd.read_csv(metadata_file.raw, sep=\",\", encoding=\"utf-8\")"
   ]
  },
  {
   "cell_type": "markdown",
   "id": "valuable-abuse",
   "metadata": {},
   "source": [
    "### Check if genre information is available for selected corpus"
   ]
  },
  {
   "cell_type": "code",
   "execution_count": null,
   "id": "beginning-gates",
   "metadata": {},
   "outputs": [],
   "source": [
    "genre_key = \"normalizedGenre\""
   ]
  },
  {
   "cell_type": "code",
   "execution_count": null,
   "id": "intense-jordan",
   "metadata": {},
   "outputs": [],
   "source": [
    "if metadata_df[genre_key].isnull().all():\n",
    "    print(\"\"\"To execute the following analyses, genre information needs to available.\n",
    "    The corpus you selected does NOT include any genre information. To continue, please go back\n",
    "    to the corpus selection and select another corpus.\"\"\")\n",
    "else:\n",
    "    print(\"Genre information is available for the corpus - analyses can be executed!\")"
   ]
  },
  {
   "cell_type": "markdown",
   "id": "prospective-voluntary",
   "metadata": {},
   "source": [
    "###  Inspect metadata"
   ]
  },
  {
   "cell_type": "code",
   "execution_count": null,
   "id": "blank-blink",
   "metadata": {},
   "outputs": [],
   "source": [
    "# print number of plays in corpus\n",
    "len(metadata_df)"
   ]
  },
  {
   "cell_type": "code",
   "execution_count": null,
   "id": "coral-remains",
   "metadata": {},
   "outputs": [],
   "source": [
    "# print first lines\n",
    "metadata_df.head()"
   ]
  },
  {
   "cell_type": "code",
   "execution_count": null,
   "id": "lightweight-passage",
   "metadata": {},
   "outputs": [],
   "source": [
    "# print column names\n",
    "metadata_df.columns"
   ]
  },
  {
   "cell_type": "markdown",
   "id": "exceptional-contents",
   "metadata": {},
   "source": [
    "## 3. Preprocess Data "
   ]
  },
  {
   "cell_type": "markdown",
   "id": "technical-difference",
   "metadata": {},
   "source": [
    "### Filter plays\n",
    "All plays for which the value is below the selected threshold are excluded from the following analyses. Parameters by which the plays can be filtered:\n",
    "* by `size`: number of characters\n",
    "* by `numOfActs`: length of the play in acts  \n",
    "\n"
   ]
  },
  {
   "cell_type": "markdown",
   "id": "still-contrary",
   "metadata": {},
   "source": [
    "#### Set filter key"
   ]
  },
  {
   "cell_type": "code",
   "execution_count": null,
   "id": "generic-reynolds",
   "metadata": {},
   "outputs": [],
   "source": [
    "execute_filter = False\n",
    "possible_filter_keys = ['size', 'numOfActs']\n",
    "while True:\n",
    "    filter_key = input(\"\"\"Please enter the parameter by which the plays should be filtered \n",
    "    (must be a string). If the plays should not be filtered, enter 'exit': \"\"\")\n",
    "    \n",
    "    if filter_key.lower() == \"exit\":\n",
    "        break\n",
    "    elif filter_key not in possible_filter_keys:\n",
    "        print(\"The filter key is not valid. Choose between 'size' or 'numOfActs'\")\n",
    "    else:\n",
    "        print(\"Success!\")\n",
    "        execute_filter = True\n",
    "        break"
   ]
  },
  {
   "cell_type": "markdown",
   "id": "ruled-premium",
   "metadata": {},
   "source": [
    "#### Set filter threshold range"
   ]
  },
  {
   "cell_type": "code",
   "execution_count": null,
   "id": "elementary-harris",
   "metadata": {},
   "outputs": [],
   "source": [
    "if execute_filter:\n",
    "    while True:\n",
    "        filter_threshold_min = input(\"Please enter the *minimum* value by which the plays should be filtered: \")\n",
    "        filter_threshold_max = input(\"Please enter the *maximum* value by which the plays should be filtered: \")\n",
    "        if not filter_threshold_min.isnumeric() and not filter_threshold_max.isnumeric():\n",
    "            print(\"Your input is not valid. Please try again and enter a number.\")\n",
    "        else:\n",
    "            filter_threshold_min = int(filter_threshold_min)\n",
    "            filter_threshold_max = int(filter_threshold_max)\n",
    "            print(\"Success!\")\n",
    "            break\n",
    "    metadata_df = metadata_df[(metadata_df[filter_key] >= filter_threshold_min) & (metadata_df[filter_key] <= filter_threshold_max)]\n",
    "    print(f\"{len(metadata_df)} plays remain for the analysis\")"
   ]
  },
  {
   "cell_type": "markdown",
   "id": "human-skill",
   "metadata": {},
   "source": [
    "### Set genre keys and keys that point to special genres "
   ]
  },
  {
   "cell_type": "code",
   "execution_count": null,
   "id": "distant-lease",
   "metadata": {},
   "outputs": [],
   "source": [
    "title = \"name\"\n",
    "other_val = \"Other\"\n",
    "\n",
    "# column needs to have boolean values\n",
    "special_genre = \"libretto\""
   ]
  },
  {
   "cell_type": "code",
   "execution_count": null,
   "id": "satellite-probability",
   "metadata": {},
   "outputs": [],
   "source": [
    "# replace NaN values (no genre information available) with the value stored in the variable other_val\n",
    "metadata_df[[genre_key]] = metadata_df[[genre_key]].fillna(other_val)"
   ]
  },
  {
   "cell_type": "code",
   "execution_count": null,
   "id": "possible-writing",
   "metadata": {},
   "outputs": [],
   "source": [
    "# replace genre information with information of special genre if play belongs to special genre\n",
    "metadata_df.loc[metadata_df[special_genre] == True, genre_key] = special_genre\n",
    "\n",
    "# group data by genre and show statistics\n",
    "metadata_genre_grouped = metadata_df.groupby([genre_key])\n",
    "metadata_genre_grouped.describe()"
   ]
  },
  {
   "cell_type": "markdown",
   "id": "tracked-explanation",
   "metadata": {},
   "source": [
    "## 4. Analysis\n",
    "\n",
    "#### Steps:\n",
    "1. Inspection of the numbers of plays by genre\n",
    "2. \n",
    "    * Selection of values for broad analysis of overall mean and meadian values (values saved in *values_broad_analysis*)\n",
    "    * Selection of values for detailed analysis of mean and median values by time frame (values saved in *values_detailed_analysis*)\n",
    "3. Perform broad analysis on __all plays__ for values selected for broad analysis \n",
    "4. \n",
    "    * Prepare Analysis of genre specific plays: Deletion of plays for which no genre information is given (value saved in *other_val*)\n",
    "    * Perform broad analysis on __genre specified plays__ for values selected for detailed analysis\n",
    "5. \n",
    "    * Select time frames and threshold\n",
    "    * Perform analysis on genre specified plays for values selected in detailed analysis per time frame"
   ]
  },
  {
   "cell_type": "markdown",
   "id": "korean-economics",
   "metadata": {},
   "source": [
    "### 1. Inspect number of plays per genre"
   ]
  },
  {
   "cell_type": "code",
   "execution_count": null,
   "id": "substantial-london",
   "metadata": {},
   "outputs": [],
   "source": [
    "print(metadata_genre_grouped.size())\n",
    "metadata_genre_grouped.size().plot(kind=\"bar\")"
   ]
  },
  {
   "cell_type": "markdown",
   "id": "north-mailman",
   "metadata": {},
   "source": [
    "### 2. Set values for broad and detailed analysis"
   ]
  },
  {
   "cell_type": "markdown",
   "id": "royal-coaching",
   "metadata": {},
   "source": [
    "* Broad analysis of mean and median for the values set in the variable *values_broad_analysis*. Look at list of column names to select different values. At the moment set to:\n",
    "    * Number of Characters\n",
    "    * Max Degree\n",
    "    * Average Degree \n",
    "    * Density\n",
    "    * Average Path Length\n",
    "    * Average Clustering Coefficient\n",
    "\n",
    "* Detailed analysis of mean and median by time frame (to be selected) set in the variable *values_detailed_analysis*. At the moment set to:\n",
    "    * Network Size (number of characters in the play)\n",
    "    * Density"
   ]
  },
  {
   "cell_type": "code",
   "execution_count": null,
   "id": "curious-wealth",
   "metadata": {},
   "outputs": [],
   "source": [
    "# set values for broad analysis\n",
    "values_broad_analysis = [\"numOfSpeakers\", \"maxDegree\", \"averageDegree\", \"density\", \"averagePathLength\",\n",
    "                          \"averageClustering\"]"
   ]
  },
  {
   "cell_type": "code",
   "execution_count": null,
   "id": "hungry-demand",
   "metadata": {},
   "outputs": [],
   "source": [
    "# set values for detailed analysis\n",
    "values_detailed_analysis = [\"size\", \"density\"]"
   ]
  },
  {
   "cell_type": "markdown",
   "id": "protecting-people",
   "metadata": {},
   "source": [
    "### 3. Perform Analysis: Investigate mean and median of values selected for broad analysis"
   ]
  },
  {
   "cell_type": "markdown",
   "id": "difficult-river",
   "metadata": {},
   "source": [
    "##### Mean values"
   ]
  },
  {
   "cell_type": "code",
   "execution_count": null,
   "id": "white-program",
   "metadata": {},
   "outputs": [],
   "source": [
    "metadata_genre_grouped[values_broad_analysis].mean()"
   ]
  },
  {
   "cell_type": "markdown",
   "id": "civic-malta",
   "metadata": {},
   "source": [
    "##### Median values"
   ]
  },
  {
   "cell_type": "code",
   "execution_count": null,
   "id": "polish-parcel",
   "metadata": {},
   "outputs": [],
   "source": [
    "metadata_genre_grouped[values_broad_analysis].median()"
   ]
  },
  {
   "cell_type": "markdown",
   "id": "local-runner",
   "metadata": {},
   "source": [
    "### 4. Preparation: Exclude plays without genre information"
   ]
  },
  {
   "cell_type": "code",
   "execution_count": null,
   "id": "foreign-statement",
   "metadata": {},
   "outputs": [],
   "source": [
    "# delete rows with genre value \"other\"\n",
    "metadata_df_genre_specified = metadata_df.drop(index=metadata_genre_grouped.get_group((other_val,)).index)\n",
    "metadata_genre_specified_grouped = metadata_df_genre_specified.groupby(genre_key)"
   ]
  },
  {
   "cell_type": "markdown",
   "id": "smooth-basics",
   "metadata": {},
   "source": [
    "### 4. Genre specific analysis for values specified for detailed analysis"
   ]
  },
  {
   "cell_type": "markdown",
   "id": "answering-debut",
   "metadata": {},
   "source": [
    "##### Mean values"
   ]
  },
  {
   "cell_type": "code",
   "execution_count": null,
   "id": "chinese-active",
   "metadata": {},
   "outputs": [],
   "source": [
    "for key in values_detailed_analysis:\n",
    "    metadata_genre_specified_grouped[key].mean().plot(kind =\"bar\", subplots=True)\n",
    "    plt.show()"
   ]
  },
  {
   "cell_type": "code",
   "execution_count": null,
   "id": "civic-sound",
   "metadata": {},
   "outputs": [],
   "source": [
    "for key in values_detailed_analysis:\n",
    "    metadata_genre_specified_grouped[key].mean().plot(kind =\"bar\", subplots=True)\n",
    "    plt.show()"
   ]
  },
  {
   "cell_type": "markdown",
   "id": "violent-updating",
   "metadata": {},
   "source": [
    "##### Median values"
   ]
  },
  {
   "cell_type": "code",
   "execution_count": null,
   "id": "caroline-hawaiian",
   "metadata": {},
   "outputs": [],
   "source": [
    "for key in values_detailed_analysis:\n",
    "    metadata_genre_specified_grouped[key].median().plot(kind =\"bar\", subplots=True)\n",
    "    plt.show()"
   ]
  },
  {
   "cell_type": "markdown",
   "id": "maritime-poetry",
   "metadata": {},
   "source": [
    "### 5. Time specific analysis"
   ]
  },
  {
   "cell_type": "markdown",
   "id": "antique-intensity",
   "metadata": {},
   "source": [
    "* interval size: set to the number of years you want one time interval to span, e.g. 30 (must be a number)\n",
    "* threshold: Exclude time interval if it contains fewer texts than the thrseshold indicates"
   ]
  },
  {
   "cell_type": "markdown",
   "id": "failing-morrison",
   "metadata": {},
   "source": [
    "#### Get info about earliest and latest play"
   ]
  },
  {
   "cell_type": "code",
   "execution_count": null,
   "id": "intimate-bearing",
   "metadata": {},
   "outputs": [],
   "source": [
    "year_key = \"yearNormalized\"\n",
    "earliest = int(min(metadata_df_genre_specified[year_key]))\n",
    "latest = int(max(metadata_df_genre_specified[year_key]))\n",
    "print(f\"Earliest play: {earliest}\")\n",
    "print(f\"Latest play: {latest}\")"
   ]
  },
  {
   "cell_type": "markdown",
   "id": "editorial-prize",
   "metadata": {},
   "source": [
    "#### Set time parameters for analysis"
   ]
  },
  {
   "cell_type": "code",
   "execution_count": null,
   "id": "facial-peoples",
   "metadata": {},
   "outputs": [],
   "source": [
    "while True:\n",
    "    interval_size = input(\"Please enter the size of the time intervals (must be a number): \")\n",
    "    if not interval_size.isnumeric():\n",
    "        print(\"Your input is not valid. Please try again and enter a number.\")\n",
    "    else:\n",
    "        interval_size = int(interval_size)\n",
    "        print(\"Success!\")\n",
    "        break"
   ]
  },
  {
   "cell_type": "code",
   "execution_count": null,
   "id": "after-clock",
   "metadata": {},
   "outputs": [],
   "source": [
    "while True:\n",
    "    threshold = input(\"Please enter the threshold (must be a number): \")\n",
    "    if not threshold.isnumeric():\n",
    "        print(\"Your input is not valid. Please try again and enter a number.\")\n",
    "    else:\n",
    "        threshold = int(threshold)\n",
    "        print(\"Success!\")\n",
    "        break"
   ]
  },
  {
   "cell_type": "markdown",
   "id": "private-briefing",
   "metadata": {},
   "source": [
    "### Perform time specific analysis"
   ]
  },
  {
   "cell_type": "code",
   "execution_count": null,
   "id": "closing-simon",
   "metadata": {},
   "outputs": [],
   "source": [
    "def round_down_to_ten(x):\n",
    "        offset = x % 10\n",
    "        return x - offset \n",
    "    \n",
    "def get_time_periods(start, highest_range, period_length):\n",
    "    time_periods = []\n",
    "    start = round_down_to_ten(start)\n",
    "    end = start + period_length\n",
    "    while end < highest_range:\n",
    "        time_periods.append((start, end))       \n",
    "        start = end\n",
    "        end = start + period_length\n",
    "    time_periods.append((start,end))\n",
    "    return time_periods\n",
    "\n",
    "def get_time_period_fit(periods, year):\n",
    "    for period in periods: \n",
    "        if year >= period[0] and year < period[1]:\n",
    "            return f\"{period[0]}-{period[1]}\"\n",
    "    if not math.isnan(year):\n",
    "        print(f\"No period found for year: {year}\")\n",
    "    return float(\"NaN\")"
   ]
  },
  {
   "cell_type": "markdown",
   "id": "worldwide-revelation",
   "metadata": {},
   "source": [
    "##### Print time frames"
   ]
  },
  {
   "cell_type": "code",
   "execution_count": null,
   "id": "possible-colon",
   "metadata": {},
   "outputs": [],
   "source": [
    "# create time frames according to user input\n",
    "time_period_name = \"timePeriod\"\n",
    "time_periods = get_time_periods(earliest, latest, interval_size)\n",
    "time_periods"
   ]
  },
  {
   "cell_type": "markdown",
   "id": "latest-patent",
   "metadata": {},
   "source": [
    "#### Split data into timeframes and filter by selected threshold"
   ]
  },
  {
   "cell_type": "code",
   "execution_count": null,
   "id": "fleet-dependence",
   "metadata": {},
   "outputs": [],
   "source": [
    "# for each play, retrieve corresponding time frame\n",
    "period_column = metadata_df_genre_specified[year_key].apply(lambda x: get_time_period_fit(time_periods, x))\n",
    "metadata_df_genre_specified[time_period_name] = period_column\n",
    "\n",
    "# apply threshold, if number of plays in one timeframe below the threshold -> exclude columns\n",
    "metadata_df_time_genre_specified_filtered = metadata_df_genre_specified.groupby([time_period_name, genre_key]).filter(\n",
    "lambda x: len(x) >= threshold)\n",
    "\n",
    "# group data by genre and time frame\n",
    "metadata_df_time_genre_grouped = metadata_df_time_genre_specified_filtered.groupby([time_period_name, genre_key])"
   ]
  },
  {
   "cell_type": "markdown",
   "id": "common-dimension",
   "metadata": {},
   "source": [
    "#### Display number of plays that remain for each time frame after filtering"
   ]
  },
  {
   "cell_type": "code",
   "execution_count": null,
   "id": "contrary-confirmation",
   "metadata": {},
   "outputs": [],
   "source": [
    "metadata_df_time_genre_grouped.count()[\"name\"]"
   ]
  },
  {
   "cell_type": "markdown",
   "id": "marked-contributor",
   "metadata": {},
   "source": [
    "### Plot development of genres \n",
    "* Median and mean values are calculated by time frame"
   ]
  },
  {
   "cell_type": "markdown",
   "id": "vietnamese-cooling",
   "metadata": {},
   "source": [
    "##### Median values"
   ]
  },
  {
   "cell_type": "code",
   "execution_count": null,
   "id": "dedicated-durham",
   "metadata": {},
   "outputs": [],
   "source": [
    "for key in values_detailed_analysis:\n",
    "    print(key)\n",
    "    metadata_df_time_genre_grouped[key].median().unstack().plot(figsize=(8,8)).legend(loc='upper left')\n",
    "    plt.show()"
   ]
  },
  {
   "cell_type": "markdown",
   "id": "attended-configuration",
   "metadata": {},
   "source": [
    "##### Mean values"
   ]
  },
  {
   "cell_type": "code",
   "execution_count": null,
   "id": "civilian-immunology",
   "metadata": {},
   "outputs": [],
   "source": [
    "for key in values_detailed_analysis:\n",
    "    print(key)\n",
    "    metadata_df_time_genre_grouped[key].mean().unstack().plot(figsize=(8,8)).legend(loc='upper left')\n",
    "    plt.show()"
   ]
  },
  {
   "cell_type": "markdown",
   "id": "weird-kentucky",
   "metadata": {},
   "source": [
    "### Display tabular "
   ]
  },
  {
   "cell_type": "markdown",
   "id": "external-quilt",
   "metadata": {},
   "source": [
    "##### Median values "
   ]
  },
  {
   "cell_type": "code",
   "execution_count": null,
   "id": "defined-cuisine",
   "metadata": {},
   "outputs": [],
   "source": [
    "for key in values_detailed_analysis:\n",
    "    print(key)\n",
    "    print(metadata_df_time_genre_grouped[key].median())\n",
    "    print(\"\\n\")"
   ]
  },
  {
   "cell_type": "markdown",
   "id": "subtle-rating",
   "metadata": {},
   "source": [
    "##### Mean values "
   ]
  },
  {
   "cell_type": "code",
   "execution_count": null,
   "id": "driven-toner",
   "metadata": {},
   "outputs": [],
   "source": [
    "for key in values_detailed_analysis:\n",
    "    print(key)\n",
    "    print(metadata_df_time_genre_grouped[key].mean())\n",
    "    print(\"\\n\")"
   ]
  }
 ],
 "metadata": {
  "kernelspec": {
   "display_name": "Python 3 (ipykernel)",
   "language": "python",
   "name": "python3"
  },
  "language_info": {
   "codemirror_mode": {
    "name": "ipython",
    "version": 3
   },
   "file_extension": ".py",
   "mimetype": "text/x-python",
   "name": "python",
   "nbconvert_exporter": "python",
   "pygments_lexer": "ipython3",
   "version": "3.12.8"
  }
 },
 "nbformat": 4,
 "nbformat_minor": 5
}

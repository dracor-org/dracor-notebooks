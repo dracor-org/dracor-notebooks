{
 "cells": [
  {
   "cell_type": "markdown",
   "id": "6c00a48e",
   "metadata": {},
   "source": [
    "# Introdruction to DraCor Linked Open Data\n",
    "\n",
    "*Ingo Börner* (ingo.boerner@uni-potsdam.de)"
   ]
  },
  {
   "cell_type": "markdown",
   "id": "1829f256",
   "metadata": {},
   "source": [
    "## DraCor Ontology\n",
    "\n",
    "The onlology can be visualized using WebVowl: https://vowl.acdh.oeaw.ac.at/#iri=https://raw.githubusercontent.com/dracor-org/dracor-schema/ontology/ontology/dracor-ontology.xml\n",
    "\n",
    "Run the following cell to display it here:"
   ]
  },
  {
   "cell_type": "code",
   "execution_count": 12,
   "id": "601d689a",
   "metadata": {},
   "outputs": [
    {
     "data": {
      "text/html": [
       "\n",
       "        <iframe\n",
       "            width=\"1000\"\n",
       "            height=\"600\"\n",
       "            src=\"https://vowl.acdh.oeaw.ac.at/#iri=https://raw.githubusercontent.com/dracor-org/dracor-schema/ontology/ontology/dracor-ontology.xml\"\n",
       "            frameborder=\"0\"\n",
       "            allowfullscreen\n",
       "            \n",
       "        ></iframe>\n",
       "        "
      ],
      "text/plain": [
       "<IPython.lib.display.IFrame at 0x10e0eb610>"
      ]
     },
     "execution_count": 12,
     "metadata": {},
     "output_type": "execute_result"
    }
   ],
   "source": [
    "#Display the Ontology in an iframe\n",
    "from IPython.display import IFrame\n",
    "IFrame('https://vowl.acdh.oeaw.ac.at/#iri=https://raw.githubusercontent.com/dracor-org/dracor-schema/ontology/ontology/dracor-ontology.xml', width=1000, height=600)\n"
   ]
  },
  {
   "cell_type": "markdown",
   "id": "3c0cc336",
   "metadata": {},
   "source": [
    "## List available corpora\n",
    "\n",
    "Run on DraCor staging: https://bit.ly/3sQd53y"
   ]
  },
  {
   "cell_type": "code",
   "execution_count": 1,
   "id": "739f5bb3",
   "metadata": {},
   "outputs": [
    {
     "data": {
      "text/plain": [
       "'\\nPREFIX rdfs: <http://www.w3.org/2000/01/rdf-schema#>\\nPREFIX urn: <http://fliqz.com/>\\nPREFIX dracon: <http://dracor.org/ontology#>\\nSELECT ?corpus (COUNT(?play) AS ?cnt) FROM <https://dracor.clscor.io> WHERE {\\n  ?play dracon:in_corpus ?corpus .\\n}\\nGROUP BY ?corpus\\nORDER BY DESC(?cnt)\\n'"
      ]
     },
     "execution_count": 1,
     "metadata": {},
     "output_type": "execute_result"
    }
   ],
   "source": [
    "\"\"\"\n",
    "PREFIX rdfs: <http://www.w3.org/2000/01/rdf-schema#>\n",
    "PREFIX urn: <http://fliqz.com/>\n",
    "PREFIX dracon: <http://dracor.org/ontology#>\n",
    "SELECT ?corpus (COUNT(?play) AS ?cnt) FROM <https://dracor.clscor.io> WHERE {\n",
    "  ?play dracon:in_corpus ?corpus .\n",
    "}\n",
    "GROUP BY ?corpus\n",
    "ORDER BY DESC(?cnt)\n",
    "\"\"\""
   ]
  },
  {
   "cell_type": "markdown",
   "id": "f8281c66",
   "metadata": {},
   "source": [
    "## List connections to Wikidata\n",
    "Run on DraCor staging: https://bit.ly/3CobyF2"
   ]
  },
  {
   "cell_type": "code",
   "execution_count": 2,
   "id": "0b82d3c5",
   "metadata": {},
   "outputs": [
    {
     "data": {
      "text/plain": [
       "'\\nPREFIX owl: <http://www.w3.org/2002/07/owl#>\\nPREFIX frbroo: <http://iflastandards.info/ns/fr/frbr/frbroo/>\\nPREFIX crm: <http://www.cidoc-crm.org/cidoc-crm/>\\nPREFIX rdfs: <http://www.w3.org/2000/01/rdf-schema#>\\nPREFIX urn: <http://fliqz.com/>\\nPREFIX dracon: <http://dracor.org/ontology#>\\nSELECT ?play ?wd FROM <https://dracor.clscor.io> WHERE {\\n  ?play dracon:in_corpus <https://dracor.org/entity/corpus/ger> ;\\n        crm:P165_incorporates ?expression .\\n  ?expression frbroo:R40i_is_representative_expression_for ?work .\\n  \\n  ?work owl:sameAs ?wd .\\n}\\nLIMIT 500\\n'"
      ]
     },
     "execution_count": 2,
     "metadata": {},
     "output_type": "execute_result"
    }
   ],
   "source": [
    "\"\"\"\n",
    "PREFIX owl: <http://www.w3.org/2002/07/owl#>\n",
    "PREFIX frbroo: <http://iflastandards.info/ns/fr/frbr/frbroo/>\n",
    "PREFIX crm: <http://www.cidoc-crm.org/cidoc-crm/>\n",
    "PREFIX rdfs: <http://www.w3.org/2000/01/rdf-schema#>\n",
    "PREFIX urn: <http://fliqz.com/>\n",
    "PREFIX dracon: <http://dracor.org/ontology#>\n",
    "SELECT ?play ?wd FROM <https://dracor.clscor.io> WHERE {\n",
    "  ?play dracon:in_corpus <https://dracor.org/entity/corpus/ger> ;\n",
    "        crm:P165_incorporates ?expression .\n",
    "  ?expression frbroo:R40i_is_representative_expression_for ?work .\n",
    "  \n",
    "  ?work owl:sameAs ?wd .\n",
    "}\n",
    "LIMIT 500\n",
    "\"\"\""
   ]
  },
  {
   "cell_type": "markdown",
   "id": "a029dcdf",
   "metadata": {},
   "source": [
    "## Locations of first performances (Wikidata)"
   ]
  },
  {
   "cell_type": "code",
   "execution_count": null,
   "id": "592a8322",
   "metadata": {},
   "outputs": [],
   "source": [
    "\"\"\"\n",
    "PREFIX owl: <http://www.w3.org/2002/07/owl#>\n",
    "PREFIX frbroo: <http://iflastandards.info/ns/fr/frbr/frbroo/>\n",
    "PREFIX crm: <http://www.cidoc-crm.org/cidoc-crm/>\n",
    "PREFIX rdfs: <http://www.w3.org/2000/01/rdf-schema#>\n",
    "PREFIX urn: <http://fliqz.com/>\n",
    "PREFIX dracon: <http://dracor.org/ontology#>\n",
    "PREFIX wd: <http://www.wikidata.org/entity/>\n",
    "PREFIX wdt: <http://www.wikidata.org/prop/direct/>\n",
    "SELECT ?play ?playLabel ?wd ?ortLabel ?coords FROM <https://dracor.clscor.io> WHERE {\n",
    "  ?play a dracon:play ;\n",
    "    \tcrm:P165_incorporates ?expression ;\n",
    "        rdfs:label ?playLabel ;\n",
    "        dracon:in_corpus <https://dracor.org/entity/corpus/ger> .\n",
    "\n",
    "  ?expression a frbroo:F22_Self-Contained_Expression ;\n",
    "              frbroo:R40i_is_representative_expression_for ?work .\n",
    "\n",
    "  ?work owl:sameAs ?wd .\n",
    "\n",
    "  SERVICE <https://query.wikidata.org/sparql> {\n",
    "  ?wd wdt:P4647 ?ort ;\n",
    "       rdfs:label ?wdLabel .\n",
    "\n",
    "    ?ort wdt:P625 ?coords ;\n",
    "         rdfs:label ?ortLabel .\n",
    "\n",
    "    FILTER (lang(?ortLabel) = \"en\")\n",
    "    FILTER (lang(?wdLabel) = \"en\")\n",
    "  }\n",
    "\n",
    "  FILTER(lang(?playLabel) = \"ger\")\n",
    "}\n",
    "LIMIT 100\n",
    "\n",
    "\"\"\""
   ]
  },
  {
   "cell_type": "markdown",
   "id": "e30e8984",
   "metadata": {},
   "source": [
    "## Characters across corpora"
   ]
  },
  {
   "cell_type": "code",
   "execution_count": null,
   "id": "1f1f9673",
   "metadata": {},
   "outputs": [],
   "source": [
    "\"\"\"\n",
    "PREFIX owl: <http://www.w3.org/2002/07/owl#>\n",
    "PREFIX frbroo: <http://iflastandards.info/ns/fr/frbr/frbroo/>\n",
    "PREFIX crm: <http://www.cidoc-crm.org/cidoc-crm/>\n",
    "PREFIX rdfs: <http://www.w3.org/2000/01/rdf-schema#>\n",
    "PREFIX urn: <http://fliqz.com/>\n",
    "PREFIX dracon: <http://dracor.org/ontology#>\n",
    "PREFIX wd: <http://www.wikidata.org/entity/>\n",
    "PREFIX wdt: <http://www.wikidata.org/prop/direct/>\n",
    "SELECT ?characterWD (SAMPLE(?characterLabel) AS ?characterLabelSample) (COUNT(?character) AS ?cntCharacters) (COUNT(DISTINCT ?corpus) as ?corpusCnt) FROM <https://dracor.clscor.io> WHERE {\n",
    "  ?character a dracon:character ;\n",
    "             rdfs:label ?characterLabel ;\n",
    "             frbroo:R57_is_based_on ?characterWD ;\n",
    "             dracon:is_character_in ?play .\n",
    "\n",
    "  ?play dracon:in_corpus ?corpus .\n",
    "\n",
    "}\n",
    "GROUP BY ?characterWD\n",
    "ORDER BY DESC(?cntCharacters)\n",
    "\"\"\""
   ]
  }
 ],
 "metadata": {
  "kernelspec": {
   "display_name": "Python 3 (ipykernel)",
   "language": "python",
   "name": "python3"
  },
  "language_info": {
   "codemirror_mode": {
    "name": "ipython",
    "version": 3
   },
   "file_extension": ".py",
   "mimetype": "text/x-python",
   "name": "python",
   "nbconvert_exporter": "python",
   "pygments_lexer": "ipython3",
   "version": "3.9.12"
  }
 },
 "nbformat": 4,
 "nbformat_minor": 5
}
